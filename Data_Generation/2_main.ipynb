{
 "cells": [
  {
   "cell_type": "code",
   "execution_count": null,
   "metadata": {},
   "outputs": [],
   "source": [
    "from module1 import generating_HG as G_class\n",
    "from module1 import XY_preparation as XY\n",
    "import torch\n",
    "import pickle\n",
    "\n",
    "disease_name = \"Patients_infectious\"\n",
    "with open(f'../Data/{disease_name}.pkl', 'rb') as f:\n",
    "    Patients_list = pickle.load(f)\n",
    "\n",
    "HG_inst = G_class.Generate_HG()\n",
    "HG = HG_inst.HG"
   ]
  },
  {
   "cell_type": "code",
   "execution_count": null,
   "metadata": {},
   "outputs": [],
   "source": [
    "G_class.G_statistics(HG)\n",
    "Patients_to_remove = [n for n in HG_inst.Patients if n not in Patients_list]\n",
    "HG = G_class.remove_patients_and_linked_visits(Patients_to_remove, HG)\n",
    "G_class.G_statistics(HG)\n",
    "\n",
    "# ============================ Extracting Visit-based X and Y =================================\n",
    "XY_inst = XY_preparation(HG)\n",
    "XV = XY_inst.X_visit\n",
    "YV = XY_inst.Y_visit\n",
    "\n",
    "\n",
    "torch.save(XV, f'X_{Patients_infectious}.pt')\n",
    "torch.save(YV, f'Y_{Patients_infectious}.pt')"
   ]
  }
 ],
 "metadata": {
  "kernelspec": {
   "display_name": "envGNN2",
   "language": "python",
   "name": "python3"
  },
  "language_info": {
   "codemirror_mode": {
    "name": "ipython",
    "version": 3
   },
   "file_extension": ".py",
   "mimetype": "text/x-python",
   "name": "python",
   "nbconvert_exporter": "python",
   "pygments_lexer": "ipython3",
   "version": "3.10.14"
  }
 },
 "nbformat": 4,
 "nbformat_minor": 2
}
