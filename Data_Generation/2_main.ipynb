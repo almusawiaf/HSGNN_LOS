{
 "cells": [
  {
   "cell_type": "code",
   "execution_count": 1,
   "metadata": {},
   "outputs": [
    {
     "name": "stdout",
     "output_type": "stream",
     "text": [
      "Loading the dataframes...\n",
      "Splitting lab tests\n"
     ]
    },
    {
     "name": "stderr",
     "output_type": "stream",
     "text": [
      "/lustre/home/almusawiaf/PhD_Projects/HSGNN_LOS/Data_Generation/module1/generating_HG.py:77: SettingWithCopyWarning: \n",
      "A value is trying to be set on a copy of a slice from a DataFrame.\n",
      "Try using .loc[row_indexer,col_indexer] = value instead\n",
      "\n",
      "See the caveats in the documentation: https://pandas.pydata.org/pandas-docs/stable/user_guide/indexing.html#returning-a-view-versus-a-copy\n",
      "  lab_df.loc[:, 'ITEMID_FLAG'] = lab_df['ITEMID'].astype(str) + '_' + lab_df['FLAG'].astype(str)\n"
     ]
    },
    {
     "name": "stdout",
     "output_type": "stream",
     "text": [
      "Number of visits here is 58151\n",
      "Use the patients inside the new DataFrame....\n",
      "Dropping NaN visits\n",
      "General Information:\n",
      "---------------------------\n",
      "Number of Patients = 46517\n",
      "Number of Visits = 58929\n",
      "Number of Diagnosis = 203\n",
      "Number of procedures = 89\n",
      "Number of Medication = 592\n",
      "Number of Lab tests  = 993\n",
      "Number of MicroBio   = 92\n",
      "+++++++++++++++++++++++++++++++++++++++++++++++++++++++++++\n",
      "Extracting bipartite networks...\n",
      "\n",
      "Extracting and adding data of Visits\n",
      "\n",
      "Extracting and adding data of Diagnosis\n",
      "\n",
      "Extracting and adding data of Procedures\n",
      "\n",
      "Extracting and adding data of Medications\n",
      "\n",
      "Extracting and adding data of Lab tests\n",
      "\n",
      "Extracting and adding data of MicroBiology tests\n",
      "number of patients = 46437\n",
      "number of visits = 58929\n",
      "number of Medication = 592\n",
      "number of Diagnoses = 203\n",
      "number of Procedures = 89\n",
      "number of Labs = 993\n",
      "number of MicoBio = 92\n",
      "number of Edges = 5479842\n",
      "------------------------------------------\n",
      "\n",
      "Removing isolated nodes\n",
      "Number of PATIENTS to remove:  0\n",
      "Number of nodes to remove:  0\n",
      "number of patients = 46437\n",
      "number of visits = 58929\n",
      "number of Medication = 592\n",
      "number of Diagnoses = 203\n",
      "number of Procedures = 89\n",
      "number of Labs = 480\n",
      "number of MicoBio = 92\n",
      "number of Edges = 5456117\n",
      "------------------------------------------\n",
      "\n",
      "+++++++++++++++++++++++++++++++++++++++++++++++++++++++++++\n"
     ]
    },
    {
     "ename": "NameError",
     "evalue": "name 'XY_preparation' is not defined",
     "output_type": "error",
     "traceback": [
      "\u001b[0;31m---------------------------------------------------------------------------\u001b[0m",
      "\u001b[0;31mNameError\u001b[0m                                 Traceback (most recent call last)",
      "\u001b[1;32m/lustre/home/almusawiaf/PhD_Projects/HSGNN_LOS/Data_Generation/main.ipynb Cell 1\u001b[0m line \u001b[0;36m7\n\u001b[1;32m      <a href='vscode-notebook-cell://athena3.hprc.vcu.edu/lustre/home/almusawiaf/PhD_Projects/HSGNN_LOS/Data_Generation/main.ipynb#W2sdnNjb2RlLXJlbW90ZQ%3D%3D?line=4'>5</a>\u001b[0m HG \u001b[39m=\u001b[39m HG_inst\u001b[39m.\u001b[39mHG\n\u001b[1;32m      <a href='vscode-notebook-cell://athena3.hprc.vcu.edu/lustre/home/almusawiaf/PhD_Projects/HSGNN_LOS/Data_Generation/main.ipynb#W2sdnNjb2RlLXJlbW90ZQ%3D%3D?line=5'>6</a>\u001b[0m \u001b[39m# ============================ Extracting Visit-based X and Y =================================\u001b[39;00m\n\u001b[0;32m----> <a href='vscode-notebook-cell://athena3.hprc.vcu.edu/lustre/home/almusawiaf/PhD_Projects/HSGNN_LOS/Data_Generation/main.ipynb#W2sdnNjb2RlLXJlbW90ZQ%3D%3D?line=6'>7</a>\u001b[0m XY_inst \u001b[39m=\u001b[39m XY_preparation(HG)\n\u001b[1;32m      <a href='vscode-notebook-cell://athena3.hprc.vcu.edu/lustre/home/almusawiaf/PhD_Projects/HSGNN_LOS/Data_Generation/main.ipynb#W2sdnNjb2RlLXJlbW90ZQ%3D%3D?line=7'>8</a>\u001b[0m XV \u001b[39m=\u001b[39m XY_inst\u001b[39m.\u001b[39mX_visit\n\u001b[1;32m      <a href='vscode-notebook-cell://athena3.hprc.vcu.edu/lustre/home/almusawiaf/PhD_Projects/HSGNN_LOS/Data_Generation/main.ipynb#W2sdnNjb2RlLXJlbW90ZQ%3D%3D?line=8'>9</a>\u001b[0m YV \u001b[39m=\u001b[39m XY_inst\u001b[39m.\u001b[39mY_visit\n",
      "\u001b[0;31mNameError\u001b[0m: name 'XY_preparation' is not defined"
     ]
    }
   ],
   "source": [
    "from module1 import generating_HG as G_class\n",
    "from module1 import XY_preparation as XY\n",
    "\n",
    "HG_inst = G_class.Generate_HG()\n",
    "HG = HG_inst.HG\n",
    "# ============================ Extracting Visit-based X and Y =================================\n",
    "XY_inst = XY_preparation(HG)\n",
    "XV = XY_inst.X_visit\n",
    "YV = XY_inst.Y_visit\n"
   ]
  }
 ],
 "metadata": {
  "kernelspec": {
   "display_name": "envGNN2",
   "language": "python",
   "name": "python3"
  },
  "language_info": {
   "codemirror_mode": {
    "name": "ipython",
    "version": 3
   },
   "file_extension": ".py",
   "mimetype": "text/x-python",
   "name": "python",
   "nbconvert_exporter": "python",
   "pygments_lexer": "ipython3",
   "version": "3.10.14"
  }
 },
 "nbformat": 4,
 "nbformat_minor": 2
}
