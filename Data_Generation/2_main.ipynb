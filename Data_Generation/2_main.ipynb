{
 "cells": [
  {
   "cell_type": "code",
   "execution_count": 5,
   "metadata": {},
   "outputs": [
    {
     "name": "stdout",
     "output_type": "stream",
     "text": [
      "Loading the dataframes...\n",
      "Splitting lab tests\n"
     ]
    },
    {
     "name": "stderr",
     "output_type": "stream",
     "text": [
      "/lustre/home/almusawiaf/PhD_Projects/HSGNN_LOS/Data_Generation/module1/generating_HG.py:75: SettingWithCopyWarning: \n",
      "A value is trying to be set on a copy of a slice from a DataFrame.\n",
      "Try using .loc[row_indexer,col_indexer] = value instead\n",
      "\n",
      "See the caveats in the documentation: https://pandas.pydata.org/pandas-docs/stable/user_guide/indexing.html#returning-a-view-versus-a-copy\n",
      "  lab_df.loc[:, 'ITEMID_FLAG'] = lab_df['ITEMID'].astype(str) + '_' + lab_df['FLAG'].astype(str)\n"
     ]
    },
    {
     "name": "stdout",
     "output_type": "stream",
     "text": [
      "Number of visits here is 58151\n",
      "Use the patients inside the new DataFrame....\n",
      "Dropping NaN visits\n",
      "General Information:\n",
      "---------------------------\n",
      "Number of Patients = 46517\n",
      "Number of Visits = 58929\n",
      "Number of Diagnosis = 203\n",
      "Number of procedures = 89\n",
      "Number of Medication = 592\n",
      "Number of Lab tests  = 993\n",
      "Number of MicroBio   = 92\n",
      "+++++++++++++++++++++++++++++++++++++++++++++++++++++++++++\n",
      "Extracting bipartite networks...\n",
      "\n",
      "Extracting and adding data of Visits\n",
      "\n",
      "Extracting and adding data of Diagnosis\n",
      "\n",
      "Extracting and adding data of Procedures\n",
      "\n",
      "Extracting and adding data of Medications\n",
      "\n",
      "Extracting and adding data of Lab tests\n",
      "\n",
      "Extracting and adding data of MicroBiology tests\n",
      "number of patients = 46437\n",
      "number of visits = 58929\n",
      "number of Medication = 592\n",
      "number of Diagnoses = 203\n",
      "number of Procedures = 89\n",
      "number of Labs = 993\n",
      "number of MicoBio = 92\n",
      "number of Edges = 5479842\n",
      "------------------------------------------\n",
      "\n",
      "Removing isolated nodes\n",
      "Number of PATIENTS to remove: 0\n",
      "Number of nodes to remove: 0\n",
      "number of patients = 46437\n",
      "number of visits = 58929\n",
      "number of Medication = 592\n",
      "number of Diagnoses = 203\n",
      "number of Procedures = 89\n",
      "number of Labs = 480\n",
      "number of MicoBio = 92\n",
      "number of Edges = 5456117\n",
      "------------------------------------------\n",
      "\n",
      "+++++++++++++++++++++++++++++++++++++++++++++++++++++++++++\n"
     ]
    }
   ],
   "source": [
    "from module1 import generating_HG as G_class\n",
    "from module1 import XY_preparation as XY\n",
    "import torch\n",
    "import pickle\n",
    "\n",
    "def save_list_as_pickle(L, given_path, file_name):\n",
    "    import pickle\n",
    "    print(f'saving to {given_path}/{file_name}.pkl')\n",
    "    with open(f'{given_path}/{file_name}.pkl', 'wb') as file:\n",
    "        pickle.dump(L, file)\n",
    "\n",
    "\n",
    "disease_name = \"infectious\"\n",
    "file_path = f'../Data/{disease_name}'\n",
    "\n",
    "with open(f'{file_path}/Patients_{disease_name}.pkl', 'rb') as f:\n",
    "    Patients_list = pickle.load(f)\n",
    "\n",
    "HG_inst = G_class.Generate_HG()\n",
    "HG = HG_inst.HG"
   ]
  },
  {
   "cell_type": "code",
   "execution_count": 6,
   "metadata": {},
   "outputs": [
    {
     "name": "stdout",
     "output_type": "stream",
     "text": [
      "number of patients = 46437\n",
      "number of visits = 58929\n",
      "number of Medication = 592\n",
      "number of Diagnoses = 203\n",
      "number of Procedures = 89\n",
      "number of Labs = 480\n",
      "number of MicoBio = 92\n",
      "number of Edges = 5456117\n",
      "------------------------------------------\n",
      "\n",
      "Number of PATIENTS to remove: 34862\n",
      "Number of nodes to remove: 74349\n",
      "number of patients = 11575\n",
      "number of visits = 19442\n",
      "number of Medication = 592\n",
      "number of Diagnoses = 203\n",
      "number of Procedures = 89\n",
      "number of Labs = 480\n",
      "number of MicoBio = 92\n",
      "number of Edges = 2250896\n",
      "------------------------------------------\n",
      "\n",
      "getting the feature set for all nodes: visit_level\n",
      "   HADM_ID       LOS\n",
      "0   165315  1.144444\n",
      "1   152223  5.496528\n",
      "2   124321  6.768056\n",
      "3   161859  2.856944\n",
      "4   129635  3.534028\n",
      "saving to ../Data/infectious/Nodes.pkl\n"
     ]
    }
   ],
   "source": [
    "G_class.G_statistics(HG)\n",
    "Patients_to_remove = [n for n in HG_inst.Patients if n not in Patients_list]\n",
    "HG = G_class.remove_patients_and_linked_visits(Patients_to_remove, HG)\n",
    "G_class.G_statistics(HG)\n",
    "\n",
    "# ============================ Extracting Visit-based X and Y =================================\n",
    "XY_inst = XY.XY_preparation(HG)\n",
    "XV = XY_inst.X_visit\n",
    "YV = XY_inst.Y_visit\n",
    "\n",
    "save_list_as_pickle(HG_inst.Nodes, file_path, 'Nodes')\n",
    "\n",
    "torch.save(XV, f'{file_path}/X.pt')\n",
    "torch.save(YV, f'{file_path}/Y.pt')"
   ]
  }
 ],
 "metadata": {
  "kernelspec": {
   "display_name": "envGNN2",
   "language": "python",
   "name": "python3"
  },
  "language_info": {
   "codemirror_mode": {
    "name": "ipython",
    "version": 3
   },
   "file_extension": ".py",
   "mimetype": "text/x-python",
   "name": "python",
   "nbconvert_exporter": "python",
   "pygments_lexer": "ipython3",
   "version": "3.11.8"
  }
 },
 "nbformat": 4,
 "nbformat_minor": 2
}
