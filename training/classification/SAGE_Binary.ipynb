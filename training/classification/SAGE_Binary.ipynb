{
 "cells": [
  {
   "cell_type": "code",
   "execution_count": 1,
   "metadata": {},
   "outputs": [],
   "source": [
    "import matplotlib.pyplot as plt\n",
    "\n",
    "def plot_metrics(metrics_dict):\n",
    "    \"\"\"\n",
    "    Plots the training metrics including loss on the left, \n",
    "    and other metrics like accuracy, precision, recall, f1, auc on the right.\n",
    "    \n",
    "    Args:\n",
    "    metrics_dict (dict): A dictionary containing metrics with 'loss' as a key and the rest of the metrics like accuracy, precision, recall, f1, auc.\n",
    "    \"\"\"\n",
    "    \n",
    "    epochs = list(range(1, len(metrics_dict['loss']) + 1))\n",
    "\n",
    "    fig, ax1 = plt.subplots(figsize=(10, 6))\n",
    "\n",
    "    # Plot Loss on the left y-axis\n",
    "    ax1.plot(epochs, metrics_dict['loss'], label='Loss', color='blue', linewidth=2)\n",
    "    ax1.set_xlabel('Epochs')\n",
    "    ax1.set_ylabel('Loss', color='blue')\n",
    "    ax1.tick_params(axis='y', labelcolor='blue')\n",
    "    ax1.set_title('Loss and Other Metrics over Epochs')\n",
    "\n",
    "    # Create a second y-axis for the other metrics\n",
    "    ax2 = ax1.twinx()  \n",
    "    ax2.plot(epochs, metrics_dict['accuracy'], label='Accuracy', color='green', linestyle='--')\n",
    "    ax2.plot(epochs, metrics_dict['precision'], label='Precision', color='orange', linestyle='--')\n",
    "    ax2.plot(epochs, metrics_dict['recall'], label='Recall', color='red', linestyle='--')\n",
    "    ax2.plot(epochs, metrics_dict['f1_score'], label='F1 Score', color='purple', linestyle='--')\n",
    "    ax2.plot(epochs, metrics_dict['auc'], label='AUC', color='brown', linestyle='--')\n",
    "\n",
    "    ax2.set_ylabel('Metrics', color='black')\n",
    "    ax2.tick_params(axis='y')\n",
    "\n",
    "    # Add legends\n",
    "    ax1.legend(loc='upper left')\n",
    "    ax2.legend(loc='upper right')\n",
    "\n",
    "    plt.tight_layout()\n",
    "    plt.show()\n"
   ]
  },
  {
   "cell_type": "code",
   "execution_count": 2,
   "metadata": {},
   "outputs": [],
   "source": [
    "import pandas as pd\n",
    "import numpy as np\n",
    "import matplotlib.pyplot as plt\n",
    "import pickle\n",
    "import scipy.sparse\n",
    "import json\n",
    "\n",
    "from sklearn.metrics import accuracy_score, precision_score, recall_score, f1_score, roc_auc_score\n",
    "from sklearn.metrics import classification_report, confusion_matrix\n",
    "\n",
    "import torch\n",
    "from torch_geometric.data import Data\n",
    "from torch.optim import Adam\n",
    "from torch_geometric.utils import from_scipy_sparse_matrix\n",
    "from torch_geometric.nn import SAGEConv\n",
    "import torch.nn.functional as F\n",
    "\n",
    "# 1. Transform Y for Binary Classification\n",
    "def transform_y_for_binary_classification(Y):\n",
    "    # If Y is a numpy array, convert it to a PyTorch tensor\n",
    "    if isinstance(Y, np.ndarray):\n",
    "        Y = torch.tensor(Y, dtype=torch.float)\n",
    "    \n",
    "        # Convert to binary: 0 if LoS < 7, 1 if LoS >= 7\n",
    "    return (Y >= 7).float()\n",
    "\n",
    "class WeightedSumLayer(torch.nn.Module):\n",
    "    def __init__(self, num_matrices):\n",
    "        super(WeightedSumLayer, self).__init__()\n",
    "        self.weights = torch.nn.Parameter(torch.randn(num_matrices))  # Learnable weights\n",
    "\n",
    "    def forward(self, adjacency_matrices):\n",
    "        weighted_sum = sum(w * A for w, A in zip(self.weights, adjacency_matrices))\n",
    "        return weighted_sum\n",
    "\n",
    "class SAGE_BinaryClassifier(torch.nn.Module):\n",
    "    def __init__(self, num_features, hidden_channels=16, num_matrices=2):\n",
    "        super(SAGE_BinaryClassifier, self).__init__()\n",
    "        self.weighted_sum = WeightedSumLayer(num_matrices)\n",
    "        self.conv1 = SAGEConv(num_features, hidden_channels, aggr=\"sum\")\n",
    "        self.conv2 = SAGEConv(hidden_channels, 1, aggr=\"sum\")\n",
    "\n",
    "    def forward(self, data):\n",
    "        edge_weight_meta = self.weighted_sum(data.As)\n",
    "        mask = edge_weight_meta != 0\n",
    "        edge_index = data.edge_index[:, mask]\n",
    "        edge_weight_meta = edge_weight_meta[mask]\n",
    "        x = self.conv1(data.x, edge_index)\n",
    "        x = F.relu(x)\n",
    "        x = self.conv2(x, edge_index)\n",
    "        return x\n",
    "\n",
    "def load_dict_from_pickle(filename):\n",
    "    with open(filename, 'rb') as file:\n",
    "        loaded_dict = pickle.load(file)\n",
    "    return loaded_dict\n",
    "\n",
    "# 2. Modify Evaluation for Binary Classification\n",
    "def evaluate_binary(model, data, mask):\n",
    "    model.eval()\n",
    "    with torch.no_grad():\n",
    "        logits = model(data)[mask]\n",
    "        preds = torch.sigmoid(logits).cpu().numpy()\n",
    "        binary_preds = (preds > 0.5).astype(int)\n",
    "        true_labels = data.y[mask].cpu().numpy()\n",
    "\n",
    "        accuracy = accuracy_score(true_labels, binary_preds)\n",
    "        precision = precision_score(true_labels, binary_preds)\n",
    "        recall = recall_score(true_labels, binary_preds)\n",
    "        f1 = f1_score(true_labels, binary_preds)\n",
    "        auc = roc_auc_score(true_labels, preds)\n",
    "\n",
    "        return {\n",
    "            'accuracy': accuracy,\n",
    "            'precision': precision,\n",
    "            'recall': recall,\n",
    "            'f1_score': f1,\n",
    "            'auc': auc\n",
    "        }\n",
    "\n",
    "def load_data(file_path, device, with_SNF, super_class, num_D, num_Meta_Path=5):\n",
    "    # Load data, assuming the paths are correct\n",
    "    Y = torch.load(f'{file_path}/Y.pt')\n",
    "    X = torch.load(f'{file_path}/X.pt')\n",
    "\n",
    "    if isinstance(X, scipy.sparse.csr_matrix) or isinstance(X, scipy.sparse.csr_array):\n",
    "        X = torch.tensor(X.toarray(), dtype=torch.float).to(device)  # Convert sparse matrix to dense and then to tensor\n",
    "    else:\n",
    "        X = X.to(device)\n",
    "    \n",
    "    # Convert LoS into binary classification target\n",
    "    Y = transform_y_for_binary_classification(Y)  # Transform Y\n",
    "\n",
    "    # reading patient information...\n",
    "    Nodes = load_dict_from_pickle(f'{file_path}/Nodes.pkl')\n",
    "    patient_indices = [i for i, node in enumerate(Nodes) if node[0] == 'C']  # Identify patient nodes\n",
    "    total_nodes = len(Nodes)\n",
    "\n",
    "    e = load_dict_from_pickle(f'{file_path}/edges/edge_list.pkl')\n",
    "    sources, targets = zip(*e)\n",
    "\n",
    "    edge_index = torch.tensor([sources, targets], dtype=torch.long).to(device)\n",
    "    edge_weight = [torch.tensor(load_dict_from_pickle(f'{file_path}/edges/edge_weight{i}.pkl')).to(device) for i in range(num_Meta_Path)]\n",
    "\n",
    "    return X, Y, edge_index, edge_weight, patient_indices, total_nodes\n",
    "\n",
    "def prepare_masks(Nodes_Path):\n",
    "    from sklearn.model_selection import train_test_split\n",
    "    import torch\n",
    "    \n",
    "    # Reading the Nodes and all other splits...\n",
    "    Nodes = load_dict_from_pickle(f'{Nodes_Path}/Nodes.pkl')\n",
    "    total_nodes = len(Nodes)\n",
    "    \n",
    "    # Initialize masks for all nodes\n",
    "    train_mask = torch.zeros(total_nodes, dtype=torch.bool)\n",
    "    val_mask = torch.zeros(total_nodes, dtype=torch.bool)\n",
    "    test_mask = torch.zeros(total_nodes, dtype=torch.bool)\n",
    "\n",
    "    # Create a dictionary to map node names to indices\n",
    "    Nodes_indices = {p: i for i, p in enumerate(Nodes)}\n",
    "    \n",
    "    # Split the indices for the nodes with prefix 'V' (patient nodes)\n",
    "    V_indices = [Nodes_indices[v] for v in Nodes if v[0] == 'V']  # Adjust 'V' if needed for your dataset\n",
    "    train_indices, temp_indices = train_test_split(V_indices, test_size=0.2, random_state=42)\n",
    "    val_indices, test_indices = train_test_split(temp_indices, test_size=0.5, random_state=42)\n",
    "    \n",
    "    # Set the appropriate masks\n",
    "    train_mask[train_indices] = True\n",
    "    val_mask[val_indices] = True\n",
    "    test_mask[test_indices] = True\n",
    "\n",
    "    return train_mask, val_mask, test_mask\n",
    "\n",
    "\n",
    "def train(model, data, train_mask, optimizer, criterion):\n",
    "    model.train()\n",
    "    optimizer.zero_grad()\n",
    "    out = model(data).squeeze(1)\n",
    "    loss = criterion(out[train_mask], data.y[train_mask])\n",
    "    loss.backward()\n",
    "    optimizer.step()\n",
    "    return loss.item()\n",
    "\n",
    "def init_weights(m):\n",
    "    if isinstance(m, SAGEConv):\n",
    "        for param in m.parameters():\n",
    "            if param.requires_grad:\n",
    "                if param.dim() >= 2:  # Weights (for layers that need them)\n",
    "                    torch.nn.init.kaiming_uniform_(param, nonlinearity='relu')\n",
    "                else:  # Bias or 1D parameters\n",
    "                    torch.nn.init.zeros_(param)\n",
    "\n",
    "def main(file_path, \n",
    "         GNN_Model, \n",
    "         num_epochs, \n",
    "         with_SNF=False, \n",
    "         lr=1e-5, \n",
    "         exp_name='emb_result',\n",
    "         super_class='', \n",
    "         num_Meta_Path=5, \n",
    "         num_D=10):\n",
    "    \n",
    "    device = torch.device('cuda' if torch.cuda.is_available() else 'cpu')\n",
    "\n",
    "    X, Y, edge_index, edge_weight, _, total_nodes = load_data(file_path, device, with_SNF, super_class, num_Meta_Path=num_Meta_Path, num_D=num_D)\n",
    "\n",
    "    data = Data(x=X, y=Y, edge_index=edge_index, As=edge_weight)\n",
    "\n",
    "    train_mask, val_mask, test_mask = prepare_masks(file_path)\n",
    "    data.train_mask = train_mask.to(device)\n",
    "    data.val_mask = val_mask.to(device)\n",
    "    data.test_mask = test_mask.to(device)\n",
    "\n",
    "    num_features = X.size(1)\n",
    "    model = GNN_Model(num_features, hidden_channels=203, num_matrices=len(data.As)).to(device)\n",
    "\n",
    "    optimizer = torch.optim.RMSprop(model.parameters(), lr=lr, alpha=0.99, eps=1e-08, weight_decay=5e-4, momentum=0.9)\n",
    "    criterion = torch.nn.BCEWithLogitsLoss()  # Binary classification loss\n",
    "\n",
    "    print(f\"Class distribution: {torch.sum(data.y == 0)}, {torch.sum(data.y == 1)}\")\n",
    "    \n",
    "    # Apply initialization\n",
    "    model.apply(init_weights)\n",
    "\n",
    "    metrics_dict = {'loss': [],'accuracy': [],'precision': [],'recall': [],'f1_score': [],'auc': []}\n",
    "    \n",
    "    for epoch in range(1, num_epochs + 1):\n",
    "        model.train()\n",
    "        optimizer.zero_grad()\n",
    "        out = model(data).squeeze(1)\n",
    "        loss = criterion(out[data.train_mask], data.y[data.train_mask])\n",
    "        loss.backward()\n",
    "        optimizer.step()\n",
    "\n",
    "        val_metrics = evaluate_binary(model, data, val_mask)\n",
    "        # Save the metrics for this epoch\n",
    "        metrics_dict['loss'].append(loss.item())\n",
    "        metrics_dict['accuracy'].append(val_metrics['accuracy'])\n",
    "        metrics_dict['precision'].append(val_metrics['precision'])\n",
    "        metrics_dict['recall'].append(val_metrics['recall'])\n",
    "        metrics_dict['f1_score'].append(val_metrics['f1_score'])\n",
    "        metrics_dict['auc'].append(val_metrics['auc'])\n",
    "        \n",
    "        print(f'Epoch {epoch}/{num_epochs}, Loss: {loss.item():.4f}, Accuracy: {val_metrics[\"accuracy\"]:.4f}, Precision: {val_metrics[\"precision\"]:.4f}, Recall: {val_metrics[\"recall\"]:.4f}, F1: {val_metrics[\"f1_score\"]:.4f}, AUC: {val_metrics[\"auc\"]:.4f}')\n",
    "\n",
    "    test_metrics = evaluate_binary(model, data, test_mask)\n",
    "    print(json.dumps(test_metrics, indent=4))\n",
    "    \n",
    "    plot_metrics(metrics_dict)"
   ]
  },
  {
   "cell_type": "code",
   "execution_count": 3,
   "metadata": {},
   "outputs": [
    {
     "name": "stderr",
     "output_type": "stream",
     "text": [
      "/tmp/ipykernel_786616/2180624707.py:103: FutureWarning: You are using `torch.load` with `weights_only=False` (the current default value), which uses the default pickle module implicitly. It is possible to construct malicious pickle data which will execute arbitrary code during unpickling (See https://github.com/pytorch/pytorch/blob/main/SECURITY.md#untrusted-models for more details). In a future release, the default value for `weights_only` will be flipped to `True`. This limits the functions that could be executed during unpickling. Arbitrary objects will no longer be allowed to be loaded via this mode unless they are explicitly allowlisted by the user via `torch.serialization.add_safe_globals`. We recommend you start setting `weights_only=True` for any use case where you don't have full control of the loaded file. Please open an issue on GitHub for any issues related to this experimental feature.\n",
      "  Y = torch.load(f'{file_path}/Y.pt')\n",
      "/tmp/ipykernel_786616/2180624707.py:104: FutureWarning: You are using `torch.load` with `weights_only=False` (the current default value), which uses the default pickle module implicitly. It is possible to construct malicious pickle data which will execute arbitrary code during unpickling (See https://github.com/pytorch/pytorch/blob/main/SECURITY.md#untrusted-models for more details). In a future release, the default value for `weights_only` will be flipped to `True`. This limits the functions that could be executed during unpickling. Arbitrary objects will no longer be allowed to be loaded via this mode unless they are explicitly allowlisted by the user via `torch.serialization.add_safe_globals`. We recommend you start setting `weights_only=True` for any use case where you don't have full control of the loaded file. Please open an issue on GitHub for any issues related to this experimental feature.\n",
      "  X = torch.load(f'{file_path}/X.pt')\n"
     ]
    },
    {
     "name": "stdout",
     "output_type": "stream",
     "text": [
      "Class distribution: 20197, 11672\n",
      "Epoch 1/15, Loss: 28.0519, Accuracy: 0.5487, Precision: 0.6010, Recall: 0.7363, F1: 0.6618, AUC: 0.5025\n",
      "Epoch 2/15, Loss: 25.6028, Accuracy: 0.5415, Precision: 0.5977, Recall: 0.7199, F1: 0.6532, AUC: 0.5018\n",
      "Epoch 3/15, Loss: 21.6560, Accuracy: 0.5379, Precision: 0.5968, Recall: 0.7070, F1: 0.6473, AUC: 0.5031\n",
      "Epoch 4/15, Loss: 16.6631, Accuracy: 0.5363, Precision: 0.5973, Recall: 0.6959, F1: 0.6429, AUC: 0.5017\n",
      "Epoch 5/15, Loss: 10.8920, Accuracy: 0.5291, Precision: 0.5959, Recall: 0.6675, F1: 0.6297, AUC: 0.4983\n",
      "Epoch 6/15, Loss: 4.5682, Accuracy: 0.4359, Precision: 0.5797, Recall: 0.2156, F1: 0.3143, AUC: 0.4951\n",
      "Epoch 7/15, Loss: 4.5003, Accuracy: 0.4297, Precision: 0.5756, Recall: 0.1864, F1: 0.2816, AUC: 0.4962\n",
      "Epoch 8/15, Loss: 11.7643, Accuracy: 0.4297, Precision: 0.5752, Recall: 0.1873, F1: 0.2826, AUC: 0.4956\n",
      "Epoch 9/15, Loss: 16.4893, Accuracy: 0.4333, Precision: 0.5800, Recall: 0.1993, F1: 0.2967, AUC: 0.4946\n",
      "Epoch 10/15, Loss: 19.0784, Accuracy: 0.4312, Precision: 0.5711, Recall: 0.2070, F1: 0.3039, AUC: 0.4952\n",
      "Epoch 11/15, Loss: 19.8952, Accuracy: 0.4426, Precision: 0.5891, Recall: 0.2328, F1: 0.3337, AUC: 0.4948\n",
      "Epoch 12/15, Loss: 19.2469, Accuracy: 0.4482, Precision: 0.5939, Recall: 0.2526, F1: 0.3544, AUC: 0.4951\n",
      "Epoch 13/15, Loss: 17.3826, Accuracy: 0.4539, Precision: 0.5967, Recall: 0.2758, F1: 0.3772, AUC: 0.4959\n",
      "Epoch 14/15, Loss: 14.5035, Accuracy: 0.4590, Precision: 0.5963, Recall: 0.3033, F1: 0.4021, AUC: 0.4957\n",
      "Epoch 15/15, Loss: 10.7770, Accuracy: 0.4637, Precision: 0.5919, Recall: 0.3402, F1: 0.4321, AUC: 0.4919\n",
      "{\n",
      "    \"accuracy\": 0.4641937145801133,\n",
      "    \"precision\": 0.5839753466872111,\n",
      "    \"recall\": 0.329852045256745,\n",
      "    \"f1_score\": 0.42157953281423804,\n",
      "    \"auc\": 0.49074019129502156\n",
      "}\n"
     ]
    },
    {
     "data": {
      "image/png": "[encoded data removed]",
      "text/plain": [
       "<Figure size 1000x600 with 2 Axes>"
      ]
     },
     "metadata": {},
     "output_type": "display_data"
    },
    {
     "name": "stdout",
     "output_type": "stream",
     "text": [
      "Epoch: 56/250, Loss: 0.6132, Val Precision: 0.0645, ACC: 0.0003, top_k: 0.0937, top_k=1: 0.0937\n"
     ]
    },
    {
     "name": "stdout",
     "output_type": "stream",
     "text": [
      "Epoch: 57/250, Loss: 0.6126, Val Precision: 0.0648, ACC: 0.0004, top_k: 0.0945, top_k=1: 0.0945\n"
     ]
    },
    {
     "name": "stdout",
     "output_type": "stream",
     "text": [
      "Epoch: 58/250, Loss: 0.6121, Val Precision: 0.0651, ACC: 0.0004, top_k: 0.0951, top_k=1: 0.0951\n"
     ]
    },
    {
     "name": "stdout",
     "output_type": "stream",
     "text": [
      "Epoch: 59/250, Loss: 0.6115, Val Precision: 0.0655, ACC: 0.0004, top_k: 0.0960, top_k=1: 0.0960\n"
     ]
    },
    {
     "name": "stdout",
     "output_type": "stream",
     "text": [
      "Epoch: 60/250, Loss: 0.6109, Val Precision: 0.0658, ACC: 0.0004, top_k: 0.0968, top_k=1: 0.0968\n"
     ]
    },
    {
     "name": "stdout",
     "output_type": "stream",
     "text": [
      "Epoch: 61/250, Loss: 0.6104, Val Precision: 0.0658, ACC: 0.0004, top_k: 0.0974, top_k=1: 0.0974\n"
     ]
    },
    {
     "name": "stdout",
     "output_type": "stream",
     "text": [
      "Epoch: 62/250, Loss: 0.6099, Val Precision: 0.0663, ACC: 0.0005, top_k: 0.0981, top_k=1: 0.0981\n"
     ]
    },
    {
     "name": "stdout",
     "output_type": "stream",
     "text": [
      "Epoch: 63/250, Loss: 0.6093, Val Precision: 0.0661, ACC: 0.0005, top_k: 0.0984, top_k=1: 0.0984\n"
     ]
    },
    {
     "name": "stdout",
     "output_type": "stream",
     "text": [
      "Epoch: 64/250, Loss: 0.6088, Val Precision: 0.0664, ACC: 0.0005, top_k: 0.0990, top_k=1: 0.0990\n"
     ]
    },
    {
     "name": "stdout",
     "output_type": "stream",
     "text": [
      "Epoch: 65/250, Loss: 0.6083, Val Precision: 0.0666, ACC: 0.0005, top_k: 0.0995, top_k=1: 0.0995\n"
     ]
    },
    {
     "name": "stdout",
     "output_type": "stream",
     "text": [
      "Epoch: 66/250, Loss: 0.6078, Val Precision: 0.0665, ACC: 0.0005, top_k: 0.1001, top_k=1: 0.1001\n"
     ]
    },
    {
     "name": "stdout",
     "output_type": "stream",
     "text": [
      "Epoch: 67/250, Loss: 0.6073, Val Precision: 0.0671, ACC: 0.0006, top_k: 0.1007, top_k=1: 0.1007\n"
     ]
    },
    {
     "name": "stdout",
     "output_type": "stream",
     "text": [
      "Epoch: 68/250, Loss: 0.6068, Val Precision: 0.0671, ACC: 0.0006, top_k: 0.1011, top_k=1: 0.1011\n"
     ]
    },
    {
     "name": "stdout",
     "output_type": "stream",
     "text": [
      "Epoch: 69/250, Loss: 0.6063, Val Precision: 0.0674, ACC: 0.0007, top_k: 0.1018, top_k=1: 0.1018\n"
     ]
    },
    {
     "name": "stdout",
     "output_type": "stream",
     "text": [
      "Epoch: 70/250, Loss: 0.6059, Val Precision: 0.0659, ACC: 0.0007, top_k: 0.1020, top_k=1: 0.1020\n"
     ]
    },
    {
     "name": "stdout",
     "output_type": "stream",
     "text": [
      "Epoch: 71/250, Loss: 0.6054, Val Precision: 0.0654, ACC: 0.0007, top_k: 0.1024, top_k=1: 0.1024\n"
     ]
    },
    {
     "name": "stdout",
     "output_type": "stream",
     "text": [
      "Epoch: 72/250, Loss: 0.6049, Val Precision: 0.0658, ACC: 0.0008, top_k: 0.1028, top_k=1: 0.1028\n"
     ]
    },
    {
     "name": "stdout",
     "output_type": "stream",
     "text": [
      "Epoch: 73/250, Loss: 0.6045, Val Precision: 0.0665, ACC: 0.0008, top_k: 0.1035, top_k=1: 0.1035\n"
     ]
    },
    {
     "name": "stdout",
     "output_type": "stream",
     "text": [
      "Epoch: 74/250, Loss: 0.6040, Val Precision: 0.0671, ACC: 0.0008, top_k: 0.1039, top_k=1: 0.1039\n"
     ]
    },
    {
     "name": "stdout",
     "output_type": "stream",
     "text": [
      "Epoch: 75/250, Loss: 0.6036, Val Precision: 0.0672, ACC: 0.0010, top_k: 0.1043, top_k=1: 0.1043\n"
     ]
    },
    {
     "name": "stdout",
     "output_type": "stream",
     "text": [
      "Epoch: 76/250, Loss: 0.6031, Val Precision: 0.0670, ACC: 0.0010, top_k: 0.1049, top_k=1: 0.1049\n"
     ]
    },
    {
     "name": "stdout",
     "output_type": "stream",
     "text": [
      "Epoch: 77/250, Loss: 0.6027, Val Precision: 0.0679, ACC: 0.0011, top_k: 0.1056, top_k=1: 0.1056\n"
     ]
    },
    {
     "name": "stdout",
     "output_type": "stream",
     "text": [
      "Epoch: 78/250, Loss: 0.6023, Val Precision: 0.0683, ACC: 0.0011, top_k: 0.1061, top_k=1: 0.1061\n"
     ]
    },
    {
     "name": "stdout",
     "output_type": "stream",
     "text": [
      "Epoch: 79/250, Loss: 0.6018, Val Precision: 0.0667, ACC: 0.0012, top_k: 0.1068, top_k=1: 0.1068\n"
     ]
    },
    {
     "name": "stdout",
     "output_type": "stream",
     "text": [
      "Epoch: 80/250, Loss: 0.6014, Val Precision: 0.0673, ACC: 0.0012, top_k: 0.1074, top_k=1: 0.1074\n"
     ]
    },
    {
     "name": "stdout",
     "output_type": "stream",
     "text": [
      "Epoch: 81/250, Loss: 0.6010, Val Precision: 0.0678, ACC: 0.0012, top_k: 0.1077, top_k=1: 0.1077\n"
     ]
    },
    {
     "name": "stdout",
     "output_type": "stream",
     "text": [
      "Epoch: 82/250, Loss: 0.6005, Val Precision: 0.0667, ACC: 0.0013, top_k: 0.1080, top_k=1: 0.1080\n"
     ]
    },
    {
     "name": "stdout",
     "output_type": "stream",
     "text": [
      "Epoch: 83/250, Loss: 0.6001, Val Precision: 0.0675, ACC: 0.0013, top_k: 0.1087, top_k=1: 0.1087\n"
     ]
    },
    {
     "name": "stdout",
     "output_type": "stream",
     "text": [
      "Epoch: 84/250, Loss: 0.5997, Val Precision: 0.0678, ACC: 0.0013, top_k: 0.1092, top_k=1: 0.1092\n"
     ]
    },
    {
     "name": "stdout",
     "output_type": "stream",
     "text": [
      "Epoch: 85/250, Loss: 0.5993, Val Precision: 0.0676, ACC: 0.0014, top_k: 0.1095, top_k=1: 0.1095\n"
     ]
    },
    {
     "name": "stdout",
     "output_type": "stream",
     "text": [
      "Epoch: 86/250, Loss: 0.5989, Val Precision: 0.0681, ACC: 0.0016, top_k: 0.1101, top_k=1: 0.1101\n"
     ]
    },
    {
     "name": "stdout",
     "output_type": "stream",
     "text": [
      "Epoch: 87/250, Loss: 0.5985, Val Precision: 0.0651, ACC: 0.0015, top_k: 0.1105, top_k=1: 0.1105\n"
     ]
    },
    {
     "name": "stdout",
     "output_type": "stream",
     "text": [
      "Epoch: 88/250, Loss: 0.5981, Val Precision: 0.0657, ACC: 0.0016, top_k: 0.1108, top_k=1: 0.1108\n"
     ]
    },
    {
     "name": "stdout",
     "output_type": "stream",
     "text": [
      "Epoch: 89/250, Loss: 0.5977, Val Precision: 0.0661, ACC: 0.0016, top_k: 0.1114, top_k=1: 0.1114\n"
     ]
    },
    {
     "name": "stdout",
     "output_type": "stream",
     "text": [
      "Epoch: 90/250, Loss: 0.5973, Val Precision: 0.0648, ACC: 0.0017, top_k: 0.1119, top_k=1: 0.1119\n"
     ]
    },
    {
     "name": "stdout",
     "output_type": "stream",
     "text": [
      "Epoch: 91/250, Loss: 0.5969, Val Precision: 0.0646, ACC: 0.0017, top_k: 0.1124, top_k=1: 0.1124\n"
     ]
    },
    {
     "name": "stdout",
     "output_type": "stream",
     "text": [
      "Epoch: 92/250, Loss: 0.5965, Val Precision: 0.0663, ACC: 0.0017, top_k: 0.1141, top_k=1: 0.1141\n"
     ]
    },
    {
     "name": "stdout",
     "output_type": "stream",
     "text": [
      "Epoch: 93/250, Loss: 0.5961, Val Precision: 0.0666, ACC: 0.0017, top_k: 0.1145, top_k=1: 0.1145\n"
     ]
    },
    {
     "name": "stdout",
     "output_type": "stream",
     "text": [
      "Epoch: 94/250, Loss: 0.5957, Val Precision: 0.0677, ACC: 0.0018, top_k: 0.1149, top_k=1: 0.1149\n"
     ]
    },
    {
     "name": "stdout",
     "output_type": "stream",
     "text": [
      "Epoch: 95/250, Loss: 0.5953, Val Precision: 0.0670, ACC: 0.0018, top_k: 0.1156, top_k=1: 0.1156\n"
     ]
    },
    {
     "name": "stdout",
     "output_type": "stream",
     "text": [
      "Epoch: 96/250, Loss: 0.5949, Val Precision: 0.0679, ACC: 0.0018, top_k: 0.1162, top_k=1: 0.1162\n"
     ]
    },
    {
     "name": "stdout",
     "output_type": "stream",
     "text": [
      "Epoch: 97/250, Loss: 0.5946, Val Precision: 0.0686, ACC: 0.0018, top_k: 0.1168, top_k=1: 0.1168\n"
     ]
    },
    {
     "name": "stdout",
     "output_type": "stream",
     "text": [
      "Epoch: 98/250, Loss: 0.5942, Val Precision: 0.0665, ACC: 0.0018, top_k: 0.1173, top_k=1: 0.1173\n"
     ]
    },
    {
     "name": "stdout",
     "output_type": "stream",
     "text": [
      "Epoch: 99/250, Loss: 0.5938, Val Precision: 0.0678, ACC: 0.0018, top_k: 0.1176, top_k=1: 0.1176\n"
     ]
    },
    {
     "name": "stdout",
     "output_type": "stream",
     "text": [
      "Epoch: 100/250, Loss: 0.5934, Val Precision: 0.0686, ACC: 0.0019, top_k: 0.1184, top_k=1: 0.1184\n"
     ]
    },
    {
     "name": "stdout",
     "output_type": "stream",
     "text": [
      "Epoch: 101/250, Loss: 0.5931, Val Precision: 0.0709, ACC: 0.0019, top_k: 0.1189, top_k=1: 0.1189\n"
     ]
    },
    {
     "name": "stdout",
     "output_type": "stream",
     "text": [
      "Epoch: 102/250, Loss: 0.5927, Val Precision: 0.0701, ACC: 0.0019, top_k: 0.1194, top_k=1: 0.1194\n"
     ]
    },
    {
     "name": "stdout",
     "output_type": "stream",
     "text": [
      "Epoch: 103/250, Loss: 0.5923, Val Precision: 0.0699, ACC: 0.0020, top_k: 0.1200, top_k=1: 0.1200\n"
     ]
    },
    {
     "name": "stdout",
     "output_type": "stream",
     "text": [
      "Epoch: 104/250, Loss: 0.5920, Val Precision: 0.0710, ACC: 0.0020, top_k: 0.1204, top_k=1: 0.1204\n"
     ]
    },
    {
     "name": "stdout",
     "output_type": "stream",
     "text": [
      "Epoch: 105/250, Loss: 0.5916, Val Precision: 0.0709, ACC: 0.0021, top_k: 0.1207, top_k=1: 0.1207\n"
     ]
    },
    {
     "name": "stdout",
     "output_type": "stream",
     "text": [
      "Epoch: 106/250, Loss: 0.5912, Val Precision: 0.0693, ACC: 0.0021, top_k: 0.1211, top_k=1: 0.1211\n"
     ]
    },
    {
     "name": "stdout",
     "output_type": "stream",
     "text": [
      "Epoch: 107/250, Loss: 0.5909, Val Precision: 0.0709, ACC: 0.0022, top_k: 0.1215, top_k=1: 0.1215\n"
     ]
    },
    {
     "name": "stdout",
     "output_type": "stream",
     "text": [
      "Epoch: 108/250, Loss: 0.5905, Val Precision: 0.0714, ACC: 0.0022, top_k: 0.1219, top_k=1: 0.1219\n"
     ]
    },
    {
     "name": "stdout",
     "output_type": "stream",
     "text": [
      "Epoch: 109/250, Loss: 0.5902, Val Precision: 0.0721, ACC: 0.0022, top_k: 0.1224, top_k=1: 0.1224\n"
     ]
    },
    {
     "name": "stdout",
     "output_type": "stream",
     "text": [
      "Epoch: 110/250, Loss: 0.5898, Val Precision: 0.0763, ACC: 0.0023, top_k: 0.1229, top_k=1: 0.1229\n"
     ]
    },
    {
     "name": "stdout",
     "output_type": "stream",
     "text": [
      "Epoch: 111/250, Loss: 0.5895, Val Precision: 0.0773, ACC: 0.0023, top_k: 0.1235, top_k=1: 0.1235\n"
     ]
    },
    {
     "name": "stdout",
     "output_type": "stream",
     "text": [
      "Epoch: 112/250, Loss: 0.5891, Val Precision: 0.0771, ACC: 0.0023, top_k: 0.1239, top_k=1: 0.1239\n"
     ]
    },
    {
     "name": "stdout",
     "output_type": "stream",
     "text": [
      "Epoch: 113/250, Loss: 0.5888, Val Precision: 0.0639, ACC: 0.0024, top_k: 0.1241, top_k=1: 0.1241\n"
     ]
    },
    {
     "name": "stdout",
     "output_type": "stream",
     "text": [
      "Epoch: 114/250, Loss: 0.5884, Val Precision: 0.0609, ACC: 0.0024, top_k: 0.1245, top_k=1: 0.1245\n"
     ]
    },
    {
     "name": "stdout",
     "output_type": "stream",
     "text": [
      "Epoch: 115/250, Loss: 0.5881, Val Precision: 0.0587, ACC: 0.0024, top_k: 0.1250, top_k=1: 0.1250\n"
     ]
    },
    {
     "name": "stdout",
     "output_type": "stream",
     "text": [
      "Epoch: 116/250, Loss: 0.5877, Val Precision: 0.0593, ACC: 0.0024, top_k: 0.1255, top_k=1: 0.1255\n"
     ]
    },
    {
     "name": "stdout",
     "output_type": "stream",
     "text": [
      "Epoch: 117/250, Loss: 0.5874, Val Precision: 0.0593, ACC: 0.0024, top_k: 0.1258, top_k=1: 0.1258\n"
     ]
    },
    {
     "name": "stdout",
     "output_type": "stream",
     "text": [
      "Epoch: 118/250, Loss: 0.5871, Val Precision: 0.0597, ACC: 0.0025, top_k: 0.1263, top_k=1: 0.1263\n"
     ]
    },
    {
     "name": "stdout",
     "output_type": "stream",
     "text": [
      "Epoch: 119/250, Loss: 0.5867, Val Precision: 0.0596, ACC: 0.0025, top_k: 0.1273, top_k=1: 0.1273\n"
     ]
    },
    {
     "name": "stdout",
     "output_type": "stream",
     "text": [
      "Epoch: 120/250, Loss: 0.5864, Val Precision: 0.0594, ACC: 0.0025, top_k: 0.1277, top_k=1: 0.1277\n"
     ]
    },
    {
     "name": "stdout",
     "output_type": "stream",
     "text": [
      "Epoch: 121/250, Loss: 0.5860, Val Precision: 0.0597, ACC: 0.0025, top_k: 0.1282, top_k=1: 0.1282\n"
     ]
    },
    {
     "name": "stdout",
     "output_type": "stream",
     "text": [
      "Epoch: 122/250, Loss: 0.5857, Val Precision: 0.0600, ACC: 0.0025, top_k: 0.1285, top_k=1: 0.1285\n"
     ]
    },
    {
     "name": "stdout",
     "output_type": "stream",
     "text": [
      "Epoch: 123/250, Loss: 0.5854, Val Precision: 0.0605, ACC: 0.0025, top_k: 0.1289, top_k=1: 0.1289\n"
     ]
    },
    {
     "name": "stdout",
     "output_type": "stream",
     "text": [
      "Epoch: 124/250, Loss: 0.5850, Val Precision: 0.0608, ACC: 0.0025, top_k: 0.1292, top_k=1: 0.1292\n"
     ]
    },
    {
     "name": "stdout",
     "output_type": "stream",
     "text": [
      "Epoch: 125/250, Loss: 0.5847, Val Precision: 0.0608, ACC: 0.0025, top_k: 0.1308, top_k=1: 0.1308\n"
     ]
    },
    {
     "name": "stdout",
     "output_type": "stream",
     "text": [
      "Epoch: 126/250, Loss: 0.5844, Val Precision: 0.0618, ACC: 0.0026, top_k: 0.1312, top_k=1: 0.1312\n"
     ]
    },
    {
     "name": "stdout",
     "output_type": "stream",
     "text": [
      "Epoch: 127/250, Loss: 0.5841, Val Precision: 0.0600, ACC: 0.0026, top_k: 0.1315, top_k=1: 0.1315\n"
     ]
    },
    {
     "name": "stdout",
     "output_type": "stream",
     "text": [
      "Epoch: 128/250, Loss: 0.5837, Val Precision: 0.0605, ACC: 0.0028, top_k: 0.1319, top_k=1: 0.1319\n"
     ]
    },
    {
     "name": "stdout",
     "output_type": "stream",
     "text": [
      "Epoch: 129/250, Loss: 0.5834, Val Precision: 0.0618, ACC: 0.0028, top_k: 0.1323, top_k=1: 0.1323\n"
     ]
    },
    {
     "name": "stdout",
     "output_type": "stream",
     "text": [
      "Epoch: 130/250, Loss: 0.5831, Val Precision: 0.0622, ACC: 0.0028, top_k: 0.1326, top_k=1: 0.1326\n"
     ]
    },
    {
     "name": "stdout",
     "output_type": "stream",
     "text": [
      "Epoch: 131/250, Loss: 0.5828, Val Precision: 0.0626, ACC: 0.0029, top_k: 0.1330, top_k=1: 0.1330\n"
     ]
    },
    {
     "name": "stdout",
     "output_type": "stream",
     "text": [
      "Epoch: 132/250, Loss: 0.5824, Val Precision: 0.0625, ACC: 0.0029, top_k: 0.1333, top_k=1: 0.1333\n"
     ]
    },
    {
     "name": "stdout",
     "output_type": "stream",
     "text": [
      "Epoch: 133/250, Loss: 0.5821, Val Precision: 0.0632, ACC: 0.0030, top_k: 0.1337, top_k=1: 0.1337\n"
     ]
    },
    {
     "name": "stdout",
     "output_type": "stream",
     "text": [
      "Epoch: 134/250, Loss: 0.5818, Val Precision: 0.0596, ACC: 0.0031, top_k: 0.1340, top_k=1: 0.1340\n"
     ]
    },
    {
     "name": "stdout",
     "output_type": "stream",
     "text": [
      "Epoch: 135/250, Loss: 0.5815, Val Precision: 0.0621, ACC: 0.0032, top_k: 0.1344, top_k=1: 0.1344\n"
     ]
    },
    {
     "name": "stdout",
     "output_type": "stream",
     "text": [
      "Epoch: 136/250, Loss: 0.5812, Val Precision: 0.0634, ACC: 0.0032, top_k: 0.1349, top_k=1: 0.1349\n"
     ]
    },
    {
     "name": "stdout",
     "output_type": "stream",
     "text": [
      "Epoch: 137/250, Loss: 0.5809, Val Precision: 0.0637, ACC: 0.0033, top_k: 0.1375, top_k=1: 0.1375\n"
     ]
    },
    {
     "name": "stdout",
     "output_type": "stream",
     "text": [
      "Epoch: 138/250, Loss: 0.5806, Val Precision: 0.0643, ACC: 0.0033, top_k: 0.1378, top_k=1: 0.1378\n"
     ]
    },
    {
     "name": "stdout",
     "output_type": "stream",
     "text": [
      "Epoch: 139/250, Loss: 0.5802, Val Precision: 0.0631, ACC: 0.0033, top_k: 0.1381, top_k=1: 0.1381\n"
     ]
    },
    {
     "name": "stdout",
     "output_type": "stream",
     "text": [
      "Epoch: 140/250, Loss: 0.5799, Val Precision: 0.0630, ACC: 0.0033, top_k: 0.1383, top_k=1: 0.1383\n"
     ]
    },
    {
     "name": "stdout",
     "output_type": "stream",
     "text": [
      "Epoch: 141/250, Loss: 0.5796, Val Precision: 0.0633, ACC: 0.0034, top_k: 0.1387, top_k=1: 0.1387\n"
     ]
    },
    {
     "name": "stdout",
     "output_type": "stream",
     "text": [
      "Epoch: 142/250, Loss: 0.5793, Val Precision: 0.0634, ACC: 0.0035, top_k: 0.1390, top_k=1: 0.1390\n"
     ]
    },
    {
     "name": "stdout",
     "output_type": "stream",
     "text": [
      "Epoch: 143/250, Loss: 0.5790, Val Precision: 0.0636, ACC: 0.0035, top_k: 0.1392, top_k=1: 0.1392\n"
     ]
    },
    {
     "name": "stdout",
     "output_type": "stream",
     "text": [
      "Epoch: 144/250, Loss: 0.5787, Val Precision: 0.0633, ACC: 0.0035, top_k: 0.1396, top_k=1: 0.1396\n"
     ]
    },
    {
     "name": "stdout",
     "output_type": "stream",
     "text": [
      "Epoch: 145/250, Loss: 0.5784, Val Precision: 0.0632, ACC: 0.0037, top_k: 0.1402, top_k=1: 0.1402\n"
     ]
    },
    {
     "name": "stdout",
     "output_type": "stream",
     "text": [
      "Epoch: 146/250, Loss: 0.5781, Val Precision: 0.0634, ACC: 0.0037, top_k: 0.1405, top_k=1: 0.1405\n"
     ]
    },
    {
     "name": "stdout",
     "output_type": "stream",
     "text": [
      "Epoch: 147/250, Loss: 0.5778, Val Precision: 0.0647, ACC: 0.0037, top_k: 0.1407, top_k=1: 0.1407\n"
     ]
    },
    {
     "name": "stdout",
     "output_type": "stream",
     "text": [
      "Epoch: 148/250, Loss: 0.5775, Val Precision: 0.0643, ACC: 0.0037, top_k: 0.1411, top_k=1: 0.1411\n"
     ]
    },
    {
     "name": "stdout",
     "output_type": "stream",
     "text": [
      "Epoch: 149/250, Loss: 0.5772, Val Precision: 0.0639, ACC: 0.0038, top_k: 0.1413, top_k=1: 0.1413\n"
     ]
    },
    {
     "name": "stdout",
     "output_type": "stream",
     "text": [
      "Epoch: 150/250, Loss: 0.5769, Val Precision: 0.0640, ACC: 0.0038, top_k: 0.1415, top_k=1: 0.1415\n"
     ]
    },
    {
     "name": "stdout",
     "output_type": "stream",
     "text": [
      "Epoch: 151/250, Loss: 0.5766, Val Precision: 0.0646, ACC: 0.0038, top_k: 0.1419, top_k=1: 0.1419\n"
     ]
    },
    {
     "name": "stdout",
     "output_type": "stream",
     "text": [
      "Epoch: 152/250, Loss: 0.5763, Val Precision: 0.0652, ACC: 0.0038, top_k: 0.1423, top_k=1: 0.1423\n"
     ]
    },
    {
     "name": "stdout",
     "output_type": "stream",
     "text": [
      "Epoch: 153/250, Loss: 0.5760, Val Precision: 0.0668, ACC: 0.0038, top_k: 0.1425, top_k=1: 0.1425\n"
     ]
    },
    {
     "name": "stdout",
     "output_type": "stream",
     "text": [
      "Epoch: 154/250, Loss: 0.5757, Val Precision: 0.0675, ACC: 0.0040, top_k: 0.1429, top_k=1: 0.1429\n"
     ]
    },
    {
     "name": "stdout",
     "output_type": "stream",
     "text": [
      "Epoch: 155/250, Loss: 0.5754, Val Precision: 0.0660, ACC: 0.0040, top_k: 0.1432, top_k=1: 0.1432\n"
     ]
    },
    {
     "name": "stdout",
     "output_type": "stream",
     "text": [
      "Epoch: 156/250, Loss: 0.5751, Val Precision: 0.0682, ACC: 0.0040, top_k: 0.1436, top_k=1: 0.1436\n"
     ]
    },
    {
     "name": "stdout",
     "output_type": "stream",
     "text": [
      "Epoch: 157/250, Loss: 0.5748, Val Precision: 0.0671, ACC: 0.0040, top_k: 0.1438, top_k=1: 0.1438\n"
     ]
    },
    {
     "name": "stdout",
     "output_type": "stream",
     "text": [
      "Epoch: 158/250, Loss: 0.5745, Val Precision: 0.0674, ACC: 0.0042, top_k: 0.1441, top_k=1: 0.1441\n"
     ]
    },
    {
     "name": "stdout",
     "output_type": "stream",
     "text": [
      "Epoch: 159/250, Loss: 0.5742, Val Precision: 0.0677, ACC: 0.0042, top_k: 0.1443, top_k=1: 0.1443\n"
     ]
    },
    {
     "name": "stdout",
     "output_type": "stream",
     "text": [
      "Epoch: 160/250, Loss: 0.5739, Val Precision: 0.0682, ACC: 0.0042, top_k: 0.1450, top_k=1: 0.1450\n"
     ]
    },
    {
     "name": "stdout",
     "output_type": "stream",
     "text": [
      "Epoch: 161/250, Loss: 0.5736, Val Precision: 0.0684, ACC: 0.0042, top_k: 0.1452, top_k=1: 0.1452\n"
     ]
    },
    {
     "name": "stdout",
     "output_type": "stream",
     "text": [
      "Epoch: 162/250, Loss: 0.5734, Val Precision: 0.0690, ACC: 0.0042, top_k: 0.1454, top_k=1: 0.1454\n"
     ]
    },
    {
     "name": "stdout",
     "output_type": "stream",
     "text": [
      "Epoch: 163/250, Loss: 0.5731, Val Precision: 0.0694, ACC: 0.0042, top_k: 0.1456, top_k=1: 0.1456\n"
     ]
    },
    {
     "name": "stdout",
     "output_type": "stream",
     "text": [
      "Epoch: 164/250, Loss: 0.5728, Val Precision: 0.0692, ACC: 0.0043, top_k: 0.1459, top_k=1: 0.1459\n"
     ]
    },
    {
     "name": "stdout",
     "output_type": "stream",
     "text": [
      "Epoch: 165/250, Loss: 0.5725, Val Precision: 0.0694, ACC: 0.0046, top_k: 0.1461, top_k=1: 0.1461\n"
     ]
    },
    {
     "name": "stdout",
     "output_type": "stream",
     "text": [
      "Epoch: 166/250, Loss: 0.5722, Val Precision: 0.0698, ACC: 0.0047, top_k: 0.1467, top_k=1: 0.1467\n"
     ]
    },
    {
     "name": "stdout",
     "output_type": "stream",
     "text": [
      "Epoch: 167/250, Loss: 0.5719, Val Precision: 0.0698, ACC: 0.0047, top_k: 0.1475, top_k=1: 0.1475\n"
     ]
    },
    {
     "name": "stdout",
     "output_type": "stream",
     "text": [
      "Epoch: 168/250, Loss: 0.5716, Val Precision: 0.0689, ACC: 0.0047, top_k: 0.1477, top_k=1: 0.1477\n"
     ]
    },
    {
     "name": "stdout",
     "output_type": "stream",
     "text": [
      "Epoch: 169/250, Loss: 0.5714, Val Precision: 0.0691, ACC: 0.0047, top_k: 0.1480, top_k=1: 0.1480\n"
     ]
    },
    {
     "name": "stdout",
     "output_type": "stream",
     "text": [
      "Epoch: 170/250, Loss: 0.5711, Val Precision: 0.0695, ACC: 0.0049, top_k: 0.1482, top_k=1: 0.1482\n"
     ]
    },
    {
     "name": "stdout",
     "output_type": "stream",
     "text": [
      "Epoch: 171/250, Loss: 0.5708, Val Precision: 0.0696, ACC: 0.0049, top_k: 0.1486, top_k=1: 0.1486\n"
     ]
    },
    {
     "name": "stdout",
     "output_type": "stream",
     "text": [
      "Epoch: 172/250, Loss: 0.5705, Val Precision: 0.0713, ACC: 0.0049, top_k: 0.1489, top_k=1: 0.1489\n"
     ]
    },
    {
     "name": "stdout",
     "output_type": "stream",
     "text": [
      "Epoch: 173/250, Loss: 0.5702, Val Precision: 0.0720, ACC: 0.0050, top_k: 0.1492, top_k=1: 0.1492\n"
     ]
    },
    {
     "name": "stdout",
     "output_type": "stream",
     "text": [
      "Epoch: 174/250, Loss: 0.5699, Val Precision: 0.0718, ACC: 0.0050, top_k: 0.1494, top_k=1: 0.1494\n"
     ]
    },
    {
     "name": "stdout",
     "output_type": "stream",
     "text": [
      "Epoch: 175/250, Loss: 0.5697, Val Precision: 0.0725, ACC: 0.0050, top_k: 0.1496, top_k=1: 0.1496\n"
     ]
    },
    {
     "name": "stdout",
     "output_type": "stream",
     "text": [
      "Epoch: 176/250, Loss: 0.5694, Val Precision: 0.0715, ACC: 0.0051, top_k: 0.1499, top_k=1: 0.1499\n"
     ]
    },
    {
     "name": "stdout",
     "output_type": "stream",
     "text": [
      "Epoch: 177/250, Loss: 0.5691, Val Precision: 0.0701, ACC: 0.0051, top_k: 0.1502, top_k=1: 0.1502\n"
     ]
    },
    {
     "name": "stdout",
     "output_type": "stream",
     "text": [
      "Epoch: 178/250, Loss: 0.5688, Val Precision: 0.0703, ACC: 0.0051, top_k: 0.1505, top_k=1: 0.1505\n"
     ]
    },
    {
     "name": "stdout",
     "output_type": "stream",
     "text": [
      "Epoch: 179/250, Loss: 0.5686, Val Precision: 0.0705, ACC: 0.0051, top_k: 0.1509, top_k=1: 0.1509\n"
     ]
    },
    {
     "name": "stdout",
     "output_type": "stream",
     "text": [
      "Epoch: 180/250, Loss: 0.5683, Val Precision: 0.0705, ACC: 0.0050, top_k: 0.1512, top_k=1: 0.1512\n"
     ]
    },
    {
     "name": "stdout",
     "output_type": "stream",
     "text": [
      "Epoch: 181/250, Loss: 0.5680, Val Precision: 0.0714, ACC: 0.0051, top_k: 0.1521, top_k=1: 0.1521\n"
     ]
    },
    {
     "name": "stdout",
     "output_type": "stream",
     "text": [
      "Epoch: 182/250, Loss: 0.5677, Val Precision: 0.0715, ACC: 0.0051, top_k: 0.1523, top_k=1: 0.1523\n"
     ]
    },
    {
     "name": "stdout",
     "output_type": "stream",
     "text": [
      "Epoch: 183/250, Loss: 0.5675, Val Precision: 0.0714, ACC: 0.0051, top_k: 0.1525, top_k=1: 0.1525\n"
     ]
    },
    {
     "name": "stdout",
     "output_type": "stream",
     "text": [
      "Epoch: 184/250, Loss: 0.5672, Val Precision: 0.0722, ACC: 0.0051, top_k: 0.1528, top_k=1: 0.1528\n"
     ]
    },
    {
     "name": "stdout",
     "output_type": "stream",
     "text": [
      "Epoch: 185/250, Loss: 0.5669, Val Precision: 0.0725, ACC: 0.0051, top_k: 0.1530, top_k=1: 0.1530\n"
     ]
    },
    {
     "name": "stdout",
     "output_type": "stream",
     "text": [
      "Epoch: 186/250, Loss: 0.5666, Val Precision: 0.0726, ACC: 0.0051, top_k: 0.1533, top_k=1: 0.1533\n"
     ]
    },
    {
     "name": "stdout",
     "output_type": "stream",
     "text": [
      "Epoch: 187/250, Loss: 0.5664, Val Precision: 0.0727, ACC: 0.0051, top_k: 0.1538, top_k=1: 0.1538\n"
     ]
    },
    {
     "name": "stdout",
     "output_type": "stream",
     "text": [
      "Epoch: 188/250, Loss: 0.5661, Val Precision: 0.0741, ACC: 0.0052, top_k: 0.1542, top_k=1: 0.1542\n"
     ]
    },
    {
     "name": "stdout",
     "output_type": "stream",
     "text": [
      "Epoch: 189/250, Loss: 0.5658, Val Precision: 0.0763, ACC: 0.0052, top_k: 0.1544, top_k=1: 0.1544\n"
     ]
    },
    {
     "name": "stdout",
     "output_type": "stream",
     "text": [
      "Epoch: 190/250, Loss: 0.5656, Val Precision: 0.0771, ACC: 0.0052, top_k: 0.1546, top_k=1: 0.1546\n"
     ]
    },
    {
     "name": "stdout",
     "output_type": "stream",
     "text": [
      "Epoch: 191/250, Loss: 0.5653, Val Precision: 0.0777, ACC: 0.0053, top_k: 0.1548, top_k=1: 0.1548\n"
     ]
    },
    {
     "name": "stdout",
     "output_type": "stream",
     "text": [
      "Epoch: 192/250, Loss: 0.5650, Val Precision: 0.0776, ACC: 0.0053, top_k: 0.1550, top_k=1: 0.1550\n"
     ]
    },
    {
     "name": "stdout",
     "output_type": "stream",
     "text": [
      "Epoch: 193/250, Loss: 0.5648, Val Precision: 0.0772, ACC: 0.0055, top_k: 0.1552, top_k=1: 0.1552\n"
     ]
    },
    {
     "name": "stdout",
     "output_type": "stream",
     "text": [
      "Epoch: 194/250, Loss: 0.5645, Val Precision: 0.0789, ACC: 0.0055, top_k: 0.1554, top_k=1: 0.1554\n"
     ]
    },
    {
     "name": "stdout",
     "output_type": "stream",
     "text": [
      "Epoch: 195/250, Loss: 0.5642, Val Precision: 0.0789, ACC: 0.0055, top_k: 0.1555, top_k=1: 0.1555\n"
     ]
    },
    {
     "name": "stdout",
     "output_type": "stream",
     "text": [
      "Epoch: 196/250, Loss: 0.5640, Val Precision: 0.0803, ACC: 0.0056, top_k: 0.1557, top_k=1: 0.1557\n"
     ]
    },
    {
     "name": "stdout",
     "output_type": "stream",
     "text": [
      "Epoch: 197/250, Loss: 0.5637, Val Precision: 0.0806, ACC: 0.0056, top_k: 0.1561, top_k=1: 0.1561\n"
     ]
    },
    {
     "name": "stdout",
     "output_type": "stream",
     "text": [
      "Epoch: 198/250, Loss: 0.5634, Val Precision: 0.0804, ACC: 0.0056, top_k: 0.1564, top_k=1: 0.1564\n"
     ]
    },
    {
     "name": "stdout",
     "output_type": "stream",
     "text": [
      "Epoch: 199/250, Loss: 0.5632, Val Precision: 0.0820, ACC: 0.0058, top_k: 0.1568, top_k=1: 0.1568\n"
     ]
    },
    {
     "name": "stdout",
     "output_type": "stream",
     "text": [
      "Epoch: 200/250, Loss: 0.5629, Val Precision: 0.0831, ACC: 0.0059, top_k: 0.1571, top_k=1: 0.1571\n"
     ]
    },
    {
     "name": "stdout",
     "output_type": "stream",
     "text": [
      "Epoch: 201/250, Loss: 0.5627, Val Precision: 0.0845, ACC: 0.0060, top_k: 0.1573, top_k=1: 0.1573\n"
     ]
    },
    {
     "name": "stdout",
     "output_type": "stream",
     "text": [
      "Epoch: 202/250, Loss: 0.5624, Val Precision: 0.0861, ACC: 0.0060, top_k: 0.1575, top_k=1: 0.1575\n"
     ]
    },
    {
     "name": "stdout",
     "output_type": "stream",
     "text": [
      "Epoch: 203/250, Loss: 0.5621, Val Precision: 0.0860, ACC: 0.0060, top_k: 0.1580, top_k=1: 0.1580\n"
     ]
    },
    {
     "name": "stdout",
     "output_type": "stream",
     "text": [
      "Epoch: 204/250, Loss: 0.5619, Val Precision: 0.0871, ACC: 0.0060, top_k: 0.1583, top_k=1: 0.1583\n"
     ]
    },
    {
     "name": "stdout",
     "output_type": "stream",
     "text": [
      "Epoch: 205/250, Loss: 0.5616, Val Precision: 0.0877, ACC: 0.0060, top_k: 0.1586, top_k=1: 0.1586\n"
     ]
    },
    {
     "name": "stdout",
     "output_type": "stream",
     "text": [
      "Epoch: 206/250, Loss: 0.5614, Val Precision: 0.0884, ACC: 0.0060, top_k: 0.1587, top_k=1: 0.1587\n"
     ]
    },
    {
     "name": "stdout",
     "output_type": "stream",
     "text": [
      "Epoch: 207/250, Loss: 0.5611, Val Precision: 0.0886, ACC: 0.0060, top_k: 0.1590, top_k=1: 0.1590\n"
     ]
    },
    {
     "name": "stdout",
     "output_type": "stream",
     "text": [
      "Epoch: 208/250, Loss: 0.5608, Val Precision: 0.0888, ACC: 0.0060, top_k: 0.1591, top_k=1: 0.1591\n"
     ]
    },
    {
     "name": "stdout",
     "output_type": "stream",
     "text": [
      "Epoch: 209/250, Loss: 0.5606, Val Precision: 0.0875, ACC: 0.0060, top_k: 0.1594, top_k=1: 0.1594\n"
     ]
    },
    {
     "name": "stdout",
     "output_type": "stream",
     "text": [
      "Epoch: 210/250, Loss: 0.5603, Val Precision: 0.0874, ACC: 0.0062, top_k: 0.1597, top_k=1: 0.1597\n"
     ]
    },
    {
     "name": "stdout",
     "output_type": "stream",
     "text": [
      "Epoch: 211/250, Loss: 0.5601, Val Precision: 0.0876, ACC: 0.0062, top_k: 0.1599, top_k=1: 0.1599\n"
     ]
    },
    {
     "name": "stdout",
     "output_type": "stream",
     "text": [
      "Epoch: 212/250, Loss: 0.5598, Val Precision: 0.0873, ACC: 0.0062, top_k: 0.1600, top_k=1: 0.1600\n"
     ]
    },
    {
     "name": "stdout",
     "output_type": "stream",
     "text": [
      "Epoch: 213/250, Loss: 0.5596, Val Precision: 0.0875, ACC: 0.0063, top_k: 0.1603, top_k=1: 0.1603\n"
     ]
    },
    {
     "name": "stdout",
     "output_type": "stream",
     "text": [
      "Epoch: 214/250, Loss: 0.5593, Val Precision: 0.0878, ACC: 0.0063, top_k: 0.1606, top_k=1: 0.1606\n"
     ]
    },
    {
     "name": "stdout",
     "output_type": "stream",
     "text": [
      "Epoch: 215/250, Loss: 0.5591, Val Precision: 0.0896, ACC: 0.0063, top_k: 0.1609, top_k=1: 0.1609\n"
     ]
    },
    {
     "name": "stdout",
     "output_type": "stream",
     "text": [
      "Epoch: 216/250, Loss: 0.5588, Val Precision: 0.0899, ACC: 0.0065, top_k: 0.1609, top_k=1: 0.1609\n"
     ]
    },
    {
     "name": "stdout",
     "output_type": "stream",
     "text": [
      "Epoch: 217/250, Loss: 0.5586, Val Precision: 0.0897, ACC: 0.0065, top_k: 0.1613, top_k=1: 0.1613\n"
     ]
    },
    {
     "name": "stdout",
     "output_type": "stream",
     "text": [
      "Epoch: 218/250, Loss: 0.5583, Val Precision: 0.0895, ACC: 0.0066, top_k: 0.1615, top_k=1: 0.1615\n"
     ]
    },
    {
     "name": "stdout",
     "output_type": "stream",
     "text": [
      "Epoch: 219/250, Loss: 0.5580, Val Precision: 0.0856, ACC: 0.0066, top_k: 0.1617, top_k=1: 0.1617\n"
     ]
    },
    {
     "name": "stdout",
     "output_type": "stream",
     "text": [
      "Epoch: 220/250, Loss: 0.5578, Val Precision: 0.0857, ACC: 0.0066, top_k: 0.1619, top_k=1: 0.1619\n"
     ]
    },
    {
     "name": "stdout",
     "output_type": "stream",
     "text": [
      "Epoch: 221/250, Loss: 0.5575, Val Precision: 0.0847, ACC: 0.0066, top_k: 0.1621, top_k=1: 0.1621\n"
     ]
    },
    {
     "name": "stdout",
     "output_type": "stream",
     "text": [
      "Epoch: 222/250, Loss: 0.5573, Val Precision: 0.0846, ACC: 0.0067, top_k: 0.1622, top_k=1: 0.1622\n"
     ]
    },
    {
     "name": "stdout",
     "output_type": "stream",
     "text": [
      "Epoch: 223/250, Loss: 0.5570, Val Precision: 0.0858, ACC: 0.0067, top_k: 0.1624, top_k=1: 0.1624\n"
     ]
    },
    {
     "name": "stdout",
     "output_type": "stream",
     "text": [
      "Epoch: 224/250, Loss: 0.5568, Val Precision: 0.0866, ACC: 0.0067, top_k: 0.1625, top_k=1: 0.1625\n"
     ]
    },
    {
     "name": "stdout",
     "output_type": "stream",
     "text": [
      "Epoch: 225/250, Loss: 0.5565, Val Precision: 0.0867, ACC: 0.0067, top_k: 0.1627, top_k=1: 0.1627\n"
     ]
    },
    {
     "name": "stdout",
     "output_type": "stream",
     "text": [
      "Epoch: 226/250, Loss: 0.5563, Val Precision: 0.0866, ACC: 0.0068, top_k: 0.1631, top_k=1: 0.1631\n"
     ]
    },
    {
     "name": "stdout",
     "output_type": "stream",
     "text": [
      "Epoch: 227/250, Loss: 0.5561, Val Precision: 0.0837, ACC: 0.0068, top_k: 0.1634, top_k=1: 0.1634\n"
     ]
    },
    {
     "name": "stdout",
     "output_type": "stream",
     "text": [
      "Epoch: 228/250, Loss: 0.5558, Val Precision: 0.0830, ACC: 0.0068, top_k: 0.1636, top_k=1: 0.1636\n"
     ]
    },
    {
     "name": "stdout",
     "output_type": "stream",
     "text": [
      "Epoch: 229/250, Loss: 0.5556, Val Precision: 0.0835, ACC: 0.0068, top_k: 0.1637, top_k=1: 0.1637\n"
     ]
    },
    {
     "name": "stdout",
     "output_type": "stream",
     "text": [
      "Epoch: 230/250, Loss: 0.5553, Val Precision: 0.0837, ACC: 0.0069, top_k: 0.1640, top_k=1: 0.1640\n"
     ]
    },
    {
     "name": "stdout",
     "output_type": "stream",
     "text": [
      "Epoch: 231/250, Loss: 0.5551, Val Precision: 0.0837, ACC: 0.0069, top_k: 0.1641, top_k=1: 0.1641\n"
     ]
    },
    {
     "name": "stdout",
     "output_type": "stream",
     "text": [
      "Epoch: 232/250, Loss: 0.5548, Val Precision: 0.0811, ACC: 0.0069, top_k: 0.1644, top_k=1: 0.1644\n"
     ]
    },
    {
     "name": "stdout",
     "output_type": "stream",
     "text": [
      "Epoch: 233/250, Loss: 0.5546, Val Precision: 0.0813, ACC: 0.0069, top_k: 0.1646, top_k=1: 0.1646\n"
     ]
    },
    {
     "name": "stdout",
     "output_type": "stream",
     "text": [
      "Epoch: 234/250, Loss: 0.5543, Val Precision: 0.0811, ACC: 0.0069, top_k: 0.1650, top_k=1: 0.1650\n"
     ]
    },
    {
     "name": "stdout",
     "output_type": "stream",
     "text": [
      "Epoch: 235/250, Loss: 0.5541, Val Precision: 0.0813, ACC: 0.0069, top_k: 0.1656, top_k=1: 0.1656\n"
     ]
    },
    {
     "name": "stdout",
     "output_type": "stream",
     "text": [
      "Epoch: 236/250, Loss: 0.5538, Val Precision: 0.0795, ACC: 0.0069, top_k: 0.1657, top_k=1: 0.1657\n"
     ]
    },
    {
     "name": "stdout",
     "output_type": "stream",
     "text": [
      "Epoch: 237/250, Loss: 0.5536, Val Precision: 0.0800, ACC: 0.0069, top_k: 0.1660, top_k=1: 0.1660\n"
     ]
    },
    {
     "name": "stdout",
     "output_type": "stream",
     "text": [
      "Epoch: 238/250, Loss: 0.5534, Val Precision: 0.0801, ACC: 0.0069, top_k: 0.1661, top_k=1: 0.1661\n"
     ]
    },
    {
     "name": "stdout",
     "output_type": "stream",
     "text": [
      "Epoch: 239/250, Loss: 0.5531, Val Precision: 0.0803, ACC: 0.0069, top_k: 0.1663, top_k=1: 0.1663\n"
     ]
    },
    {
     "name": "stdout",
     "output_type": "stream",
     "text": [
      "Epoch: 240/250, Loss: 0.5529, Val Precision: 0.0813, ACC: 0.0069, top_k: 0.1664, top_k=1: 0.1664\n"
     ]
    },
    {
     "name": "stdout",
     "output_type": "stream",
     "text": [
      "Epoch: 241/250, Loss: 0.5526, Val Precision: 0.0815, ACC: 0.0069, top_k: 0.1669, top_k=1: 0.1669\n"
     ]
    },
    {
     "name": "stdout",
     "output_type": "stream",
     "text": [
      "Epoch: 242/250, Loss: 0.5524, Val Precision: 0.0817, ACC: 0.0069, top_k: 0.1671, top_k=1: 0.1671\n"
     ]
    },
    {
     "name": "stdout",
     "output_type": "stream",
     "text": [
      "Epoch: 243/250, Loss: 0.5522, Val Precision: 0.0818, ACC: 0.0070, top_k: 0.1673, top_k=1: 0.1673\n"
     ]
    },
    {
     "name": "stdout",
     "output_type": "stream",
     "text": [
      "Epoch: 244/250, Loss: 0.5519, Val Precision: 0.0819, ACC: 0.0070, top_k: 0.1674, top_k=1: 0.1674\n"
     ]
    },
    {
     "name": "stdout",
     "output_type": "stream",
     "text": [
      "Epoch: 245/250, Loss: 0.5517, Val Precision: 0.0868, ACC: 0.0070, top_k: 0.1677, top_k=1: 0.1677\n"
     ]
    },
    {
     "name": "stdout",
     "output_type": "stream",
     "text": [
      "Epoch: 246/250, Loss: 0.5514, Val Precision: 0.0867, ACC: 0.0071, top_k: 0.1679, top_k=1: 0.1679\n"
     ]
    },
    {
     "name": "stdout",
     "output_type": "stream",
     "text": [
      "Epoch: 247/250, Loss: 0.5512, Val Precision: 0.0865, ACC: 0.0071, top_k: 0.1681, top_k=1: 0.1681\n"
     ]
    },
    {
     "name": "stdout",
     "output_type": "stream",
     "text": [
      "Epoch: 248/250, Loss: 0.5510, Val Precision: 0.0847, ACC: 0.0073, top_k: 0.1682, top_k=1: 0.1682\n"
     ]
    },
    {
     "name": "stdout",
     "output_type": "stream",
     "text": [
      "Epoch: 249/250, Loss: 0.5507, Val Precision: 0.0762, ACC: 0.0074, top_k: 0.1684, top_k=1: 0.1684\n"
     ]
    },
    {
     "name": "stdout",
     "output_type": "stream",
     "text": [
      "{\n",
      "    \"accuracy\": 0.00798740015749803,\n",
      "    \"micro_precision\": 0.2352059925093633,\n",
      "    \"macro_precision\": 0.06701223054187494,\n",
      "    \"recall\": 0.010166484417998833,\n",
      "    \"f1_score\": 0.014236042683885206,\n",
      "    \"auc\": 0.48225735006924303,\n",
      "    \"top_k_1\": 0.16861291229724884,\n",
      "    \"top_k_pred\": 0.16861291229724884\n",
      "}\n",
      "\t- Extracting and saving embeddings...\n"
     ]
    },
    {
     "name": "stdout",
     "output_type": "stream",
     "text": [
      "              precision    recall  f1-score   support\n",
      "\n",
      "     Class 0       0.62      0.10      0.18      6072\n",
      "     Class 1       0.48      0.04      0.07      4703\n",
      "     Class 2       0.29      0.01      0.01      4059\n",
      "     Class 3       0.75      0.34      0.47      4053\n",
      "     Class 4       0.16      0.00      0.01      3706\n",
      "     Class 5       0.13      0.04      0.06      3570\n",
      "     Class 6       0.23      0.01      0.01      3274\n",
      "     Class 7       0.18      0.00      0.01      3180\n",
      "     Class 8       0.18      0.01      0.01      2983\n",
      "     Class 9       0.17      0.00      0.01      2641\n",
      "    Class 10       0.19      0.01      0.02      2380\n",
      "    Class 11       0.15      0.00      0.01      2175\n",
      "    Class 12       0.25      0.00      0.00      2184\n",
      "    Class 13       0.14      0.00      0.01      2046\n",
      "    Class 14       0.03      0.00      0.00      1835\n",
      "    Class 15       0.00      0.00      0.00      1674\n",
      "    Class 16       0.00      0.00      0.00      1598\n",
      "    Class 17       0.00      0.00      0.00      1572\n",
      "    Class 18       0.17      0.00      0.00      1595\n",
      "    Class 19       0.12      0.00      0.00      1493\n",
      "    Class 20       0.00      0.00      0.00      1513\n",
      "    Class 21       0.00      0.00      0.00      1486\n",
      "    Class 22       0.09      0.04      0.06      1409\n",
      "    Class 23       0.05      0.00      0.00      1404\n",
      "    Class 24       0.06      0.00      0.00      1344\n",
      "    Class 25       0.00      0.00      0.00      1368\n",
      "    Class 26       0.09      0.01      0.02      1332\n",
      "    Class 27       0.09      0.04      0.06      1309\n",
      "    Class 28       0.00      0.00      0.00      1255\n",
      "    Class 29       0.00      0.00      0.00      1298\n",
      "    Class 30       0.00      0.00      0.00      1249\n",
      "    Class 31       0.00      0.00      0.00      1219\n",
      "    Class 32       0.00      0.00      0.00      1158\n",
      "    Class 33       0.04      0.00      0.00      1085\n",
      "    Class 34       0.05      0.02      0.03      1067\n",
      "    Class 35       0.00      0.00      0.00      1035\n",
      "    Class 36       0.00      0.00      0.00      1059\n",
      "    Class 37       0.11      0.01      0.01      1032\n",
      "    Class 38       0.00      0.00      0.00       984\n",
      "    Class 39       0.00      0.00      0.00       903\n",
      "    Class 40       0.09      0.01      0.02       910\n",
      "    Class 41       0.00      0.00      0.00       917\n",
      "    Class 42       0.07      0.05      0.06       900\n",
      "    Class 43       0.00      0.00      0.00       870\n",
      "    Class 44       0.00      0.00      0.00       817\n",
      "    Class 45       0.00      0.00      0.00       820\n",
      "    Class 46       0.00      0.00      0.00       775\n",
      "    Class 47       0.00      0.00      0.00       766\n",
      "    Class 48       0.00      0.00      0.00       795\n",
      "    Class 49       0.97      0.05      0.10       752\n",
      "    Class 50       0.00      0.00      0.00       775\n",
      "    Class 51       0.00      0.00      0.00       762\n",
      "    Class 52       0.00      0.00      0.00       719\n",
      "    Class 53       0.00      0.00      0.00       720\n",
      "    Class 54       0.00      0.00      0.00       711\n",
      "    Class 55       0.00      0.00      0.00       681\n",
      "    Class 56       0.00      0.00      0.00       608\n",
      "    Class 57       0.00      0.00      0.00       596\n",
      "    Class 58       0.00      0.00      0.00       593\n",
      "    Class 59       0.00      0.00      0.00       571\n",
      "    Class 60       0.00      0.00      0.00       588\n",
      "    Class 61       0.00      0.00      0.00       553\n",
      "    Class 62       0.61      0.02      0.04       542\n",
      "    Class 63       0.00      0.00      0.00       551\n",
      "    Class 64       0.00      0.00      0.00       535\n",
      "    Class 65       0.00      0.00      0.00       546\n",
      "    Class 66       0.00      0.00      0.00       534\n",
      "    Class 67       0.00      0.00      0.00       536\n",
      "    Class 68       0.00      0.00      0.00       519\n",
      "    Class 69       0.00      0.00      0.00       524\n",
      "    Class 70       0.00      0.00      0.00       534\n",
      "    Class 71       0.00      0.00      0.00       495\n",
      "    Class 72       0.00      0.00      0.00       473\n",
      "    Class 73       0.00      0.00      0.00       484\n",
      "    Class 74       0.00      0.00      0.00       479\n",
      "    Class 75       0.00      0.00      0.00       494\n",
      "    Class 76       0.00      0.00      0.00       497\n",
      "    Class 77       0.04      0.05      0.04       466\n",
      "    Class 78       0.00      0.00      0.00       473\n",
      "    Class 79       0.00      0.00      0.00       455\n",
      "    Class 80       0.00      0.00      0.00       459\n",
      "    Class 81       0.01      0.02      0.02       451\n",
      "    Class 82       0.00      0.00      0.00       422\n",
      "    Class 83       0.00      0.00      0.00       437\n",
      "    Class 84       0.00      0.00      0.00       442\n",
      "    Class 85       0.00      0.00      0.00       424\n",
      "    Class 86       0.00      0.00      0.00       421\n",
      "    Class 87       0.00      0.00      0.00       422\n",
      "    Class 88       0.00      0.00      0.00       387\n",
      "    Class 89       0.03      0.06      0.04       387\n",
      "    Class 90       0.00      0.00      0.00       375\n",
      "    Class 91       0.03      0.01      0.01       405\n",
      "    Class 92       0.01      0.02      0.01       399\n",
      "    Class 93       0.00      0.00      0.00       385\n",
      "    Class 94       0.02      0.03      0.02       374\n",
      "    Class 95       0.00      0.00      0.00       368\n",
      "    Class 96       0.00      0.00      0.00       370\n",
      "    Class 97       0.00      0.00      0.00       364\n",
      "    Class 98       0.00      0.00      0.00       379\n",
      "    Class 99       0.00      0.00      0.00       349\n",
      "\n",
      "   micro avg       0.24      0.02      0.04    114658\n",
      "   macro avg       0.07      0.01      0.01    114658\n",
      "weighted avg       0.15      0.02      0.04    114658\n",
      " samples avg       0.10      0.03      0.04    114658\n",
      "\n"
     ]
    },
    {
     "data": {
      "image/png": "[encoded data removed]",
      "text/plain": [
       "<Figure size 1500x800 with 2 Axes>"
      ]
     },
     "metadata": {},
     "output_type": "display_data"
    }
   ],
   "source": [
    "num_Labels = 203\n",
    "DISEASE_FILE = 'infectious'\n",
    "# ============================================================================\n",
    "\n",
    "saving_path = f'../Data/{num_Labels}_Diagnoses/{DISEASE_FILE}'\n",
    "\n",
    "GNN_model = SAGE_BinaryClassifier\n",
    "num_epochs = 15\n",
    "num_Meta_Path = 21\n",
    "with_SNF = False\n",
    "super_class = '' # '_sc'\n",
    "\n",
    "exp_name = f'{num_epochs}_epochs_SNF{super_class}'\n",
    "\n",
    "losses = main(saving_path, \n",
    "               GNN_Model=GNN_model, \n",
    "               num_epochs = num_epochs,\n",
    "               with_SNF = with_SNF,\n",
    "               exp_name = exp_name,\n",
    "               super_class = super_class, \n",
    "               num_Meta_Path = num_Meta_Path)"
   ]
  }
 ],
 "metadata": {
  "kernelspec": {
   "display_name": "Python 3 (ipykernel)",
   "language": "python",
   "name": "python3"
  },
  "language_info": {
   "codemirror_mode": {
    "name": "ipython",
    "version": 3
   },
   "file_extension": ".py",
   "mimetype": "text/x-python",
   "name": "python",
   "nbconvert_exporter": "python",
   "pygments_lexer": "ipython3",
   "version": "3.11.9"
  }
 },
 "nbformat": 4,
 "nbformat_minor": 4
}
