{
 "cells": [
  {
   "cell_type": "code",
   "execution_count": 1,
   "id": "2cb1f4f5-e638-4c3b-aef9-b711b51e843e",
   "metadata": {},
   "outputs": [],
   "source": [
    "import matplotlib.pyplot as plt\n",
    "\n",
    "def plot_metrics(metrics_dict):\n",
    "    \"\"\"\n",
    "    Plots the training metrics including loss on the left, \n",
    "    and other metrics like accuracy, precision, recall, f1, auc on the right.\n",
    "    \n",
    "    Args:\n",
    "    metrics_dict (dict): A dictionary containing metrics with 'loss' as a key and the rest of the metrics like accuracy, precision, recall, f1, auc.\n",
    "    \"\"\"\n",
    "    \n",
    "    epochs = list(range(1, len(metrics_dict['loss']) + 1))\n",
    "\n",
    "    fig, ax1 = plt.subplots(figsize=(10, 6))\n",
    "\n",
    "    # Plot Loss on the left y-axis\n",
    "    ax1.plot(epochs, metrics_dict['loss'], label='Loss', color='blue', linewidth=2)\n",
    "    ax1.set_xlabel('Epochs')\n",
    "    ax1.set_ylabel('Loss', color='blue')\n",
    "    ax1.tick_params(axis='y', labelcolor='blue')\n",
    "    ax1.set_title('Loss and Other Metrics over Epochs')\n",
    "\n",
    "    # Create a second y-axis for the other metrics\n",
    "    ax2 = ax1.twinx()  \n",
    "    ax2.plot(epochs, metrics_dict['accuracy'], label='Accuracy', color='green', linestyle='--')\n",
    "    ax2.plot(epochs, metrics_dict['precision'], label='Precision', color='orange', linestyle='--')\n",
    "    ax2.plot(epochs, metrics_dict['recall'], label='Recall', color='red', linestyle='--')\n",
    "    ax2.plot(epochs, metrics_dict['f1_score'], label='F1 Score', color='purple', linestyle='--')\n",
    "    ax2.plot(epochs, metrics_dict['auc'], label='AUC', color='brown', linestyle='--')\n",
    "\n",
    "    ax2.set_ylabel('Metrics', color='black')\n",
    "    ax2.tick_params(axis='y')\n",
    "\n",
    "    # Add legends\n",
    "    ax1.legend(loc='upper left')\n",
    "    ax2.legend(loc='upper right')\n",
    "\n",
    "    plt.tight_layout()\n",
    "    plt.show()\n"
   ]
  },
  {
   "cell_type": "code",
   "execution_count": 2,
   "id": "99c88c11-5cfa-4232-8f69-a939e8143422",
   "metadata": {},
   "outputs": [
    {
     "name": "stderr",
     "output_type": "stream",
     "text": [
      "/tmp/ipykernel_792388/322296327.py:118: FutureWarning: You are using `torch.load` with `weights_only=False` (the current default value), which uses the default pickle module implicitly. It is possible to construct malicious pickle data which will execute arbitrary code during unpickling (See https://github.com/pytorch/pytorch/blob/main/SECURITY.md#untrusted-models for more details). In a future release, the default value for `weights_only` will be flipped to `True`. This limits the functions that could be executed during unpickling. Arbitrary objects will no longer be allowed to be loaded via this mode unless they are explicitly allowlisted by the user via `torch.serialization.add_safe_globals`. We recommend you start setting `weights_only=True` for any use case where you don't have full control of the loaded file. Please open an issue on GitHub for any issues related to this experimental feature.\n",
      "  X = torch.load(f'{file_path}/X.pt')\n",
      "/tmp/ipykernel_792388/322296327.py:119: FutureWarning: You are using `torch.load` with `weights_only=False` (the current default value), which uses the default pickle module implicitly. It is possible to construct malicious pickle data which will execute arbitrary code during unpickling (See https://github.com/pytorch/pytorch/blob/main/SECURITY.md#untrusted-models for more details). In a future release, the default value for `weights_only` will be flipped to `True`. This limits the functions that could be executed during unpickling. Arbitrary objects will no longer be allowed to be loaded via this mode unless they are explicitly allowlisted by the user via `torch.serialization.add_safe_globals`. We recommend you start setting `weights_only=True` for any use case where you don't have full control of the loaded file. Please open an issue on GitHub for any issues related to this experimental feature.\n",
      "  Y = torch.load(f'{file_path}/Y.pt')\n"
     ]
    },
    {
     "name": "stdout",
     "output_type": "stream",
     "text": [
      "Class distribution: 11672, 11672\n",
      "Epoch 1/300, Loss: 0.3509, Accuracy: 0.4884, Precision: 0.4883, Recall: 0.9912, F1: 0.6543, AUC: 0.4940\n",
      "Epoch 2/300, Loss: 0.3503, Accuracy: 0.4846, Precision: 0.4863, Recall: 0.9781, F1: 0.6496, AUC: 0.4869\n",
      "Epoch 3/300, Loss: 0.3498, Accuracy: 0.4799, Precision: 0.4836, Recall: 0.9588, F1: 0.6429, AUC: 0.4812\n",
      "Epoch 4/300, Loss: 0.3493, Accuracy: 0.4820, Precision: 0.4842, Recall: 0.9272, F1: 0.6362, AUC: 0.4760\n",
      "Epoch 5/300, Loss: 0.3487, Accuracy: 0.4747, Precision: 0.4793, Recall: 0.8746, F1: 0.6193, AUC: 0.4719\n",
      "Epoch 6/300, Loss: 0.3482, Accuracy: 0.4790, Precision: 0.4804, Recall: 0.8175, F1: 0.6052, AUC: 0.4680\n",
      "Epoch 7/300, Loss: 0.3476, Accuracy: 0.4807, Precision: 0.4797, Recall: 0.7474, F1: 0.5844, AUC: 0.4644\n",
      "Epoch 8/300, Loss: 0.3471, Accuracy: 0.4644, Precision: 0.4650, Recall: 0.6412, F1: 0.5391, AUC: 0.4610\n",
      "Epoch 9/300, Loss: 0.3466, Accuracy: 0.4653, Precision: 0.4605, Recall: 0.5518, F1: 0.5020, AUC: 0.4583\n",
      "Epoch 10/300, Loss: 0.3460, Accuracy: 0.4627, Precision: 0.4507, Recall: 0.4570, F1: 0.4538, AUC: 0.4556\n",
      "Epoch 11/300, Loss: 0.3455, Accuracy: 0.4670, Precision: 0.4461, Recall: 0.3772, F1: 0.4087, AUC: 0.4538\n",
      "Epoch 12/300, Loss: 0.3450, Accuracy: 0.4747, Precision: 0.4458, Recall: 0.3105, F1: 0.3661, AUC: 0.4523\n",
      "Epoch 13/300, Loss: 0.3444, Accuracy: 0.4786, Precision: 0.4407, Recall: 0.2509, F1: 0.3197, AUC: 0.4511\n",
      "Epoch 14/300, Loss: 0.3439, Accuracy: 0.4773, Precision: 0.4222, Recall: 0.1904, F1: 0.2624, AUC: 0.4499\n",
      "Epoch 15/300, Loss: 0.3434, Accuracy: 0.4893, Precision: 0.4323, Recall: 0.1456, F1: 0.2178, AUC: 0.4487\n",
      "Epoch 16/300, Loss: 0.3428, Accuracy: 0.4889, Precision: 0.3853, Recall: 0.0781, F1: 0.1298, AUC: 0.4476\n",
      "Epoch 17/300, Loss: 0.3423, Accuracy: 0.4931, Precision: 0.3497, Recall: 0.0439, F1: 0.0779, AUC: 0.4472\n",
      "Epoch 18/300, Loss: 0.3417, Accuracy: 0.5009, Precision: 0.3684, Recall: 0.0307, F1: 0.0567, AUC: 0.4465\n",
      "Epoch 19/300, Loss: 0.3412, Accuracy: 0.5017, Precision: 0.3231, Recall: 0.0184, F1: 0.0349, AUC: 0.4459\n",
      "Epoch 20/300, Loss: 0.3406, Accuracy: 0.5103, Precision: 0.4595, Recall: 0.0149, F1: 0.0289, AUC: 0.4454\n",
      "Epoch 21/300, Loss: 0.3401, Accuracy: 0.5124, Precision: 0.5417, Recall: 0.0114, F1: 0.0223, AUC: 0.4452\n",
      "Epoch 22/300, Loss: 0.3395, Accuracy: 0.5120, Precision: 0.5294, Recall: 0.0079, F1: 0.0156, AUC: 0.4451\n",
      "Epoch 23/300, Loss: 0.3390, Accuracy: 0.5129, Precision: 0.6364, Recall: 0.0061, F1: 0.0122, AUC: 0.4447\n",
      "Epoch 24/300, Loss: 0.3384, Accuracy: 0.5124, Precision: 0.6000, Recall: 0.0053, F1: 0.0104, AUC: 0.4445\n",
      "Epoch 25/300, Loss: 0.3378, Accuracy: 0.5116, Precision: 0.5000, Recall: 0.0018, F1: 0.0035, AUC: 0.4445\n",
      "Epoch 26/300, Loss: 0.3373, Accuracy: 0.5111, Precision: 0.3333, Recall: 0.0009, F1: 0.0017, AUC: 0.4444\n",
      "Epoch 27/300, Loss: 0.3367, Accuracy: 0.5111, Precision: 0.3333, Recall: 0.0009, F1: 0.0017, AUC: 0.4445\n",
      "Epoch 28/300, Loss: 0.3361, Accuracy: 0.5120, Precision: 1.0000, Recall: 0.0009, F1: 0.0018, AUC: 0.4446\n",
      "Epoch 29/300, Loss: 0.3355, Accuracy: 0.5116, Precision: 0.0000, Recall: 0.0000, F1: 0.0000, AUC: 0.4447\n",
      "Epoch 30/300, Loss: 0.3350, Accuracy: 0.5116, Precision: 0.0000, Recall: 0.0000, F1: 0.0000, AUC: 0.4448\n"
     ]
    },
    {
     "name": "stderr",
     "output_type": "stream",
     "text": [
      "/home/almusawiaf/.local/lib/python3.11/site-packages/sklearn/metrics/_classification.py:1517: UndefinedMetricWarning: Precision is ill-defined and being set to 0.0 due to no predicted samples. Use `zero_division` parameter to control this behavior.\n",
      "  _warn_prf(average, modifier, f\"{metric.capitalize()} is\", len(result))\n",
      "/home/almusawiaf/.local/lib/python3.11/site-packages/sklearn/metrics/_classification.py:1517: UndefinedMetricWarning: Precision is ill-defined and being set to 0.0 due to no predicted samples. Use `zero_division` parameter to control this behavior.\n",
      "  _warn_prf(average, modifier, f\"{metric.capitalize()} is\", len(result))\n",
      "/home/almusawiaf/.local/lib/python3.11/site-packages/sklearn/metrics/_classification.py:1517: UndefinedMetricWarning: Precision is ill-defined and being set to 0.0 due to no predicted samples. Use `zero_division` parameter to control this behavior.\n",
      "  _warn_prf(average, modifier, f\"{metric.capitalize()} is\", len(result))\n",
      "/home/almusawiaf/.local/lib/python3.11/site-packages/sklearn/metrics/_classification.py:1517: UndefinedMetricWarning: Precision is ill-defined and being set to 0.0 due to no predicted samples. Use `zero_division` parameter to control this behavior.\n",
      "  _warn_prf(average, modifier, f\"{metric.capitalize()} is\", len(result))\n",
      "/home/almusawiaf/.local/lib/python3.11/site-packages/sklearn/metrics/_classification.py:1517: UndefinedMetricWarning: Precision is ill-defined and being set to 0.0 due to no predicted samples. Use `zero_division` parameter to control this behavior.\n",
      "  _warn_prf(average, modifier, f\"{metric.capitalize()} is\", len(result))\n"
     ]
    },
    {
     "name": "stdout",
     "output_type": "stream",
     "text": [
      "Epoch 31/300, Loss: 0.3344, Accuracy: 0.5116, Precision: 0.0000, Recall: 0.0000, F1: 0.0000, AUC: 0.4448\n",
      "Epoch 32/300, Loss: 0.3338, Accuracy: 0.5116, Precision: 0.0000, Recall: 0.0000, F1: 0.0000, AUC: 0.4449\n",
      "Epoch 33/300, Loss: 0.3331, Accuracy: 0.5116, Precision: 0.0000, Recall: 0.0000, F1: 0.0000, AUC: 0.4450\n",
      "Epoch 34/300, Loss: 0.3325, Accuracy: 0.5116, Precision: 0.0000, Recall: 0.0000, F1: 0.0000, AUC: 0.4452\n",
      "Epoch 35/300, Loss: 0.3319, Accuracy: 0.5116, Precision: 0.0000, Recall: 0.0000, F1: 0.0000, AUC: 0.4453\n"
     ]
    },
    {
     "name": "stderr",
     "output_type": "stream",
     "text": [
      "/home/almusawiaf/.local/lib/python3.11/site-packages/sklearn/metrics/_classification.py:1517: UndefinedMetricWarning: Precision is ill-defined and being set to 0.0 due to no predicted samples. Use `zero_division` parameter to control this behavior.\n",
      "  _warn_prf(average, modifier, f\"{metric.capitalize()} is\", len(result))\n",
      "/home/almusawiaf/.local/lib/python3.11/site-packages/sklearn/metrics/_classification.py:1517: UndefinedMetricWarning: Precision is ill-defined and being set to 0.0 due to no predicted samples. Use `zero_division` parameter to control this behavior.\n",
      "  _warn_prf(average, modifier, f\"{metric.capitalize()} is\", len(result))\n",
      "/home/almusawiaf/.local/lib/python3.11/site-packages/sklearn/metrics/_classification.py:1517: UndefinedMetricWarning: Precision is ill-defined and being set to 0.0 due to no predicted samples. Use `zero_division` parameter to control this behavior.\n",
      "  _warn_prf(average, modifier, f\"{metric.capitalize()} is\", len(result))\n",
      "/home/almusawiaf/.local/lib/python3.11/site-packages/sklearn/metrics/_classification.py:1517: UndefinedMetricWarning: Precision is ill-defined and being set to 0.0 due to no predicted samples. Use `zero_division` parameter to control this behavior.\n",
      "  _warn_prf(average, modifier, f\"{metric.capitalize()} is\", len(result))\n",
      "/home/almusawiaf/.local/lib/python3.11/site-packages/sklearn/metrics/_classification.py:1517: UndefinedMetricWarning: Precision is ill-defined and being set to 0.0 due to no predicted samples. Use `zero_division` parameter to control this behavior.\n",
      "  _warn_prf(average, modifier, f\"{metric.capitalize()} is\", len(result))\n"
     ]
    },
    {
     "name": "stdout",
     "output_type": "stream",
     "text": [
      "Epoch 36/300, Loss: 0.3313, Accuracy: 0.5116, Precision: 0.0000, Recall: 0.0000, F1: 0.0000, AUC: 0.4454\n",
      "Epoch 37/300, Loss: 0.3306, Accuracy: 0.5116, Precision: 0.0000, Recall: 0.0000, F1: 0.0000, AUC: 0.4456\n",
      "Epoch 38/300, Loss: 0.3300, Accuracy: 0.5116, Precision: 0.0000, Recall: 0.0000, F1: 0.0000, AUC: 0.4456\n",
      "Epoch 39/300, Loss: 0.3293, Accuracy: 0.5116, Precision: 0.0000, Recall: 0.0000, F1: 0.0000, AUC: 0.4457\n",
      "Epoch 40/300, Loss: 0.3287, Accuracy: 0.5116, Precision: 0.0000, Recall: 0.0000, F1: 0.0000, AUC: 0.4458\n"
     ]
    },
    {
     "name": "stderr",
     "output_type": "stream",
     "text": [
      "/home/almusawiaf/.local/lib/python3.11/site-packages/sklearn/metrics/_classification.py:1517: UndefinedMetricWarning: Precision is ill-defined and being set to 0.0 due to no predicted samples. Use `zero_division` parameter to control this behavior.\n",
      "  _warn_prf(average, modifier, f\"{metric.capitalize()} is\", len(result))\n",
      "/home/almusawiaf/.local/lib/python3.11/site-packages/sklearn/metrics/_classification.py:1517: UndefinedMetricWarning: Precision is ill-defined and being set to 0.0 due to no predicted samples. Use `zero_division` parameter to control this behavior.\n",
      "  _warn_prf(average, modifier, f\"{metric.capitalize()} is\", len(result))\n",
      "/home/almusawiaf/.local/lib/python3.11/site-packages/sklearn/metrics/_classification.py:1517: UndefinedMetricWarning: Precision is ill-defined and being set to 0.0 due to no predicted samples. Use `zero_division` parameter to control this behavior.\n",
      "  _warn_prf(average, modifier, f\"{metric.capitalize()} is\", len(result))\n",
      "/home/almusawiaf/.local/lib/python3.11/site-packages/sklearn/metrics/_classification.py:1517: UndefinedMetricWarning: Precision is ill-defined and being set to 0.0 due to no predicted samples. Use `zero_division` parameter to control this behavior.\n",
      "  _warn_prf(average, modifier, f\"{metric.capitalize()} is\", len(result))\n",
      "/home/almusawiaf/.local/lib/python3.11/site-packages/sklearn/metrics/_classification.py:1517: UndefinedMetricWarning: Precision is ill-defined and being set to 0.0 due to no predicted samples. Use `zero_division` parameter to control this behavior.\n",
      "  _warn_prf(average, modifier, f\"{metric.capitalize()} is\", len(result))\n"
     ]
    },
    {
     "name": "stdout",
     "output_type": "stream",
     "text": [
      "Epoch 41/300, Loss: 0.3280, Accuracy: 0.5116, Precision: 0.0000, Recall: 0.0000, F1: 0.0000, AUC: 0.4458\n",
      "Epoch 42/300, Loss: 0.3273, Accuracy: 0.5116, Precision: 0.0000, Recall: 0.0000, F1: 0.0000, AUC: 0.4458\n",
      "Epoch 43/300, Loss: 0.3266, Accuracy: 0.5116, Precision: 0.0000, Recall: 0.0000, F1: 0.0000, AUC: 0.4458\n",
      "Epoch 44/300, Loss: 0.3259, Accuracy: 0.5116, Precision: 0.0000, Recall: 0.0000, F1: 0.0000, AUC: 0.4458\n",
      "Epoch 45/300, Loss: 0.3252, Accuracy: 0.5116, Precision: 0.0000, Recall: 0.0000, F1: 0.0000, AUC: 0.4458\n"
     ]
    },
    {
     "name": "stderr",
     "output_type": "stream",
     "text": [
      "/home/almusawiaf/.local/lib/python3.11/site-packages/sklearn/metrics/_classification.py:1517: UndefinedMetricWarning: Precision is ill-defined and being set to 0.0 due to no predicted samples. Use `zero_division` parameter to control this behavior.\n",
      "  _warn_prf(average, modifier, f\"{metric.capitalize()} is\", len(result))\n",
      "/home/almusawiaf/.local/lib/python3.11/site-packages/sklearn/metrics/_classification.py:1517: UndefinedMetricWarning: Precision is ill-defined and being set to 0.0 due to no predicted samples. Use `zero_division` parameter to control this behavior.\n",
      "  _warn_prf(average, modifier, f\"{metric.capitalize()} is\", len(result))\n",
      "/home/almusawiaf/.local/lib/python3.11/site-packages/sklearn/metrics/_classification.py:1517: UndefinedMetricWarning: Precision is ill-defined and being set to 0.0 due to no predicted samples. Use `zero_division` parameter to control this behavior.\n",
      "  _warn_prf(average, modifier, f\"{metric.capitalize()} is\", len(result))\n",
      "/home/almusawiaf/.local/lib/python3.11/site-packages/sklearn/metrics/_classification.py:1517: UndefinedMetricWarning: Precision is ill-defined and being set to 0.0 due to no predicted samples. Use `zero_division` parameter to control this behavior.\n",
      "  _warn_prf(average, modifier, f\"{metric.capitalize()} is\", len(result))\n"
     ]
    },
    {
     "name": "stdout",
     "output_type": "stream",
     "text": [
      "Epoch 46/300, Loss: 0.3245, Accuracy: 0.5116, Precision: 0.0000, Recall: 0.0000, F1: 0.0000, AUC: 0.4456\n",
      "Epoch 47/300, Loss: 0.3237, Accuracy: 0.5116, Precision: 0.0000, Recall: 0.0000, F1: 0.0000, AUC: 0.4457\n",
      "Epoch 48/300, Loss: 0.3230, Accuracy: 0.5116, Precision: 0.0000, Recall: 0.0000, F1: 0.0000, AUC: 0.4456\n",
      "Epoch 49/300, Loss: 0.3222, Accuracy: 0.5116, Precision: 0.0000, Recall: 0.0000, F1: 0.0000, AUC: 0.4455\n",
      "Epoch 50/300, Loss: 0.3214, Accuracy: 0.5116, Precision: 0.0000, Recall: 0.0000, F1: 0.0000, AUC: 0.4456\n"
     ]
    },
    {
     "name": "stderr",
     "output_type": "stream",
     "text": [
      "/home/almusawiaf/.local/lib/python3.11/site-packages/sklearn/metrics/_classification.py:1517: UndefinedMetricWarning: Precision is ill-defined and being set to 0.0 due to no predicted samples. Use `zero_division` parameter to control this behavior.\n",
      "  _warn_prf(average, modifier, f\"{metric.capitalize()} is\", len(result))\n",
      "/home/almusawiaf/.local/lib/python3.11/site-packages/sklearn/metrics/_classification.py:1517: UndefinedMetricWarning: Precision is ill-defined and being set to 0.0 due to no predicted samples. Use `zero_division` parameter to control this behavior.\n",
      "  _warn_prf(average, modifier, f\"{metric.capitalize()} is\", len(result))\n",
      "/home/almusawiaf/.local/lib/python3.11/site-packages/sklearn/metrics/_classification.py:1517: UndefinedMetricWarning: Precision is ill-defined and being set to 0.0 due to no predicted samples. Use `zero_division` parameter to control this behavior.\n",
      "  _warn_prf(average, modifier, f\"{metric.capitalize()} is\", len(result))\n",
      "/home/almusawiaf/.local/lib/python3.11/site-packages/sklearn/metrics/_classification.py:1517: UndefinedMetricWarning: Precision is ill-defined and being set to 0.0 due to no predicted samples. Use `zero_division` parameter to control this behavior.\n",
      "  _warn_prf(average, modifier, f\"{metric.capitalize()} is\", len(result))\n",
      "/home/almusawiaf/.local/lib/python3.11/site-packages/sklearn/metrics/_classification.py:1517: UndefinedMetricWarning: Precision is ill-defined and being set to 0.0 due to no predicted samples. Use `zero_division` parameter to control this behavior.\n",
      "  _warn_prf(average, modifier, f\"{metric.capitalize()} is\", len(result))\n"
     ]
    },
    {
     "name": "stdout",
     "output_type": "stream",
     "text": [
      "Epoch 51/300, Loss: 0.3206, Accuracy: 0.5116, Precision: 0.0000, Recall: 0.0000, F1: 0.0000, AUC: 0.4454\n",
      "Epoch 52/300, Loss: 0.3198, Accuracy: 0.5116, Precision: 0.0000, Recall: 0.0000, F1: 0.0000, AUC: 0.4454\n",
      "Epoch 53/300, Loss: 0.3190, Accuracy: 0.5116, Precision: 0.0000, Recall: 0.0000, F1: 0.0000, AUC: 0.4454\n",
      "Epoch 54/300, Loss: 0.3182, Accuracy: 0.5116, Precision: 0.0000, Recall: 0.0000, F1: 0.0000, AUC: 0.4453\n",
      "Epoch 55/300, Loss: 0.3173, Accuracy: 0.5116, Precision: 0.0000, Recall: 0.0000, F1: 0.0000, AUC: 0.4452\n"
     ]
    },
    {
     "name": "stderr",
     "output_type": "stream",
     "text": [
      "/home/almusawiaf/.local/lib/python3.11/site-packages/sklearn/metrics/_classification.py:1517: UndefinedMetricWarning: Precision is ill-defined and being set to 0.0 due to no predicted samples. Use `zero_division` parameter to control this behavior.\n",
      "  _warn_prf(average, modifier, f\"{metric.capitalize()} is\", len(result))\n",
      "/home/almusawiaf/.local/lib/python3.11/site-packages/sklearn/metrics/_classification.py:1517: UndefinedMetricWarning: Precision is ill-defined and being set to 0.0 due to no predicted samples. Use `zero_division` parameter to control this behavior.\n",
      "  _warn_prf(average, modifier, f\"{metric.capitalize()} is\", len(result))\n",
      "/home/almusawiaf/.local/lib/python3.11/site-packages/sklearn/metrics/_classification.py:1517: UndefinedMetricWarning: Precision is ill-defined and being set to 0.0 due to no predicted samples. Use `zero_division` parameter to control this behavior.\n",
      "  _warn_prf(average, modifier, f\"{metric.capitalize()} is\", len(result))\n",
      "/home/almusawiaf/.local/lib/python3.11/site-packages/sklearn/metrics/_classification.py:1517: UndefinedMetricWarning: Precision is ill-defined and being set to 0.0 due to no predicted samples. Use `zero_division` parameter to control this behavior.\n",
      "  _warn_prf(average, modifier, f\"{metric.capitalize()} is\", len(result))\n",
      "/home/almusawiaf/.local/lib/python3.11/site-packages/sklearn/metrics/_classification.py:1517: UndefinedMetricWarning: Precision is ill-defined and being set to 0.0 due to no predicted samples. Use `zero_division` parameter to control this behavior.\n",
      "  _warn_prf(average, modifier, f\"{metric.capitalize()} is\", len(result))\n"
     ]
    },
    {
     "name": "stdout",
     "output_type": "stream",
     "text": [
      "Epoch 56/300, Loss: 0.3164, Accuracy: 0.5116, Precision: 0.0000, Recall: 0.0000, F1: 0.0000, AUC: 0.4451\n",
      "Epoch 57/300, Loss: 0.3156, Accuracy: 0.5116, Precision: 0.0000, Recall: 0.0000, F1: 0.0000, AUC: 0.4451\n",
      "Epoch 58/300, Loss: 0.3146, Accuracy: 0.5116, Precision: 0.0000, Recall: 0.0000, F1: 0.0000, AUC: 0.4451\n",
      "Epoch 59/300, Loss: 0.3137, Accuracy: 0.5116, Precision: 0.0000, Recall: 0.0000, F1: 0.0000, AUC: 0.4450\n",
      "Epoch 60/300, Loss: 0.3128, Accuracy: 0.5116, Precision: 0.0000, Recall: 0.0000, F1: 0.0000, AUC: 0.4450\n"
     ]
    },
    {
     "name": "stderr",
     "output_type": "stream",
     "text": [
      "/home/almusawiaf/.local/lib/python3.11/site-packages/sklearn/metrics/_classification.py:1517: UndefinedMetricWarning: Precision is ill-defined and being set to 0.0 due to no predicted samples. Use `zero_division` parameter to control this behavior.\n",
      "  _warn_prf(average, modifier, f\"{metric.capitalize()} is\", len(result))\n",
      "/home/almusawiaf/.local/lib/python3.11/site-packages/sklearn/metrics/_classification.py:1517: UndefinedMetricWarning: Precision is ill-defined and being set to 0.0 due to no predicted samples. Use `zero_division` parameter to control this behavior.\n",
      "  _warn_prf(average, modifier, f\"{metric.capitalize()} is\", len(result))\n",
      "/home/almusawiaf/.local/lib/python3.11/site-packages/sklearn/metrics/_classification.py:1517: UndefinedMetricWarning: Precision is ill-defined and being set to 0.0 due to no predicted samples. Use `zero_division` parameter to control this behavior.\n",
      "  _warn_prf(average, modifier, f\"{metric.capitalize()} is\", len(result))\n",
      "/home/almusawiaf/.local/lib/python3.11/site-packages/sklearn/metrics/_classification.py:1517: UndefinedMetricWarning: Precision is ill-defined and being set to 0.0 due to no predicted samples. Use `zero_division` parameter to control this behavior.\n",
      "  _warn_prf(average, modifier, f\"{metric.capitalize()} is\", len(result))\n",
      "/home/almusawiaf/.local/lib/python3.11/site-packages/sklearn/metrics/_classification.py:1517: UndefinedMetricWarning: Precision is ill-defined and being set to 0.0 due to no predicted samples. Use `zero_division` parameter to control this behavior.\n",
      "  _warn_prf(average, modifier, f\"{metric.capitalize()} is\", len(result))\n"
     ]
    },
    {
     "name": "stdout",
     "output_type": "stream",
     "text": [
      "Epoch 61/300, Loss: 0.3118, Accuracy: 0.5116, Precision: 0.0000, Recall: 0.0000, F1: 0.0000, AUC: 0.4449\n",
      "Epoch 62/300, Loss: 0.3108, Accuracy: 0.5116, Precision: 0.0000, Recall: 0.0000, F1: 0.0000, AUC: 0.4450\n",
      "Epoch 63/300, Loss: 0.3098, Accuracy: 0.5116, Precision: 0.0000, Recall: 0.0000, F1: 0.0000, AUC: 0.4449\n",
      "Epoch 64/300, Loss: 0.3088, Accuracy: 0.5116, Precision: 0.0000, Recall: 0.0000, F1: 0.0000, AUC: 0.4449\n",
      "Epoch 65/300, Loss: 0.3078, Accuracy: 0.5116, Precision: 0.0000, Recall: 0.0000, F1: 0.0000, AUC: 0.4449\n"
     ]
    },
    {
     "name": "stderr",
     "output_type": "stream",
     "text": [
      "/home/almusawiaf/.local/lib/python3.11/site-packages/sklearn/metrics/_classification.py:1517: UndefinedMetricWarning: Precision is ill-defined and being set to 0.0 due to no predicted samples. Use `zero_division` parameter to control this behavior.\n",
      "  _warn_prf(average, modifier, f\"{metric.capitalize()} is\", len(result))\n",
      "/home/almusawiaf/.local/lib/python3.11/site-packages/sklearn/metrics/_classification.py:1517: UndefinedMetricWarning: Precision is ill-defined and being set to 0.0 due to no predicted samples. Use `zero_division` parameter to control this behavior.\n",
      "  _warn_prf(average, modifier, f\"{metric.capitalize()} is\", len(result))\n",
      "/home/almusawiaf/.local/lib/python3.11/site-packages/sklearn/metrics/_classification.py:1517: UndefinedMetricWarning: Precision is ill-defined and being set to 0.0 due to no predicted samples. Use `zero_division` parameter to control this behavior.\n",
      "  _warn_prf(average, modifier, f\"{metric.capitalize()} is\", len(result))\n",
      "/home/almusawiaf/.local/lib/python3.11/site-packages/sklearn/metrics/_classification.py:1517: UndefinedMetricWarning: Precision is ill-defined and being set to 0.0 due to no predicted samples. Use `zero_division` parameter to control this behavior.\n",
      "  _warn_prf(average, modifier, f\"{metric.capitalize()} is\", len(result))\n",
      "/home/almusawiaf/.local/lib/python3.11/site-packages/sklearn/metrics/_classification.py:1517: UndefinedMetricWarning: Precision is ill-defined and being set to 0.0 due to no predicted samples. Use `zero_division` parameter to control this behavior.\n",
      "  _warn_prf(average, modifier, f\"{metric.capitalize()} is\", len(result))\n"
     ]
    },
    {
     "name": "stdout",
     "output_type": "stream",
     "text": [
      "Epoch 66/300, Loss: 0.3067, Accuracy: 0.5116, Precision: 0.0000, Recall: 0.0000, F1: 0.0000, AUC: 0.4449\n",
      "Epoch 67/300, Loss: 0.3056, Accuracy: 0.5116, Precision: 0.0000, Recall: 0.0000, F1: 0.0000, AUC: 0.4450\n",
      "Epoch 68/300, Loss: 0.3045, Accuracy: 0.5116, Precision: 0.0000, Recall: 0.0000, F1: 0.0000, AUC: 0.4449\n",
      "Epoch 69/300, Loss: 0.3034, Accuracy: 0.5116, Precision: 0.0000, Recall: 0.0000, F1: 0.0000, AUC: 0.4449\n",
      "Epoch 70/300, Loss: 0.3022, Accuracy: 0.5116, Precision: 0.0000, Recall: 0.0000, F1: 0.0000, AUC: 0.4449\n",
      "Epoch 71/300, Loss: 0.3010, Accuracy: 0.5116, Precision: 0.0000, Recall: 0.0000, F1: 0.0000, AUC: 0.4449\n"
     ]
    },
    {
     "name": "stderr",
     "output_type": "stream",
     "text": [
      "/home/almusawiaf/.local/lib/python3.11/site-packages/sklearn/metrics/_classification.py:1517: UndefinedMetricWarning: Precision is ill-defined and being set to 0.0 due to no predicted samples. Use `zero_division` parameter to control this behavior.\n",
      "  _warn_prf(average, modifier, f\"{metric.capitalize()} is\", len(result))\n",
      "/home/almusawiaf/.local/lib/python3.11/site-packages/sklearn/metrics/_classification.py:1517: UndefinedMetricWarning: Precision is ill-defined and being set to 0.0 due to no predicted samples. Use `zero_division` parameter to control this behavior.\n",
      "  _warn_prf(average, modifier, f\"{metric.capitalize()} is\", len(result))\n",
      "/home/almusawiaf/.local/lib/python3.11/site-packages/sklearn/metrics/_classification.py:1517: UndefinedMetricWarning: Precision is ill-defined and being set to 0.0 due to no predicted samples. Use `zero_division` parameter to control this behavior.\n",
      "  _warn_prf(average, modifier, f\"{metric.capitalize()} is\", len(result))\n",
      "/home/almusawiaf/.local/lib/python3.11/site-packages/sklearn/metrics/_classification.py:1517: UndefinedMetricWarning: Precision is ill-defined and being set to 0.0 due to no predicted samples. Use `zero_division` parameter to control this behavior.\n",
      "  _warn_prf(average, modifier, f\"{metric.capitalize()} is\", len(result))\n",
      "/home/almusawiaf/.local/lib/python3.11/site-packages/sklearn/metrics/_classification.py:1517: UndefinedMetricWarning: Precision is ill-defined and being set to 0.0 due to no predicted samples. Use `zero_division` parameter to control this behavior.\n",
      "  _warn_prf(average, modifier, f\"{metric.capitalize()} is\", len(result))\n"
     ]
    },
    {
     "name": "stdout",
     "output_type": "stream",
     "text": [
      "Epoch 72/300, Loss: 0.2998, Accuracy: 0.5116, Precision: 0.0000, Recall: 0.0000, F1: 0.0000, AUC: 0.4450\n",
      "Epoch 73/300, Loss: 0.2986, Accuracy: 0.5116, Precision: 0.0000, Recall: 0.0000, F1: 0.0000, AUC: 0.4450\n",
      "Epoch 74/300, Loss: 0.2974, Accuracy: 0.5116, Precision: 0.0000, Recall: 0.0000, F1: 0.0000, AUC: 0.4451\n",
      "Epoch 75/300, Loss: 0.2961, Accuracy: 0.5116, Precision: 0.0000, Recall: 0.0000, F1: 0.0000, AUC: 0.4451\n",
      "Epoch 76/300, Loss: 0.2948, Accuracy: 0.5116, Precision: 0.0000, Recall: 0.0000, F1: 0.0000, AUC: 0.4451\n"
     ]
    },
    {
     "name": "stderr",
     "output_type": "stream",
     "text": [
      "/home/almusawiaf/.local/lib/python3.11/site-packages/sklearn/metrics/_classification.py:1517: UndefinedMetricWarning: Precision is ill-defined and being set to 0.0 due to no predicted samples. Use `zero_division` parameter to control this behavior.\n",
      "  _warn_prf(average, modifier, f\"{metric.capitalize()} is\", len(result))\n",
      "/home/almusawiaf/.local/lib/python3.11/site-packages/sklearn/metrics/_classification.py:1517: UndefinedMetricWarning: Precision is ill-defined and being set to 0.0 due to no predicted samples. Use `zero_division` parameter to control this behavior.\n",
      "  _warn_prf(average, modifier, f\"{metric.capitalize()} is\", len(result))\n",
      "/home/almusawiaf/.local/lib/python3.11/site-packages/sklearn/metrics/_classification.py:1517: UndefinedMetricWarning: Precision is ill-defined and being set to 0.0 due to no predicted samples. Use `zero_division` parameter to control this behavior.\n",
      "  _warn_prf(average, modifier, f\"{metric.capitalize()} is\", len(result))\n",
      "/home/almusawiaf/.local/lib/python3.11/site-packages/sklearn/metrics/_classification.py:1517: UndefinedMetricWarning: Precision is ill-defined and being set to 0.0 due to no predicted samples. Use `zero_division` parameter to control this behavior.\n",
      "  _warn_prf(average, modifier, f\"{metric.capitalize()} is\", len(result))\n",
      "/home/almusawiaf/.local/lib/python3.11/site-packages/sklearn/metrics/_classification.py:1517: UndefinedMetricWarning: Precision is ill-defined and being set to 0.0 due to no predicted samples. Use `zero_division` parameter to control this behavior.\n",
      "  _warn_prf(average, modifier, f\"{metric.capitalize()} is\", len(result))\n"
     ]
    },
    {
     "name": "stdout",
     "output_type": "stream",
     "text": [
      "Epoch 77/300, Loss: 0.2935, Accuracy: 0.5116, Precision: 0.0000, Recall: 0.0000, F1: 0.0000, AUC: 0.4451\n",
      "Epoch 78/300, Loss: 0.2922, Accuracy: 0.5116, Precision: 0.0000, Recall: 0.0000, F1: 0.0000, AUC: 0.4451\n",
      "Epoch 79/300, Loss: 0.2908, Accuracy: 0.5116, Precision: 0.0000, Recall: 0.0000, F1: 0.0000, AUC: 0.4452\n",
      "Epoch 80/300, Loss: 0.2894, Accuracy: 0.5116, Precision: 0.0000, Recall: 0.0000, F1: 0.0000, AUC: 0.4451\n",
      "Epoch 81/300, Loss: 0.2880, Accuracy: 0.5116, Precision: 0.0000, Recall: 0.0000, F1: 0.0000, AUC: 0.4452\n"
     ]
    },
    {
     "name": "stderr",
     "output_type": "stream",
     "text": [
      "/home/almusawiaf/.local/lib/python3.11/site-packages/sklearn/metrics/_classification.py:1517: UndefinedMetricWarning: Precision is ill-defined and being set to 0.0 due to no predicted samples. Use `zero_division` parameter to control this behavior.\n",
      "  _warn_prf(average, modifier, f\"{metric.capitalize()} is\", len(result))\n",
      "/home/almusawiaf/.local/lib/python3.11/site-packages/sklearn/metrics/_classification.py:1517: UndefinedMetricWarning: Precision is ill-defined and being set to 0.0 due to no predicted samples. Use `zero_division` parameter to control this behavior.\n",
      "  _warn_prf(average, modifier, f\"{metric.capitalize()} is\", len(result))\n",
      "/home/almusawiaf/.local/lib/python3.11/site-packages/sklearn/metrics/_classification.py:1517: UndefinedMetricWarning: Precision is ill-defined and being set to 0.0 due to no predicted samples. Use `zero_division` parameter to control this behavior.\n",
      "  _warn_prf(average, modifier, f\"{metric.capitalize()} is\", len(result))\n",
      "/home/almusawiaf/.local/lib/python3.11/site-packages/sklearn/metrics/_classification.py:1517: UndefinedMetricWarning: Precision is ill-defined and being set to 0.0 due to no predicted samples. Use `zero_division` parameter to control this behavior.\n",
      "  _warn_prf(average, modifier, f\"{metric.capitalize()} is\", len(result))\n",
      "/home/almusawiaf/.local/lib/python3.11/site-packages/sklearn/metrics/_classification.py:1517: UndefinedMetricWarning: Precision is ill-defined and being set to 0.0 due to no predicted samples. Use `zero_division` parameter to control this behavior.\n",
      "  _warn_prf(average, modifier, f\"{metric.capitalize()} is\", len(result))\n"
     ]
    },
    {
     "name": "stdout",
     "output_type": "stream",
     "text": [
      "Epoch 82/300, Loss: 0.2866, Accuracy: 0.5116, Precision: 0.0000, Recall: 0.0000, F1: 0.0000, AUC: 0.4451\n",
      "Epoch 83/300, Loss: 0.2851, Accuracy: 0.5116, Precision: 0.0000, Recall: 0.0000, F1: 0.0000, AUC: 0.4452\n",
      "Epoch 84/300, Loss: 0.2836, Accuracy: 0.5116, Precision: 0.0000, Recall: 0.0000, F1: 0.0000, AUC: 0.4452\n",
      "Epoch 85/300, Loss: 0.2821, Accuracy: 0.5116, Precision: 0.0000, Recall: 0.0000, F1: 0.0000, AUC: 0.4451\n",
      "Epoch 86/300, Loss: 0.2806, Accuracy: 0.5116, Precision: 0.0000, Recall: 0.0000, F1: 0.0000, AUC: 0.4452\n"
     ]
    },
    {
     "name": "stderr",
     "output_type": "stream",
     "text": [
      "/home/almusawiaf/.local/lib/python3.11/site-packages/sklearn/metrics/_classification.py:1517: UndefinedMetricWarning: Precision is ill-defined and being set to 0.0 due to no predicted samples. Use `zero_division` parameter to control this behavior.\n",
      "  _warn_prf(average, modifier, f\"{metric.capitalize()} is\", len(result))\n",
      "/home/almusawiaf/.local/lib/python3.11/site-packages/sklearn/metrics/_classification.py:1517: UndefinedMetricWarning: Precision is ill-defined and being set to 0.0 due to no predicted samples. Use `zero_division` parameter to control this behavior.\n",
      "  _warn_prf(average, modifier, f\"{metric.capitalize()} is\", len(result))\n",
      "/home/almusawiaf/.local/lib/python3.11/site-packages/sklearn/metrics/_classification.py:1517: UndefinedMetricWarning: Precision is ill-defined and being set to 0.0 due to no predicted samples. Use `zero_division` parameter to control this behavior.\n",
      "  _warn_prf(average, modifier, f\"{metric.capitalize()} is\", len(result))\n",
      "/home/almusawiaf/.local/lib/python3.11/site-packages/sklearn/metrics/_classification.py:1517: UndefinedMetricWarning: Precision is ill-defined and being set to 0.0 due to no predicted samples. Use `zero_division` parameter to control this behavior.\n",
      "  _warn_prf(average, modifier, f\"{metric.capitalize()} is\", len(result))\n",
      "/home/almusawiaf/.local/lib/python3.11/site-packages/sklearn/metrics/_classification.py:1517: UndefinedMetricWarning: Precision is ill-defined and being set to 0.0 due to no predicted samples. Use `zero_division` parameter to control this behavior.\n",
      "  _warn_prf(average, modifier, f\"{metric.capitalize()} is\", len(result))\n"
     ]
    },
    {
     "name": "stdout",
     "output_type": "stream",
     "text": [
      "Epoch 87/300, Loss: 0.2791, Accuracy: 0.5116, Precision: 0.0000, Recall: 0.0000, F1: 0.0000, AUC: 0.4452\n",
      "Epoch 88/300, Loss: 0.2775, Accuracy: 0.5116, Precision: 0.0000, Recall: 0.0000, F1: 0.0000, AUC: 0.4452\n",
      "Epoch 89/300, Loss: 0.2759, Accuracy: 0.5116, Precision: 0.0000, Recall: 0.0000, F1: 0.0000, AUC: 0.4452\n",
      "Epoch 90/300, Loss: 0.2743, Accuracy: 0.5116, Precision: 0.0000, Recall: 0.0000, F1: 0.0000, AUC: 0.4452\n",
      "Epoch 91/300, Loss: 0.2726, Accuracy: 0.5116, Precision: 0.0000, Recall: 0.0000, F1: 0.0000, AUC: 0.4452\n"
     ]
    },
    {
     "name": "stderr",
     "output_type": "stream",
     "text": [
      "/home/almusawiaf/.local/lib/python3.11/site-packages/sklearn/metrics/_classification.py:1517: UndefinedMetricWarning: Precision is ill-defined and being set to 0.0 due to no predicted samples. Use `zero_division` parameter to control this behavior.\n",
      "  _warn_prf(average, modifier, f\"{metric.capitalize()} is\", len(result))\n",
      "/home/almusawiaf/.local/lib/python3.11/site-packages/sklearn/metrics/_classification.py:1517: UndefinedMetricWarning: Precision is ill-defined and being set to 0.0 due to no predicted samples. Use `zero_division` parameter to control this behavior.\n",
      "  _warn_prf(average, modifier, f\"{metric.capitalize()} is\", len(result))\n",
      "/home/almusawiaf/.local/lib/python3.11/site-packages/sklearn/metrics/_classification.py:1517: UndefinedMetricWarning: Precision is ill-defined and being set to 0.0 due to no predicted samples. Use `zero_division` parameter to control this behavior.\n",
      "  _warn_prf(average, modifier, f\"{metric.capitalize()} is\", len(result))\n",
      "/home/almusawiaf/.local/lib/python3.11/site-packages/sklearn/metrics/_classification.py:1517: UndefinedMetricWarning: Precision is ill-defined and being set to 0.0 due to no predicted samples. Use `zero_division` parameter to control this behavior.\n",
      "  _warn_prf(average, modifier, f\"{metric.capitalize()} is\", len(result))\n",
      "/home/almusawiaf/.local/lib/python3.11/site-packages/sklearn/metrics/_classification.py:1517: UndefinedMetricWarning: Precision is ill-defined and being set to 0.0 due to no predicted samples. Use `zero_division` parameter to control this behavior.\n",
      "  _warn_prf(average, modifier, f\"{metric.capitalize()} is\", len(result))\n"
     ]
    },
    {
     "name": "stdout",
     "output_type": "stream",
     "text": [
      "Epoch 92/300, Loss: 0.2710, Accuracy: 0.5116, Precision: 0.0000, Recall: 0.0000, F1: 0.0000, AUC: 0.4452\n",
      "Epoch 93/300, Loss: 0.2693, Accuracy: 0.5116, Precision: 0.0000, Recall: 0.0000, F1: 0.0000, AUC: 0.4452\n",
      "Epoch 94/300, Loss: 0.2676, Accuracy: 0.5116, Precision: 0.0000, Recall: 0.0000, F1: 0.0000, AUC: 0.4452\n",
      "Epoch 95/300, Loss: 0.2659, Accuracy: 0.5116, Precision: 0.0000, Recall: 0.0000, F1: 0.0000, AUC: 0.4452\n",
      "Epoch 96/300, Loss: 0.2642, Accuracy: 0.5116, Precision: 0.0000, Recall: 0.0000, F1: 0.0000, AUC: 0.4451\n"
     ]
    },
    {
     "name": "stderr",
     "output_type": "stream",
     "text": [
      "/home/almusawiaf/.local/lib/python3.11/site-packages/sklearn/metrics/_classification.py:1517: UndefinedMetricWarning: Precision is ill-defined and being set to 0.0 due to no predicted samples. Use `zero_division` parameter to control this behavior.\n",
      "  _warn_prf(average, modifier, f\"{metric.capitalize()} is\", len(result))\n",
      "/home/almusawiaf/.local/lib/python3.11/site-packages/sklearn/metrics/_classification.py:1517: UndefinedMetricWarning: Precision is ill-defined and being set to 0.0 due to no predicted samples. Use `zero_division` parameter to control this behavior.\n",
      "  _warn_prf(average, modifier, f\"{metric.capitalize()} is\", len(result))\n",
      "/home/almusawiaf/.local/lib/python3.11/site-packages/sklearn/metrics/_classification.py:1517: UndefinedMetricWarning: Precision is ill-defined and being set to 0.0 due to no predicted samples. Use `zero_division` parameter to control this behavior.\n",
      "  _warn_prf(average, modifier, f\"{metric.capitalize()} is\", len(result))\n",
      "/home/almusawiaf/.local/lib/python3.11/site-packages/sklearn/metrics/_classification.py:1517: UndefinedMetricWarning: Precision is ill-defined and being set to 0.0 due to no predicted samples. Use `zero_division` parameter to control this behavior.\n",
      "  _warn_prf(average, modifier, f\"{metric.capitalize()} is\", len(result))\n",
      "/home/almusawiaf/.local/lib/python3.11/site-packages/sklearn/metrics/_classification.py:1517: UndefinedMetricWarning: Precision is ill-defined and being set to 0.0 due to no predicted samples. Use `zero_division` parameter to control this behavior.\n",
      "  _warn_prf(average, modifier, f\"{metric.capitalize()} is\", len(result))\n"
     ]
    },
    {
     "name": "stdout",
     "output_type": "stream",
     "text": [
      "Epoch 97/300, Loss: 0.2624, Accuracy: 0.5116, Precision: 0.0000, Recall: 0.0000, F1: 0.0000, AUC: 0.4451\n",
      "Epoch 98/300, Loss: 0.2606, Accuracy: 0.5116, Precision: 0.0000, Recall: 0.0000, F1: 0.0000, AUC: 0.4451\n",
      "Epoch 99/300, Loss: 0.2588, Accuracy: 0.5116, Precision: 0.0000, Recall: 0.0000, F1: 0.0000, AUC: 0.4451\n",
      "Epoch 100/300, Loss: 0.2570, Accuracy: 0.5116, Precision: 0.0000, Recall: 0.0000, F1: 0.0000, AUC: 0.4451\n",
      "Epoch 101/300, Loss: 0.2552, Accuracy: 0.5116, Precision: 0.0000, Recall: 0.0000, F1: 0.0000, AUC: 0.4451\n"
     ]
    },
    {
     "name": "stderr",
     "output_type": "stream",
     "text": [
      "/home/almusawiaf/.local/lib/python3.11/site-packages/sklearn/metrics/_classification.py:1517: UndefinedMetricWarning: Precision is ill-defined and being set to 0.0 due to no predicted samples. Use `zero_division` parameter to control this behavior.\n",
      "  _warn_prf(average, modifier, f\"{metric.capitalize()} is\", len(result))\n",
      "/home/almusawiaf/.local/lib/python3.11/site-packages/sklearn/metrics/_classification.py:1517: UndefinedMetricWarning: Precision is ill-defined and being set to 0.0 due to no predicted samples. Use `zero_division` parameter to control this behavior.\n",
      "  _warn_prf(average, modifier, f\"{metric.capitalize()} is\", len(result))\n",
      "/home/almusawiaf/.local/lib/python3.11/site-packages/sklearn/metrics/_classification.py:1517: UndefinedMetricWarning: Precision is ill-defined and being set to 0.0 due to no predicted samples. Use `zero_division` parameter to control this behavior.\n",
      "  _warn_prf(average, modifier, f\"{metric.capitalize()} is\", len(result))\n",
      "/home/almusawiaf/.local/lib/python3.11/site-packages/sklearn/metrics/_classification.py:1517: UndefinedMetricWarning: Precision is ill-defined and being set to 0.0 due to no predicted samples. Use `zero_division` parameter to control this behavior.\n",
      "  _warn_prf(average, modifier, f\"{metric.capitalize()} is\", len(result))\n",
      "/home/almusawiaf/.local/lib/python3.11/site-packages/sklearn/metrics/_classification.py:1517: UndefinedMetricWarning: Precision is ill-defined and being set to 0.0 due to no predicted samples. Use `zero_division` parameter to control this behavior.\n",
      "  _warn_prf(average, modifier, f\"{metric.capitalize()} is\", len(result))\n"
     ]
    },
    {
     "name": "stdout",
     "output_type": "stream",
     "text": [
      "Epoch 102/300, Loss: 0.2534, Accuracy: 0.5116, Precision: 0.0000, Recall: 0.0000, F1: 0.0000, AUC: 0.4451\n",
      "Epoch 103/300, Loss: 0.2515, Accuracy: 0.5116, Precision: 0.0000, Recall: 0.0000, F1: 0.0000, AUC: 0.4452\n",
      "Epoch 104/300, Loss: 0.2496, Accuracy: 0.5116, Precision: 0.0000, Recall: 0.0000, F1: 0.0000, AUC: 0.4452\n",
      "Epoch 105/300, Loss: 0.2477, Accuracy: 0.5116, Precision: 0.0000, Recall: 0.0000, F1: 0.0000, AUC: 0.4452\n",
      "Epoch 106/300, Loss: 0.2458, Accuracy: 0.5116, Precision: 0.0000, Recall: 0.0000, F1: 0.0000, AUC: 0.4452\n"
     ]
    },
    {
     "name": "stderr",
     "output_type": "stream",
     "text": [
      "/home/almusawiaf/.local/lib/python3.11/site-packages/sklearn/metrics/_classification.py:1517: UndefinedMetricWarning: Precision is ill-defined and being set to 0.0 due to no predicted samples. Use `zero_division` parameter to control this behavior.\n",
      "  _warn_prf(average, modifier, f\"{metric.capitalize()} is\", len(result))\n",
      "/home/almusawiaf/.local/lib/python3.11/site-packages/sklearn/metrics/_classification.py:1517: UndefinedMetricWarning: Precision is ill-defined and being set to 0.0 due to no predicted samples. Use `zero_division` parameter to control this behavior.\n",
      "  _warn_prf(average, modifier, f\"{metric.capitalize()} is\", len(result))\n",
      "/home/almusawiaf/.local/lib/python3.11/site-packages/sklearn/metrics/_classification.py:1517: UndefinedMetricWarning: Precision is ill-defined and being set to 0.0 due to no predicted samples. Use `zero_division` parameter to control this behavior.\n",
      "  _warn_prf(average, modifier, f\"{metric.capitalize()} is\", len(result))\n",
      "/home/almusawiaf/.local/lib/python3.11/site-packages/sklearn/metrics/_classification.py:1517: UndefinedMetricWarning: Precision is ill-defined and being set to 0.0 due to no predicted samples. Use `zero_division` parameter to control this behavior.\n",
      "  _warn_prf(average, modifier, f\"{metric.capitalize()} is\", len(result))\n",
      "/home/almusawiaf/.local/lib/python3.11/site-packages/sklearn/metrics/_classification.py:1517: UndefinedMetricWarning: Precision is ill-defined and being set to 0.0 due to no predicted samples. Use `zero_division` parameter to control this behavior.\n",
      "  _warn_prf(average, modifier, f\"{metric.capitalize()} is\", len(result))\n"
     ]
    },
    {
     "name": "stdout",
     "output_type": "stream",
     "text": [
      "Epoch 107/300, Loss: 0.2439, Accuracy: 0.5116, Precision: 0.0000, Recall: 0.0000, F1: 0.0000, AUC: 0.4451\n",
      "Epoch 108/300, Loss: 0.2420, Accuracy: 0.5116, Precision: 0.0000, Recall: 0.0000, F1: 0.0000, AUC: 0.4452\n",
      "Epoch 109/300, Loss: 0.2400, Accuracy: 0.5116, Precision: 0.0000, Recall: 0.0000, F1: 0.0000, AUC: 0.4452\n",
      "Epoch 110/300, Loss: 0.2381, Accuracy: 0.5116, Precision: 0.0000, Recall: 0.0000, F1: 0.0000, AUC: 0.4452\n",
      "Epoch 111/300, Loss: 0.2361, Accuracy: 0.5116, Precision: 0.0000, Recall: 0.0000, F1: 0.0000, AUC: 0.4452\n"
     ]
    },
    {
     "name": "stderr",
     "output_type": "stream",
     "text": [
      "/home/almusawiaf/.local/lib/python3.11/site-packages/sklearn/metrics/_classification.py:1517: UndefinedMetricWarning: Precision is ill-defined and being set to 0.0 due to no predicted samples. Use `zero_division` parameter to control this behavior.\n",
      "  _warn_prf(average, modifier, f\"{metric.capitalize()} is\", len(result))\n",
      "/home/almusawiaf/.local/lib/python3.11/site-packages/sklearn/metrics/_classification.py:1517: UndefinedMetricWarning: Precision is ill-defined and being set to 0.0 due to no predicted samples. Use `zero_division` parameter to control this behavior.\n",
      "  _warn_prf(average, modifier, f\"{metric.capitalize()} is\", len(result))\n",
      "/home/almusawiaf/.local/lib/python3.11/site-packages/sklearn/metrics/_classification.py:1517: UndefinedMetricWarning: Precision is ill-defined and being set to 0.0 due to no predicted samples. Use `zero_division` parameter to control this behavior.\n",
      "  _warn_prf(average, modifier, f\"{metric.capitalize()} is\", len(result))\n",
      "/home/almusawiaf/.local/lib/python3.11/site-packages/sklearn/metrics/_classification.py:1517: UndefinedMetricWarning: Precision is ill-defined and being set to 0.0 due to no predicted samples. Use `zero_division` parameter to control this behavior.\n",
      "  _warn_prf(average, modifier, f\"{metric.capitalize()} is\", len(result))\n",
      "/home/almusawiaf/.local/lib/python3.11/site-packages/sklearn/metrics/_classification.py:1517: UndefinedMetricWarning: Precision is ill-defined and being set to 0.0 due to no predicted samples. Use `zero_division` parameter to control this behavior.\n",
      "  _warn_prf(average, modifier, f\"{metric.capitalize()} is\", len(result))\n"
     ]
    },
    {
     "name": "stdout",
     "output_type": "stream",
     "text": [
      "Epoch 112/300, Loss: 0.2341, Accuracy: 0.5116, Precision: 0.0000, Recall: 0.0000, F1: 0.0000, AUC: 0.4453\n",
      "Epoch 113/300, Loss: 0.2321, Accuracy: 0.5116, Precision: 0.0000, Recall: 0.0000, F1: 0.0000, AUC: 0.4453\n",
      "Epoch 114/300, Loss: 0.2301, Accuracy: 0.5116, Precision: 0.0000, Recall: 0.0000, F1: 0.0000, AUC: 0.4453\n",
      "Epoch 115/300, Loss: 0.2281, Accuracy: 0.5116, Precision: 0.0000, Recall: 0.0000, F1: 0.0000, AUC: 0.4453\n",
      "Epoch 116/300, Loss: 0.2261, Accuracy: 0.5116, Precision: 0.0000, Recall: 0.0000, F1: 0.0000, AUC: 0.4453\n"
     ]
    },
    {
     "name": "stderr",
     "output_type": "stream",
     "text": [
      "/home/almusawiaf/.local/lib/python3.11/site-packages/sklearn/metrics/_classification.py:1517: UndefinedMetricWarning: Precision is ill-defined and being set to 0.0 due to no predicted samples. Use `zero_division` parameter to control this behavior.\n",
      "  _warn_prf(average, modifier, f\"{metric.capitalize()} is\", len(result))\n",
      "/home/almusawiaf/.local/lib/python3.11/site-packages/sklearn/metrics/_classification.py:1517: UndefinedMetricWarning: Precision is ill-defined and being set to 0.0 due to no predicted samples. Use `zero_division` parameter to control this behavior.\n",
      "  _warn_prf(average, modifier, f\"{metric.capitalize()} is\", len(result))\n",
      "/home/almusawiaf/.local/lib/python3.11/site-packages/sklearn/metrics/_classification.py:1517: UndefinedMetricWarning: Precision is ill-defined and being set to 0.0 due to no predicted samples. Use `zero_division` parameter to control this behavior.\n",
      "  _warn_prf(average, modifier, f\"{metric.capitalize()} is\", len(result))\n",
      "/home/almusawiaf/.local/lib/python3.11/site-packages/sklearn/metrics/_classification.py:1517: UndefinedMetricWarning: Precision is ill-defined and being set to 0.0 due to no predicted samples. Use `zero_division` parameter to control this behavior.\n",
      "  _warn_prf(average, modifier, f\"{metric.capitalize()} is\", len(result))\n",
      "/home/almusawiaf/.local/lib/python3.11/site-packages/sklearn/metrics/_classification.py:1517: UndefinedMetricWarning: Precision is ill-defined and being set to 0.0 due to no predicted samples. Use `zero_division` parameter to control this behavior.\n",
      "  _warn_prf(average, modifier, f\"{metric.capitalize()} is\", len(result))\n"
     ]
    },
    {
     "name": "stdout",
     "output_type": "stream",
     "text": [
      "Epoch 117/300, Loss: 0.2241, Accuracy: 0.5116, Precision: 0.0000, Recall: 0.0000, F1: 0.0000, AUC: 0.4453\n",
      "Epoch 118/300, Loss: 0.2220, Accuracy: 0.5116, Precision: 0.0000, Recall: 0.0000, F1: 0.0000, AUC: 0.4454\n",
      "Epoch 119/300, Loss: 0.2200, Accuracy: 0.5116, Precision: 0.0000, Recall: 0.0000, F1: 0.0000, AUC: 0.4454\n",
      "Epoch 120/300, Loss: 0.2179, Accuracy: 0.5116, Precision: 0.0000, Recall: 0.0000, F1: 0.0000, AUC: 0.4454\n",
      "Epoch 121/300, Loss: 0.2159, Accuracy: 0.5116, Precision: 0.0000, Recall: 0.0000, F1: 0.0000, AUC: 0.4454\n"
     ]
    },
    {
     "name": "stderr",
     "output_type": "stream",
     "text": [
      "/home/almusawiaf/.local/lib/python3.11/site-packages/sklearn/metrics/_classification.py:1517: UndefinedMetricWarning: Precision is ill-defined and being set to 0.0 due to no predicted samples. Use `zero_division` parameter to control this behavior.\n",
      "  _warn_prf(average, modifier, f\"{metric.capitalize()} is\", len(result))\n",
      "/home/almusawiaf/.local/lib/python3.11/site-packages/sklearn/metrics/_classification.py:1517: UndefinedMetricWarning: Precision is ill-defined and being set to 0.0 due to no predicted samples. Use `zero_division` parameter to control this behavior.\n",
      "  _warn_prf(average, modifier, f\"{metric.capitalize()} is\", len(result))\n",
      "/home/almusawiaf/.local/lib/python3.11/site-packages/sklearn/metrics/_classification.py:1517: UndefinedMetricWarning: Precision is ill-defined and being set to 0.0 due to no predicted samples. Use `zero_division` parameter to control this behavior.\n",
      "  _warn_prf(average, modifier, f\"{metric.capitalize()} is\", len(result))\n",
      "/home/almusawiaf/.local/lib/python3.11/site-packages/sklearn/metrics/_classification.py:1517: UndefinedMetricWarning: Precision is ill-defined and being set to 0.0 due to no predicted samples. Use `zero_division` parameter to control this behavior.\n",
      "  _warn_prf(average, modifier, f\"{metric.capitalize()} is\", len(result))\n",
      "/home/almusawiaf/.local/lib/python3.11/site-packages/sklearn/metrics/_classification.py:1517: UndefinedMetricWarning: Precision is ill-defined and being set to 0.0 due to no predicted samples. Use `zero_division` parameter to control this behavior.\n",
      "  _warn_prf(average, modifier, f\"{metric.capitalize()} is\", len(result))\n"
     ]
    },
    {
     "name": "stdout",
     "output_type": "stream",
     "text": [
      "Epoch 122/300, Loss: 0.2138, Accuracy: 0.5116, Precision: 0.0000, Recall: 0.0000, F1: 0.0000, AUC: 0.4455\n",
      "Epoch 123/300, Loss: 0.2117, Accuracy: 0.5116, Precision: 0.0000, Recall: 0.0000, F1: 0.0000, AUC: 0.4455\n",
      "Epoch 124/300, Loss: 0.2097, Accuracy: 0.5116, Precision: 0.0000, Recall: 0.0000, F1: 0.0000, AUC: 0.4455\n",
      "Epoch 125/300, Loss: 0.2076, Accuracy: 0.5116, Precision: 0.0000, Recall: 0.0000, F1: 0.0000, AUC: 0.4456\n",
      "Epoch 126/300, Loss: 0.2055, Accuracy: 0.5116, Precision: 0.0000, Recall: 0.0000, F1: 0.0000, AUC: 0.4456\n"
     ]
    },
    {
     "name": "stderr",
     "output_type": "stream",
     "text": [
      "/home/almusawiaf/.local/lib/python3.11/site-packages/sklearn/metrics/_classification.py:1517: UndefinedMetricWarning: Precision is ill-defined and being set to 0.0 due to no predicted samples. Use `zero_division` parameter to control this behavior.\n",
      "  _warn_prf(average, modifier, f\"{metric.capitalize()} is\", len(result))\n",
      "/home/almusawiaf/.local/lib/python3.11/site-packages/sklearn/metrics/_classification.py:1517: UndefinedMetricWarning: Precision is ill-defined and being set to 0.0 due to no predicted samples. Use `zero_division` parameter to control this behavior.\n",
      "  _warn_prf(average, modifier, f\"{metric.capitalize()} is\", len(result))\n",
      "/home/almusawiaf/.local/lib/python3.11/site-packages/sklearn/metrics/_classification.py:1517: UndefinedMetricWarning: Precision is ill-defined and being set to 0.0 due to no predicted samples. Use `zero_division` parameter to control this behavior.\n",
      "  _warn_prf(average, modifier, f\"{metric.capitalize()} is\", len(result))\n",
      "/home/almusawiaf/.local/lib/python3.11/site-packages/sklearn/metrics/_classification.py:1517: UndefinedMetricWarning: Precision is ill-defined and being set to 0.0 due to no predicted samples. Use `zero_division` parameter to control this behavior.\n",
      "  _warn_prf(average, modifier, f\"{metric.capitalize()} is\", len(result))\n",
      "/home/almusawiaf/.local/lib/python3.11/site-packages/sklearn/metrics/_classification.py:1517: UndefinedMetricWarning: Precision is ill-defined and being set to 0.0 due to no predicted samples. Use `zero_division` parameter to control this behavior.\n",
      "  _warn_prf(average, modifier, f\"{metric.capitalize()} is\", len(result))\n"
     ]
    },
    {
     "name": "stdout",
     "output_type": "stream",
     "text": [
      "Epoch 127/300, Loss: 0.2034, Accuracy: 0.5116, Precision: 0.0000, Recall: 0.0000, F1: 0.0000, AUC: 0.4456\n",
      "Epoch 128/300, Loss: 0.2013, Accuracy: 0.5116, Precision: 0.0000, Recall: 0.0000, F1: 0.0000, AUC: 0.4456\n",
      "Epoch 129/300, Loss: 0.1993, Accuracy: 0.5116, Precision: 0.0000, Recall: 0.0000, F1: 0.0000, AUC: 0.4456\n",
      "Epoch 130/300, Loss: 0.1972, Accuracy: 0.5116, Precision: 0.0000, Recall: 0.0000, F1: 0.0000, AUC: 0.4456\n",
      "Epoch 131/300, Loss: 0.1951, Accuracy: 0.5116, Precision: 0.0000, Recall: 0.0000, F1: 0.0000, AUC: 0.4457\n"
     ]
    },
    {
     "name": "stderr",
     "output_type": "stream",
     "text": [
      "/home/almusawiaf/.local/lib/python3.11/site-packages/sklearn/metrics/_classification.py:1517: UndefinedMetricWarning: Precision is ill-defined and being set to 0.0 due to no predicted samples. Use `zero_division` parameter to control this behavior.\n",
      "  _warn_prf(average, modifier, f\"{metric.capitalize()} is\", len(result))\n",
      "/home/almusawiaf/.local/lib/python3.11/site-packages/sklearn/metrics/_classification.py:1517: UndefinedMetricWarning: Precision is ill-defined and being set to 0.0 due to no predicted samples. Use `zero_division` parameter to control this behavior.\n",
      "  _warn_prf(average, modifier, f\"{metric.capitalize()} is\", len(result))\n",
      "/home/almusawiaf/.local/lib/python3.11/site-packages/sklearn/metrics/_classification.py:1517: UndefinedMetricWarning: Precision is ill-defined and being set to 0.0 due to no predicted samples. Use `zero_division` parameter to control this behavior.\n",
      "  _warn_prf(average, modifier, f\"{metric.capitalize()} is\", len(result))\n",
      "/home/almusawiaf/.local/lib/python3.11/site-packages/sklearn/metrics/_classification.py:1517: UndefinedMetricWarning: Precision is ill-defined and being set to 0.0 due to no predicted samples. Use `zero_division` parameter to control this behavior.\n",
      "  _warn_prf(average, modifier, f\"{metric.capitalize()} is\", len(result))\n",
      "/home/almusawiaf/.local/lib/python3.11/site-packages/sklearn/metrics/_classification.py:1517: UndefinedMetricWarning: Precision is ill-defined and being set to 0.0 due to no predicted samples. Use `zero_division` parameter to control this behavior.\n",
      "  _warn_prf(average, modifier, f\"{metric.capitalize()} is\", len(result))\n"
     ]
    },
    {
     "name": "stdout",
     "output_type": "stream",
     "text": [
      "Epoch 132/300, Loss: 0.1930, Accuracy: 0.5116, Precision: 0.0000, Recall: 0.0000, F1: 0.0000, AUC: 0.4457\n",
      "Epoch 133/300, Loss: 0.1909, Accuracy: 0.5116, Precision: 0.0000, Recall: 0.0000, F1: 0.0000, AUC: 0.4457\n",
      "Epoch 134/300, Loss: 0.1888, Accuracy: 0.5116, Precision: 0.0000, Recall: 0.0000, F1: 0.0000, AUC: 0.4457\n",
      "Epoch 135/300, Loss: 0.1868, Accuracy: 0.5116, Precision: 0.0000, Recall: 0.0000, F1: 0.0000, AUC: 0.4457\n",
      "Epoch 136/300, Loss: 0.1847, Accuracy: 0.5116, Precision: 0.0000, Recall: 0.0000, F1: 0.0000, AUC: 0.4457\n"
     ]
    },
    {
     "name": "stderr",
     "output_type": "stream",
     "text": [
      "/home/almusawiaf/.local/lib/python3.11/site-packages/sklearn/metrics/_classification.py:1517: UndefinedMetricWarning: Precision is ill-defined and being set to 0.0 due to no predicted samples. Use `zero_division` parameter to control this behavior.\n",
      "  _warn_prf(average, modifier, f\"{metric.capitalize()} is\", len(result))\n",
      "/home/almusawiaf/.local/lib/python3.11/site-packages/sklearn/metrics/_classification.py:1517: UndefinedMetricWarning: Precision is ill-defined and being set to 0.0 due to no predicted samples. Use `zero_division` parameter to control this behavior.\n",
      "  _warn_prf(average, modifier, f\"{metric.capitalize()} is\", len(result))\n",
      "/home/almusawiaf/.local/lib/python3.11/site-packages/sklearn/metrics/_classification.py:1517: UndefinedMetricWarning: Precision is ill-defined and being set to 0.0 due to no predicted samples. Use `zero_division` parameter to control this behavior.\n",
      "  _warn_prf(average, modifier, f\"{metric.capitalize()} is\", len(result))\n",
      "/home/almusawiaf/.local/lib/python3.11/site-packages/sklearn/metrics/_classification.py:1517: UndefinedMetricWarning: Precision is ill-defined and being set to 0.0 due to no predicted samples. Use `zero_division` parameter to control this behavior.\n",
      "  _warn_prf(average, modifier, f\"{metric.capitalize()} is\", len(result))\n",
      "/home/almusawiaf/.local/lib/python3.11/site-packages/sklearn/metrics/_classification.py:1517: UndefinedMetricWarning: Precision is ill-defined and being set to 0.0 due to no predicted samples. Use `zero_division` parameter to control this behavior.\n",
      "  _warn_prf(average, modifier, f\"{metric.capitalize()} is\", len(result))\n"
     ]
    },
    {
     "name": "stdout",
     "output_type": "stream",
     "text": [
      "Epoch 137/300, Loss: 0.1826, Accuracy: 0.5116, Precision: 0.0000, Recall: 0.0000, F1: 0.0000, AUC: 0.4457\n",
      "Epoch 138/300, Loss: 0.1806, Accuracy: 0.5116, Precision: 0.0000, Recall: 0.0000, F1: 0.0000, AUC: 0.4457\n",
      "Epoch 139/300, Loss: 0.1785, Accuracy: 0.5116, Precision: 0.0000, Recall: 0.0000, F1: 0.0000, AUC: 0.4457\n",
      "Epoch 140/300, Loss: 0.1765, Accuracy: 0.5116, Precision: 0.0000, Recall: 0.0000, F1: 0.0000, AUC: 0.4458\n",
      "Epoch 141/300, Loss: 0.1744, Accuracy: 0.5116, Precision: 0.0000, Recall: 0.0000, F1: 0.0000, AUC: 0.4458\n"
     ]
    },
    {
     "name": "stderr",
     "output_type": "stream",
     "text": [
      "/home/almusawiaf/.local/lib/python3.11/site-packages/sklearn/metrics/_classification.py:1517: UndefinedMetricWarning: Precision is ill-defined and being set to 0.0 due to no predicted samples. Use `zero_division` parameter to control this behavior.\n",
      "  _warn_prf(average, modifier, f\"{metric.capitalize()} is\", len(result))\n",
      "/home/almusawiaf/.local/lib/python3.11/site-packages/sklearn/metrics/_classification.py:1517: UndefinedMetricWarning: Precision is ill-defined and being set to 0.0 due to no predicted samples. Use `zero_division` parameter to control this behavior.\n",
      "  _warn_prf(average, modifier, f\"{metric.capitalize()} is\", len(result))\n",
      "/home/almusawiaf/.local/lib/python3.11/site-packages/sklearn/metrics/_classification.py:1517: UndefinedMetricWarning: Precision is ill-defined and being set to 0.0 due to no predicted samples. Use `zero_division` parameter to control this behavior.\n",
      "  _warn_prf(average, modifier, f\"{metric.capitalize()} is\", len(result))\n",
      "/home/almusawiaf/.local/lib/python3.11/site-packages/sklearn/metrics/_classification.py:1517: UndefinedMetricWarning: Precision is ill-defined and being set to 0.0 due to no predicted samples. Use `zero_division` parameter to control this behavior.\n",
      "  _warn_prf(average, modifier, f\"{metric.capitalize()} is\", len(result))\n",
      "/home/almusawiaf/.local/lib/python3.11/site-packages/sklearn/metrics/_classification.py:1517: UndefinedMetricWarning: Precision is ill-defined and being set to 0.0 due to no predicted samples. Use `zero_division` parameter to control this behavior.\n",
      "  _warn_prf(average, modifier, f\"{metric.capitalize()} is\", len(result))\n"
     ]
    },
    {
     "name": "stdout",
     "output_type": "stream",
     "text": [
      "Epoch 142/300, Loss: 0.1724, Accuracy: 0.5116, Precision: 0.0000, Recall: 0.0000, F1: 0.0000, AUC: 0.4458\n",
      "Epoch 143/300, Loss: 0.1704, Accuracy: 0.5116, Precision: 0.0000, Recall: 0.0000, F1: 0.0000, AUC: 0.4458\n",
      "Epoch 144/300, Loss: 0.1684, Accuracy: 0.5116, Precision: 0.0000, Recall: 0.0000, F1: 0.0000, AUC: 0.4458\n",
      "Epoch 145/300, Loss: 0.1664, Accuracy: 0.5116, Precision: 0.0000, Recall: 0.0000, F1: 0.0000, AUC: 0.4458\n",
      "Epoch 146/300, Loss: 0.1644, Accuracy: 0.5116, Precision: 0.0000, Recall: 0.0000, F1: 0.0000, AUC: 0.4458\n"
     ]
    },
    {
     "name": "stderr",
     "output_type": "stream",
     "text": [
      "/home/almusawiaf/.local/lib/python3.11/site-packages/sklearn/metrics/_classification.py:1517: UndefinedMetricWarning: Precision is ill-defined and being set to 0.0 due to no predicted samples. Use `zero_division` parameter to control this behavior.\n",
      "  _warn_prf(average, modifier, f\"{metric.capitalize()} is\", len(result))\n",
      "/home/almusawiaf/.local/lib/python3.11/site-packages/sklearn/metrics/_classification.py:1517: UndefinedMetricWarning: Precision is ill-defined and being set to 0.0 due to no predicted samples. Use `zero_division` parameter to control this behavior.\n",
      "  _warn_prf(average, modifier, f\"{metric.capitalize()} is\", len(result))\n",
      "/home/almusawiaf/.local/lib/python3.11/site-packages/sklearn/metrics/_classification.py:1517: UndefinedMetricWarning: Precision is ill-defined and being set to 0.0 due to no predicted samples. Use `zero_division` parameter to control this behavior.\n",
      "  _warn_prf(average, modifier, f\"{metric.capitalize()} is\", len(result))\n",
      "/home/almusawiaf/.local/lib/python3.11/site-packages/sklearn/metrics/_classification.py:1517: UndefinedMetricWarning: Precision is ill-defined and being set to 0.0 due to no predicted samples. Use `zero_division` parameter to control this behavior.\n",
      "  _warn_prf(average, modifier, f\"{metric.capitalize()} is\", len(result))\n",
      "/home/almusawiaf/.local/lib/python3.11/site-packages/sklearn/metrics/_classification.py:1517: UndefinedMetricWarning: Precision is ill-defined and being set to 0.0 due to no predicted samples. Use `zero_division` parameter to control this behavior.\n",
      "  _warn_prf(average, modifier, f\"{metric.capitalize()} is\", len(result))\n"
     ]
    },
    {
     "name": "stdout",
     "output_type": "stream",
     "text": [
      "Epoch 147/300, Loss: 0.1625, Accuracy: 0.5116, Precision: 0.0000, Recall: 0.0000, F1: 0.0000, AUC: 0.4458\n",
      "Epoch 148/300, Loss: 0.1605, Accuracy: 0.5116, Precision: 0.0000, Recall: 0.0000, F1: 0.0000, AUC: 0.4458\n",
      "Epoch 149/300, Loss: 0.1586, Accuracy: 0.5116, Precision: 0.0000, Recall: 0.0000, F1: 0.0000, AUC: 0.4459\n",
      "Epoch 150/300, Loss: 0.1566, Accuracy: 0.5116, Precision: 0.0000, Recall: 0.0000, F1: 0.0000, AUC: 0.4459\n",
      "Epoch 151/300, Loss: 0.1547, Accuracy: 0.5116, Precision: 0.0000, Recall: 0.0000, F1: 0.0000, AUC: 0.4459\n"
     ]
    },
    {
     "name": "stderr",
     "output_type": "stream",
     "text": [
      "/home/almusawiaf/.local/lib/python3.11/site-packages/sklearn/metrics/_classification.py:1517: UndefinedMetricWarning: Precision is ill-defined and being set to 0.0 due to no predicted samples. Use `zero_division` parameter to control this behavior.\n",
      "  _warn_prf(average, modifier, f\"{metric.capitalize()} is\", len(result))\n",
      "/home/almusawiaf/.local/lib/python3.11/site-packages/sklearn/metrics/_classification.py:1517: UndefinedMetricWarning: Precision is ill-defined and being set to 0.0 due to no predicted samples. Use `zero_division` parameter to control this behavior.\n",
      "  _warn_prf(average, modifier, f\"{metric.capitalize()} is\", len(result))\n",
      "/home/almusawiaf/.local/lib/python3.11/site-packages/sklearn/metrics/_classification.py:1517: UndefinedMetricWarning: Precision is ill-defined and being set to 0.0 due to no predicted samples. Use `zero_division` parameter to control this behavior.\n",
      "  _warn_prf(average, modifier, f\"{metric.capitalize()} is\", len(result))\n",
      "/home/almusawiaf/.local/lib/python3.11/site-packages/sklearn/metrics/_classification.py:1517: UndefinedMetricWarning: Precision is ill-defined and being set to 0.0 due to no predicted samples. Use `zero_division` parameter to control this behavior.\n",
      "  _warn_prf(average, modifier, f\"{metric.capitalize()} is\", len(result))\n",
      "/home/almusawiaf/.local/lib/python3.11/site-packages/sklearn/metrics/_classification.py:1517: UndefinedMetricWarning: Precision is ill-defined and being set to 0.0 due to no predicted samples. Use `zero_division` parameter to control this behavior.\n",
      "  _warn_prf(average, modifier, f\"{metric.capitalize()} is\", len(result))\n"
     ]
    },
    {
     "name": "stdout",
     "output_type": "stream",
     "text": [
      "Epoch 152/300, Loss: 0.1528, Accuracy: 0.5116, Precision: 0.0000, Recall: 0.0000, F1: 0.0000, AUC: 0.4459\n",
      "Epoch 153/300, Loss: 0.1509, Accuracy: 0.5116, Precision: 0.0000, Recall: 0.0000, F1: 0.0000, AUC: 0.4459\n",
      "Epoch 154/300, Loss: 0.1491, Accuracy: 0.5116, Precision: 0.0000, Recall: 0.0000, F1: 0.0000, AUC: 0.4459\n",
      "Epoch 155/300, Loss: 0.1472, Accuracy: 0.5116, Precision: 0.0000, Recall: 0.0000, F1: 0.0000, AUC: 0.4459\n",
      "Epoch 156/300, Loss: 0.1454, Accuracy: 0.5116, Precision: 0.0000, Recall: 0.0000, F1: 0.0000, AUC: 0.4459\n"
     ]
    },
    {
     "name": "stderr",
     "output_type": "stream",
     "text": [
      "/home/almusawiaf/.local/lib/python3.11/site-packages/sklearn/metrics/_classification.py:1517: UndefinedMetricWarning: Precision is ill-defined and being set to 0.0 due to no predicted samples. Use `zero_division` parameter to control this behavior.\n",
      "  _warn_prf(average, modifier, f\"{metric.capitalize()} is\", len(result))\n",
      "/home/almusawiaf/.local/lib/python3.11/site-packages/sklearn/metrics/_classification.py:1517: UndefinedMetricWarning: Precision is ill-defined and being set to 0.0 due to no predicted samples. Use `zero_division` parameter to control this behavior.\n",
      "  _warn_prf(average, modifier, f\"{metric.capitalize()} is\", len(result))\n",
      "/home/almusawiaf/.local/lib/python3.11/site-packages/sklearn/metrics/_classification.py:1517: UndefinedMetricWarning: Precision is ill-defined and being set to 0.0 due to no predicted samples. Use `zero_division` parameter to control this behavior.\n",
      "  _warn_prf(average, modifier, f\"{metric.capitalize()} is\", len(result))\n",
      "/home/almusawiaf/.local/lib/python3.11/site-packages/sklearn/metrics/_classification.py:1517: UndefinedMetricWarning: Precision is ill-defined and being set to 0.0 due to no predicted samples. Use `zero_division` parameter to control this behavior.\n",
      "  _warn_prf(average, modifier, f\"{metric.capitalize()} is\", len(result))\n",
      "/home/almusawiaf/.local/lib/python3.11/site-packages/sklearn/metrics/_classification.py:1517: UndefinedMetricWarning: Precision is ill-defined and being set to 0.0 due to no predicted samples. Use `zero_division` parameter to control this behavior.\n",
      "  _warn_prf(average, modifier, f\"{metric.capitalize()} is\", len(result))\n"
     ]
    },
    {
     "name": "stdout",
     "output_type": "stream",
     "text": [
      "Epoch 157/300, Loss: 0.1436, Accuracy: 0.5116, Precision: 0.0000, Recall: 0.0000, F1: 0.0000, AUC: 0.4459\n",
      "Epoch 158/300, Loss: 0.1418, Accuracy: 0.5116, Precision: 0.0000, Recall: 0.0000, F1: 0.0000, AUC: 0.4459\n",
      "Epoch 159/300, Loss: 0.1400, Accuracy: 0.5116, Precision: 0.0000, Recall: 0.0000, F1: 0.0000, AUC: 0.4459\n",
      "Epoch 160/300, Loss: 0.1382, Accuracy: 0.5116, Precision: 0.0000, Recall: 0.0000, F1: 0.0000, AUC: 0.4460\n",
      "Epoch 161/300, Loss: 0.1365, Accuracy: 0.5116, Precision: 0.0000, Recall: 0.0000, F1: 0.0000, AUC: 0.4460\n"
     ]
    },
    {
     "name": "stderr",
     "output_type": "stream",
     "text": [
      "/home/almusawiaf/.local/lib/python3.11/site-packages/sklearn/metrics/_classification.py:1517: UndefinedMetricWarning: Precision is ill-defined and being set to 0.0 due to no predicted samples. Use `zero_division` parameter to control this behavior.\n",
      "  _warn_prf(average, modifier, f\"{metric.capitalize()} is\", len(result))\n",
      "/home/almusawiaf/.local/lib/python3.11/site-packages/sklearn/metrics/_classification.py:1517: UndefinedMetricWarning: Precision is ill-defined and being set to 0.0 due to no predicted samples. Use `zero_division` parameter to control this behavior.\n",
      "  _warn_prf(average, modifier, f\"{metric.capitalize()} is\", len(result))\n",
      "/home/almusawiaf/.local/lib/python3.11/site-packages/sklearn/metrics/_classification.py:1517: UndefinedMetricWarning: Precision is ill-defined and being set to 0.0 due to no predicted samples. Use `zero_division` parameter to control this behavior.\n",
      "  _warn_prf(average, modifier, f\"{metric.capitalize()} is\", len(result))\n",
      "/home/almusawiaf/.local/lib/python3.11/site-packages/sklearn/metrics/_classification.py:1517: UndefinedMetricWarning: Precision is ill-defined and being set to 0.0 due to no predicted samples. Use `zero_division` parameter to control this behavior.\n",
      "  _warn_prf(average, modifier, f\"{metric.capitalize()} is\", len(result))\n",
      "/home/almusawiaf/.local/lib/python3.11/site-packages/sklearn/metrics/_classification.py:1517: UndefinedMetricWarning: Precision is ill-defined and being set to 0.0 due to no predicted samples. Use `zero_division` parameter to control this behavior.\n",
      "  _warn_prf(average, modifier, f\"{metric.capitalize()} is\", len(result))\n"
     ]
    },
    {
     "name": "stdout",
     "output_type": "stream",
     "text": [
      "Epoch 162/300, Loss: 0.1347, Accuracy: 0.5116, Precision: 0.0000, Recall: 0.0000, F1: 0.0000, AUC: 0.4460\n",
      "Epoch 163/300, Loss: 0.1330, Accuracy: 0.5116, Precision: 0.0000, Recall: 0.0000, F1: 0.0000, AUC: 0.4460\n",
      "Epoch 164/300, Loss: 0.1313, Accuracy: 0.5116, Precision: 0.0000, Recall: 0.0000, F1: 0.0000, AUC: 0.4460\n",
      "Epoch 165/300, Loss: 0.1297, Accuracy: 0.5116, Precision: 0.0000, Recall: 0.0000, F1: 0.0000, AUC: 0.4460\n",
      "Epoch 166/300, Loss: 0.1280, Accuracy: 0.5116, Precision: 0.0000, Recall: 0.0000, F1: 0.0000, AUC: 0.4460\n"
     ]
    },
    {
     "name": "stderr",
     "output_type": "stream",
     "text": [
      "/home/almusawiaf/.local/lib/python3.11/site-packages/sklearn/metrics/_classification.py:1517: UndefinedMetricWarning: Precision is ill-defined and being set to 0.0 due to no predicted samples. Use `zero_division` parameter to control this behavior.\n",
      "  _warn_prf(average, modifier, f\"{metric.capitalize()} is\", len(result))\n",
      "/home/almusawiaf/.local/lib/python3.11/site-packages/sklearn/metrics/_classification.py:1517: UndefinedMetricWarning: Precision is ill-defined and being set to 0.0 due to no predicted samples. Use `zero_division` parameter to control this behavior.\n",
      "  _warn_prf(average, modifier, f\"{metric.capitalize()} is\", len(result))\n",
      "/home/almusawiaf/.local/lib/python3.11/site-packages/sklearn/metrics/_classification.py:1517: UndefinedMetricWarning: Precision is ill-defined and being set to 0.0 due to no predicted samples. Use `zero_division` parameter to control this behavior.\n",
      "  _warn_prf(average, modifier, f\"{metric.capitalize()} is\", len(result))\n",
      "/home/almusawiaf/.local/lib/python3.11/site-packages/sklearn/metrics/_classification.py:1517: UndefinedMetricWarning: Precision is ill-defined and being set to 0.0 due to no predicted samples. Use `zero_division` parameter to control this behavior.\n",
      "  _warn_prf(average, modifier, f\"{metric.capitalize()} is\", len(result))\n",
      "/home/almusawiaf/.local/lib/python3.11/site-packages/sklearn/metrics/_classification.py:1517: UndefinedMetricWarning: Precision is ill-defined and being set to 0.0 due to no predicted samples. Use `zero_division` parameter to control this behavior.\n",
      "  _warn_prf(average, modifier, f\"{metric.capitalize()} is\", len(result))\n"
     ]
    },
    {
     "name": "stdout",
     "output_type": "stream",
     "text": [
      "Epoch 167/300, Loss: 0.1264, Accuracy: 0.5116, Precision: 0.0000, Recall: 0.0000, F1: 0.0000, AUC: 0.4460\n",
      "Epoch 168/300, Loss: 0.1248, Accuracy: 0.5116, Precision: 0.0000, Recall: 0.0000, F1: 0.0000, AUC: 0.4460\n",
      "Epoch 169/300, Loss: 0.1232, Accuracy: 0.5116, Precision: 0.0000, Recall: 0.0000, F1: 0.0000, AUC: 0.4460\n",
      "Epoch 170/300, Loss: 0.1216, Accuracy: 0.5116, Precision: 0.0000, Recall: 0.0000, F1: 0.0000, AUC: 0.4460\n",
      "Epoch 171/300, Loss: 0.1200, Accuracy: 0.5116, Precision: 0.0000, Recall: 0.0000, F1: 0.0000, AUC: 0.4460\n"
     ]
    },
    {
     "name": "stderr",
     "output_type": "stream",
     "text": [
      "/home/almusawiaf/.local/lib/python3.11/site-packages/sklearn/metrics/_classification.py:1517: UndefinedMetricWarning: Precision is ill-defined and being set to 0.0 due to no predicted samples. Use `zero_division` parameter to control this behavior.\n",
      "  _warn_prf(average, modifier, f\"{metric.capitalize()} is\", len(result))\n",
      "/home/almusawiaf/.local/lib/python3.11/site-packages/sklearn/metrics/_classification.py:1517: UndefinedMetricWarning: Precision is ill-defined and being set to 0.0 due to no predicted samples. Use `zero_division` parameter to control this behavior.\n",
      "  _warn_prf(average, modifier, f\"{metric.capitalize()} is\", len(result))\n",
      "/home/almusawiaf/.local/lib/python3.11/site-packages/sklearn/metrics/_classification.py:1517: UndefinedMetricWarning: Precision is ill-defined and being set to 0.0 due to no predicted samples. Use `zero_division` parameter to control this behavior.\n",
      "  _warn_prf(average, modifier, f\"{metric.capitalize()} is\", len(result))\n",
      "/home/almusawiaf/.local/lib/python3.11/site-packages/sklearn/metrics/_classification.py:1517: UndefinedMetricWarning: Precision is ill-defined and being set to 0.0 due to no predicted samples. Use `zero_division` parameter to control this behavior.\n",
      "  _warn_prf(average, modifier, f\"{metric.capitalize()} is\", len(result))\n",
      "/home/almusawiaf/.local/lib/python3.11/site-packages/sklearn/metrics/_classification.py:1517: UndefinedMetricWarning: Precision is ill-defined and being set to 0.0 due to no predicted samples. Use `zero_division` parameter to control this behavior.\n",
      "  _warn_prf(average, modifier, f\"{metric.capitalize()} is\", len(result))\n"
     ]
    },
    {
     "name": "stdout",
     "output_type": "stream",
     "text": [
      "Epoch 172/300, Loss: 0.1185, Accuracy: 0.5116, Precision: 0.0000, Recall: 0.0000, F1: 0.0000, AUC: 0.4461\n",
      "Epoch 173/300, Loss: 0.1170, Accuracy: 0.5116, Precision: 0.0000, Recall: 0.0000, F1: 0.0000, AUC: 0.4461\n",
      "Epoch 174/300, Loss: 0.1155, Accuracy: 0.5116, Precision: 0.0000, Recall: 0.0000, F1: 0.0000, AUC: 0.4461\n",
      "Epoch 175/300, Loss: 0.1140, Accuracy: 0.5116, Precision: 0.0000, Recall: 0.0000, F1: 0.0000, AUC: 0.4461\n",
      "Epoch 176/300, Loss: 0.1125, Accuracy: 0.5116, Precision: 0.0000, Recall: 0.0000, F1: 0.0000, AUC: 0.4460\n"
     ]
    },
    {
     "name": "stderr",
     "output_type": "stream",
     "text": [
      "/home/almusawiaf/.local/lib/python3.11/site-packages/sklearn/metrics/_classification.py:1517: UndefinedMetricWarning: Precision is ill-defined and being set to 0.0 due to no predicted samples. Use `zero_division` parameter to control this behavior.\n",
      "  _warn_prf(average, modifier, f\"{metric.capitalize()} is\", len(result))\n",
      "/home/almusawiaf/.local/lib/python3.11/site-packages/sklearn/metrics/_classification.py:1517: UndefinedMetricWarning: Precision is ill-defined and being set to 0.0 due to no predicted samples. Use `zero_division` parameter to control this behavior.\n",
      "  _warn_prf(average, modifier, f\"{metric.capitalize()} is\", len(result))\n",
      "/home/almusawiaf/.local/lib/python3.11/site-packages/sklearn/metrics/_classification.py:1517: UndefinedMetricWarning: Precision is ill-defined and being set to 0.0 due to no predicted samples. Use `zero_division` parameter to control this behavior.\n",
      "  _warn_prf(average, modifier, f\"{metric.capitalize()} is\", len(result))\n",
      "/home/almusawiaf/.local/lib/python3.11/site-packages/sklearn/metrics/_classification.py:1517: UndefinedMetricWarning: Precision is ill-defined and being set to 0.0 due to no predicted samples. Use `zero_division` parameter to control this behavior.\n",
      "  _warn_prf(average, modifier, f\"{metric.capitalize()} is\", len(result))\n",
      "/home/almusawiaf/.local/lib/python3.11/site-packages/sklearn/metrics/_classification.py:1517: UndefinedMetricWarning: Precision is ill-defined and being set to 0.0 due to no predicted samples. Use `zero_division` parameter to control this behavior.\n",
      "  _warn_prf(average, modifier, f\"{metric.capitalize()} is\", len(result))\n"
     ]
    },
    {
     "name": "stdout",
     "output_type": "stream",
     "text": [
      "Epoch 177/300, Loss: 0.1111, Accuracy: 0.5116, Precision: 0.0000, Recall: 0.0000, F1: 0.0000, AUC: 0.4460\n",
      "Epoch 178/300, Loss: 0.1096, Accuracy: 0.5116, Precision: 0.0000, Recall: 0.0000, F1: 0.0000, AUC: 0.4460\n",
      "Epoch 179/300, Loss: 0.1082, Accuracy: 0.5116, Precision: 0.0000, Recall: 0.0000, F1: 0.0000, AUC: 0.4460\n",
      "Epoch 180/300, Loss: 0.1068, Accuracy: 0.5116, Precision: 0.0000, Recall: 0.0000, F1: 0.0000, AUC: 0.4460\n",
      "Epoch 181/300, Loss: 0.1055, Accuracy: 0.5116, Precision: 0.0000, Recall: 0.0000, F1: 0.0000, AUC: 0.4460\n"
     ]
    },
    {
     "name": "stderr",
     "output_type": "stream",
     "text": [
      "/home/almusawiaf/.local/lib/python3.11/site-packages/sklearn/metrics/_classification.py:1517: UndefinedMetricWarning: Precision is ill-defined and being set to 0.0 due to no predicted samples. Use `zero_division` parameter to control this behavior.\n",
      "  _warn_prf(average, modifier, f\"{metric.capitalize()} is\", len(result))\n",
      "/home/almusawiaf/.local/lib/python3.11/site-packages/sklearn/metrics/_classification.py:1517: UndefinedMetricWarning: Precision is ill-defined and being set to 0.0 due to no predicted samples. Use `zero_division` parameter to control this behavior.\n",
      "  _warn_prf(average, modifier, f\"{metric.capitalize()} is\", len(result))\n",
      "/home/almusawiaf/.local/lib/python3.11/site-packages/sklearn/metrics/_classification.py:1517: UndefinedMetricWarning: Precision is ill-defined and being set to 0.0 due to no predicted samples. Use `zero_division` parameter to control this behavior.\n",
      "  _warn_prf(average, modifier, f\"{metric.capitalize()} is\", len(result))\n",
      "/home/almusawiaf/.local/lib/python3.11/site-packages/sklearn/metrics/_classification.py:1517: UndefinedMetricWarning: Precision is ill-defined and being set to 0.0 due to no predicted samples. Use `zero_division` parameter to control this behavior.\n",
      "  _warn_prf(average, modifier, f\"{metric.capitalize()} is\", len(result))\n",
      "/home/almusawiaf/.local/lib/python3.11/site-packages/sklearn/metrics/_classification.py:1517: UndefinedMetricWarning: Precision is ill-defined and being set to 0.0 due to no predicted samples. Use `zero_division` parameter to control this behavior.\n",
      "  _warn_prf(average, modifier, f\"{metric.capitalize()} is\", len(result))\n"
     ]
    },
    {
     "name": "stdout",
     "output_type": "stream",
     "text": [
      "Epoch 182/300, Loss: 0.1041, Accuracy: 0.5116, Precision: 0.0000, Recall: 0.0000, F1: 0.0000, AUC: 0.4460\n",
      "Epoch 183/300, Loss: 0.1028, Accuracy: 0.5116, Precision: 0.0000, Recall: 0.0000, F1: 0.0000, AUC: 0.4460\n",
      "Epoch 184/300, Loss: 0.1015, Accuracy: 0.5116, Precision: 0.0000, Recall: 0.0000, F1: 0.0000, AUC: 0.4460\n",
      "Epoch 185/300, Loss: 0.1002, Accuracy: 0.5116, Precision: 0.0000, Recall: 0.0000, F1: 0.0000, AUC: 0.4460\n",
      "Epoch 186/300, Loss: 0.0989, Accuracy: 0.5116, Precision: 0.0000, Recall: 0.0000, F1: 0.0000, AUC: 0.4460\n"
     ]
    },
    {
     "name": "stderr",
     "output_type": "stream",
     "text": [
      "/home/almusawiaf/.local/lib/python3.11/site-packages/sklearn/metrics/_classification.py:1517: UndefinedMetricWarning: Precision is ill-defined and being set to 0.0 due to no predicted samples. Use `zero_division` parameter to control this behavior.\n",
      "  _warn_prf(average, modifier, f\"{metric.capitalize()} is\", len(result))\n",
      "/home/almusawiaf/.local/lib/python3.11/site-packages/sklearn/metrics/_classification.py:1517: UndefinedMetricWarning: Precision is ill-defined and being set to 0.0 due to no predicted samples. Use `zero_division` parameter to control this behavior.\n",
      "  _warn_prf(average, modifier, f\"{metric.capitalize()} is\", len(result))\n",
      "/home/almusawiaf/.local/lib/python3.11/site-packages/sklearn/metrics/_classification.py:1517: UndefinedMetricWarning: Precision is ill-defined and being set to 0.0 due to no predicted samples. Use `zero_division` parameter to control this behavior.\n",
      "  _warn_prf(average, modifier, f\"{metric.capitalize()} is\", len(result))\n",
      "/home/almusawiaf/.local/lib/python3.11/site-packages/sklearn/metrics/_classification.py:1517: UndefinedMetricWarning: Precision is ill-defined and being set to 0.0 due to no predicted samples. Use `zero_division` parameter to control this behavior.\n",
      "  _warn_prf(average, modifier, f\"{metric.capitalize()} is\", len(result))\n",
      "/home/almusawiaf/.local/lib/python3.11/site-packages/sklearn/metrics/_classification.py:1517: UndefinedMetricWarning: Precision is ill-defined and being set to 0.0 due to no predicted samples. Use `zero_division` parameter to control this behavior.\n",
      "  _warn_prf(average, modifier, f\"{metric.capitalize()} is\", len(result))\n"
     ]
    },
    {
     "name": "stdout",
     "output_type": "stream",
     "text": [
      "Epoch 187/300, Loss: 0.0976, Accuracy: 0.5116, Precision: 0.0000, Recall: 0.0000, F1: 0.0000, AUC: 0.4460\n",
      "Epoch 188/300, Loss: 0.0964, Accuracy: 0.5116, Precision: 0.0000, Recall: 0.0000, F1: 0.0000, AUC: 0.4460\n",
      "Epoch 189/300, Loss: 0.0952, Accuracy: 0.5116, Precision: 0.0000, Recall: 0.0000, F1: 0.0000, AUC: 0.4461\n",
      "Epoch 190/300, Loss: 0.0940, Accuracy: 0.5116, Precision: 0.0000, Recall: 0.0000, F1: 0.0000, AUC: 0.4461\n",
      "Epoch 191/300, Loss: 0.0928, Accuracy: 0.5116, Precision: 0.0000, Recall: 0.0000, F1: 0.0000, AUC: 0.4461\n"
     ]
    },
    {
     "name": "stderr",
     "output_type": "stream",
     "text": [
      "/home/almusawiaf/.local/lib/python3.11/site-packages/sklearn/metrics/_classification.py:1517: UndefinedMetricWarning: Precision is ill-defined and being set to 0.0 due to no predicted samples. Use `zero_division` parameter to control this behavior.\n",
      "  _warn_prf(average, modifier, f\"{metric.capitalize()} is\", len(result))\n",
      "/home/almusawiaf/.local/lib/python3.11/site-packages/sklearn/metrics/_classification.py:1517: UndefinedMetricWarning: Precision is ill-defined and being set to 0.0 due to no predicted samples. Use `zero_division` parameter to control this behavior.\n",
      "  _warn_prf(average, modifier, f\"{metric.capitalize()} is\", len(result))\n",
      "/home/almusawiaf/.local/lib/python3.11/site-packages/sklearn/metrics/_classification.py:1517: UndefinedMetricWarning: Precision is ill-defined and being set to 0.0 due to no predicted samples. Use `zero_division` parameter to control this behavior.\n",
      "  _warn_prf(average, modifier, f\"{metric.capitalize()} is\", len(result))\n",
      "/home/almusawiaf/.local/lib/python3.11/site-packages/sklearn/metrics/_classification.py:1517: UndefinedMetricWarning: Precision is ill-defined and being set to 0.0 due to no predicted samples. Use `zero_division` parameter to control this behavior.\n",
      "  _warn_prf(average, modifier, f\"{metric.capitalize()} is\", len(result))\n",
      "/home/almusawiaf/.local/lib/python3.11/site-packages/sklearn/metrics/_classification.py:1517: UndefinedMetricWarning: Precision is ill-defined and being set to 0.0 due to no predicted samples. Use `zero_division` parameter to control this behavior.\n",
      "  _warn_prf(average, modifier, f\"{metric.capitalize()} is\", len(result))\n"
     ]
    },
    {
     "name": "stdout",
     "output_type": "stream",
     "text": [
      "Epoch 192/300, Loss: 0.0916, Accuracy: 0.5116, Precision: 0.0000, Recall: 0.0000, F1: 0.0000, AUC: 0.4461\n",
      "Epoch 193/300, Loss: 0.0905, Accuracy: 0.5116, Precision: 0.0000, Recall: 0.0000, F1: 0.0000, AUC: 0.4461\n",
      "Epoch 194/300, Loss: 0.0893, Accuracy: 0.5116, Precision: 0.0000, Recall: 0.0000, F1: 0.0000, AUC: 0.4461\n",
      "Epoch 195/300, Loss: 0.0882, Accuracy: 0.5116, Precision: 0.0000, Recall: 0.0000, F1: 0.0000, AUC: 0.4461\n",
      "Epoch 196/300, Loss: 0.0871, Accuracy: 0.5116, Precision: 0.0000, Recall: 0.0000, F1: 0.0000, AUC: 0.4462\n"
     ]
    },
    {
     "name": "stderr",
     "output_type": "stream",
     "text": [
      "/home/almusawiaf/.local/lib/python3.11/site-packages/sklearn/metrics/_classification.py:1517: UndefinedMetricWarning: Precision is ill-defined and being set to 0.0 due to no predicted samples. Use `zero_division` parameter to control this behavior.\n",
      "  _warn_prf(average, modifier, f\"{metric.capitalize()} is\", len(result))\n",
      "/home/almusawiaf/.local/lib/python3.11/site-packages/sklearn/metrics/_classification.py:1517: UndefinedMetricWarning: Precision is ill-defined and being set to 0.0 due to no predicted samples. Use `zero_division` parameter to control this behavior.\n",
      "  _warn_prf(average, modifier, f\"{metric.capitalize()} is\", len(result))\n",
      "/home/almusawiaf/.local/lib/python3.11/site-packages/sklearn/metrics/_classification.py:1517: UndefinedMetricWarning: Precision is ill-defined and being set to 0.0 due to no predicted samples. Use `zero_division` parameter to control this behavior.\n",
      "  _warn_prf(average, modifier, f\"{metric.capitalize()} is\", len(result))\n",
      "/home/almusawiaf/.local/lib/python3.11/site-packages/sklearn/metrics/_classification.py:1517: UndefinedMetricWarning: Precision is ill-defined and being set to 0.0 due to no predicted samples. Use `zero_division` parameter to control this behavior.\n",
      "  _warn_prf(average, modifier, f\"{metric.capitalize()} is\", len(result))\n",
      "/home/almusawiaf/.local/lib/python3.11/site-packages/sklearn/metrics/_classification.py:1517: UndefinedMetricWarning: Precision is ill-defined and being set to 0.0 due to no predicted samples. Use `zero_division` parameter to control this behavior.\n",
      "  _warn_prf(average, modifier, f\"{metric.capitalize()} is\", len(result))\n"
     ]
    },
    {
     "name": "stdout",
     "output_type": "stream",
     "text": [
      "Epoch 197/300, Loss: 0.0860, Accuracy: 0.5116, Precision: 0.0000, Recall: 0.0000, F1: 0.0000, AUC: 0.4462\n",
      "Epoch 198/300, Loss: 0.0849, Accuracy: 0.5116, Precision: 0.0000, Recall: 0.0000, F1: 0.0000, AUC: 0.4462\n",
      "Epoch 199/300, Loss: 0.0839, Accuracy: 0.5116, Precision: 0.0000, Recall: 0.0000, F1: 0.0000, AUC: 0.4462\n",
      "Epoch 200/300, Loss: 0.0828, Accuracy: 0.5116, Precision: 0.0000, Recall: 0.0000, F1: 0.0000, AUC: 0.4463\n",
      "Epoch 201/300, Loss: 0.0818, Accuracy: 0.5116, Precision: 0.0000, Recall: 0.0000, F1: 0.0000, AUC: 0.4463\n"
     ]
    },
    {
     "name": "stderr",
     "output_type": "stream",
     "text": [
      "/home/almusawiaf/.local/lib/python3.11/site-packages/sklearn/metrics/_classification.py:1517: UndefinedMetricWarning: Precision is ill-defined and being set to 0.0 due to no predicted samples. Use `zero_division` parameter to control this behavior.\n",
      "  _warn_prf(average, modifier, f\"{metric.capitalize()} is\", len(result))\n",
      "/home/almusawiaf/.local/lib/python3.11/site-packages/sklearn/metrics/_classification.py:1517: UndefinedMetricWarning: Precision is ill-defined and being set to 0.0 due to no predicted samples. Use `zero_division` parameter to control this behavior.\n",
      "  _warn_prf(average, modifier, f\"{metric.capitalize()} is\", len(result))\n",
      "/home/almusawiaf/.local/lib/python3.11/site-packages/sklearn/metrics/_classification.py:1517: UndefinedMetricWarning: Precision is ill-defined and being set to 0.0 due to no predicted samples. Use `zero_division` parameter to control this behavior.\n",
      "  _warn_prf(average, modifier, f\"{metric.capitalize()} is\", len(result))\n",
      "/home/almusawiaf/.local/lib/python3.11/site-packages/sklearn/metrics/_classification.py:1517: UndefinedMetricWarning: Precision is ill-defined and being set to 0.0 due to no predicted samples. Use `zero_division` parameter to control this behavior.\n",
      "  _warn_prf(average, modifier, f\"{metric.capitalize()} is\", len(result))\n",
      "/home/almusawiaf/.local/lib/python3.11/site-packages/sklearn/metrics/_classification.py:1517: UndefinedMetricWarning: Precision is ill-defined and being set to 0.0 due to no predicted samples. Use `zero_division` parameter to control this behavior.\n",
      "  _warn_prf(average, modifier, f\"{metric.capitalize()} is\", len(result))\n"
     ]
    },
    {
     "name": "stdout",
     "output_type": "stream",
     "text": [
      "Epoch 202/300, Loss: 0.0808, Accuracy: 0.5116, Precision: 0.0000, Recall: 0.0000, F1: 0.0000, AUC: 0.4463\n",
      "Epoch 203/300, Loss: 0.0798, Accuracy: 0.5116, Precision: 0.0000, Recall: 0.0000, F1: 0.0000, AUC: 0.4463\n",
      "Epoch 204/300, Loss: 0.0789, Accuracy: 0.5116, Precision: 0.0000, Recall: 0.0000, F1: 0.0000, AUC: 0.4463\n",
      "Epoch 205/300, Loss: 0.0779, Accuracy: 0.5116, Precision: 0.0000, Recall: 0.0000, F1: 0.0000, AUC: 0.4463\n",
      "Epoch 206/300, Loss: 0.0769, Accuracy: 0.5116, Precision: 0.0000, Recall: 0.0000, F1: 0.0000, AUC: 0.4463\n"
     ]
    },
    {
     "name": "stderr",
     "output_type": "stream",
     "text": [
      "/home/almusawiaf/.local/lib/python3.11/site-packages/sklearn/metrics/_classification.py:1517: UndefinedMetricWarning: Precision is ill-defined and being set to 0.0 due to no predicted samples. Use `zero_division` parameter to control this behavior.\n",
      "  _warn_prf(average, modifier, f\"{metric.capitalize()} is\", len(result))\n",
      "/home/almusawiaf/.local/lib/python3.11/site-packages/sklearn/metrics/_classification.py:1517: UndefinedMetricWarning: Precision is ill-defined and being set to 0.0 due to no predicted samples. Use `zero_division` parameter to control this behavior.\n",
      "  _warn_prf(average, modifier, f\"{metric.capitalize()} is\", len(result))\n",
      "/home/almusawiaf/.local/lib/python3.11/site-packages/sklearn/metrics/_classification.py:1517: UndefinedMetricWarning: Precision is ill-defined and being set to 0.0 due to no predicted samples. Use `zero_division` parameter to control this behavior.\n",
      "  _warn_prf(average, modifier, f\"{metric.capitalize()} is\", len(result))\n",
      "/home/almusawiaf/.local/lib/python3.11/site-packages/sklearn/metrics/_classification.py:1517: UndefinedMetricWarning: Precision is ill-defined and being set to 0.0 due to no predicted samples. Use `zero_division` parameter to control this behavior.\n",
      "  _warn_prf(average, modifier, f\"{metric.capitalize()} is\", len(result))\n",
      "/home/almusawiaf/.local/lib/python3.11/site-packages/sklearn/metrics/_classification.py:1517: UndefinedMetricWarning: Precision is ill-defined and being set to 0.0 due to no predicted samples. Use `zero_division` parameter to control this behavior.\n",
      "  _warn_prf(average, modifier, f\"{metric.capitalize()} is\", len(result))\n"
     ]
    },
    {
     "name": "stdout",
     "output_type": "stream",
     "text": [
      "Epoch 207/300, Loss: 0.0760, Accuracy: 0.5116, Precision: 0.0000, Recall: 0.0000, F1: 0.0000, AUC: 0.4463\n",
      "Epoch 208/300, Loss: 0.0751, Accuracy: 0.5116, Precision: 0.0000, Recall: 0.0000, F1: 0.0000, AUC: 0.4463\n",
      "Epoch 209/300, Loss: 0.0742, Accuracy: 0.5116, Precision: 0.0000, Recall: 0.0000, F1: 0.0000, AUC: 0.4464\n",
      "Epoch 210/300, Loss: 0.0733, Accuracy: 0.5116, Precision: 0.0000, Recall: 0.0000, F1: 0.0000, AUC: 0.4464\n",
      "Epoch 211/300, Loss: 0.0724, Accuracy: 0.5116, Precision: 0.0000, Recall: 0.0000, F1: 0.0000, AUC: 0.4464\n"
     ]
    },
    {
     "name": "stderr",
     "output_type": "stream",
     "text": [
      "/home/almusawiaf/.local/lib/python3.11/site-packages/sklearn/metrics/_classification.py:1517: UndefinedMetricWarning: Precision is ill-defined and being set to 0.0 due to no predicted samples. Use `zero_division` parameter to control this behavior.\n",
      "  _warn_prf(average, modifier, f\"{metric.capitalize()} is\", len(result))\n",
      "/home/almusawiaf/.local/lib/python3.11/site-packages/sklearn/metrics/_classification.py:1517: UndefinedMetricWarning: Precision is ill-defined and being set to 0.0 due to no predicted samples. Use `zero_division` parameter to control this behavior.\n",
      "  _warn_prf(average, modifier, f\"{metric.capitalize()} is\", len(result))\n",
      "/home/almusawiaf/.local/lib/python3.11/site-packages/sklearn/metrics/_classification.py:1517: UndefinedMetricWarning: Precision is ill-defined and being set to 0.0 due to no predicted samples. Use `zero_division` parameter to control this behavior.\n",
      "  _warn_prf(average, modifier, f\"{metric.capitalize()} is\", len(result))\n",
      "/home/almusawiaf/.local/lib/python3.11/site-packages/sklearn/metrics/_classification.py:1517: UndefinedMetricWarning: Precision is ill-defined and being set to 0.0 due to no predicted samples. Use `zero_division` parameter to control this behavior.\n",
      "  _warn_prf(average, modifier, f\"{metric.capitalize()} is\", len(result))\n",
      "/home/almusawiaf/.local/lib/python3.11/site-packages/sklearn/metrics/_classification.py:1517: UndefinedMetricWarning: Precision is ill-defined and being set to 0.0 due to no predicted samples. Use `zero_division` parameter to control this behavior.\n",
      "  _warn_prf(average, modifier, f\"{metric.capitalize()} is\", len(result))\n"
     ]
    },
    {
     "name": "stdout",
     "output_type": "stream",
     "text": [
      "Epoch 212/300, Loss: 0.0716, Accuracy: 0.5116, Precision: 0.0000, Recall: 0.0000, F1: 0.0000, AUC: 0.4464\n",
      "Epoch 213/300, Loss: 0.0707, Accuracy: 0.5116, Precision: 0.0000, Recall: 0.0000, F1: 0.0000, AUC: 0.4464\n",
      "Epoch 214/300, Loss: 0.0699, Accuracy: 0.5116, Precision: 0.0000, Recall: 0.0000, F1: 0.0000, AUC: 0.4464\n",
      "Epoch 215/300, Loss: 0.0690, Accuracy: 0.5116, Precision: 0.0000, Recall: 0.0000, F1: 0.0000, AUC: 0.4464\n",
      "Epoch 216/300, Loss: 0.0682, Accuracy: 0.5116, Precision: 0.0000, Recall: 0.0000, F1: 0.0000, AUC: 0.4464\n"
     ]
    },
    {
     "name": "stderr",
     "output_type": "stream",
     "text": [
      "/home/almusawiaf/.local/lib/python3.11/site-packages/sklearn/metrics/_classification.py:1517: UndefinedMetricWarning: Precision is ill-defined and being set to 0.0 due to no predicted samples. Use `zero_division` parameter to control this behavior.\n",
      "  _warn_prf(average, modifier, f\"{metric.capitalize()} is\", len(result))\n",
      "/home/almusawiaf/.local/lib/python3.11/site-packages/sklearn/metrics/_classification.py:1517: UndefinedMetricWarning: Precision is ill-defined and being set to 0.0 due to no predicted samples. Use `zero_division` parameter to control this behavior.\n",
      "  _warn_prf(average, modifier, f\"{metric.capitalize()} is\", len(result))\n",
      "/home/almusawiaf/.local/lib/python3.11/site-packages/sklearn/metrics/_classification.py:1517: UndefinedMetricWarning: Precision is ill-defined and being set to 0.0 due to no predicted samples. Use `zero_division` parameter to control this behavior.\n",
      "  _warn_prf(average, modifier, f\"{metric.capitalize()} is\", len(result))\n",
      "/home/almusawiaf/.local/lib/python3.11/site-packages/sklearn/metrics/_classification.py:1517: UndefinedMetricWarning: Precision is ill-defined and being set to 0.0 due to no predicted samples. Use `zero_division` parameter to control this behavior.\n",
      "  _warn_prf(average, modifier, f\"{metric.capitalize()} is\", len(result))\n",
      "/home/almusawiaf/.local/lib/python3.11/site-packages/sklearn/metrics/_classification.py:1517: UndefinedMetricWarning: Precision is ill-defined and being set to 0.0 due to no predicted samples. Use `zero_division` parameter to control this behavior.\n",
      "  _warn_prf(average, modifier, f\"{metric.capitalize()} is\", len(result))\n"
     ]
    },
    {
     "name": "stdout",
     "output_type": "stream",
     "text": [
      "Epoch 217/300, Loss: 0.0674, Accuracy: 0.5116, Precision: 0.0000, Recall: 0.0000, F1: 0.0000, AUC: 0.4464\n",
      "Epoch 218/300, Loss: 0.0666, Accuracy: 0.5116, Precision: 0.0000, Recall: 0.0000, F1: 0.0000, AUC: 0.4464\n",
      "Epoch 219/300, Loss: 0.0659, Accuracy: 0.5116, Precision: 0.0000, Recall: 0.0000, F1: 0.0000, AUC: 0.4465\n",
      "Epoch 220/300, Loss: 0.0651, Accuracy: 0.5116, Precision: 0.0000, Recall: 0.0000, F1: 0.0000, AUC: 0.4465\n",
      "Epoch 221/300, Loss: 0.0644, Accuracy: 0.5116, Precision: 0.0000, Recall: 0.0000, F1: 0.0000, AUC: 0.4465\n"
     ]
    },
    {
     "name": "stderr",
     "output_type": "stream",
     "text": [
      "/home/almusawiaf/.local/lib/python3.11/site-packages/sklearn/metrics/_classification.py:1517: UndefinedMetricWarning: Precision is ill-defined and being set to 0.0 due to no predicted samples. Use `zero_division` parameter to control this behavior.\n",
      "  _warn_prf(average, modifier, f\"{metric.capitalize()} is\", len(result))\n",
      "/home/almusawiaf/.local/lib/python3.11/site-packages/sklearn/metrics/_classification.py:1517: UndefinedMetricWarning: Precision is ill-defined and being set to 0.0 due to no predicted samples. Use `zero_division` parameter to control this behavior.\n",
      "  _warn_prf(average, modifier, f\"{metric.capitalize()} is\", len(result))\n",
      "/home/almusawiaf/.local/lib/python3.11/site-packages/sklearn/metrics/_classification.py:1517: UndefinedMetricWarning: Precision is ill-defined and being set to 0.0 due to no predicted samples. Use `zero_division` parameter to control this behavior.\n",
      "  _warn_prf(average, modifier, f\"{metric.capitalize()} is\", len(result))\n",
      "/home/almusawiaf/.local/lib/python3.11/site-packages/sklearn/metrics/_classification.py:1517: UndefinedMetricWarning: Precision is ill-defined and being set to 0.0 due to no predicted samples. Use `zero_division` parameter to control this behavior.\n",
      "  _warn_prf(average, modifier, f\"{metric.capitalize()} is\", len(result))\n",
      "/home/almusawiaf/.local/lib/python3.11/site-packages/sklearn/metrics/_classification.py:1517: UndefinedMetricWarning: Precision is ill-defined and being set to 0.0 due to no predicted samples. Use `zero_division` parameter to control this behavior.\n",
      "  _warn_prf(average, modifier, f\"{metric.capitalize()} is\", len(result))\n"
     ]
    },
    {
     "name": "stdout",
     "output_type": "stream",
     "text": [
      "Epoch 222/300, Loss: 0.0636, Accuracy: 0.5116, Precision: 0.0000, Recall: 0.0000, F1: 0.0000, AUC: 0.4465\n",
      "Epoch 223/300, Loss: 0.0629, Accuracy: 0.5116, Precision: 0.0000, Recall: 0.0000, F1: 0.0000, AUC: 0.4464\n",
      "Epoch 224/300, Loss: 0.0622, Accuracy: 0.5116, Precision: 0.0000, Recall: 0.0000, F1: 0.0000, AUC: 0.4464\n",
      "Epoch 225/300, Loss: 0.0615, Accuracy: 0.5116, Precision: 0.0000, Recall: 0.0000, F1: 0.0000, AUC: 0.4465\n",
      "Epoch 226/300, Loss: 0.0608, Accuracy: 0.5116, Precision: 0.0000, Recall: 0.0000, F1: 0.0000, AUC: 0.4465\n"
     ]
    },
    {
     "name": "stderr",
     "output_type": "stream",
     "text": [
      "/home/almusawiaf/.local/lib/python3.11/site-packages/sklearn/metrics/_classification.py:1517: UndefinedMetricWarning: Precision is ill-defined and being set to 0.0 due to no predicted samples. Use `zero_division` parameter to control this behavior.\n",
      "  _warn_prf(average, modifier, f\"{metric.capitalize()} is\", len(result))\n",
      "/home/almusawiaf/.local/lib/python3.11/site-packages/sklearn/metrics/_classification.py:1517: UndefinedMetricWarning: Precision is ill-defined and being set to 0.0 due to no predicted samples. Use `zero_division` parameter to control this behavior.\n",
      "  _warn_prf(average, modifier, f\"{metric.capitalize()} is\", len(result))\n",
      "/home/almusawiaf/.local/lib/python3.11/site-packages/sklearn/metrics/_classification.py:1517: UndefinedMetricWarning: Precision is ill-defined and being set to 0.0 due to no predicted samples. Use `zero_division` parameter to control this behavior.\n",
      "  _warn_prf(average, modifier, f\"{metric.capitalize()} is\", len(result))\n",
      "/home/almusawiaf/.local/lib/python3.11/site-packages/sklearn/metrics/_classification.py:1517: UndefinedMetricWarning: Precision is ill-defined and being set to 0.0 due to no predicted samples. Use `zero_division` parameter to control this behavior.\n",
      "  _warn_prf(average, modifier, f\"{metric.capitalize()} is\", len(result))\n",
      "/home/almusawiaf/.local/lib/python3.11/site-packages/sklearn/metrics/_classification.py:1517: UndefinedMetricWarning: Precision is ill-defined and being set to 0.0 due to no predicted samples. Use `zero_division` parameter to control this behavior.\n",
      "  _warn_prf(average, modifier, f\"{metric.capitalize()} is\", len(result))\n"
     ]
    },
    {
     "name": "stdout",
     "output_type": "stream",
     "text": [
      "Epoch 227/300, Loss: 0.0601, Accuracy: 0.5116, Precision: 0.0000, Recall: 0.0000, F1: 0.0000, AUC: 0.4465\n",
      "Epoch 228/300, Loss: 0.0594, Accuracy: 0.5116, Precision: 0.0000, Recall: 0.0000, F1: 0.0000, AUC: 0.4466\n",
      "Epoch 229/300, Loss: 0.0588, Accuracy: 0.5116, Precision: 0.0000, Recall: 0.0000, F1: 0.0000, AUC: 0.4465\n",
      "Epoch 230/300, Loss: 0.0581, Accuracy: 0.5116, Precision: 0.0000, Recall: 0.0000, F1: 0.0000, AUC: 0.4466\n",
      "Epoch 231/300, Loss: 0.0575, Accuracy: 0.5116, Precision: 0.0000, Recall: 0.0000, F1: 0.0000, AUC: 0.4466\n"
     ]
    },
    {
     "name": "stderr",
     "output_type": "stream",
     "text": [
      "/home/almusawiaf/.local/lib/python3.11/site-packages/sklearn/metrics/_classification.py:1517: UndefinedMetricWarning: Precision is ill-defined and being set to 0.0 due to no predicted samples. Use `zero_division` parameter to control this behavior.\n",
      "  _warn_prf(average, modifier, f\"{metric.capitalize()} is\", len(result))\n",
      "/home/almusawiaf/.local/lib/python3.11/site-packages/sklearn/metrics/_classification.py:1517: UndefinedMetricWarning: Precision is ill-defined and being set to 0.0 due to no predicted samples. Use `zero_division` parameter to control this behavior.\n",
      "  _warn_prf(average, modifier, f\"{metric.capitalize()} is\", len(result))\n",
      "/home/almusawiaf/.local/lib/python3.11/site-packages/sklearn/metrics/_classification.py:1517: UndefinedMetricWarning: Precision is ill-defined and being set to 0.0 due to no predicted samples. Use `zero_division` parameter to control this behavior.\n",
      "  _warn_prf(average, modifier, f\"{metric.capitalize()} is\", len(result))\n",
      "/home/almusawiaf/.local/lib/python3.11/site-packages/sklearn/metrics/_classification.py:1517: UndefinedMetricWarning: Precision is ill-defined and being set to 0.0 due to no predicted samples. Use `zero_division` parameter to control this behavior.\n",
      "  _warn_prf(average, modifier, f\"{metric.capitalize()} is\", len(result))\n",
      "/home/almusawiaf/.local/lib/python3.11/site-packages/sklearn/metrics/_classification.py:1517: UndefinedMetricWarning: Precision is ill-defined and being set to 0.0 due to no predicted samples. Use `zero_division` parameter to control this behavior.\n",
      "  _warn_prf(average, modifier, f\"{metric.capitalize()} is\", len(result))\n"
     ]
    },
    {
     "name": "stdout",
     "output_type": "stream",
     "text": [
      "Epoch 232/300, Loss: 0.0568, Accuracy: 0.5116, Precision: 0.0000, Recall: 0.0000, F1: 0.0000, AUC: 0.4466\n",
      "Epoch 233/300, Loss: 0.0562, Accuracy: 0.5116, Precision: 0.0000, Recall: 0.0000, F1: 0.0000, AUC: 0.4466\n",
      "Epoch 234/300, Loss: 0.0556, Accuracy: 0.5116, Precision: 0.0000, Recall: 0.0000, F1: 0.0000, AUC: 0.4466\n",
      "Epoch 235/300, Loss: 0.0550, Accuracy: 0.5116, Precision: 0.0000, Recall: 0.0000, F1: 0.0000, AUC: 0.4466\n",
      "Epoch 236/300, Loss: 0.0544, Accuracy: 0.5116, Precision: 0.0000, Recall: 0.0000, F1: 0.0000, AUC: 0.4466\n"
     ]
    },
    {
     "name": "stderr",
     "output_type": "stream",
     "text": [
      "/home/almusawiaf/.local/lib/python3.11/site-packages/sklearn/metrics/_classification.py:1517: UndefinedMetricWarning: Precision is ill-defined and being set to 0.0 due to no predicted samples. Use `zero_division` parameter to control this behavior.\n",
      "  _warn_prf(average, modifier, f\"{metric.capitalize()} is\", len(result))\n",
      "/home/almusawiaf/.local/lib/python3.11/site-packages/sklearn/metrics/_classification.py:1517: UndefinedMetricWarning: Precision is ill-defined and being set to 0.0 due to no predicted samples. Use `zero_division` parameter to control this behavior.\n",
      "  _warn_prf(average, modifier, f\"{metric.capitalize()} is\", len(result))\n",
      "/home/almusawiaf/.local/lib/python3.11/site-packages/sklearn/metrics/_classification.py:1517: UndefinedMetricWarning: Precision is ill-defined and being set to 0.0 due to no predicted samples. Use `zero_division` parameter to control this behavior.\n",
      "  _warn_prf(average, modifier, f\"{metric.capitalize()} is\", len(result))\n",
      "/home/almusawiaf/.local/lib/python3.11/site-packages/sklearn/metrics/_classification.py:1517: UndefinedMetricWarning: Precision is ill-defined and being set to 0.0 due to no predicted samples. Use `zero_division` parameter to control this behavior.\n",
      "  _warn_prf(average, modifier, f\"{metric.capitalize()} is\", len(result))\n",
      "/home/almusawiaf/.local/lib/python3.11/site-packages/sklearn/metrics/_classification.py:1517: UndefinedMetricWarning: Precision is ill-defined and being set to 0.0 due to no predicted samples. Use `zero_division` parameter to control this behavior.\n",
      "  _warn_prf(average, modifier, f\"{metric.capitalize()} is\", len(result))\n"
     ]
    },
    {
     "name": "stdout",
     "output_type": "stream",
     "text": [
      "Epoch 237/300, Loss: 0.0538, Accuracy: 0.5116, Precision: 0.0000, Recall: 0.0000, F1: 0.0000, AUC: 0.4466\n",
      "Epoch 238/300, Loss: 0.0532, Accuracy: 0.5116, Precision: 0.0000, Recall: 0.0000, F1: 0.0000, AUC: 0.4466\n",
      "Epoch 239/300, Loss: 0.0526, Accuracy: 0.5116, Precision: 0.0000, Recall: 0.0000, F1: 0.0000, AUC: 0.4466\n",
      "Epoch 240/300, Loss: 0.0521, Accuracy: 0.5116, Precision: 0.0000, Recall: 0.0000, F1: 0.0000, AUC: 0.4466\n",
      "Epoch 241/300, Loss: 0.0515, Accuracy: 0.5116, Precision: 0.0000, Recall: 0.0000, F1: 0.0000, AUC: 0.4466\n"
     ]
    },
    {
     "name": "stderr",
     "output_type": "stream",
     "text": [
      "/home/almusawiaf/.local/lib/python3.11/site-packages/sklearn/metrics/_classification.py:1517: UndefinedMetricWarning: Precision is ill-defined and being set to 0.0 due to no predicted samples. Use `zero_division` parameter to control this behavior.\n",
      "  _warn_prf(average, modifier, f\"{metric.capitalize()} is\", len(result))\n",
      "/home/almusawiaf/.local/lib/python3.11/site-packages/sklearn/metrics/_classification.py:1517: UndefinedMetricWarning: Precision is ill-defined and being set to 0.0 due to no predicted samples. Use `zero_division` parameter to control this behavior.\n",
      "  _warn_prf(average, modifier, f\"{metric.capitalize()} is\", len(result))\n",
      "/home/almusawiaf/.local/lib/python3.11/site-packages/sklearn/metrics/_classification.py:1517: UndefinedMetricWarning: Precision is ill-defined and being set to 0.0 due to no predicted samples. Use `zero_division` parameter to control this behavior.\n",
      "  _warn_prf(average, modifier, f\"{metric.capitalize()} is\", len(result))\n",
      "/home/almusawiaf/.local/lib/python3.11/site-packages/sklearn/metrics/_classification.py:1517: UndefinedMetricWarning: Precision is ill-defined and being set to 0.0 due to no predicted samples. Use `zero_division` parameter to control this behavior.\n",
      "  _warn_prf(average, modifier, f\"{metric.capitalize()} is\", len(result))\n",
      "/home/almusawiaf/.local/lib/python3.11/site-packages/sklearn/metrics/_classification.py:1517: UndefinedMetricWarning: Precision is ill-defined and being set to 0.0 due to no predicted samples. Use `zero_division` parameter to control this behavior.\n",
      "  _warn_prf(average, modifier, f\"{metric.capitalize()} is\", len(result))\n"
     ]
    },
    {
     "name": "stdout",
     "output_type": "stream",
     "text": [
      "Epoch 242/300, Loss: 0.0510, Accuracy: 0.5116, Precision: 0.0000, Recall: 0.0000, F1: 0.0000, AUC: 0.4466\n",
      "Epoch 243/300, Loss: 0.0505, Accuracy: 0.5116, Precision: 0.0000, Recall: 0.0000, F1: 0.0000, AUC: 0.4466\n",
      "Epoch 244/300, Loss: 0.0499, Accuracy: 0.5116, Precision: 0.0000, Recall: 0.0000, F1: 0.0000, AUC: 0.4466\n",
      "Epoch 245/300, Loss: 0.0494, Accuracy: 0.5116, Precision: 0.0000, Recall: 0.0000, F1: 0.0000, AUC: 0.4467\n",
      "Epoch 246/300, Loss: 0.0489, Accuracy: 0.5116, Precision: 0.0000, Recall: 0.0000, F1: 0.0000, AUC: 0.4467\n"
     ]
    },
    {
     "name": "stderr",
     "output_type": "stream",
     "text": [
      "/home/almusawiaf/.local/lib/python3.11/site-packages/sklearn/metrics/_classification.py:1517: UndefinedMetricWarning: Precision is ill-defined and being set to 0.0 due to no predicted samples. Use `zero_division` parameter to control this behavior.\n",
      "  _warn_prf(average, modifier, f\"{metric.capitalize()} is\", len(result))\n",
      "/home/almusawiaf/.local/lib/python3.11/site-packages/sklearn/metrics/_classification.py:1517: UndefinedMetricWarning: Precision is ill-defined and being set to 0.0 due to no predicted samples. Use `zero_division` parameter to control this behavior.\n",
      "  _warn_prf(average, modifier, f\"{metric.capitalize()} is\", len(result))\n",
      "/home/almusawiaf/.local/lib/python3.11/site-packages/sklearn/metrics/_classification.py:1517: UndefinedMetricWarning: Precision is ill-defined and being set to 0.0 due to no predicted samples. Use `zero_division` parameter to control this behavior.\n",
      "  _warn_prf(average, modifier, f\"{metric.capitalize()} is\", len(result))\n",
      "/home/almusawiaf/.local/lib/python3.11/site-packages/sklearn/metrics/_classification.py:1517: UndefinedMetricWarning: Precision is ill-defined and being set to 0.0 due to no predicted samples. Use `zero_division` parameter to control this behavior.\n",
      "  _warn_prf(average, modifier, f\"{metric.capitalize()} is\", len(result))\n",
      "/home/almusawiaf/.local/lib/python3.11/site-packages/sklearn/metrics/_classification.py:1517: UndefinedMetricWarning: Precision is ill-defined and being set to 0.0 due to no predicted samples. Use `zero_division` parameter to control this behavior.\n",
      "  _warn_prf(average, modifier, f\"{metric.capitalize()} is\", len(result))\n"
     ]
    },
    {
     "name": "stdout",
     "output_type": "stream",
     "text": [
      "Epoch 247/300, Loss: 0.0484, Accuracy: 0.5116, Precision: 0.0000, Recall: 0.0000, F1: 0.0000, AUC: 0.4467\n",
      "Epoch 248/300, Loss: 0.0479, Accuracy: 0.5116, Precision: 0.0000, Recall: 0.0000, F1: 0.0000, AUC: 0.4467\n",
      "Epoch 249/300, Loss: 0.0474, Accuracy: 0.5116, Precision: 0.0000, Recall: 0.0000, F1: 0.0000, AUC: 0.4467\n",
      "Epoch 250/300, Loss: 0.0469, Accuracy: 0.5116, Precision: 0.0000, Recall: 0.0000, F1: 0.0000, AUC: 0.4467\n",
      "Epoch 251/300, Loss: 0.0464, Accuracy: 0.5116, Precision: 0.0000, Recall: 0.0000, F1: 0.0000, AUC: 0.4467\n"
     ]
    },
    {
     "name": "stderr",
     "output_type": "stream",
     "text": [
      "/home/almusawiaf/.local/lib/python3.11/site-packages/sklearn/metrics/_classification.py:1517: UndefinedMetricWarning: Precision is ill-defined and being set to 0.0 due to no predicted samples. Use `zero_division` parameter to control this behavior.\n",
      "  _warn_prf(average, modifier, f\"{metric.capitalize()} is\", len(result))\n",
      "/home/almusawiaf/.local/lib/python3.11/site-packages/sklearn/metrics/_classification.py:1517: UndefinedMetricWarning: Precision is ill-defined and being set to 0.0 due to no predicted samples. Use `zero_division` parameter to control this behavior.\n",
      "  _warn_prf(average, modifier, f\"{metric.capitalize()} is\", len(result))\n",
      "/home/almusawiaf/.local/lib/python3.11/site-packages/sklearn/metrics/_classification.py:1517: UndefinedMetricWarning: Precision is ill-defined and being set to 0.0 due to no predicted samples. Use `zero_division` parameter to control this behavior.\n",
      "  _warn_prf(average, modifier, f\"{metric.capitalize()} is\", len(result))\n",
      "/home/almusawiaf/.local/lib/python3.11/site-packages/sklearn/metrics/_classification.py:1517: UndefinedMetricWarning: Precision is ill-defined and being set to 0.0 due to no predicted samples. Use `zero_division` parameter to control this behavior.\n",
      "  _warn_prf(average, modifier, f\"{metric.capitalize()} is\", len(result))\n",
      "/home/almusawiaf/.local/lib/python3.11/site-packages/sklearn/metrics/_classification.py:1517: UndefinedMetricWarning: Precision is ill-defined and being set to 0.0 due to no predicted samples. Use `zero_division` parameter to control this behavior.\n",
      "  _warn_prf(average, modifier, f\"{metric.capitalize()} is\", len(result))\n"
     ]
    },
    {
     "name": "stdout",
     "output_type": "stream",
     "text": [
      "Epoch 252/300, Loss: 0.0460, Accuracy: 0.5116, Precision: 0.0000, Recall: 0.0000, F1: 0.0000, AUC: 0.4467\n",
      "Epoch 253/300, Loss: 0.0455, Accuracy: 0.5116, Precision: 0.0000, Recall: 0.0000, F1: 0.0000, AUC: 0.4467\n",
      "Epoch 254/300, Loss: 0.0450, Accuracy: 0.5116, Precision: 0.0000, Recall: 0.0000, F1: 0.0000, AUC: 0.4468\n",
      "Epoch 255/300, Loss: 0.0446, Accuracy: 0.5116, Precision: 0.0000, Recall: 0.0000, F1: 0.0000, AUC: 0.4468\n",
      "Epoch 256/300, Loss: 0.0442, Accuracy: 0.5116, Precision: 0.0000, Recall: 0.0000, F1: 0.0000, AUC: 0.4468\n"
     ]
    },
    {
     "name": "stderr",
     "output_type": "stream",
     "text": [
      "/home/almusawiaf/.local/lib/python3.11/site-packages/sklearn/metrics/_classification.py:1517: UndefinedMetricWarning: Precision is ill-defined and being set to 0.0 due to no predicted samples. Use `zero_division` parameter to control this behavior.\n",
      "  _warn_prf(average, modifier, f\"{metric.capitalize()} is\", len(result))\n",
      "/home/almusawiaf/.local/lib/python3.11/site-packages/sklearn/metrics/_classification.py:1517: UndefinedMetricWarning: Precision is ill-defined and being set to 0.0 due to no predicted samples. Use `zero_division` parameter to control this behavior.\n",
      "  _warn_prf(average, modifier, f\"{metric.capitalize()} is\", len(result))\n",
      "/home/almusawiaf/.local/lib/python3.11/site-packages/sklearn/metrics/_classification.py:1517: UndefinedMetricWarning: Precision is ill-defined and being set to 0.0 due to no predicted samples. Use `zero_division` parameter to control this behavior.\n",
      "  _warn_prf(average, modifier, f\"{metric.capitalize()} is\", len(result))\n",
      "/home/almusawiaf/.local/lib/python3.11/site-packages/sklearn/metrics/_classification.py:1517: UndefinedMetricWarning: Precision is ill-defined and being set to 0.0 due to no predicted samples. Use `zero_division` parameter to control this behavior.\n",
      "  _warn_prf(average, modifier, f\"{metric.capitalize()} is\", len(result))\n",
      "/home/almusawiaf/.local/lib/python3.11/site-packages/sklearn/metrics/_classification.py:1517: UndefinedMetricWarning: Precision is ill-defined and being set to 0.0 due to no predicted samples. Use `zero_division` parameter to control this behavior.\n",
      "  _warn_prf(average, modifier, f\"{metric.capitalize()} is\", len(result))\n"
     ]
    },
    {
     "name": "stdout",
     "output_type": "stream",
     "text": [
      "Epoch 257/300, Loss: 0.0437, Accuracy: 0.5116, Precision: 0.0000, Recall: 0.0000, F1: 0.0000, AUC: 0.4468\n",
      "Epoch 258/300, Loss: 0.0433, Accuracy: 0.5116, Precision: 0.0000, Recall: 0.0000, F1: 0.0000, AUC: 0.4468\n",
      "Epoch 259/300, Loss: 0.0429, Accuracy: 0.5116, Precision: 0.0000, Recall: 0.0000, F1: 0.0000, AUC: 0.4468\n",
      "Epoch 260/300, Loss: 0.0424, Accuracy: 0.5116, Precision: 0.0000, Recall: 0.0000, F1: 0.0000, AUC: 0.4468\n",
      "Epoch 261/300, Loss: 0.0420, Accuracy: 0.5116, Precision: 0.0000, Recall: 0.0000, F1: 0.0000, AUC: 0.4468\n"
     ]
    },
    {
     "name": "stderr",
     "output_type": "stream",
     "text": [
      "/home/almusawiaf/.local/lib/python3.11/site-packages/sklearn/metrics/_classification.py:1517: UndefinedMetricWarning: Precision is ill-defined and being set to 0.0 due to no predicted samples. Use `zero_division` parameter to control this behavior.\n",
      "  _warn_prf(average, modifier, f\"{metric.capitalize()} is\", len(result))\n",
      "/home/almusawiaf/.local/lib/python3.11/site-packages/sklearn/metrics/_classification.py:1517: UndefinedMetricWarning: Precision is ill-defined and being set to 0.0 due to no predicted samples. Use `zero_division` parameter to control this behavior.\n",
      "  _warn_prf(average, modifier, f\"{metric.capitalize()} is\", len(result))\n",
      "/home/almusawiaf/.local/lib/python3.11/site-packages/sklearn/metrics/_classification.py:1517: UndefinedMetricWarning: Precision is ill-defined and being set to 0.0 due to no predicted samples. Use `zero_division` parameter to control this behavior.\n",
      "  _warn_prf(average, modifier, f\"{metric.capitalize()} is\", len(result))\n",
      "/home/almusawiaf/.local/lib/python3.11/site-packages/sklearn/metrics/_classification.py:1517: UndefinedMetricWarning: Precision is ill-defined and being set to 0.0 due to no predicted samples. Use `zero_division` parameter to control this behavior.\n",
      "  _warn_prf(average, modifier, f\"{metric.capitalize()} is\", len(result))\n",
      "/home/almusawiaf/.local/lib/python3.11/site-packages/sklearn/metrics/_classification.py:1517: UndefinedMetricWarning: Precision is ill-defined and being set to 0.0 due to no predicted samples. Use `zero_division` parameter to control this behavior.\n",
      "  _warn_prf(average, modifier, f\"{metric.capitalize()} is\", len(result))\n"
     ]
    },
    {
     "name": "stdout",
     "output_type": "stream",
     "text": [
      "Epoch 262/300, Loss: 0.0416, Accuracy: 0.5116, Precision: 0.0000, Recall: 0.0000, F1: 0.0000, AUC: 0.4469\n",
      "Epoch 263/300, Loss: 0.0412, Accuracy: 0.5116, Precision: 0.0000, Recall: 0.0000, F1: 0.0000, AUC: 0.4469\n",
      "Epoch 264/300, Loss: 0.0408, Accuracy: 0.5116, Precision: 0.0000, Recall: 0.0000, F1: 0.0000, AUC: 0.4469\n",
      "Epoch 265/300, Loss: 0.0404, Accuracy: 0.5116, Precision: 0.0000, Recall: 0.0000, F1: 0.0000, AUC: 0.4469\n",
      "Epoch 266/300, Loss: 0.0401, Accuracy: 0.5116, Precision: 0.0000, Recall: 0.0000, F1: 0.0000, AUC: 0.4469\n"
     ]
    },
    {
     "name": "stderr",
     "output_type": "stream",
     "text": [
      "/home/almusawiaf/.local/lib/python3.11/site-packages/sklearn/metrics/_classification.py:1517: UndefinedMetricWarning: Precision is ill-defined and being set to 0.0 due to no predicted samples. Use `zero_division` parameter to control this behavior.\n",
      "  _warn_prf(average, modifier, f\"{metric.capitalize()} is\", len(result))\n",
      "/home/almusawiaf/.local/lib/python3.11/site-packages/sklearn/metrics/_classification.py:1517: UndefinedMetricWarning: Precision is ill-defined and being set to 0.0 due to no predicted samples. Use `zero_division` parameter to control this behavior.\n",
      "  _warn_prf(average, modifier, f\"{metric.capitalize()} is\", len(result))\n",
      "/home/almusawiaf/.local/lib/python3.11/site-packages/sklearn/metrics/_classification.py:1517: UndefinedMetricWarning: Precision is ill-defined and being set to 0.0 due to no predicted samples. Use `zero_division` parameter to control this behavior.\n",
      "  _warn_prf(average, modifier, f\"{metric.capitalize()} is\", len(result))\n",
      "/home/almusawiaf/.local/lib/python3.11/site-packages/sklearn/metrics/_classification.py:1517: UndefinedMetricWarning: Precision is ill-defined and being set to 0.0 due to no predicted samples. Use `zero_division` parameter to control this behavior.\n",
      "  _warn_prf(average, modifier, f\"{metric.capitalize()} is\", len(result))\n",
      "/home/almusawiaf/.local/lib/python3.11/site-packages/sklearn/metrics/_classification.py:1517: UndefinedMetricWarning: Precision is ill-defined and being set to 0.0 due to no predicted samples. Use `zero_division` parameter to control this behavior.\n",
      "  _warn_prf(average, modifier, f\"{metric.capitalize()} is\", len(result))\n"
     ]
    },
    {
     "name": "stdout",
     "output_type": "stream",
     "text": [
      "Epoch 267/300, Loss: 0.0397, Accuracy: 0.5116, Precision: 0.0000, Recall: 0.0000, F1: 0.0000, AUC: 0.4469\n",
      "Epoch 268/300, Loss: 0.0393, Accuracy: 0.5116, Precision: 0.0000, Recall: 0.0000, F1: 0.0000, AUC: 0.4469\n",
      "Epoch 269/300, Loss: 0.0389, Accuracy: 0.5116, Precision: 0.0000, Recall: 0.0000, F1: 0.0000, AUC: 0.4469\n",
      "Epoch 270/300, Loss: 0.0386, Accuracy: 0.5116, Precision: 0.0000, Recall: 0.0000, F1: 0.0000, AUC: 0.4469\n",
      "Epoch 271/300, Loss: 0.0382, Accuracy: 0.5116, Precision: 0.0000, Recall: 0.0000, F1: 0.0000, AUC: 0.4469\n"
     ]
    },
    {
     "name": "stderr",
     "output_type": "stream",
     "text": [
      "/home/almusawiaf/.local/lib/python3.11/site-packages/sklearn/metrics/_classification.py:1517: UndefinedMetricWarning: Precision is ill-defined and being set to 0.0 due to no predicted samples. Use `zero_division` parameter to control this behavior.\n",
      "  _warn_prf(average, modifier, f\"{metric.capitalize()} is\", len(result))\n",
      "/home/almusawiaf/.local/lib/python3.11/site-packages/sklearn/metrics/_classification.py:1517: UndefinedMetricWarning: Precision is ill-defined and being set to 0.0 due to no predicted samples. Use `zero_division` parameter to control this behavior.\n",
      "  _warn_prf(average, modifier, f\"{metric.capitalize()} is\", len(result))\n",
      "/home/almusawiaf/.local/lib/python3.11/site-packages/sklearn/metrics/_classification.py:1517: UndefinedMetricWarning: Precision is ill-defined and being set to 0.0 due to no predicted samples. Use `zero_division` parameter to control this behavior.\n",
      "  _warn_prf(average, modifier, f\"{metric.capitalize()} is\", len(result))\n",
      "/home/almusawiaf/.local/lib/python3.11/site-packages/sklearn/metrics/_classification.py:1517: UndefinedMetricWarning: Precision is ill-defined and being set to 0.0 due to no predicted samples. Use `zero_division` parameter to control this behavior.\n",
      "  _warn_prf(average, modifier, f\"{metric.capitalize()} is\", len(result))\n",
      "/home/almusawiaf/.local/lib/python3.11/site-packages/sklearn/metrics/_classification.py:1517: UndefinedMetricWarning: Precision is ill-defined and being set to 0.0 due to no predicted samples. Use `zero_division` parameter to control this behavior.\n",
      "  _warn_prf(average, modifier, f\"{metric.capitalize()} is\", len(result))\n"
     ]
    },
    {
     "name": "stdout",
     "output_type": "stream",
     "text": [
      "Epoch 272/300, Loss: 0.0379, Accuracy: 0.5116, Precision: 0.0000, Recall: 0.0000, F1: 0.0000, AUC: 0.4469\n",
      "Epoch 273/300, Loss: 0.0375, Accuracy: 0.5116, Precision: 0.0000, Recall: 0.0000, F1: 0.0000, AUC: 0.4469\n",
      "Epoch 274/300, Loss: 0.0372, Accuracy: 0.5116, Precision: 0.0000, Recall: 0.0000, F1: 0.0000, AUC: 0.4470\n",
      "Epoch 275/300, Loss: 0.0368, Accuracy: 0.5116, Precision: 0.0000, Recall: 0.0000, F1: 0.0000, AUC: 0.4470\n",
      "Epoch 276/300, Loss: 0.0365, Accuracy: 0.5116, Precision: 0.0000, Recall: 0.0000, F1: 0.0000, AUC: 0.4470\n"
     ]
    },
    {
     "name": "stderr",
     "output_type": "stream",
     "text": [
      "/home/almusawiaf/.local/lib/python3.11/site-packages/sklearn/metrics/_classification.py:1517: UndefinedMetricWarning: Precision is ill-defined and being set to 0.0 due to no predicted samples. Use `zero_division` parameter to control this behavior.\n",
      "  _warn_prf(average, modifier, f\"{metric.capitalize()} is\", len(result))\n",
      "/home/almusawiaf/.local/lib/python3.11/site-packages/sklearn/metrics/_classification.py:1517: UndefinedMetricWarning: Precision is ill-defined and being set to 0.0 due to no predicted samples. Use `zero_division` parameter to control this behavior.\n",
      "  _warn_prf(average, modifier, f\"{metric.capitalize()} is\", len(result))\n",
      "/home/almusawiaf/.local/lib/python3.11/site-packages/sklearn/metrics/_classification.py:1517: UndefinedMetricWarning: Precision is ill-defined and being set to 0.0 due to no predicted samples. Use `zero_division` parameter to control this behavior.\n",
      "  _warn_prf(average, modifier, f\"{metric.capitalize()} is\", len(result))\n",
      "/home/almusawiaf/.local/lib/python3.11/site-packages/sklearn/metrics/_classification.py:1517: UndefinedMetricWarning: Precision is ill-defined and being set to 0.0 due to no predicted samples. Use `zero_division` parameter to control this behavior.\n",
      "  _warn_prf(average, modifier, f\"{metric.capitalize()} is\", len(result))\n",
      "/home/almusawiaf/.local/lib/python3.11/site-packages/sklearn/metrics/_classification.py:1517: UndefinedMetricWarning: Precision is ill-defined and being set to 0.0 due to no predicted samples. Use `zero_division` parameter to control this behavior.\n",
      "  _warn_prf(average, modifier, f\"{metric.capitalize()} is\", len(result))\n"
     ]
    },
    {
     "name": "stdout",
     "output_type": "stream",
     "text": [
      "Epoch 277/300, Loss: 0.0362, Accuracy: 0.5116, Precision: 0.0000, Recall: 0.0000, F1: 0.0000, AUC: 0.4470\n",
      "Epoch 278/300, Loss: 0.0358, Accuracy: 0.5116, Precision: 0.0000, Recall: 0.0000, F1: 0.0000, AUC: 0.4471\n",
      "Epoch 279/300, Loss: 0.0355, Accuracy: 0.5116, Precision: 0.0000, Recall: 0.0000, F1: 0.0000, AUC: 0.4471\n",
      "Epoch 280/300, Loss: 0.0352, Accuracy: 0.5116, Precision: 0.0000, Recall: 0.0000, F1: 0.0000, AUC: 0.4471\n",
      "Epoch 281/300, Loss: 0.0349, Accuracy: 0.5116, Precision: 0.0000, Recall: 0.0000, F1: 0.0000, AUC: 0.4471\n"
     ]
    },
    {
     "name": "stderr",
     "output_type": "stream",
     "text": [
      "/home/almusawiaf/.local/lib/python3.11/site-packages/sklearn/metrics/_classification.py:1517: UndefinedMetricWarning: Precision is ill-defined and being set to 0.0 due to no predicted samples. Use `zero_division` parameter to control this behavior.\n",
      "  _warn_prf(average, modifier, f\"{metric.capitalize()} is\", len(result))\n",
      "/home/almusawiaf/.local/lib/python3.11/site-packages/sklearn/metrics/_classification.py:1517: UndefinedMetricWarning: Precision is ill-defined and being set to 0.0 due to no predicted samples. Use `zero_division` parameter to control this behavior.\n",
      "  _warn_prf(average, modifier, f\"{metric.capitalize()} is\", len(result))\n",
      "/home/almusawiaf/.local/lib/python3.11/site-packages/sklearn/metrics/_classification.py:1517: UndefinedMetricWarning: Precision is ill-defined and being set to 0.0 due to no predicted samples. Use `zero_division` parameter to control this behavior.\n",
      "  _warn_prf(average, modifier, f\"{metric.capitalize()} is\", len(result))\n",
      "/home/almusawiaf/.local/lib/python3.11/site-packages/sklearn/metrics/_classification.py:1517: UndefinedMetricWarning: Precision is ill-defined and being set to 0.0 due to no predicted samples. Use `zero_division` parameter to control this behavior.\n",
      "  _warn_prf(average, modifier, f\"{metric.capitalize()} is\", len(result))\n",
      "/home/almusawiaf/.local/lib/python3.11/site-packages/sklearn/metrics/_classification.py:1517: UndefinedMetricWarning: Precision is ill-defined and being set to 0.0 due to no predicted samples. Use `zero_division` parameter to control this behavior.\n",
      "  _warn_prf(average, modifier, f\"{metric.capitalize()} is\", len(result))\n"
     ]
    },
    {
     "name": "stdout",
     "output_type": "stream",
     "text": [
      "Epoch 282/300, Loss: 0.0346, Accuracy: 0.5116, Precision: 0.0000, Recall: 0.0000, F1: 0.0000, AUC: 0.4471\n",
      "Epoch 283/300, Loss: 0.0343, Accuracy: 0.5116, Precision: 0.0000, Recall: 0.0000, F1: 0.0000, AUC: 0.4472\n",
      "Epoch 284/300, Loss: 0.0340, Accuracy: 0.5116, Precision: 0.0000, Recall: 0.0000, F1: 0.0000, AUC: 0.4472\n",
      "Epoch 285/300, Loss: 0.0337, Accuracy: 0.5116, Precision: 0.0000, Recall: 0.0000, F1: 0.0000, AUC: 0.4472\n",
      "Epoch 286/300, Loss: 0.0334, Accuracy: 0.5116, Precision: 0.0000, Recall: 0.0000, F1: 0.0000, AUC: 0.4473\n"
     ]
    },
    {
     "name": "stderr",
     "output_type": "stream",
     "text": [
      "/home/almusawiaf/.local/lib/python3.11/site-packages/sklearn/metrics/_classification.py:1517: UndefinedMetricWarning: Precision is ill-defined and being set to 0.0 due to no predicted samples. Use `zero_division` parameter to control this behavior.\n",
      "  _warn_prf(average, modifier, f\"{metric.capitalize()} is\", len(result))\n",
      "/home/almusawiaf/.local/lib/python3.11/site-packages/sklearn/metrics/_classification.py:1517: UndefinedMetricWarning: Precision is ill-defined and being set to 0.0 due to no predicted samples. Use `zero_division` parameter to control this behavior.\n",
      "  _warn_prf(average, modifier, f\"{metric.capitalize()} is\", len(result))\n",
      "/home/almusawiaf/.local/lib/python3.11/site-packages/sklearn/metrics/_classification.py:1517: UndefinedMetricWarning: Precision is ill-defined and being set to 0.0 due to no predicted samples. Use `zero_division` parameter to control this behavior.\n",
      "  _warn_prf(average, modifier, f\"{metric.capitalize()} is\", len(result))\n",
      "/home/almusawiaf/.local/lib/python3.11/site-packages/sklearn/metrics/_classification.py:1517: UndefinedMetricWarning: Precision is ill-defined and being set to 0.0 due to no predicted samples. Use `zero_division` parameter to control this behavior.\n",
      "  _warn_prf(average, modifier, f\"{metric.capitalize()} is\", len(result))\n",
      "/home/almusawiaf/.local/lib/python3.11/site-packages/sklearn/metrics/_classification.py:1517: UndefinedMetricWarning: Precision is ill-defined and being set to 0.0 due to no predicted samples. Use `zero_division` parameter to control this behavior.\n",
      "  _warn_prf(average, modifier, f\"{metric.capitalize()} is\", len(result))\n"
     ]
    },
    {
     "name": "stdout",
     "output_type": "stream",
     "text": [
      "Epoch 287/300, Loss: 0.0331, Accuracy: 0.5116, Precision: 0.0000, Recall: 0.0000, F1: 0.0000, AUC: 0.4473\n",
      "Epoch 288/300, Loss: 0.0328, Accuracy: 0.5116, Precision: 0.0000, Recall: 0.0000, F1: 0.0000, AUC: 0.4473\n",
      "Epoch 289/300, Loss: 0.0325, Accuracy: 0.5116, Precision: 0.0000, Recall: 0.0000, F1: 0.0000, AUC: 0.4473\n",
      "Epoch 290/300, Loss: 0.0322, Accuracy: 0.5116, Precision: 0.0000, Recall: 0.0000, F1: 0.0000, AUC: 0.4473\n",
      "Epoch 291/300, Loss: 0.0320, Accuracy: 0.5116, Precision: 0.0000, Recall: 0.0000, F1: 0.0000, AUC: 0.4473\n"
     ]
    },
    {
     "name": "stderr",
     "output_type": "stream",
     "text": [
      "/home/almusawiaf/.local/lib/python3.11/site-packages/sklearn/metrics/_classification.py:1517: UndefinedMetricWarning: Precision is ill-defined and being set to 0.0 due to no predicted samples. Use `zero_division` parameter to control this behavior.\n",
      "  _warn_prf(average, modifier, f\"{metric.capitalize()} is\", len(result))\n",
      "/home/almusawiaf/.local/lib/python3.11/site-packages/sklearn/metrics/_classification.py:1517: UndefinedMetricWarning: Precision is ill-defined and being set to 0.0 due to no predicted samples. Use `zero_division` parameter to control this behavior.\n",
      "  _warn_prf(average, modifier, f\"{metric.capitalize()} is\", len(result))\n",
      "/home/almusawiaf/.local/lib/python3.11/site-packages/sklearn/metrics/_classification.py:1517: UndefinedMetricWarning: Precision is ill-defined and being set to 0.0 due to no predicted samples. Use `zero_division` parameter to control this behavior.\n",
      "  _warn_prf(average, modifier, f\"{metric.capitalize()} is\", len(result))\n",
      "/home/almusawiaf/.local/lib/python3.11/site-packages/sklearn/metrics/_classification.py:1517: UndefinedMetricWarning: Precision is ill-defined and being set to 0.0 due to no predicted samples. Use `zero_division` parameter to control this behavior.\n",
      "  _warn_prf(average, modifier, f\"{metric.capitalize()} is\", len(result))\n",
      "/home/almusawiaf/.local/lib/python3.11/site-packages/sklearn/metrics/_classification.py:1517: UndefinedMetricWarning: Precision is ill-defined and being set to 0.0 due to no predicted samples. Use `zero_division` parameter to control this behavior.\n",
      "  _warn_prf(average, modifier, f\"{metric.capitalize()} is\", len(result))\n"
     ]
    },
    {
     "name": "stdout",
     "output_type": "stream",
     "text": [
      "Epoch 292/300, Loss: 0.0317, Accuracy: 0.5116, Precision: 0.0000, Recall: 0.0000, F1: 0.0000, AUC: 0.4473\n",
      "Epoch 293/300, Loss: 0.0314, Accuracy: 0.5116, Precision: 0.0000, Recall: 0.0000, F1: 0.0000, AUC: 0.4473\n",
      "Epoch 294/300, Loss: 0.0312, Accuracy: 0.5116, Precision: 0.0000, Recall: 0.0000, F1: 0.0000, AUC: 0.4473\n",
      "Epoch 295/300, Loss: 0.0309, Accuracy: 0.5116, Precision: 0.0000, Recall: 0.0000, F1: 0.0000, AUC: 0.4474\n",
      "Epoch 296/300, Loss: 0.0306, Accuracy: 0.5116, Precision: 0.0000, Recall: 0.0000, F1: 0.0000, AUC: 0.4474\n"
     ]
    },
    {
     "name": "stderr",
     "output_type": "stream",
     "text": [
      "/home/almusawiaf/.local/lib/python3.11/site-packages/sklearn/metrics/_classification.py:1517: UndefinedMetricWarning: Precision is ill-defined and being set to 0.0 due to no predicted samples. Use `zero_division` parameter to control this behavior.\n",
      "  _warn_prf(average, modifier, f\"{metric.capitalize()} is\", len(result))\n",
      "/home/almusawiaf/.local/lib/python3.11/site-packages/sklearn/metrics/_classification.py:1517: UndefinedMetricWarning: Precision is ill-defined and being set to 0.0 due to no predicted samples. Use `zero_division` parameter to control this behavior.\n",
      "  _warn_prf(average, modifier, f\"{metric.capitalize()} is\", len(result))\n",
      "/home/almusawiaf/.local/lib/python3.11/site-packages/sklearn/metrics/_classification.py:1517: UndefinedMetricWarning: Precision is ill-defined and being set to 0.0 due to no predicted samples. Use `zero_division` parameter to control this behavior.\n",
      "  _warn_prf(average, modifier, f\"{metric.capitalize()} is\", len(result))\n",
      "/home/almusawiaf/.local/lib/python3.11/site-packages/sklearn/metrics/_classification.py:1517: UndefinedMetricWarning: Precision is ill-defined and being set to 0.0 due to no predicted samples. Use `zero_division` parameter to control this behavior.\n",
      "  _warn_prf(average, modifier, f\"{metric.capitalize()} is\", len(result))\n",
      "/home/almusawiaf/.local/lib/python3.11/site-packages/sklearn/metrics/_classification.py:1517: UndefinedMetricWarning: Precision is ill-defined and being set to 0.0 due to no predicted samples. Use `zero_division` parameter to control this behavior.\n",
      "  _warn_prf(average, modifier, f\"{metric.capitalize()} is\", len(result))\n"
     ]
    },
    {
     "name": "stdout",
     "output_type": "stream",
     "text": [
      "Epoch 297/300, Loss: 0.0304, Accuracy: 0.5116, Precision: 0.0000, Recall: 0.0000, F1: 0.0000, AUC: 0.4474\n",
      "Epoch 298/300, Loss: 0.0301, Accuracy: 0.5116, Precision: 0.0000, Recall: 0.0000, F1: 0.0000, AUC: 0.4474\n",
      "Epoch 299/300, Loss: 0.0299, Accuracy: 0.5116, Precision: 0.0000, Recall: 0.0000, F1: 0.0000, AUC: 0.4474\n",
      "Epoch 300/300, Loss: 0.0296, Accuracy: 0.5116, Precision: 0.0000, Recall: 0.0000, F1: 0.0000, AUC: 0.4474\n",
      "{\n",
      "    \"accuracy\": 0.49721627408993574,\n",
      "    \"precision\": 0.0,\n",
      "    \"recall\": 0.0,\n",
      "    \"f1_score\": 0.0,\n",
      "    \"auc\": 0.45267216624334006\n",
      "}\n"
     ]
    },
    {
     "name": "stderr",
     "output_type": "stream",
     "text": [
      "/home/almusawiaf/.local/lib/python3.11/site-packages/sklearn/metrics/_classification.py:1517: UndefinedMetricWarning: Precision is ill-defined and being set to 0.0 due to no predicted samples. Use `zero_division` parameter to control this behavior.\n",
      "  _warn_prf(average, modifier, f\"{metric.capitalize()} is\", len(result))\n",
      "/home/almusawiaf/.local/lib/python3.11/site-packages/sklearn/metrics/_classification.py:1517: UndefinedMetricWarning: Precision is ill-defined and being set to 0.0 due to no predicted samples. Use `zero_division` parameter to control this behavior.\n",
      "  _warn_prf(average, modifier, f\"{metric.capitalize()} is\", len(result))\n",
      "/home/almusawiaf/.local/lib/python3.11/site-packages/sklearn/metrics/_classification.py:1517: UndefinedMetricWarning: Precision is ill-defined and being set to 0.0 due to no predicted samples. Use `zero_division` parameter to control this behavior.\n",
      "  _warn_prf(average, modifier, f\"{metric.capitalize()} is\", len(result))\n",
      "/home/almusawiaf/.local/lib/python3.11/site-packages/sklearn/metrics/_classification.py:1517: UndefinedMetricWarning: Precision is ill-defined and being set to 0.0 due to no predicted samples. Use `zero_division` parameter to control this behavior.\n",
      "  _warn_prf(average, modifier, f\"{metric.capitalize()} is\", len(result))\n"
     ]
    },
    {
     "data": {
      "image/png": "[encoded data removed]",
      "text/plain": [
       "<Figure size 1000x600 with 2 Axes>"
      ]
     },
     "metadata": {},
     "output_type": "display_data"
    }
   ],
   "source": [
    "from imblearn.over_sampling import SMOTE\n",
    "from sklearn.model_selection import train_test_split\n",
    "\n",
    "import torch.nn as nn\n",
    "import pandas as pd\n",
    "import numpy as np\n",
    "import matplotlib.pyplot as plt\n",
    "import pickle\n",
    "import scipy.sparse\n",
    "import json\n",
    "\n",
    "from sklearn.metrics import accuracy_score, precision_score, recall_score, f1_score, roc_auc_score\n",
    "from sklearn.metrics import classification_report, confusion_matrix\n",
    "\n",
    "import torch\n",
    "from torch_geometric.data import Data\n",
    "from torch.optim import Adam\n",
    "import torch.nn.functional as F\n",
    "\n",
    "\n",
    "# 1. Apply SMOTE\n",
    "def apply_smote(X, Y):\n",
    "    smote = SMOTE(random_state=42)\n",
    "    X_resampled, Y_resampled = smote.fit_resample(X, Y)\n",
    "    return X_resampled, Y_resampled\n",
    "\n",
    "\n",
    "class ANN_BinaryClassifier(torch.nn.Module):\n",
    "    def __init__(self, num_features, hidden_channels=128):\n",
    "        super(ANN_BinaryClassifier, self).__init__()\n",
    "        # Fully connected layers\n",
    "        self.fc1 = nn.Linear(num_features, hidden_channels)\n",
    "        self.fc2 = nn.Linear(hidden_channels, hidden_channels // 2)\n",
    "        self.fc3 = nn.Linear(hidden_channels // 2, 1)  # Output layer for binary classification (1 output)\n",
    "\n",
    "    def forward(self, data):\n",
    "        # Forward pass through the fully connected layers\n",
    "        x = F.relu(self.fc1(data.x))  # Input features are passed to the ANN\n",
    "        x = F.relu(self.fc2(x))\n",
    "        x = self.fc3(x)  # Final output without activation (logits for binary classification)\n",
    "        return x\n",
    "\n",
    "# 1. Transform Y for Binary Classification\n",
    "def transform_y_for_binary_classification(Y):\n",
    "    # If Y is a numpy array, convert it to a PyTorch tensor\n",
    "    if isinstance(Y, np.ndarray):\n",
    "        Y = torch.tensor(Y, dtype=torch.float)\n",
    "    # Convert to binary: 0 if LoS < 7, 1 if LoS >= 7\n",
    "    return (Y >= 7).float()\n",
    "\n",
    "def load_dict_from_pickle(filename):\n",
    "    with open(filename, 'rb') as file:\n",
    "        loaded_dict = pickle.load(file)\n",
    "    return loaded_dict\n",
    "\n",
    "# 2. Modify Evaluation for Binary Classification\n",
    "def evaluate_binary(model, data, mask):\n",
    "    model.eval()\n",
    "    with torch.no_grad():\n",
    "        logits = model(data)[mask]\n",
    "        preds = torch.sigmoid(logits).cpu().numpy()\n",
    "        binary_preds = (preds > 0.5).astype(int)\n",
    "        true_labels = data.y[mask].cpu().numpy()\n",
    "\n",
    "        accuracy = accuracy_score(true_labels, binary_preds)\n",
    "        precision = precision_score(true_labels, binary_preds)\n",
    "        recall = recall_score(true_labels, binary_preds)\n",
    "        f1 = f1_score(true_labels, binary_preds)\n",
    "        auc = roc_auc_score(true_labels, preds)\n",
    "\n",
    "        return {\n",
    "            'accuracy': accuracy,\n",
    "            'precision': precision,\n",
    "            'recall': recall,\n",
    "            'f1_score': f1,\n",
    "            'auc': auc\n",
    "        }\n",
    "\n",
    "def prepare_masks(X, Y, train_size=0.8, val_size=0.1, test_size=0.1, random_state=42):\n",
    "    from sklearn.model_selection import train_test_split\n",
    "    import torch\n",
    "    \n",
    "    # Ensure the sizes are correct\n",
    "    assert len(X) == len(Y), \"X and Y must have the same length\"\n",
    "    \n",
    "    # Create indices for the full dataset\n",
    "    indices = np.arange(len(X))\n",
    "    \n",
    "    # First, split into train and temp (val + test)\n",
    "    train_indices, temp_indices = train_test_split(indices, train_size=train_size, random_state=random_state)\n",
    "    \n",
    "    # Then split the temp set into validation and test sets\n",
    "    val_indices, test_indices = train_test_split(temp_indices, test_size=test_size/(test_size + val_size), random_state=random_state)\n",
    "    \n",
    "    # Initialize masks for all data points\n",
    "    train_mask = torch.zeros(len(X), dtype=torch.bool)\n",
    "    val_mask = torch.zeros(len(X), dtype=torch.bool)\n",
    "    test_mask = torch.zeros(len(X), dtype=torch.bool)\n",
    "\n",
    "    # Set the appropriate indices to True\n",
    "    train_mask[train_indices] = True\n",
    "    val_mask[val_indices] = True\n",
    "    test_mask[test_indices] = True\n",
    "\n",
    "    return train_mask, val_mask, test_mask\n",
    "\n",
    "def train(model, data, train_mask, optimizer, criterion):\n",
    "    model.train()\n",
    "    optimizer.zero_grad()\n",
    "    out = model(data).squeeze(1)\n",
    "    loss = criterion(out[train_mask], data.y[train_mask])\n",
    "    loss.backward()\n",
    "    optimizer.step()\n",
    "    return loss.item()\n",
    "\n",
    "def load_data(file_path, device):\n",
    "    # Load data\n",
    "    X = torch.load(f'{file_path}/X.pt')\n",
    "    Y = torch.load(f'{file_path}/Y.pt')\n",
    "    \n",
    "    if isinstance(X, scipy.sparse.csr_matrix) or isinstance(X, scipy.sparse.csr_array):\n",
    "        X = torch.tensor(X.toarray(), dtype=torch.float).to(device)  # Convert sparse matrix to dense and then to tensor\n",
    "    else:\n",
    "        X = X.to(device)\n",
    "\n",
    "    Y = transform_y_for_binary_classification(Y)\n",
    "    Nodes = load_dict_from_pickle(f'{file_path}/Nodes.pkl')\n",
    "\n",
    "    # Subset to patient nodes (assuming node name starts with 'V')\n",
    "    indeces = {p: i for i, p in enumerate(Nodes)}\n",
    "    visit_indeces = [indeces[v] for v in Nodes if v[0] == 'V']\n",
    "\n",
    "    X = X[visit_indeces]\n",
    "    Y = Y[visit_indeces]\n",
    "\n",
    "    return X, Y, Nodes\n",
    "\n",
    "\n",
    "\n",
    "\n",
    "def main(file_path, num_epochs, lr=1e-5, exp_name='ann_result', num_D=10):\n",
    "    \n",
    "    device = torch.device('cuda' if torch.cuda.is_available() else 'cpu')\n",
    "    \n",
    "    X, Y, Nodes = load_data(file_path, device)\n",
    "\n",
    "    # ============================================================================\n",
    "    # # Create data object (ANN does not use edge_index or edge_weight)\n",
    "    # data = Data(x=X, y=Y)\n",
    "    \n",
    "    # # Prepare masks\n",
    "    # train_mask, val_mask, test_mask = prepare_masks(X, Y)\n",
    "    # data.train_mask = train_mask.to(device)\n",
    "    # data.val_mask = val_mask.to(device)\n",
    "    # data.test_mask = test_mask.to(device)\n",
    "\n",
    "    # num_features = X.size(1)\n",
    "    # ============================================================================\n",
    "    # Apply SMOTE to oversample the minority class\n",
    "    X_resampled, Y_resampled = apply_smote(X, Y)\n",
    "\n",
    "    # Convert resampled X and Y back to tensors\n",
    "    X_resampled = torch.tensor(X_resampled, dtype=torch.float).to(device)\n",
    "    Y_resampled = torch.tensor(Y_resampled, dtype=torch.float).to(device)\n",
    "\n",
    "    data = Data(x=X_resampled, y=Y_resampled)\n",
    "    \n",
    "    # Prepare masks (you can apply the new prepare_masks on the resampled data)\n",
    "    train_mask, val_mask, test_mask = prepare_masks(X_resampled, Y_resampled)\n",
    "    data.train_mask = train_mask.to(device)\n",
    "    data.val_mask = val_mask.to(device)\n",
    "    data.test_mask = test_mask.to(device)\n",
    "\n",
    "    num_features = X_resampled.size(1)\n",
    "    # ============================================================================\n",
    "    # Initialize the ANN model\n",
    "    model = ANN_BinaryClassifier(num_features, hidden_channels=128).to(device)\n",
    "\n",
    "    # Optimizer and criterion (binary classification)\n",
    "    optimizer = torch.optim.Adam(model.parameters(), lr=lr, weight_decay=5e-4)\n",
    "\n",
    "    # Class imbalance...\n",
    "    class_counts = torch.bincount(data.y.long())\n",
    "    class_weights = 1.0 / class_counts.float()\n",
    "    class_weights = class_weights.to(device)\n",
    "    \n",
    "    criterion = torch.nn.BCEWithLogitsLoss(pos_weight=class_weights[1])  # Adjust for class imbalance\n",
    "\n",
    "    # ==============================================================================\n",
    "    print(f\"Class distribution: {torch.sum(data.y == 0)}, {torch.sum(data.y == 1)}\")\n",
    "    metrics_dict = {'loss': [],'accuracy': [],'precision': [],'recall': [],'f1_score': [],'auc': []}\n",
    "    \n",
    "    # Training loop\n",
    "    for epoch in range(1, num_epochs + 1):\n",
    "        model.train()\n",
    "        optimizer.zero_grad()\n",
    "        out = model(data).squeeze(1)  # Forward pass\n",
    "        loss = criterion(out[data.train_mask], data.y[data.train_mask])  # Compute loss\n",
    "        loss.backward()  # Backward pass\n",
    "        optimizer.step()  # Update weights\n",
    "\n",
    "        # Evaluate on validation set\n",
    "        val_metrics = evaluate_binary(model, data, val_mask)\n",
    "\n",
    "        # Save the metrics for this epoch\n",
    "        metrics_dict['loss'].append(loss.item())\n",
    "        metrics_dict['accuracy'].append(val_metrics['accuracy'])\n",
    "        metrics_dict['precision'].append(val_metrics['precision'])\n",
    "        metrics_dict['recall'].append(val_metrics['recall'])\n",
    "        metrics_dict['f1_score'].append(val_metrics['f1_score'])\n",
    "        metrics_dict['auc'].append(val_metrics['auc'])\n",
    "        print(f'Epoch {epoch}/{num_epochs}, Loss: {loss.item():.4f}, Accuracy: {val_metrics[\"accuracy\"]:.4f}, Precision: {val_metrics[\"precision\"]:.4f}, Recall: {val_metrics[\"recall\"]:.4f}, F1: {val_metrics[\"f1_score\"]:.4f}, AUC: {val_metrics[\"auc\"]:.4f}')\n",
    "\n",
    "    # Final evaluation on test set\n",
    "    test_metrics = evaluate_binary(model, data, test_mask)\n",
    "    print(json.dumps(test_metrics, indent=4))\n",
    "    plot_metrics(metrics_dict)\n",
    "\n",
    "\n",
    "\n",
    "# Set parameters and run the main training process\n",
    "num_Labels = 203\n",
    "DISEASE_FILE = 'infectious'\n",
    "saving_path = f'../Data/{num_Labels}_Diagnoses/{DISEASE_FILE}'\n",
    "num_epochs = 300\n",
    "losses = main(saving_path, num_epochs, lr=1e-4)\n"
   ]
  },
  {
   "cell_type": "code",
   "execution_count": null,
   "id": "e058277d-42e0-490c-a601-35c1ce83a02c",
   "metadata": {},
   "outputs": [],
   "source": []
  }
 ],
 "metadata": {
  "kernelspec": {
   "display_name": "Python 3 (ipykernel)",
   "language": "python",
   "name": "python3"
  },
  "language_info": {
   "codemirror_mode": {
    "name": "ipython",
    "version": 3
   },
   "file_extension": ".py",
   "mimetype": "text/x-python",
   "name": "python",
   "nbconvert_exporter": "python",
   "pygments_lexer": "ipython3",
   "version": "3.11.9"
  }
 },
 "nbformat": 4,
 "nbformat_minor": 5
}
