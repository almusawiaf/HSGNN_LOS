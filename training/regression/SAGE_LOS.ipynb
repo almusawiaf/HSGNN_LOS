{
 "cells": [
  {
   "cell_type": "code",
   "execution_count": 1,
   "metadata": {},
   "outputs": [
    {
     "name": "stdout",
     "output_type": "stream",
     "text": [
      "\t- Loading the data...\n",
      "../Data/203_Diagnoses/infectious\n"
     ]
    },
    {
     "name": "stderr",
     "output_type": "stream",
     "text": [
      "/home/almusawiaf/MyDocuments/PhD_Projects/PSG_LOS/training/GNN_functions_patients_only.py:115: FutureWarning: You are using `torch.load` with `weights_only=False` (the current default value), which uses the default pickle module implicitly. It is possible to construct malicious pickle data which will execute arbitrary code during unpickling (See https://github.com/pytorch/pytorch/blob/main/SECURITY.md#untrusted-models for more details). In a future release, the default value for `weights_only` will be flipped to `True`. This limits the functions that could be executed during unpickling. Arbitrary objects will no longer be allowed to be loaded via this mode unless they are explicitly allowlisted by the user via `torch.serialization.add_safe_globals`. We recommend you start setting `weights_only=True` for any use case where you don't have full control of the loaded file. Please open an issue on GitHub for any issues related to this experimental feature.\n",
      "  Y = torch.load(f'{file_path}/Y.pt')\n",
      "/home/almusawiaf/MyDocuments/PhD_Projects/PSG_LOS/training/GNN_functions_patients_only.py:116: FutureWarning: You are using `torch.load` with `weights_only=False` (the current default value), which uses the default pickle module implicitly. It is possible to construct malicious pickle data which will execute arbitrary code during unpickling (See https://github.com/pytorch/pytorch/blob/main/SECURITY.md#untrusted-models for more details). In a future release, the default value for `weights_only` will be flipped to `True`. This limits the functions that could be executed during unpickling. Arbitrary objects will no longer be allowed to be loaded via this mode unless they are explicitly allowlisted by the user via `torch.serialization.add_safe_globals`. We recommend you start setting `weights_only=True` for any use case where you don't have full control of the loaded file. Please open an issue on GitHub for any issues related to this experimental feature.\n",
      "  X = torch.load(f'{file_path}/X.pt')\n"
     ]
    },
    {
     "name": "stdout",
     "output_type": "stream",
     "text": [
      "\t- Generating the Data structure ...\n",
      "\t- Generating the train, test, and validation sets...\n",
      "\t- Number of meta-paths used is :21\n",
      "\t- Preparing the model...\n",
      "\t- Epochs...\n",
      "Epoch: 1/15, Loss: 367.0763, MSE: 353.7578, MAE: 12.5046, R²: -0.7597\n",
      "Epoch: 2/15, Loss: 366.5971, MSE: 353.0736, MAE: 12.4958, R²: -0.7563\n",
      "Epoch: 3/15, Loss: 366.1371, MSE: 352.6336, MAE: 12.4921, R²: -0.7541\n",
      "Epoch: 4/15, Loss: 365.9727, MSE: 352.4815, MAE: 12.4938, R²: -0.7534\n",
      "Epoch: 5/15, Loss: 366.0801, MSE: 352.4625, MAE: 12.4961, R²: -0.7533\n",
      "Epoch: 6/15, Loss: 366.2371, MSE: 352.4159, MAE: 12.4952, R²: -0.7530\n",
      "Epoch: 7/15, Loss: 366.2505, MSE: 352.2887, MAE: 12.4902, R²: -0.7524\n",
      "Epoch: 8/15, Loss: 366.0727, MSE: 352.1212, MAE: 12.4825, R²: -0.7516\n",
      "Epoch: 9/15, Loss: 365.7724, MSE: 351.9876, MAE: 12.4744, R²: -0.7509\n",
      "Epoch: 10/15, Loss: 365.4604, MSE: 351.9421, MAE: 12.4675, R²: -0.7507\n",
      "Epoch: 11/15, Loss: 365.2263, MSE: 351.9887, MAE: 12.4631, R²: -0.7509\n",
      "Epoch: 12/15, Loss: 365.1021, MSE: 352.0806, MAE: 12.4602, R²: -0.7514\n",
      "Epoch: 13/15, Loss: 365.0590, MSE: 352.1470, MAE: 12.4576, R²: -0.7517\n",
      "Epoch: 14/15, Loss: 365.0340, MSE: 352.1298, MAE: 12.4544, R²: -0.7516\n",
      "{\n",
      "    \"MSE\": 363.9675598144531,\n",
      "    \"MAE\": 12.551270484924316,\n",
      "    \"R\\u00b2\": -0.7457255125045776\n",
      "}\n",
      "\t- Extracting and saving embeddings...\n"
     ]
    },
    {
     "name": "stdout",
     "output_type": "stream",
     "text": [
      "Epoch: 27/250, Loss: 0.6460, Val Precision: 0.0618, ACC: 0.0000, top_k: 0.0687, top_k=1: 0.0687\n"
     ]
    },
    {
     "name": "stdout",
     "output_type": "stream",
     "text": [
      "Epoch: 28/250, Loss: 0.6439, Val Precision: 0.0620, ACC: 0.0000, top_k: 0.0691, top_k=1: 0.0691\n"
     ]
    },
    {
     "name": "stdout",
     "output_type": "stream",
     "text": [
      "Epoch: 29/250, Loss: 0.6420, Val Precision: 0.0625, ACC: 0.0000, top_k: 0.0694, top_k=1: 0.0694\n"
     ]
    },
    {
     "name": "stdout",
     "output_type": "stream",
     "text": [
      "Epoch: 30/250, Loss: 0.6401, Val Precision: 0.0619, ACC: 0.0000, top_k: 0.0698, top_k=1: 0.0698\n"
     ]
    },
    {
     "name": "stdout",
     "output_type": "stream",
     "text": [
      "Epoch: 31/250, Loss: 0.6384, Val Precision: 0.0620, ACC: 0.0000, top_k: 0.0701, top_k=1: 0.0701\n"
     ]
    },
    {
     "name": "stdout",
     "output_type": "stream",
     "text": [
      "Epoch: 32/250, Loss: 0.6367, Val Precision: 0.0627, ACC: 0.0000, top_k: 0.0706, top_k=1: 0.0706\n"
     ]
    },
    {
     "name": "stdout",
     "output_type": "stream",
     "text": [
      "Epoch: 33/250, Loss: 0.6351, Val Precision: 0.0629, ACC: 0.0000, top_k: 0.0712, top_k=1: 0.0712\n"
     ]
    },
    {
     "name": "stdout",
     "output_type": "stream",
     "text": [
      "Epoch: 34/250, Loss: 0.6336, Val Precision: 0.0619, ACC: 0.0000, top_k: 0.0717, top_k=1: 0.0717\n"
     ]
    },
    {
     "name": "stdout",
     "output_type": "stream",
     "text": [
      "Epoch: 35/250, Loss: 0.6322, Val Precision: 0.0609, ACC: 0.0000, top_k: 0.0724, top_k=1: 0.0724\n"
     ]
    },
    {
     "name": "stdout",
     "output_type": "stream",
     "text": [
      "Epoch: 36/250, Loss: 0.6308, Val Precision: 0.0616, ACC: 0.0001, top_k: 0.0735, top_k=1: 0.0735\n"
     ]
    },
    {
     "name": "stdout",
     "output_type": "stream",
     "text": [
      "Epoch: 37/250, Loss: 0.6295, Val Precision: 0.0622, ACC: 0.0001, top_k: 0.0742, top_k=1: 0.0742\n"
     ]
    },
    {
     "name": "stdout",
     "output_type": "stream",
     "text": [
      "Epoch: 38/250, Loss: 0.6283, Val Precision: 0.0621, ACC: 0.0001, top_k: 0.0749, top_k=1: 0.0749\n"
     ]
    },
    {
     "name": "stdout",
     "output_type": "stream",
     "text": [
      "Epoch: 39/250, Loss: 0.6271, Val Precision: 0.0621, ACC: 0.0001, top_k: 0.0757, top_k=1: 0.0757\n"
     ]
    },
    {
     "name": "stdout",
     "output_type": "stream",
     "text": [
      "Epoch: 40/250, Loss: 0.6260, Val Precision: 0.0622, ACC: 0.0001, top_k: 0.0767, top_k=1: 0.0767\n"
     ]
    },
    {
     "name": "stdout",
     "output_type": "stream",
     "text": [
      "Epoch: 41/250, Loss: 0.6250, Val Precision: 0.0625, ACC: 0.0001, top_k: 0.0777, top_k=1: 0.0777\n"
     ]
    },
    {
     "name": "stdout",
     "output_type": "stream",
     "text": [
      "Epoch: 42/250, Loss: 0.6239, Val Precision: 0.0633, ACC: 0.0001, top_k: 0.0787, top_k=1: 0.0787\n"
     ]
    },
    {
     "name": "stdout",
     "output_type": "stream",
     "text": [
      "Epoch: 43/250, Loss: 0.6230, Val Precision: 0.0635, ACC: 0.0001, top_k: 0.0795, top_k=1: 0.0795\n"
     ]
    },
    {
     "name": "stdout",
     "output_type": "stream",
     "text": [
      "Epoch: 44/250, Loss: 0.6220, Val Precision: 0.0634, ACC: 0.0001, top_k: 0.0810, top_k=1: 0.0810\n"
     ]
    },
    {
     "name": "stdout",
     "output_type": "stream",
     "text": [
      "Epoch: 45/250, Loss: 0.6211, Val Precision: 0.0640, ACC: 0.0001, top_k: 0.0819, top_k=1: 0.0819\n"
     ]
    },
    {
     "name": "stdout",
     "output_type": "stream",
     "text": [
      "Epoch: 46/250, Loss: 0.6203, Val Precision: 0.0641, ACC: 0.0001, top_k: 0.0832, top_k=1: 0.0832\n"
     ]
    },
    {
     "name": "stdout",
     "output_type": "stream",
     "text": [
      "Epoch: 47/250, Loss: 0.6195, Val Precision: 0.0640, ACC: 0.0001, top_k: 0.0844, top_k=1: 0.0844\n"
     ]
    },
    {
     "name": "stdout",
     "output_type": "stream",
     "text": [
      "Epoch: 48/250, Loss: 0.6187, Val Precision: 0.0633, ACC: 0.0001, top_k: 0.0854, top_k=1: 0.0854\n"
     ]
    },
    {
     "name": "stdout",
     "output_type": "stream",
     "text": [
      "Epoch: 49/250, Loss: 0.6179, Val Precision: 0.0635, ACC: 0.0001, top_k: 0.0867, top_k=1: 0.0867\n"
     ]
    },
    {
     "name": "stdout",
     "output_type": "stream",
     "text": [
      "Epoch: 50/250, Loss: 0.6172, Val Precision: 0.0626, ACC: 0.0001, top_k: 0.0879, top_k=1: 0.0879\n"
     ]
    },
    {
     "name": "stdout",
     "output_type": "stream",
     "text": [
      "Epoch: 51/250, Loss: 0.6165, Val Precision: 0.0625, ACC: 0.0001, top_k: 0.0890, top_k=1: 0.0890\n"
     ]
    },
    {
     "name": "stdout",
     "output_type": "stream",
     "text": [
      "Epoch: 52/250, Loss: 0.6158, Val Precision: 0.0626, ACC: 0.0002, top_k: 0.0901, top_k=1: 0.0901\n"
     ]
    },
    {
     "name": "stdout",
     "output_type": "stream",
     "text": [
      "Epoch: 53/250, Loss: 0.6151, Val Precision: 0.0629, ACC: 0.0002, top_k: 0.0912, top_k=1: 0.0912\n"
     ]
    },
    {
     "name": "stdout",
     "output_type": "stream",
     "text": [
      "Epoch: 54/250, Loss: 0.6145, Val Precision: 0.0635, ACC: 0.0002, top_k: 0.0920, top_k=1: 0.0920\n"
     ]
    },
    {
     "name": "stdout",
     "output_type": "stream",
     "text": [
      "Epoch: 55/250, Loss: 0.6138, Val Precision: 0.0638, ACC: 0.0003, top_k: 0.0929, top_k=1: 0.0929\n"
     ]
    },
    {
     "name": "stdout",
     "output_type": "stream",
     "text": [
      "Epoch: 56/250, Loss: 0.6132, Val Precision: 0.0645, ACC: 0.0003, top_k: 0.0937, top_k=1: 0.0937\n"
     ]
    },
    {
     "name": "stdout",
     "output_type": "stream",
     "text": [
      "Epoch: 57/250, Loss: 0.6126, Val Precision: 0.0648, ACC: 0.0004, top_k: 0.0945, top_k=1: 0.0945\n"
     ]
    },
    {
     "name": "stdout",
     "output_type": "stream",
     "text": [
      "Epoch: 58/250, Loss: 0.6121, Val Precision: 0.0651, ACC: 0.0004, top_k: 0.0951, top_k=1: 0.0951\n"
     ]
    },
    {
     "name": "stdout",
     "output_type": "stream",
     "text": [
      "Epoch: 59/250, Loss: 0.6115, Val Precision: 0.0655, ACC: 0.0004, top_k: 0.0960, top_k=1: 0.0960\n"
     ]
    },
    {
     "name": "stdout",
     "output_type": "stream",
     "text": [
      "Epoch: 60/250, Loss: 0.6109, Val Precision: 0.0658, ACC: 0.0004, top_k: 0.0968, top_k=1: 0.0968\n"
     ]
    },
    {
     "name": "stdout",
     "output_type": "stream",
     "text": [
      "Epoch: 61/250, Loss: 0.6104, Val Precision: 0.0658, ACC: 0.0004, top_k: 0.0974, top_k=1: 0.0974\n"
     ]
    },
    {
     "name": "stdout",
     "output_type": "stream",
     "text": [
      "Epoch: 62/250, Loss: 0.6099, Val Precision: 0.0663, ACC: 0.0005, top_k: 0.0981, top_k=1: 0.0981\n"
     ]
    },
    {
     "name": "stdout",
     "output_type": "stream",
     "text": [
      "Epoch: 63/250, Loss: 0.6093, Val Precision: 0.0661, ACC: 0.0005, top_k: 0.0984, top_k=1: 0.0984\n"
     ]
    },
    {
     "name": "stdout",
     "output_type": "stream",
     "text": [
      "Epoch: 64/250, Loss: 0.6088, Val Precision: 0.0664, ACC: 0.0005, top_k: 0.0990, top_k=1: 0.0990\n"
     ]
    },
    {
     "name": "stdout",
     "output_type": "stream",
     "text": [
      "Epoch: 65/250, Loss: 0.6083, Val Precision: 0.0666, ACC: 0.0005, top_k: 0.0995, top_k=1: 0.0995\n"
     ]
    },
    {
     "name": "stdout",
     "output_type": "stream",
     "text": [
      "Epoch: 66/250, Loss: 0.6078, Val Precision: 0.0665, ACC: 0.0005, top_k: 0.1001, top_k=1: 0.1001\n"
     ]
    },
    {
     "name": "stdout",
     "output_type": "stream",
     "text": [
      "Epoch: 67/250, Loss: 0.6073, Val Precision: 0.0671, ACC: 0.0006, top_k: 0.1007, top_k=1: 0.1007\n"
     ]
    },
    {
     "name": "stdout",
     "output_type": "stream",
     "text": [
      "Epoch: 68/250, Loss: 0.6068, Val Precision: 0.0671, ACC: 0.0006, top_k: 0.1011, top_k=1: 0.1011\n"
     ]
    },
    {
     "name": "stdout",
     "output_type": "stream",
     "text": [
      "Epoch: 69/250, Loss: 0.6063, Val Precision: 0.0674, ACC: 0.0007, top_k: 0.1018, top_k=1: 0.1018\n"
     ]
    },
    {
     "name": "stdout",
     "output_type": "stream",
     "text": [
      "Epoch: 70/250, Loss: 0.6059, Val Precision: 0.0659, ACC: 0.0007, top_k: 0.1020, top_k=1: 0.1020\n"
     ]
    },
    {
     "name": "stdout",
     "output_type": "stream",
     "text": [
      "Epoch: 71/250, Loss: 0.6054, Val Precision: 0.0654, ACC: 0.0007, top_k: 0.1024, top_k=1: 0.1024\n"
     ]
    },
    {
     "name": "stdout",
     "output_type": "stream",
     "text": [
      "Epoch: 72/250, Loss: 0.6049, Val Precision: 0.0658, ACC: 0.0008, top_k: 0.1028, top_k=1: 0.1028\n"
     ]
    },
    {
     "name": "stdout",
     "output_type": "stream",
     "text": [
      "Epoch: 73/250, Loss: 0.6045, Val Precision: 0.0665, ACC: 0.0008, top_k: 0.1035, top_k=1: 0.1035\n"
     ]
    },
    {
     "name": "stdout",
     "output_type": "stream",
     "text": [
      "Epoch: 74/250, Loss: 0.6040, Val Precision: 0.0671, ACC: 0.0008, top_k: 0.1039, top_k=1: 0.1039\n"
     ]
    },
    {
     "name": "stdout",
     "output_type": "stream",
     "text": [
      "Epoch: 75/250, Loss: 0.6036, Val Precision: 0.0672, ACC: 0.0010, top_k: 0.1043, top_k=1: 0.1043\n"
     ]
    },
    {
     "name": "stdout",
     "output_type": "stream",
     "text": [
      "Epoch: 76/250, Loss: 0.6031, Val Precision: 0.0670, ACC: 0.0010, top_k: 0.1049, top_k=1: 0.1049\n"
     ]
    },
    {
     "name": "stdout",
     "output_type": "stream",
     "text": [
      "Epoch: 77/250, Loss: 0.6027, Val Precision: 0.0679, ACC: 0.0011, top_k: 0.1056, top_k=1: 0.1056\n"
     ]
    },
    {
     "name": "stdout",
     "output_type": "stream",
     "text": [
      "Epoch: 78/250, Loss: 0.6023, Val Precision: 0.0683, ACC: 0.0011, top_k: 0.1061, top_k=1: 0.1061\n"
     ]
    },
    {
     "name": "stdout",
     "output_type": "stream",
     "text": [
      "Epoch: 79/250, Loss: 0.6018, Val Precision: 0.0667, ACC: 0.0012, top_k: 0.1068, top_k=1: 0.1068\n"
     ]
    },
    {
     "name": "stdout",
     "output_type": "stream",
     "text": [
      "Epoch: 80/250, Loss: 0.6014, Val Precision: 0.0673, ACC: 0.0012, top_k: 0.1074, top_k=1: 0.1074\n"
     ]
    },
    {
     "name": "stdout",
     "output_type": "stream",
     "text": [
      "Epoch: 81/250, Loss: 0.6010, Val Precision: 0.0678, ACC: 0.0012, top_k: 0.1077, top_k=1: 0.1077\n"
     ]
    },
    {
     "name": "stdout",
     "output_type": "stream",
     "text": [
      "Epoch: 82/250, Loss: 0.6005, Val Precision: 0.0667, ACC: 0.0013, top_k: 0.1080, top_k=1: 0.1080\n"
     ]
    },
    {
     "name": "stdout",
     "output_type": "stream",
     "text": [
      "Epoch: 83/250, Loss: 0.6001, Val Precision: 0.0675, ACC: 0.0013, top_k: 0.1087, top_k=1: 0.1087\n"
     ]
    },
    {
     "name": "stdout",
     "output_type": "stream",
     "text": [
      "Epoch: 84/250, Loss: 0.5997, Val Precision: 0.0678, ACC: 0.0013, top_k: 0.1092, top_k=1: 0.1092\n"
     ]
    },
    {
     "name": "stdout",
     "output_type": "stream",
     "text": [
      "Epoch: 85/250, Loss: 0.5993, Val Precision: 0.0676, ACC: 0.0014, top_k: 0.1095, top_k=1: 0.1095\n"
     ]
    },
    {
     "name": "stdout",
     "output_type": "stream",
     "text": [
      "Epoch: 86/250, Loss: 0.5989, Val Precision: 0.0681, ACC: 0.0016, top_k: 0.1101, top_k=1: 0.1101\n"
     ]
    },
    {
     "name": "stdout",
     "output_type": "stream",
     "text": [
      "Epoch: 87/250, Loss: 0.5985, Val Precision: 0.0651, ACC: 0.0015, top_k: 0.1105, top_k=1: 0.1105\n"
     ]
    },
    {
     "name": "stdout",
     "output_type": "stream",
     "text": [
      "Epoch: 88/250, Loss: 0.5981, Val Precision: 0.0657, ACC: 0.0016, top_k: 0.1108, top_k=1: 0.1108\n"
     ]
    },
    {
     "name": "stdout",
     "output_type": "stream",
     "text": [
      "Epoch: 89/250, Loss: 0.5977, Val Precision: 0.0661, ACC: 0.0016, top_k: 0.1114, top_k=1: 0.1114\n"
     ]
    },
    {
     "name": "stdout",
     "output_type": "stream",
     "text": [
      "Epoch: 90/250, Loss: 0.5973, Val Precision: 0.0648, ACC: 0.0017, top_k: 0.1119, top_k=1: 0.1119\n"
     ]
    },
    {
     "name": "stdout",
     "output_type": "stream",
     "text": [
      "Epoch: 91/250, Loss: 0.5969, Val Precision: 0.0646, ACC: 0.0017, top_k: 0.1124, top_k=1: 0.1124\n"
     ]
    },
    {
     "name": "stdout",
     "output_type": "stream",
     "text": [
      "Epoch: 92/250, Loss: 0.5965, Val Precision: 0.0663, ACC: 0.0017, top_k: 0.1141, top_k=1: 0.1141\n"
     ]
    },
    {
     "name": "stdout",
     "output_type": "stream",
     "text": [
      "Epoch: 93/250, Loss: 0.5961, Val Precision: 0.0666, ACC: 0.0017, top_k: 0.1145, top_k=1: 0.1145\n"
     ]
    },
    {
     "name": "stdout",
     "output_type": "stream",
     "text": [
      "Epoch: 94/250, Loss: 0.5957, Val Precision: 0.0677, ACC: 0.0018, top_k: 0.1149, top_k=1: 0.1149\n"
     ]
    },
    {
     "name": "stdout",
     "output_type": "stream",
     "text": [
      "Epoch: 95/250, Loss: 0.5953, Val Precision: 0.0670, ACC: 0.0018, top_k: 0.1156, top_k=1: 0.1156\n"
     ]
    },
    {
     "name": "stdout",
     "output_type": "stream",
     "text": [
      "Epoch: 96/250, Loss: 0.5949, Val Precision: 0.0679, ACC: 0.0018, top_k: 0.1162, top_k=1: 0.1162\n"
     ]
    },
    {
     "name": "stdout",
     "output_type": "stream",
     "text": [
      "Epoch: 97/250, Loss: 0.5946, Val Precision: 0.0686, ACC: 0.0018, top_k: 0.1168, top_k=1: 0.1168\n"
     ]
    },
    {
     "name": "stdout",
     "output_type": "stream",
     "text": [
      "Epoch: 98/250, Loss: 0.5942, Val Precision: 0.0665, ACC: 0.0018, top_k: 0.1173, top_k=1: 0.1173\n"
     ]
    },
    {
     "name": "stdout",
     "output_type": "stream",
     "text": [
      "Epoch: 99/250, Loss: 0.5938, Val Precision: 0.0678, ACC: 0.0018, top_k: 0.1176, top_k=1: 0.1176\n"
     ]
    },
    {
     "name": "stdout",
     "output_type": "stream",
     "text": [
      "Epoch: 100/250, Loss: 0.5934, Val Precision: 0.0686, ACC: 0.0019, top_k: 0.1184, top_k=1: 0.1184\n"
     ]
    },
    {
     "name": "stdout",
     "output_type": "stream",
     "text": [
      "Epoch: 101/250, Loss: 0.5931, Val Precision: 0.0709, ACC: 0.0019, top_k: 0.1189, top_k=1: 0.1189\n"
     ]
    },
    {
     "name": "stdout",
     "output_type": "stream",
     "text": [
      "Epoch: 102/250, Loss: 0.5927, Val Precision: 0.0701, ACC: 0.0019, top_k: 0.1194, top_k=1: 0.1194\n"
     ]
    },
    {
     "name": "stdout",
     "output_type": "stream",
     "text": [
      "Epoch: 103/250, Loss: 0.5923, Val Precision: 0.0699, ACC: 0.0020, top_k: 0.1200, top_k=1: 0.1200\n"
     ]
    },
    {
     "name": "stdout",
     "output_type": "stream",
     "text": [
      "Epoch: 104/250, Loss: 0.5920, Val Precision: 0.0710, ACC: 0.0020, top_k: 0.1204, top_k=1: 0.1204\n"
     ]
    },
    {
     "name": "stdout",
     "output_type": "stream",
     "text": [
      "Epoch: 105/250, Loss: 0.5916, Val Precision: 0.0709, ACC: 0.0021, top_k: 0.1207, top_k=1: 0.1207\n"
     ]
    },
    {
     "name": "stdout",
     "output_type": "stream",
     "text": [
      "Epoch: 106/250, Loss: 0.5912, Val Precision: 0.0693, ACC: 0.0021, top_k: 0.1211, top_k=1: 0.1211\n"
     ]
    },
    {
     "name": "stdout",
     "output_type": "stream",
     "text": [
      "Epoch: 107/250, Loss: 0.5909, Val Precision: 0.0709, ACC: 0.0022, top_k: 0.1215, top_k=1: 0.1215\n"
     ]
    },
    {
     "name": "stdout",
     "output_type": "stream",
     "text": [
      "Epoch: 108/250, Loss: 0.5905, Val Precision: 0.0714, ACC: 0.0022, top_k: 0.1219, top_k=1: 0.1219\n"
     ]
    },
    {
     "name": "stdout",
     "output_type": "stream",
     "text": [
      "Epoch: 109/250, Loss: 0.5902, Val Precision: 0.0721, ACC: 0.0022, top_k: 0.1224, top_k=1: 0.1224\n"
     ]
    },
    {
     "name": "stdout",
     "output_type": "stream",
     "text": [
      "Epoch: 110/250, Loss: 0.5898, Val Precision: 0.0763, ACC: 0.0023, top_k: 0.1229, top_k=1: 0.1229\n"
     ]
    },
    {
     "name": "stdout",
     "output_type": "stream",
     "text": [
      "Epoch: 111/250, Loss: 0.5895, Val Precision: 0.0773, ACC: 0.0023, top_k: 0.1235, top_k=1: 0.1235\n"
     ]
    },
    {
     "name": "stdout",
     "output_type": "stream",
     "text": [
      "Epoch: 112/250, Loss: 0.5891, Val Precision: 0.0771, ACC: 0.0023, top_k: 0.1239, top_k=1: 0.1239\n"
     ]
    },
    {
     "name": "stdout",
     "output_type": "stream",
     "text": [
      "Epoch: 113/250, Loss: 0.5888, Val Precision: 0.0639, ACC: 0.0024, top_k: 0.1241, top_k=1: 0.1241\n"
     ]
    },
    {
     "name": "stdout",
     "output_type": "stream",
     "text": [
      "Epoch: 114/250, Loss: 0.5884, Val Precision: 0.0609, ACC: 0.0024, top_k: 0.1245, top_k=1: 0.1245\n"
     ]
    },
    {
     "name": "stdout",
     "output_type": "stream",
     "text": [
      "Epoch: 115/250, Loss: 0.5881, Val Precision: 0.0587, ACC: 0.0024, top_k: 0.1250, top_k=1: 0.1250\n"
     ]
    },
    {
     "name": "stdout",
     "output_type": "stream",
     "text": [
      "Epoch: 116/250, Loss: 0.5877, Val Precision: 0.0593, ACC: 0.0024, top_k: 0.1255, top_k=1: 0.1255\n"
     ]
    },
    {
     "name": "stdout",
     "output_type": "stream",
     "text": [
      "Epoch: 117/250, Loss: 0.5874, Val Precision: 0.0593, ACC: 0.0024, top_k: 0.1258, top_k=1: 0.1258\n"
     ]
    },
    {
     "name": "stdout",
     "output_type": "stream",
     "text": [
      "Epoch: 118/250, Loss: 0.5871, Val Precision: 0.0597, ACC: 0.0025, top_k: 0.1263, top_k=1: 0.1263\n"
     ]
    },
    {
     "name": "stdout",
     "output_type": "stream",
     "text": [
      "Epoch: 119/250, Loss: 0.5867, Val Precision: 0.0596, ACC: 0.0025, top_k: 0.1273, top_k=1: 0.1273\n"
     ]
    },
    {
     "name": "stdout",
     "output_type": "stream",
     "text": [
      "Epoch: 120/250, Loss: 0.5864, Val Precision: 0.0594, ACC: 0.0025, top_k: 0.1277, top_k=1: 0.1277\n"
     ]
    },
    {
     "name": "stdout",
     "output_type": "stream",
     "text": [
      "Epoch: 121/250, Loss: 0.5860, Val Precision: 0.0597, ACC: 0.0025, top_k: 0.1282, top_k=1: 0.1282\n"
     ]
    },
    {
     "name": "stdout",
     "output_type": "stream",
     "text": [
      "Epoch: 122/250, Loss: 0.5857, Val Precision: 0.0600, ACC: 0.0025, top_k: 0.1285, top_k=1: 0.1285\n"
     ]
    },
    {
     "name": "stdout",
     "output_type": "stream",
     "text": [
      "Epoch: 123/250, Loss: 0.5854, Val Precision: 0.0605, ACC: 0.0025, top_k: 0.1289, top_k=1: 0.1289\n"
     ]
    },
    {
     "name": "stdout",
     "output_type": "stream",
     "text": [
      "Epoch: 124/250, Loss: 0.5850, Val Precision: 0.0608, ACC: 0.0025, top_k: 0.1292, top_k=1: 0.1292\n"
     ]
    },
    {
     "name": "stdout",
     "output_type": "stream",
     "text": [
      "Epoch: 125/250, Loss: 0.5847, Val Precision: 0.0608, ACC: 0.0025, top_k: 0.1308, top_k=1: 0.1308\n"
     ]
    },
    {
     "name": "stdout",
     "output_type": "stream",
     "text": [
      "Epoch: 126/250, Loss: 0.5844, Val Precision: 0.0618, ACC: 0.0026, top_k: 0.1312, top_k=1: 0.1312\n"
     ]
    },
    {
     "name": "stdout",
     "output_type": "stream",
     "text": [
      "Epoch: 127/250, Loss: 0.5841, Val Precision: 0.0600, ACC: 0.0026, top_k: 0.1315, top_k=1: 0.1315\n"
     ]
    },
    {
     "name": "stdout",
     "output_type": "stream",
     "text": [
      "Epoch: 128/250, Loss: 0.5837, Val Precision: 0.0605, ACC: 0.0028, top_k: 0.1319, top_k=1: 0.1319\n"
     ]
    },
    {
     "name": "stdout",
     "output_type": "stream",
     "text": [
      "Epoch: 129/250, Loss: 0.5834, Val Precision: 0.0618, ACC: 0.0028, top_k: 0.1323, top_k=1: 0.1323\n"
     ]
    },
    {
     "name": "stdout",
     "output_type": "stream",
     "text": [
      "Epoch: 130/250, Loss: 0.5831, Val Precision: 0.0622, ACC: 0.0028, top_k: 0.1326, top_k=1: 0.1326\n"
     ]
    },
    {
     "name": "stdout",
     "output_type": "stream",
     "text": [
      "Epoch: 131/250, Loss: 0.5828, Val Precision: 0.0626, ACC: 0.0029, top_k: 0.1330, top_k=1: 0.1330\n"
     ]
    },
    {
     "name": "stdout",
     "output_type": "stream",
     "text": [
      "Epoch: 132/250, Loss: 0.5824, Val Precision: 0.0625, ACC: 0.0029, top_k: 0.1333, top_k=1: 0.1333\n"
     ]
    },
    {
     "name": "stdout",
     "output_type": "stream",
     "text": [
      "Epoch: 133/250, Loss: 0.5821, Val Precision: 0.0632, ACC: 0.0030, top_k: 0.1337, top_k=1: 0.1337\n"
     ]
    },
    {
     "name": "stdout",
     "output_type": "stream",
     "text": [
      "Epoch: 134/250, Loss: 0.5818, Val Precision: 0.0596, ACC: 0.0031, top_k: 0.1340, top_k=1: 0.1340\n"
     ]
    },
    {
     "name": "stdout",
     "output_type": "stream",
     "text": [
      "Epoch: 135/250, Loss: 0.5815, Val Precision: 0.0621, ACC: 0.0032, top_k: 0.1344, top_k=1: 0.1344\n"
     ]
    },
    {
     "name": "stdout",
     "output_type": "stream",
     "text": [
      "Epoch: 136/250, Loss: 0.5812, Val Precision: 0.0634, ACC: 0.0032, top_k: 0.1349, top_k=1: 0.1349\n"
     ]
    },
    {
     "name": "stdout",
     "output_type": "stream",
     "text": [
      "Epoch: 137/250, Loss: 0.5809, Val Precision: 0.0637, ACC: 0.0033, top_k: 0.1375, top_k=1: 0.1375\n"
     ]
    },
    {
     "name": "stdout",
     "output_type": "stream",
     "text": [
      "Epoch: 138/250, Loss: 0.5806, Val Precision: 0.0643, ACC: 0.0033, top_k: 0.1378, top_k=1: 0.1378\n"
     ]
    },
    {
     "name": "stdout",
     "output_type": "stream",
     "text": [
      "Epoch: 139/250, Loss: 0.5802, Val Precision: 0.0631, ACC: 0.0033, top_k: 0.1381, top_k=1: 0.1381\n"
     ]
    },
    {
     "name": "stdout",
     "output_type": "stream",
     "text": [
      "Epoch: 140/250, Loss: 0.5799, Val Precision: 0.0630, ACC: 0.0033, top_k: 0.1383, top_k=1: 0.1383\n"
     ]
    },
    {
     "name": "stdout",
     "output_type": "stream",
     "text": [
      "Epoch: 141/250, Loss: 0.5796, Val Precision: 0.0633, ACC: 0.0034, top_k: 0.1387, top_k=1: 0.1387\n"
     ]
    },
    {
     "name": "stdout",
     "output_type": "stream",
     "text": [
      "Epoch: 142/250, Loss: 0.5793, Val Precision: 0.0634, ACC: 0.0035, top_k: 0.1390, top_k=1: 0.1390\n"
     ]
    },
    {
     "name": "stdout",
     "output_type": "stream",
     "text": [
      "Epoch: 143/250, Loss: 0.5790, Val Precision: 0.0636, ACC: 0.0035, top_k: 0.1392, top_k=1: 0.1392\n"
     ]
    },
    {
     "name": "stdout",
     "output_type": "stream",
     "text": [
      "Epoch: 144/250, Loss: 0.5787, Val Precision: 0.0633, ACC: 0.0035, top_k: 0.1396, top_k=1: 0.1396\n"
     ]
    },
    {
     "name": "stdout",
     "output_type": "stream",
     "text": [
      "Epoch: 145/250, Loss: 0.5784, Val Precision: 0.0632, ACC: 0.0037, top_k: 0.1402, top_k=1: 0.1402\n"
     ]
    },
    {
     "name": "stdout",
     "output_type": "stream",
     "text": [
      "Epoch: 146/250, Loss: 0.5781, Val Precision: 0.0634, ACC: 0.0037, top_k: 0.1405, top_k=1: 0.1405\n"
     ]
    },
    {
     "name": "stdout",
     "output_type": "stream",
     "text": [
      "Epoch: 147/250, Loss: 0.5778, Val Precision: 0.0647, ACC: 0.0037, top_k: 0.1407, top_k=1: 0.1407\n"
     ]
    },
    {
     "name": "stdout",
     "output_type": "stream",
     "text": [
      "Epoch: 148/250, Loss: 0.5775, Val Precision: 0.0643, ACC: 0.0037, top_k: 0.1411, top_k=1: 0.1411\n"
     ]
    },
    {
     "name": "stdout",
     "output_type": "stream",
     "text": [
      "Epoch: 149/250, Loss: 0.5772, Val Precision: 0.0639, ACC: 0.0038, top_k: 0.1413, top_k=1: 0.1413\n"
     ]
    },
    {
     "name": "stdout",
     "output_type": "stream",
     "text": [
      "Epoch: 150/250, Loss: 0.5769, Val Precision: 0.0640, ACC: 0.0038, top_k: 0.1415, top_k=1: 0.1415\n"
     ]
    },
    {
     "name": "stdout",
     "output_type": "stream",
     "text": [
      "Epoch: 151/250, Loss: 0.5766, Val Precision: 0.0646, ACC: 0.0038, top_k: 0.1419, top_k=1: 0.1419\n"
     ]
    },
    {
     "name": "stdout",
     "output_type": "stream",
     "text": [
      "Epoch: 152/250, Loss: 0.5763, Val Precision: 0.0652, ACC: 0.0038, top_k: 0.1423, top_k=1: 0.1423\n"
     ]
    },
    {
     "name": "stdout",
     "output_type": "stream",
     "text": [
      "Epoch: 153/250, Loss: 0.5760, Val Precision: 0.0668, ACC: 0.0038, top_k: 0.1425, top_k=1: 0.1425\n"
     ]
    },
    {
     "name": "stdout",
     "output_type": "stream",
     "text": [
      "Epoch: 154/250, Loss: 0.5757, Val Precision: 0.0675, ACC: 0.0040, top_k: 0.1429, top_k=1: 0.1429\n"
     ]
    },
    {
     "name": "stdout",
     "output_type": "stream",
     "text": [
      "Epoch: 155/250, Loss: 0.5754, Val Precision: 0.0660, ACC: 0.0040, top_k: 0.1432, top_k=1: 0.1432\n"
     ]
    },
    {
     "name": "stdout",
     "output_type": "stream",
     "text": [
      "Epoch: 156/250, Loss: 0.5751, Val Precision: 0.0682, ACC: 0.0040, top_k: 0.1436, top_k=1: 0.1436\n"
     ]
    },
    {
     "name": "stdout",
     "output_type": "stream",
     "text": [
      "Epoch: 157/250, Loss: 0.5748, Val Precision: 0.0671, ACC: 0.0040, top_k: 0.1438, top_k=1: 0.1438\n"
     ]
    },
    {
     "name": "stdout",
     "output_type": "stream",
     "text": [
      "Epoch: 158/250, Loss: 0.5745, Val Precision: 0.0674, ACC: 0.0042, top_k: 0.1441, top_k=1: 0.1441\n"
     ]
    },
    {
     "name": "stdout",
     "output_type": "stream",
     "text": [
      "Epoch: 159/250, Loss: 0.5742, Val Precision: 0.0677, ACC: 0.0042, top_k: 0.1443, top_k=1: 0.1443\n"
     ]
    },
    {
     "name": "stdout",
     "output_type": "stream",
     "text": [
      "Epoch: 160/250, Loss: 0.5739, Val Precision: 0.0682, ACC: 0.0042, top_k: 0.1450, top_k=1: 0.1450\n"
     ]
    },
    {
     "name": "stdout",
     "output_type": "stream",
     "text": [
      "Epoch: 161/250, Loss: 0.5736, Val Precision: 0.0684, ACC: 0.0042, top_k: 0.1452, top_k=1: 0.1452\n"
     ]
    },
    {
     "name": "stdout",
     "output_type": "stream",
     "text": [
      "Epoch: 162/250, Loss: 0.5734, Val Precision: 0.0690, ACC: 0.0042, top_k: 0.1454, top_k=1: 0.1454\n"
     ]
    },
    {
     "name": "stdout",
     "output_type": "stream",
     "text": [
      "Epoch: 163/250, Loss: 0.5731, Val Precision: 0.0694, ACC: 0.0042, top_k: 0.1456, top_k=1: 0.1456\n"
     ]
    },
    {
     "name": "stdout",
     "output_type": "stream",
     "text": [
      "Epoch: 164/250, Loss: 0.5728, Val Precision: 0.0692, ACC: 0.0043, top_k: 0.1459, top_k=1: 0.1459\n"
     ]
    },
    {
     "name": "stdout",
     "output_type": "stream",
     "text": [
      "Epoch: 165/250, Loss: 0.5725, Val Precision: 0.0694, ACC: 0.0046, top_k: 0.1461, top_k=1: 0.1461\n"
     ]
    },
    {
     "name": "stdout",
     "output_type": "stream",
     "text": [
      "Epoch: 166/250, Loss: 0.5722, Val Precision: 0.0698, ACC: 0.0047, top_k: 0.1467, top_k=1: 0.1467\n"
     ]
    },
    {
     "name": "stdout",
     "output_type": "stream",
     "text": [
      "Epoch: 167/250, Loss: 0.5719, Val Precision: 0.0698, ACC: 0.0047, top_k: 0.1475, top_k=1: 0.1475\n"
     ]
    },
    {
     "name": "stdout",
     "output_type": "stream",
     "text": [
      "Epoch: 168/250, Loss: 0.5716, Val Precision: 0.0689, ACC: 0.0047, top_k: 0.1477, top_k=1: 0.1477\n"
     ]
    },
    {
     "name": "stdout",
     "output_type": "stream",
     "text": [
      "Epoch: 169/250, Loss: 0.5714, Val Precision: 0.0691, ACC: 0.0047, top_k: 0.1480, top_k=1: 0.1480\n"
     ]
    },
    {
     "name": "stdout",
     "output_type": "stream",
     "text": [
      "Epoch: 170/250, Loss: 0.5711, Val Precision: 0.0695, ACC: 0.0049, top_k: 0.1482, top_k=1: 0.1482\n"
     ]
    },
    {
     "name": "stdout",
     "output_type": "stream",
     "text": [
      "Epoch: 171/250, Loss: 0.5708, Val Precision: 0.0696, ACC: 0.0049, top_k: 0.1486, top_k=1: 0.1486\n"
     ]
    },
    {
     "name": "stdout",
     "output_type": "stream",
     "text": [
      "Epoch: 172/250, Loss: 0.5705, Val Precision: 0.0713, ACC: 0.0049, top_k: 0.1489, top_k=1: 0.1489\n"
     ]
    },
    {
     "name": "stdout",
     "output_type": "stream",
     "text": [
      "Epoch: 173/250, Loss: 0.5702, Val Precision: 0.0720, ACC: 0.0050, top_k: 0.1492, top_k=1: 0.1492\n"
     ]
    },
    {
     "name": "stdout",
     "output_type": "stream",
     "text": [
      "Epoch: 174/250, Loss: 0.5699, Val Precision: 0.0718, ACC: 0.0050, top_k: 0.1494, top_k=1: 0.1494\n"
     ]
    },
    {
     "name": "stdout",
     "output_type": "stream",
     "text": [
      "Epoch: 175/250, Loss: 0.5697, Val Precision: 0.0725, ACC: 0.0050, top_k: 0.1496, top_k=1: 0.1496\n"
     ]
    },
    {
     "name": "stdout",
     "output_type": "stream",
     "text": [
      "Epoch: 176/250, Loss: 0.5694, Val Precision: 0.0715, ACC: 0.0051, top_k: 0.1499, top_k=1: 0.1499\n"
     ]
    },
    {
     "name": "stdout",
     "output_type": "stream",
     "text": [
      "Epoch: 177/250, Loss: 0.5691, Val Precision: 0.0701, ACC: 0.0051, top_k: 0.1502, top_k=1: 0.1502\n"
     ]
    },
    {
     "name": "stdout",
     "output_type": "stream",
     "text": [
      "Epoch: 178/250, Loss: 0.5688, Val Precision: 0.0703, ACC: 0.0051, top_k: 0.1505, top_k=1: 0.1505\n"
     ]
    },
    {
     "name": "stdout",
     "output_type": "stream",
     "text": [
      "Epoch: 179/250, Loss: 0.5686, Val Precision: 0.0705, ACC: 0.0051, top_k: 0.1509, top_k=1: 0.1509\n"
     ]
    },
    {
     "name": "stdout",
     "output_type": "stream",
     "text": [
      "Epoch: 180/250, Loss: 0.5683, Val Precision: 0.0705, ACC: 0.0050, top_k: 0.1512, top_k=1: 0.1512\n"
     ]
    },
    {
     "name": "stdout",
     "output_type": "stream",
     "text": [
      "Epoch: 181/250, Loss: 0.5680, Val Precision: 0.0714, ACC: 0.0051, top_k: 0.1521, top_k=1: 0.1521\n"
     ]
    },
    {
     "name": "stdout",
     "output_type": "stream",
     "text": [
      "Epoch: 182/250, Loss: 0.5677, Val Precision: 0.0715, ACC: 0.0051, top_k: 0.1523, top_k=1: 0.1523\n"
     ]
    },
    {
     "name": "stdout",
     "output_type": "stream",
     "text": [
      "Epoch: 183/250, Loss: 0.5675, Val Precision: 0.0714, ACC: 0.0051, top_k: 0.1525, top_k=1: 0.1525\n"
     ]
    },
    {
     "name": "stdout",
     "output_type": "stream",
     "text": [
      "Epoch: 184/250, Loss: 0.5672, Val Precision: 0.0722, ACC: 0.0051, top_k: 0.1528, top_k=1: 0.1528\n"
     ]
    },
    {
     "name": "stdout",
     "output_type": "stream",
     "text": [
      "Epoch: 185/250, Loss: 0.5669, Val Precision: 0.0725, ACC: 0.0051, top_k: 0.1530, top_k=1: 0.1530\n"
     ]
    },
    {
     "name": "stdout",
     "output_type": "stream",
     "text": [
      "Epoch: 186/250, Loss: 0.5666, Val Precision: 0.0726, ACC: 0.0051, top_k: 0.1533, top_k=1: 0.1533\n"
     ]
    },
    {
     "name": "stdout",
     "output_type": "stream",
     "text": [
      "Epoch: 187/250, Loss: 0.5664, Val Precision: 0.0727, ACC: 0.0051, top_k: 0.1538, top_k=1: 0.1538\n"
     ]
    },
    {
     "name": "stdout",
     "output_type": "stream",
     "text": [
      "Epoch: 188/250, Loss: 0.5661, Val Precision: 0.0741, ACC: 0.0052, top_k: 0.1542, top_k=1: 0.1542\n"
     ]
    },
    {
     "name": "stdout",
     "output_type": "stream",
     "text": [
      "Epoch: 189/250, Loss: 0.5658, Val Precision: 0.0763, ACC: 0.0052, top_k: 0.1544, top_k=1: 0.1544\n"
     ]
    },
    {
     "name": "stdout",
     "output_type": "stream",
     "text": [
      "Epoch: 190/250, Loss: 0.5656, Val Precision: 0.0771, ACC: 0.0052, top_k: 0.1546, top_k=1: 0.1546\n"
     ]
    },
    {
     "name": "stdout",
     "output_type": "stream",
     "text": [
      "Epoch: 191/250, Loss: 0.5653, Val Precision: 0.0777, ACC: 0.0053, top_k: 0.1548, top_k=1: 0.1548\n"
     ]
    },
    {
     "name": "stdout",
     "output_type": "stream",
     "text": [
      "Epoch: 192/250, Loss: 0.5650, Val Precision: 0.0776, ACC: 0.0053, top_k: 0.1550, top_k=1: 0.1550\n"
     ]
    },
    {
     "name": "stdout",
     "output_type": "stream",
     "text": [
      "Epoch: 193/250, Loss: 0.5648, Val Precision: 0.0772, ACC: 0.0055, top_k: 0.1552, top_k=1: 0.1552\n"
     ]
    },
    {
     "name": "stdout",
     "output_type": "stream",
     "text": [
      "Epoch: 194/250, Loss: 0.5645, Val Precision: 0.0789, ACC: 0.0055, top_k: 0.1554, top_k=1: 0.1554\n"
     ]
    },
    {
     "name": "stdout",
     "output_type": "stream",
     "text": [
      "Epoch: 195/250, Loss: 0.5642, Val Precision: 0.0789, ACC: 0.0055, top_k: 0.1555, top_k=1: 0.1555\n"
     ]
    },
    {
     "name": "stdout",
     "output_type": "stream",
     "text": [
      "Epoch: 196/250, Loss: 0.5640, Val Precision: 0.0803, ACC: 0.0056, top_k: 0.1557, top_k=1: 0.1557\n"
     ]
    },
    {
     "name": "stdout",
     "output_type": "stream",
     "text": [
      "Epoch: 197/250, Loss: 0.5637, Val Precision: 0.0806, ACC: 0.0056, top_k: 0.1561, top_k=1: 0.1561\n"
     ]
    },
    {
     "name": "stdout",
     "output_type": "stream",
     "text": [
      "Epoch: 198/250, Loss: 0.5634, Val Precision: 0.0804, ACC: 0.0056, top_k: 0.1564, top_k=1: 0.1564\n"
     ]
    },
    {
     "name": "stdout",
     "output_type": "stream",
     "text": [
      "Epoch: 199/250, Loss: 0.5632, Val Precision: 0.0820, ACC: 0.0058, top_k: 0.1568, top_k=1: 0.1568\n"
     ]
    },
    {
     "name": "stdout",
     "output_type": "stream",
     "text": [
      "Epoch: 200/250, Loss: 0.5629, Val Precision: 0.0831, ACC: 0.0059, top_k: 0.1571, top_k=1: 0.1571\n"
     ]
    },
    {
     "name": "stdout",
     "output_type": "stream",
     "text": [
      "Epoch: 201/250, Loss: 0.5627, Val Precision: 0.0845, ACC: 0.0060, top_k: 0.1573, top_k=1: 0.1573\n"
     ]
    },
    {
     "name": "stdout",
     "output_type": "stream",
     "text": [
      "Epoch: 202/250, Loss: 0.5624, Val Precision: 0.0861, ACC: 0.0060, top_k: 0.1575, top_k=1: 0.1575\n"
     ]
    },
    {
     "name": "stdout",
     "output_type": "stream",
     "text": [
      "Epoch: 203/250, Loss: 0.5621, Val Precision: 0.0860, ACC: 0.0060, top_k: 0.1580, top_k=1: 0.1580\n"
     ]
    },
    {
     "name": "stdout",
     "output_type": "stream",
     "text": [
      "Epoch: 204/250, Loss: 0.5619, Val Precision: 0.0871, ACC: 0.0060, top_k: 0.1583, top_k=1: 0.1583\n"
     ]
    },
    {
     "name": "stdout",
     "output_type": "stream",
     "text": [
      "Epoch: 205/250, Loss: 0.5616, Val Precision: 0.0877, ACC: 0.0060, top_k: 0.1586, top_k=1: 0.1586\n"
     ]
    },
    {
     "name": "stdout",
     "output_type": "stream",
     "text": [
      "Epoch: 206/250, Loss: 0.5614, Val Precision: 0.0884, ACC: 0.0060, top_k: 0.1587, top_k=1: 0.1587\n"
     ]
    },
    {
     "name": "stdout",
     "output_type": "stream",
     "text": [
      "Epoch: 207/250, Loss: 0.5611, Val Precision: 0.0886, ACC: 0.0060, top_k: 0.1590, top_k=1: 0.1590\n"
     ]
    },
    {
     "name": "stdout",
     "output_type": "stream",
     "text": [
      "Epoch: 208/250, Loss: 0.5608, Val Precision: 0.0888, ACC: 0.0060, top_k: 0.1591, top_k=1: 0.1591\n"
     ]
    },
    {
     "name": "stdout",
     "output_type": "stream",
     "text": [
      "Epoch: 209/250, Loss: 0.5606, Val Precision: 0.0875, ACC: 0.0060, top_k: 0.1594, top_k=1: 0.1594\n"
     ]
    },
    {
     "name": "stdout",
     "output_type": "stream",
     "text": [
      "Epoch: 210/250, Loss: 0.5603, Val Precision: 0.0874, ACC: 0.0062, top_k: 0.1597, top_k=1: 0.1597\n"
     ]
    },
    {
     "name": "stdout",
     "output_type": "stream",
     "text": [
      "Epoch: 211/250, Loss: 0.5601, Val Precision: 0.0876, ACC: 0.0062, top_k: 0.1599, top_k=1: 0.1599\n"
     ]
    },
    {
     "name": "stdout",
     "output_type": "stream",
     "text": [
      "Epoch: 212/250, Loss: 0.5598, Val Precision: 0.0873, ACC: 0.0062, top_k: 0.1600, top_k=1: 0.1600\n"
     ]
    },
    {
     "name": "stdout",
     "output_type": "stream",
     "text": [
      "Epoch: 213/250, Loss: 0.5596, Val Precision: 0.0875, ACC: 0.0063, top_k: 0.1603, top_k=1: 0.1603\n"
     ]
    },
    {
     "name": "stdout",
     "output_type": "stream",
     "text": [
      "Epoch: 214/250, Loss: 0.5593, Val Precision: 0.0878, ACC: 0.0063, top_k: 0.1606, top_k=1: 0.1606\n"
     ]
    },
    {
     "name": "stdout",
     "output_type": "stream",
     "text": [
      "Epoch: 215/250, Loss: 0.5591, Val Precision: 0.0896, ACC: 0.0063, top_k: 0.1609, top_k=1: 0.1609\n"
     ]
    },
    {
     "name": "stdout",
     "output_type": "stream",
     "text": [
      "Epoch: 216/250, Loss: 0.5588, Val Precision: 0.0899, ACC: 0.0065, top_k: 0.1609, top_k=1: 0.1609\n"
     ]
    },
    {
     "name": "stdout",
     "output_type": "stream",
     "text": [
      "Epoch: 217/250, Loss: 0.5586, Val Precision: 0.0897, ACC: 0.0065, top_k: 0.1613, top_k=1: 0.1613\n"
     ]
    },
    {
     "name": "stdout",
     "output_type": "stream",
     "text": [
      "Epoch: 218/250, Loss: 0.5583, Val Precision: 0.0895, ACC: 0.0066, top_k: 0.1615, top_k=1: 0.1615\n"
     ]
    },
    {
     "name": "stdout",
     "output_type": "stream",
     "text": [
      "Epoch: 219/250, Loss: 0.5580, Val Precision: 0.0856, ACC: 0.0066, top_k: 0.1617, top_k=1: 0.1617\n"
     ]
    },
    {
     "name": "stdout",
     "output_type": "stream",
     "text": [
      "Epoch: 220/250, Loss: 0.5578, Val Precision: 0.0857, ACC: 0.0066, top_k: 0.1619, top_k=1: 0.1619\n"
     ]
    },
    {
     "name": "stdout",
     "output_type": "stream",
     "text": [
      "Epoch: 221/250, Loss: 0.5575, Val Precision: 0.0847, ACC: 0.0066, top_k: 0.1621, top_k=1: 0.1621\n"
     ]
    },
    {
     "name": "stdout",
     "output_type": "stream",
     "text": [
      "Epoch: 222/250, Loss: 0.5573, Val Precision: 0.0846, ACC: 0.0067, top_k: 0.1622, top_k=1: 0.1622\n"
     ]
    },
    {
     "name": "stdout",
     "output_type": "stream",
     "text": [
      "Epoch: 223/250, Loss: 0.5570, Val Precision: 0.0858, ACC: 0.0067, top_k: 0.1624, top_k=1: 0.1624\n"
     ]
    },
    {
     "name": "stdout",
     "output_type": "stream",
     "text": [
      "Epoch: 224/250, Loss: 0.5568, Val Precision: 0.0866, ACC: 0.0067, top_k: 0.1625, top_k=1: 0.1625\n"
     ]
    },
    {
     "name": "stdout",
     "output_type": "stream",
     "text": [
      "Epoch: 225/250, Loss: 0.5565, Val Precision: 0.0867, ACC: 0.0067, top_k: 0.1627, top_k=1: 0.1627\n"
     ]
    },
    {
     "name": "stdout",
     "output_type": "stream",
     "text": [
      "Epoch: 226/250, Loss: 0.5563, Val Precision: 0.0866, ACC: 0.0068, top_k: 0.1631, top_k=1: 0.1631\n"
     ]
    },
    {
     "name": "stdout",
     "output_type": "stream",
     "text": [
      "Epoch: 227/250, Loss: 0.5561, Val Precision: 0.0837, ACC: 0.0068, top_k: 0.1634, top_k=1: 0.1634\n"
     ]
    },
    {
     "name": "stdout",
     "output_type": "stream",
     "text": [
      "Epoch: 228/250, Loss: 0.5558, Val Precision: 0.0830, ACC: 0.0068, top_k: 0.1636, top_k=1: 0.1636\n"
     ]
    },
    {
     "name": "stdout",
     "output_type": "stream",
     "text": [
      "Epoch: 229/250, Loss: 0.5556, Val Precision: 0.0835, ACC: 0.0068, top_k: 0.1637, top_k=1: 0.1637\n"
     ]
    },
    {
     "name": "stdout",
     "output_type": "stream",
     "text": [
      "Epoch: 230/250, Loss: 0.5553, Val Precision: 0.0837, ACC: 0.0069, top_k: 0.1640, top_k=1: 0.1640\n"
     ]
    },
    {
     "name": "stdout",
     "output_type": "stream",
     "text": [
      "Epoch: 231/250, Loss: 0.5551, Val Precision: 0.0837, ACC: 0.0069, top_k: 0.1641, top_k=1: 0.1641\n"
     ]
    },
    {
     "name": "stdout",
     "output_type": "stream",
     "text": [
      "Epoch: 232/250, Loss: 0.5548, Val Precision: 0.0811, ACC: 0.0069, top_k: 0.1644, top_k=1: 0.1644\n"
     ]
    },
    {
     "name": "stdout",
     "output_type": "stream",
     "text": [
      "Epoch: 233/250, Loss: 0.5546, Val Precision: 0.0813, ACC: 0.0069, top_k: 0.1646, top_k=1: 0.1646\n"
     ]
    },
    {
     "name": "stdout",
     "output_type": "stream",
     "text": [
      "Epoch: 234/250, Loss: 0.5543, Val Precision: 0.0811, ACC: 0.0069, top_k: 0.1650, top_k=1: 0.1650\n"
     ]
    },
    {
     "name": "stdout",
     "output_type": "stream",
     "text": [
      "Epoch: 235/250, Loss: 0.5541, Val Precision: 0.0813, ACC: 0.0069, top_k: 0.1656, top_k=1: 0.1656\n"
     ]
    },
    {
     "name": "stdout",
     "output_type": "stream",
     "text": [
      "Epoch: 236/250, Loss: 0.5538, Val Precision: 0.0795, ACC: 0.0069, top_k: 0.1657, top_k=1: 0.1657\n"
     ]
    },
    {
     "name": "stdout",
     "output_type": "stream",
     "text": [
      "Epoch: 237/250, Loss: 0.5536, Val Precision: 0.0800, ACC: 0.0069, top_k: 0.1660, top_k=1: 0.1660\n"
     ]
    },
    {
     "name": "stdout",
     "output_type": "stream",
     "text": [
      "Epoch: 238/250, Loss: 0.5534, Val Precision: 0.0801, ACC: 0.0069, top_k: 0.1661, top_k=1: 0.1661\n"
     ]
    },
    {
     "name": "stdout",
     "output_type": "stream",
     "text": [
      "Epoch: 239/250, Loss: 0.5531, Val Precision: 0.0803, ACC: 0.0069, top_k: 0.1663, top_k=1: 0.1663\n"
     ]
    },
    {
     "name": "stdout",
     "output_type": "stream",
     "text": [
      "Epoch: 240/250, Loss: 0.5529, Val Precision: 0.0813, ACC: 0.0069, top_k: 0.1664, top_k=1: 0.1664\n"
     ]
    },
    {
     "name": "stdout",
     "output_type": "stream",
     "text": [
      "Epoch: 241/250, Loss: 0.5526, Val Precision: 0.0815, ACC: 0.0069, top_k: 0.1669, top_k=1: 0.1669\n"
     ]
    },
    {
     "name": "stdout",
     "output_type": "stream",
     "text": [
      "Epoch: 242/250, Loss: 0.5524, Val Precision: 0.0817, ACC: 0.0069, top_k: 0.1671, top_k=1: 0.1671\n"
     ]
    },
    {
     "name": "stdout",
     "output_type": "stream",
     "text": [
      "Epoch: 243/250, Loss: 0.5522, Val Precision: 0.0818, ACC: 0.0070, top_k: 0.1673, top_k=1: 0.1673\n"
     ]
    },
    {
     "name": "stdout",
     "output_type": "stream",
     "text": [
      "Epoch: 244/250, Loss: 0.5519, Val Precision: 0.0819, ACC: 0.0070, top_k: 0.1674, top_k=1: 0.1674\n"
     ]
    },
    {
     "name": "stdout",
     "output_type": "stream",
     "text": [
      "Epoch: 245/250, Loss: 0.5517, Val Precision: 0.0868, ACC: 0.0070, top_k: 0.1677, top_k=1: 0.1677\n"
     ]
    },
    {
     "name": "stdout",
     "output_type": "stream",
     "text": [
      "Epoch: 246/250, Loss: 0.5514, Val Precision: 0.0867, ACC: 0.0071, top_k: 0.1679, top_k=1: 0.1679\n"
     ]
    },
    {
     "name": "stdout",
     "output_type": "stream",
     "text": [
      "Epoch: 247/250, Loss: 0.5512, Val Precision: 0.0865, ACC: 0.0071, top_k: 0.1681, top_k=1: 0.1681\n"
     ]
    },
    {
     "name": "stdout",
     "output_type": "stream",
     "text": [
      "Epoch: 248/250, Loss: 0.5510, Val Precision: 0.0847, ACC: 0.0073, top_k: 0.1682, top_k=1: 0.1682\n"
     ]
    },
    {
     "name": "stdout",
     "output_type": "stream",
     "text": [
      "Epoch: 249/250, Loss: 0.5507, Val Precision: 0.0762, ACC: 0.0074, top_k: 0.1684, top_k=1: 0.1684\n"
     ]
    },
    {
     "name": "stdout",
     "output_type": "stream",
     "text": [
      "{\n",
      "    \"accuracy\": 0.00798740015749803,\n",
      "    \"micro_precision\": 0.2352059925093633,\n",
      "    \"macro_precision\": 0.06701223054187494,\n",
      "    \"recall\": 0.010166484417998833,\n",
      "    \"f1_score\": 0.014236042683885206,\n",
      "    \"auc\": 0.48225735006924303,\n",
      "    \"top_k_1\": 0.16861291229724884,\n",
      "    \"top_k_pred\": 0.16861291229724884\n",
      "}\n",
      "\t- Extracting and saving embeddings...\n"
     ]
    },
    {
     "name": "stdout",
     "output_type": "stream",
     "text": [
      "              precision    recall  f1-score   support\n",
      "\n",
      "     Class 0       0.62      0.10      0.18      6072\n",
      "     Class 1       0.48      0.04      0.07      4703\n",
      "     Class 2       0.29      0.01      0.01      4059\n",
      "     Class 3       0.75      0.34      0.47      4053\n",
      "     Class 4       0.16      0.00      0.01      3706\n",
      "     Class 5       0.13      0.04      0.06      3570\n",
      "     Class 6       0.23      0.01      0.01      3274\n",
      "     Class 7       0.18      0.00      0.01      3180\n",
      "     Class 8       0.18      0.01      0.01      2983\n",
      "     Class 9       0.17      0.00      0.01      2641\n",
      "    Class 10       0.19      0.01      0.02      2380\n",
      "    Class 11       0.15      0.00      0.01      2175\n",
      "    Class 12       0.25      0.00      0.00      2184\n",
      "    Class 13       0.14      0.00      0.01      2046\n",
      "    Class 14       0.03      0.00      0.00      1835\n",
      "    Class 15       0.00      0.00      0.00      1674\n",
      "    Class 16       0.00      0.00      0.00      1598\n",
      "    Class 17       0.00      0.00      0.00      1572\n",
      "    Class 18       0.17      0.00      0.00      1595\n",
      "    Class 19       0.12      0.00      0.00      1493\n",
      "    Class 20       0.00      0.00      0.00      1513\n",
      "    Class 21       0.00      0.00      0.00      1486\n",
      "    Class 22       0.09      0.04      0.06      1409\n",
      "    Class 23       0.05      0.00      0.00      1404\n",
      "    Class 24       0.06      0.00      0.00      1344\n",
      "    Class 25       0.00      0.00      0.00      1368\n",
      "    Class 26       0.09      0.01      0.02      1332\n",
      "    Class 27       0.09      0.04      0.06      1309\n",
      "    Class 28       0.00      0.00      0.00      1255\n",
      "    Class 29       0.00      0.00      0.00      1298\n",
      "    Class 30       0.00      0.00      0.00      1249\n",
      "    Class 31       0.00      0.00      0.00      1219\n",
      "    Class 32       0.00      0.00      0.00      1158\n",
      "    Class 33       0.04      0.00      0.00      1085\n",
      "    Class 34       0.05      0.02      0.03      1067\n",
      "    Class 35       0.00      0.00      0.00      1035\n",
      "    Class 36       0.00      0.00      0.00      1059\n",
      "    Class 37       0.11      0.01      0.01      1032\n",
      "    Class 38       0.00      0.00      0.00       984\n",
      "    Class 39       0.00      0.00      0.00       903\n",
      "    Class 40       0.09      0.01      0.02       910\n",
      "    Class 41       0.00      0.00      0.00       917\n",
      "    Class 42       0.07      0.05      0.06       900\n",
      "    Class 43       0.00      0.00      0.00       870\n",
      "    Class 44       0.00      0.00      0.00       817\n",
      "    Class 45       0.00      0.00      0.00       820\n",
      "    Class 46       0.00      0.00      0.00       775\n",
      "    Class 47       0.00      0.00      0.00       766\n",
      "    Class 48       0.00      0.00      0.00       795\n",
      "    Class 49       0.97      0.05      0.10       752\n",
      "    Class 50       0.00      0.00      0.00       775\n",
      "    Class 51       0.00      0.00      0.00       762\n",
      "    Class 52       0.00      0.00      0.00       719\n",
      "    Class 53       0.00      0.00      0.00       720\n",
      "    Class 54       0.00      0.00      0.00       711\n",
      "    Class 55       0.00      0.00      0.00       681\n",
      "    Class 56       0.00      0.00      0.00       608\n",
      "    Class 57       0.00      0.00      0.00       596\n",
      "    Class 58       0.00      0.00      0.00       593\n",
      "    Class 59       0.00      0.00      0.00       571\n",
      "    Class 60       0.00      0.00      0.00       588\n",
      "    Class 61       0.00      0.00      0.00       553\n",
      "    Class 62       0.61      0.02      0.04       542\n",
      "    Class 63       0.00      0.00      0.00       551\n",
      "    Class 64       0.00      0.00      0.00       535\n",
      "    Class 65       0.00      0.00      0.00       546\n",
      "    Class 66       0.00      0.00      0.00       534\n",
      "    Class 67       0.00      0.00      0.00       536\n",
      "    Class 68       0.00      0.00      0.00       519\n",
      "    Class 69       0.00      0.00      0.00       524\n",
      "    Class 70       0.00      0.00      0.00       534\n",
      "    Class 71       0.00      0.00      0.00       495\n",
      "    Class 72       0.00      0.00      0.00       473\n",
      "    Class 73       0.00      0.00      0.00       484\n",
      "    Class 74       0.00      0.00      0.00       479\n",
      "    Class 75       0.00      0.00      0.00       494\n",
      "    Class 76       0.00      0.00      0.00       497\n",
      "    Class 77       0.04      0.05      0.04       466\n",
      "    Class 78       0.00      0.00      0.00       473\n",
      "    Class 79       0.00      0.00      0.00       455\n",
      "    Class 80       0.00      0.00      0.00       459\n",
      "    Class 81       0.01      0.02      0.02       451\n",
      "    Class 82       0.00      0.00      0.00       422\n",
      "    Class 83       0.00      0.00      0.00       437\n",
      "    Class 84       0.00      0.00      0.00       442\n",
      "    Class 85       0.00      0.00      0.00       424\n",
      "    Class 86       0.00      0.00      0.00       421\n",
      "    Class 87       0.00      0.00      0.00       422\n",
      "    Class 88       0.00      0.00      0.00       387\n",
      "    Class 89       0.03      0.06      0.04       387\n",
      "    Class 90       0.00      0.00      0.00       375\n",
      "    Class 91       0.03      0.01      0.01       405\n",
      "    Class 92       0.01      0.02      0.01       399\n",
      "    Class 93       0.00      0.00      0.00       385\n",
      "    Class 94       0.02      0.03      0.02       374\n",
      "    Class 95       0.00      0.00      0.00       368\n",
      "    Class 96       0.00      0.00      0.00       370\n",
      "    Class 97       0.00      0.00      0.00       364\n",
      "    Class 98       0.00      0.00      0.00       379\n",
      "    Class 99       0.00      0.00      0.00       349\n",
      "\n",
      "   micro avg       0.24      0.02      0.04    114658\n",
      "   macro avg       0.07      0.01      0.01    114658\n",
      "weighted avg       0.15      0.02      0.04    114658\n",
      " samples avg       0.10      0.03      0.04    114658\n",
      "\n"
     ]
    },
    {
     "data": {
      "image/png": "[encoded data removed]",
      "text/plain": [
       "<Figure size 1500x800 with 2 Axes>"
      ]
     },
     "metadata": {},
     "output_type": "display_data"
    }
   ],
   "source": [
    "import sys, os\n",
    "from GNN_functions_patients_only import *\n",
    "\n",
    "if __name__ == \"__main__\":\n",
    "    num_Labels = int(os.getenv('NUM_DISEASES', 203))  # Default to 100 if not set\n",
    "    DISEASE_FILE = os.getenv('DISEASE_FILE', f'infectious')  # Default to 'sample/10000' if not set\n",
    "    # ============================================================================\n",
    "\n",
    "    saving_path = f'../Data/{num_Labels}_Diagnoses/{DISEASE_FILE}'\n",
    "\n",
    "    GNN_model = SAGE_MLC\n",
    "    num_epochs = 15\n",
    "    num_Meta_Path = 21\n",
    "    with_SNF = False\n",
    "    super_class = ''\n",
    "    # super_class = '_sc'\n",
    "    \n",
    "    exp_name = f'{num_epochs}_epochs_SNF{super_class}'\n",
    "\n",
    "    losses = main(saving_path, \n",
    "                   GNN_Model=GNN_model, \n",
    "                   num_epochs = num_epochs,\n",
    "                   with_SNF = with_SNF,\n",
    "                   exp_name = exp_name,\n",
    "                   super_class = super_class, \n",
    "                   num_Meta_Path = num_Meta_Path)"
   ]
  }
 ],
 "metadata": {
  "kernelspec": {
   "display_name": "Python 3 (ipykernel)",
   "language": "python",
   "name": "python3"
  },
  "language_info": {
   "codemirror_mode": {
    "name": "ipython",
    "version": 3
   },
   "file_extension": ".py",
   "mimetype": "text/x-python",
   "name": "python",
   "nbconvert_exporter": "python",
   "pygments_lexer": "ipython3",
   "version": "3.11.9"
  }
 },
 "nbformat": 4,
 "nbformat_minor": 4
}
