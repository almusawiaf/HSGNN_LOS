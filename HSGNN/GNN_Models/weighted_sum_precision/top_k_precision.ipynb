{
 "cells": [
  {
   "cell_type": "code",
   "execution_count": 1,
   "metadata": {},
   "outputs": [
    {
     "name": "stdout",
     "output_type": "stream",
     "text": [
      "Top-2 Precision: 1.0\n"
     ]
    }
   ],
   "source": [
    "import numpy as np\n",
    "\n",
    "def top_k_precision(y_true, y_scores, k):\n",
    "    \"\"\"\n",
    "    Calculate top-k precision for multilabel classification.\n",
    "\n",
    "    Parameters:\n",
    "    y_true (numpy array): Binary matrix of true labels (shape: n_samples x n_classes).\n",
    "    y_scores (numpy array): Matrix of predicted scores (shape: n_samples x n_classes).\n",
    "    k (int): Number of top elements to consider for calculating precision.\n",
    "\n",
    "    Returns:\n",
    "    float: Mean top-k precision across all samples.\n",
    "    \"\"\"\n",
    "    n_samples = y_true.shape[0]\n",
    "    top_k_precisions = []\n",
    "\n",
    "    for i in range(n_samples):\n",
    "        # Get the indices of the top-k predictions\n",
    "        top_k_indices = np.argsort(y_scores[i])[-k:]\n",
    "        \n",
    "        # Calculate precision for this sample\n",
    "        precision = np.sum(y_true[i, top_k_indices]) / k\n",
    "        top_k_precisions.append(precision)\n",
    "    \n",
    "    return np.mean(top_k_precisions)\n",
    "\n",
    "# Example: Ground truth binary matrix\n",
    "y_true = np.array([\n",
    "    [1, 0, 0, 1, 0],\n",
    "    [0, 1, 1, 0, 0],\n",
    "    [1, 1, 0, 0, 0]\n",
    "])\n",
    "\n",
    "# Example: Predicted scores from the model\n",
    "y_scores = np.array([\n",
    "    [0.8, 0.3, 0.2, 0.9, 0.1],\n",
    "    [0.1, 0.7, 0.6, 0.3, 0.2],\n",
    "    [0.9, 0.8, 0.1, 0.4, 0.3]\n",
    "])\n",
    "\n",
    "# Calculate top-2 precision\n",
    "k = 2\n",
    "precision_at_k = top_k_precision(y_true, y_scores, k)\n",
    "print(\"Top-2 Precision:\", precision_at_k)\n"
   ]
  },
  {
   "cell_type": "code",
   "execution_count": 2,
   "metadata": {},
   "outputs": [
    {
     "name": "stdout",
     "output_type": "stream",
     "text": [
      "[0 3]\n"
     ]
    }
   ],
   "source": [
    "indices = np.argsort(y_scores[0])[-2:]\n",
    "print(indices)"
   ]
  },
  {
   "cell_type": "code",
   "execution_count": 3,
   "metadata": {},
   "outputs": [
    {
     "data": {
      "text/plain": [
       "array([[0, 0, 0, ..., 0, 0, 0],\n",
       "       [0, 0, 0, ..., 0, 0, 0],\n",
       "       [0, 1, 0, ..., 0, 0, 0],\n",
       "       ...,\n",
       "       [0, 0, 0, ..., 0, 0, 0],\n",
       "       [0, 0, 0, ..., 0, 0, 0],\n",
       "       [0, 0, 0, ..., 0, 0, 0]])"
      ]
     },
     "execution_count": 3,
     "metadata": {},
     "output_type": "execute_result"
    }
   ],
   "source": [
    "import torch\n",
    "Y = torch.load('/home/almusawiaf/MyDocuments/PhD_Projects/PSG_SURVIVAL_ANALYSIS/Data/203_Diagnoses/PathCount_Only/33333/HGNN_data/Y.pt')\n",
    "Y"
   ]
  },
  {
   "cell_type": "code",
   "execution_count": 7,
   "metadata": {},
   "outputs": [
    {
     "name": "stdout",
     "output_type": "stream",
     "text": [
      "Mean of the row sums: 3.347220572122556\n",
      "Standard deviation of the row sums: 4.967134281514312\n"
     ]
    }
   ],
   "source": [
    "row_sums = np.sum(Y, axis=1)\n",
    "\n",
    "# Step 2: Calculate the mean of the row sums\n",
    "mean_row_sum = np.mean(row_sums)\n",
    "\n",
    "# Step 3: Calculate the standard deviation of the row sums\n",
    "std_row_sum = np.std(row_sums)\n",
    "\n",
    "print(f\"Mean of the row sums: {mean_row_sum}\")\n",
    "print(f\"Standard deviation of the row sums: {std_row_sum}\")"
   ]
  }
 ],
 "metadata": {
  "kernelspec": {
   "display_name": "Python 3 (ipykernel)",
   "language": "python",
   "name": "python3"
  },
  "language_info": {
   "codemirror_mode": {
    "name": "ipython",
    "version": 3
   },
   "file_extension": ".py",
   "mimetype": "text/x-python",
   "name": "python",
   "nbconvert_exporter": "python",
   "pygments_lexer": "ipython3",
   "version": "3.11.5"
  }
 },
 "nbformat": 4,
 "nbformat_minor": 4
}
