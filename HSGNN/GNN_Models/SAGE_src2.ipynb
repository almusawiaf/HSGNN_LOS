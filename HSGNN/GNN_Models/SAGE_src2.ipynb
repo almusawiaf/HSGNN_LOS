{
 "cells": [
  {
   "cell_type": "code",
   "execution_count": null,
   "metadata": {},
   "outputs": [],
   "source": [
    "import sys, os\n",
    "\n",
    "sys.path.append('/home/almusawiaf/MyDocuments/PhD_Projects/PSG_SURVIVAL_ANALYSIS/HGNN/src2/GNN_model')\n",
    "from GNN_functions_patients_only import *\n",
    "from GNN_SAGE import *\n",
    "\n",
    "if __name__ == \"__main__\":\n",
    "    disease_name = 'sample/5000'\n",
    "    num_Labels = 100\n",
    "    saving_path = f'/home/almusawiaf/MyDocuments/PhD_Projects/PSG_SURVIVAL_ANALYSIS/Data/{num_Labels}_Diagnoses/{disease_name}/HGNN_data'\n",
    "\n",
    "    GNN_model = SAGE_MLC\n",
    "    num_epochs = 250\n",
    "    num_Meta_Path = 12\n",
    "    with_SNF = False\n",
    "    super_class = ''\n",
    "    # super_class = '_sc'\n",
    "    \n",
    "    exp_name = f'{num_epochs}_epochs_SNF{super_class}'\n",
    "\n",
    "    losses, val_metrics = main(saving_path, \n",
    "                               GNN_Model=GNN_model, \n",
    "                               num_epochs = num_epochs,\n",
    "                               with_SNF = with_SNF,\n",
    "                               exp_name = exp_name,\n",
    "                               super_class = super_class, \n",
    "                               num_Meta_Path = num_Meta_Path)\n",
    "\n",
    "    plot_combined_metrics_and_loss(losses, val_metrics)\n",
    "\n",
    "    if with_SNF:\n",
    "        save_results(losses, val_metrics, f'{saving_path}/performance_SAGE_{num_epochs}_eps_SNF')\n",
    "    else:\n",
    "        save_results(losses, val_metrics, f'{saving_path}/performance_SAGE_{num_epochs}_eps')\n"
   ]
  }
 ],
 "metadata": {
  "kernelspec": {
   "display_name": "envGNN",
   "language": "python",
   "name": "python3"
  },
  "language_info": {
   "codemirror_mode": {
    "name": "ipython",
    "version": 3
   },
   "file_extension": ".py",
   "mimetype": "text/x-python",
   "name": "python",
   "nbconvert_exporter": "python",
   "pygments_lexer": "ipython3",
   "version": "3.10.14"
  }
 },
 "nbformat": 4,
 "nbformat_minor": 2
}
