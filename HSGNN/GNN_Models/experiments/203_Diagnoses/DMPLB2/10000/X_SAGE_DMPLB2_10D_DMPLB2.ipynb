{
 "cells": [
  {
   "cell_type": "code",
   "execution_count": 1,
   "metadata": {
    "execution": {
     "iopub.execute_input": "2024-09-30T18:06:28.764047Z",
     "iopub.status.busy": "2024-09-30T18:06:28.763673Z",
     "iopub.status.idle": "2024-09-30T19:07:21.570171Z",
     "shell.execute_reply": "2024-09-30T19:07:21.569568Z"
    }
   },
   "outputs": [
    {
     "name": "stderr",
     "output_type": "stream",
     "text": [
      "/lustre/home/almusawiaf/.local/lib/python3.9/site-packages/tqdm/auto.py:21: TqdmWarning: IProgress not found. Please update jupyter and ipywidgets. See https://ipywidgets.readthedocs.io/en/stable/user_install.html\n",
      "  from .autonotebook import tqdm as notebook_tqdm\n"
     ]
    },
    {
     "name": "stdout",
     "output_type": "stream",
     "text": [
      "\t- Loading the data...\n",
      "/lustre/home/almusawiaf/PhD_Projects/HGNN_Project2/Data/203_Diagnoses/DMPLB2/10000/HGNN_data\n"
     ]
    },
    {
     "name": "stdout",
     "output_type": "stream",
     "text": [
      "\t- Generating the Data structure ...\n",
      "\t- Generating the train, test, and validation sets...\n"
     ]
    },
    {
     "name": "stdout",
     "output_type": "stream",
     "text": [
      "\t- Number of meta-paths used is :43\n",
      "\t- Preparing the model...\n"
     ]
    },
    {
     "name": "stdout",
     "output_type": "stream",
     "text": [
      "\t- Epochs...\n"
     ]
    },
    {
     "name": "stdout",
     "output_type": "stream",
     "text": [
      "Epoch: 1/250, Loss: 18.4083, Val Precision: 0.2075, ACC: 0.0007, top_k: 0.2175, top_k=1: 0.2195\n"
     ]
    },
    {
     "name": "stdout",
     "output_type": "stream",
     "text": [
      "Epoch: 2/250, Loss: 16.9591, Val Precision: 0.1760, ACC: 0.0007, top_k: 0.2187, top_k=1: 0.2195\n"
     ]
    },
    {
     "name": "stdout",
     "output_type": "stream",
     "text": [
      "Epoch: 3/250, Loss: 14.8396, Val Precision: 0.1778, ACC: 0.0000, top_k: 0.2178, top_k=1: 0.2195\n"
     ]
    },
    {
     "name": "stdout",
     "output_type": "stream",
     "text": [
      "Epoch: 4/250, Loss: 12.5005, Val Precision: 0.1730, ACC: 0.0000, top_k: 0.2078, top_k=1: 0.2195\n"
     ]
    },
    {
     "name": "stdout",
     "output_type": "stream",
     "text": [
      "Epoch: 5/250, Loss: 10.5192, Val Precision: 0.1533, ACC: 0.0000, top_k: 0.2110, top_k=1: 0.2195\n"
     ]
    },
    {
     "name": "stdout",
     "output_type": "stream",
     "text": [
      "Epoch: 6/250, Loss: 8.8415, Val Precision: 0.1671, ACC: 0.0000, top_k: 0.2118, top_k=1: 0.2195\n"
     ]
    },
    {
     "name": "stdout",
     "output_type": "stream",
     "text": [
      "Epoch: 7/250, Loss: 7.5897, Val Precision: 0.2330, ACC: 0.0000, top_k: 0.2168, top_k=1: 0.2195\n"
     ]
    },
    {
     "name": "stdout",
     "output_type": "stream",
     "text": [
      "Epoch: 8/250, Loss: 6.2949, Val Precision: 0.2552, ACC: 0.0007, top_k: 0.2067, top_k=1: 0.2195\n"
     ]
    },
    {
     "name": "stdout",
     "output_type": "stream",
     "text": [
      "Epoch: 9/250, Loss: 5.2294, Val Precision: 0.2414, ACC: 0.0000, top_k: 0.1973, top_k=1: 0.2195\n"
     ]
    },
    {
     "name": "stdout",
     "output_type": "stream",
     "text": [
      "Epoch: 10/250, Loss: 4.4395, Val Precision: 0.2171, ACC: 0.0007, top_k: 0.1977, top_k=1: 0.2195\n"
     ]
    },
    {
     "name": "stdout",
     "output_type": "stream",
     "text": [
      "Epoch: 11/250, Loss: 4.0189, Val Precision: 0.0970, ACC: 0.0047, top_k: 0.2007, top_k=1: 0.2195\n"
     ]
    },
    {
     "name": "stdout",
     "output_type": "stream",
     "text": [
      "Epoch: 12/250, Loss: 3.6552, Val Precision: 0.0803, ACC: 0.0167, top_k: 0.2225, top_k=1: 0.2195\n"
     ]
    },
    {
     "name": "stdout",
     "output_type": "stream",
     "text": [
      "Epoch: 13/250, Loss: 3.6595, Val Precision: 0.0822, ACC: 0.0327, top_k: 0.2198, top_k=1: 0.2195\n"
     ]
    },
    {
     "name": "stdout",
     "output_type": "stream",
     "text": [
      "Epoch: 14/250, Loss: 3.7468, Val Precision: 0.0784, ACC: 0.0560, top_k: 0.2182, top_k=1: 0.2195\n"
     ]
    },
    {
     "name": "stdout",
     "output_type": "stream",
     "text": [
      "Epoch: 15/250, Loss: 4.0183, Val Precision: 0.0884, ACC: 0.0580, top_k: 0.2145, top_k=1: 0.2195\n"
     ]
    },
    {
     "name": "stdout",
     "output_type": "stream",
     "text": [
      "Epoch: 16/250, Loss: 4.2079, Val Precision: 0.0936, ACC: 0.0527, top_k: 0.2125, top_k=1: 0.2195\n"
     ]
    },
    {
     "name": "stdout",
     "output_type": "stream",
     "text": [
      "Epoch: 17/250, Loss: 4.2158, Val Precision: 0.2092, ACC: 0.0440, top_k: 0.2152, top_k=1: 0.2195\n"
     ]
    },
    {
     "name": "stdout",
     "output_type": "stream",
     "text": [
      "Epoch: 18/250, Loss: 4.1137, Val Precision: 0.2139, ACC: 0.0447, top_k: 0.2153, top_k=1: 0.2195\n"
     ]
    },
    {
     "name": "stdout",
     "output_type": "stream",
     "text": [
      "Epoch: 19/250, Loss: 4.0111, Val Precision: 0.2079, ACC: 0.0480, top_k: 0.2145, top_k=1: 0.2195\n"
     ]
    },
    {
     "name": "stdout",
     "output_type": "stream",
     "text": [
      "Epoch: 20/250, Loss: 3.9035, Val Precision: 0.2136, ACC: 0.0493, top_k: 0.2107, top_k=1: 0.2195\n"
     ]
    },
    {
     "name": "stdout",
     "output_type": "stream",
     "text": [
      "Epoch: 21/250, Loss: 3.7298, Val Precision: 0.2086, ACC: 0.0473, top_k: 0.2100, top_k=1: 0.2195\n"
     ]
    },
    {
     "name": "stdout",
     "output_type": "stream",
     "text": [
      "Epoch: 22/250, Loss: 3.5792, Val Precision: 0.1670, ACC: 0.0407, top_k: 0.2128, top_k=1: 0.2195\n"
     ]
    },
    {
     "name": "stdout",
     "output_type": "stream",
     "text": [
      "Epoch: 23/250, Loss: 3.4299, Val Precision: 0.1678, ACC: 0.0367, top_k: 0.2142, top_k=1: 0.2195\n"
     ]
    },
    {
     "name": "stdout",
     "output_type": "stream",
     "text": [
      "Epoch: 24/250, Loss: 3.2037, Val Precision: 0.1169, ACC: 0.0340, top_k: 0.2148, top_k=1: 0.2195\n"
     ]
    },
    {
     "name": "stdout",
     "output_type": "stream",
     "text": [
      "Epoch: 25/250, Loss: 2.8879, Val Precision: 0.1290, ACC: 0.0447, top_k: 0.2178, top_k=1: 0.2195\n"
     ]
    },
    {
     "name": "stdout",
     "output_type": "stream",
     "text": [
      "Epoch: 26/250, Loss: 2.5293, Val Precision: 0.1559, ACC: 0.0347, top_k: 0.2235, top_k=1: 0.2195\n"
     ]
    },
    {
     "name": "stdout",
     "output_type": "stream",
     "text": [
      "Epoch: 27/250, Loss: 2.2356, Val Precision: 0.1893, ACC: 0.0193, top_k: 0.2323, top_k=1: 0.2195\n"
     ]
    },
    {
     "name": "stdout",
     "output_type": "stream",
     "text": [
      "Epoch: 28/250, Loss: 2.1381, Val Precision: 0.1956, ACC: 0.0113, top_k: 0.2340, top_k=1: 0.2195\n"
     ]
    },
    {
     "name": "stdout",
     "output_type": "stream",
     "text": [
      "Epoch: 29/250, Loss: 2.2274, Val Precision: 0.2144, ACC: 0.0120, top_k: 0.2345, top_k=1: 0.2195\n"
     ]
    },
    {
     "name": "stdout",
     "output_type": "stream",
     "text": [
      "Epoch: 30/250, Loss: 2.3118, Val Precision: 0.2304, ACC: 0.0120, top_k: 0.2280, top_k=1: 0.2195\n"
     ]
    },
    {
     "name": "stdout",
     "output_type": "stream",
     "text": [
      "Epoch: 31/250, Loss: 2.4021, Val Precision: 0.2262, ACC: 0.0120, top_k: 0.2257, top_k=1: 0.2195\n"
     ]
    },
    {
     "name": "stdout",
     "output_type": "stream",
     "text": [
      "Epoch: 32/250, Loss: 2.4896, Val Precision: 0.2207, ACC: 0.0093, top_k: 0.2217, top_k=1: 0.2195\n"
     ]
    },
    {
     "name": "stdout",
     "output_type": "stream",
     "text": [
      "Epoch: 33/250, Loss: 2.4572, Val Precision: 0.2120, ACC: 0.0093, top_k: 0.2207, top_k=1: 0.2195\n"
     ]
    },
    {
     "name": "stdout",
     "output_type": "stream",
     "text": [
      "Epoch: 34/250, Loss: 2.3201, Val Precision: 0.2026, ACC: 0.0127, top_k: 0.2200, top_k=1: 0.2195\n"
     ]
    },
    {
     "name": "stdout",
     "output_type": "stream",
     "text": [
      "Epoch: 35/250, Loss: 2.1228, Val Precision: 0.1947, ACC: 0.0193, top_k: 0.2143, top_k=1: 0.2195\n"
     ]
    },
    {
     "name": "stdout",
     "output_type": "stream",
     "text": [
      "Epoch: 36/250, Loss: 1.9082, Val Precision: 0.1645, ACC: 0.0420, top_k: 0.2170, top_k=1: 0.2195\n"
     ]
    },
    {
     "name": "stdout",
     "output_type": "stream",
     "text": [
      "Epoch: 37/250, Loss: 1.6955, Val Precision: 0.1592, ACC: 0.0780, top_k: 0.2172, top_k=1: 0.2195\n"
     ]
    },
    {
     "name": "stdout",
     "output_type": "stream",
     "text": [
      "Epoch: 38/250, Loss: 1.5903, Val Precision: 0.1689, ACC: 0.0893, top_k: 0.2245, top_k=1: 0.2195\n"
     ]
    },
    {
     "name": "stdout",
     "output_type": "stream",
     "text": [
      "Epoch: 39/250, Loss: 1.5520, Val Precision: 0.1903, ACC: 0.0880, top_k: 0.2267, top_k=1: 0.2195\n"
     ]
    },
    {
     "name": "stdout",
     "output_type": "stream",
     "text": [
      "Epoch: 40/250, Loss: 1.4896, Val Precision: 0.2366, ACC: 0.0720, top_k: 0.2307, top_k=1: 0.2195\n"
     ]
    },
    {
     "name": "stdout",
     "output_type": "stream",
     "text": [
      "Epoch: 41/250, Loss: 1.4162, Val Precision: 0.2369, ACC: 0.0547, top_k: 0.2308, top_k=1: 0.2195\n"
     ]
    },
    {
     "name": "stdout",
     "output_type": "stream",
     "text": [
      "Epoch: 42/250, Loss: 1.3587, Val Precision: 0.2177, ACC: 0.0453, top_k: 0.2293, top_k=1: 0.2195\n"
     ]
    },
    {
     "name": "stdout",
     "output_type": "stream",
     "text": [
      "Epoch: 43/250, Loss: 1.3045, Val Precision: 0.2196, ACC: 0.0407, top_k: 0.2283, top_k=1: 0.2195\n"
     ]
    },
    {
     "name": "stdout",
     "output_type": "stream",
     "text": [
      "Epoch: 44/250, Loss: 1.2759, Val Precision: 0.2241, ACC: 0.0400, top_k: 0.2267, top_k=1: 0.2195\n"
     ]
    },
    {
     "name": "stdout",
     "output_type": "stream",
     "text": [
      "Epoch: 45/250, Loss: 1.2949, Val Precision: 0.2396, ACC: 0.0433, top_k: 0.2262, top_k=1: 0.2195\n"
     ]
    },
    {
     "name": "stdout",
     "output_type": "stream",
     "text": [
      "Epoch: 46/250, Loss: 1.3128, Val Precision: 0.2536, ACC: 0.0520, top_k: 0.2280, top_k=1: 0.2195\n"
     ]
    },
    {
     "name": "stdout",
     "output_type": "stream",
     "text": [
      "Epoch: 47/250, Loss: 1.2929, Val Precision: 0.2636, ACC: 0.0647, top_k: 0.2328, top_k=1: 0.2195\n"
     ]
    },
    {
     "name": "stdout",
     "output_type": "stream",
     "text": [
      "Epoch: 48/250, Loss: 1.2425, Val Precision: 0.2748, ACC: 0.0740, top_k: 0.2353, top_k=1: 0.2195\n"
     ]
    },
    {
     "name": "stdout",
     "output_type": "stream",
     "text": [
      "Epoch: 49/250, Loss: 1.1751, Val Precision: 0.2633, ACC: 0.0740, top_k: 0.2323, top_k=1: 0.2195\n"
     ]
    },
    {
     "name": "stdout",
     "output_type": "stream",
     "text": [
      "Epoch: 50/250, Loss: 1.1191, Val Precision: 0.2503, ACC: 0.0713, top_k: 0.2348, top_k=1: 0.2195\n"
     ]
    },
    {
     "name": "stdout",
     "output_type": "stream",
     "text": [
      "Epoch: 51/250, Loss: 1.0882, Val Precision: 0.2449, ACC: 0.0780, top_k: 0.2328, top_k=1: 0.2195\n"
     ]
    },
    {
     "name": "stdout",
     "output_type": "stream",
     "text": [
      "Epoch: 52/250, Loss: 1.0583, Val Precision: 0.2511, ACC: 0.0867, top_k: 0.2335, top_k=1: 0.2195\n"
     ]
    },
    {
     "name": "stdout",
     "output_type": "stream",
     "text": [
      "Epoch: 53/250, Loss: 1.0248, Val Precision: 0.2561, ACC: 0.0940, top_k: 0.2373, top_k=1: 0.2195\n"
     ]
    },
    {
     "name": "stdout",
     "output_type": "stream",
     "text": [
      "Epoch: 54/250, Loss: 1.0187, Val Precision: 0.2618, ACC: 0.0893, top_k: 0.2422, top_k=1: 0.2195\n"
     ]
    },
    {
     "name": "stdout",
     "output_type": "stream",
     "text": [
      "Epoch: 55/250, Loss: 1.0320, Val Precision: 0.2640, ACC: 0.0900, top_k: 0.2467, top_k=1: 0.2195\n"
     ]
    },
    {
     "name": "stdout",
     "output_type": "stream",
     "text": [
      "Epoch: 56/250, Loss: 1.0313, Val Precision: 0.2660, ACC: 0.0893, top_k: 0.2495, top_k=1: 0.2195\n"
     ]
    },
    {
     "name": "stdout",
     "output_type": "stream",
     "text": [
      "Epoch: 57/250, Loss: 1.0056, Val Precision: 0.2696, ACC: 0.0953, top_k: 0.2528, top_k=1: 0.2195\n"
     ]
    },
    {
     "name": "stdout",
     "output_type": "stream",
     "text": [
      "Epoch: 58/250, Loss: 0.9634, Val Precision: 0.2907, ACC: 0.0920, top_k: 0.2558, top_k=1: 0.2195\n"
     ]
    },
    {
     "name": "stdout",
     "output_type": "stream",
     "text": [
      "Epoch: 59/250, Loss: 0.9192, Val Precision: 0.2962, ACC: 0.1000, top_k: 0.2502, top_k=1: 0.2195\n"
     ]
    },
    {
     "name": "stdout",
     "output_type": "stream",
     "text": [
      "Epoch: 60/250, Loss: 0.9039, Val Precision: 0.3012, ACC: 0.1053, top_k: 0.2468, top_k=1: 0.2195\n"
     ]
    },
    {
     "name": "stdout",
     "output_type": "stream",
     "text": [
      "Epoch: 61/250, Loss: 0.9222, Val Precision: 0.3028, ACC: 0.1053, top_k: 0.2415, top_k=1: 0.2195\n"
     ]
    },
    {
     "name": "stdout",
     "output_type": "stream",
     "text": [
      "Epoch: 62/250, Loss: 0.9326, Val Precision: 0.3010, ACC: 0.1073, top_k: 0.2415, top_k=1: 0.2195\n"
     ]
    },
    {
     "name": "stdout",
     "output_type": "stream",
     "text": [
      "Epoch: 63/250, Loss: 0.9164, Val Precision: 0.3105, ACC: 0.1180, top_k: 0.2508, top_k=1: 0.2195\n"
     ]
    },
    {
     "name": "stdout",
     "output_type": "stream",
     "text": [
      "Epoch: 64/250, Loss: 0.8836, Val Precision: 0.3061, ACC: 0.1273, top_k: 0.2593, top_k=1: 0.2195\n"
     ]
    },
    {
     "name": "stdout",
     "output_type": "stream",
     "text": [
      "Epoch: 65/250, Loss: 0.8553, Val Precision: 0.3031, ACC: 0.1287, top_k: 0.2658, top_k=1: 0.2195\n"
     ]
    },
    {
     "name": "stdout",
     "output_type": "stream",
     "text": [
      "Epoch: 66/250, Loss: 0.8525, Val Precision: 0.3047, ACC: 0.1227, top_k: 0.2705, top_k=1: 0.2195\n"
     ]
    },
    {
     "name": "stdout",
     "output_type": "stream",
     "text": [
      "Epoch: 67/250, Loss: 0.8588, Val Precision: 0.3241, ACC: 0.1187, top_k: 0.2713, top_k=1: 0.2195\n"
     ]
    },
    {
     "name": "stdout",
     "output_type": "stream",
     "text": [
      "Epoch: 68/250, Loss: 0.8509, Val Precision: 0.3283, ACC: 0.1187, top_k: 0.2720, top_k=1: 0.2195\n"
     ]
    },
    {
     "name": "stdout",
     "output_type": "stream",
     "text": [
      "Epoch: 69/250, Loss: 0.8308, Val Precision: 0.3293, ACC: 0.1327, top_k: 0.2680, top_k=1: 0.2195\n"
     ]
    },
    {
     "name": "stdout",
     "output_type": "stream",
     "text": [
      "Epoch: 70/250, Loss: 0.8074, Val Precision: 0.3279, ACC: 0.1460, top_k: 0.2653, top_k=1: 0.2195\n"
     ]
    },
    {
     "name": "stdout",
     "output_type": "stream",
     "text": [
      "Epoch: 71/250, Loss: 0.8088, Val Precision: 0.3274, ACC: 0.1507, top_k: 0.2652, top_k=1: 0.2195\n"
     ]
    },
    {
     "name": "stdout",
     "output_type": "stream",
     "text": [
      "Epoch: 72/250, Loss: 0.8145, Val Precision: 0.3317, ACC: 0.1507, top_k: 0.2673, top_k=1: 0.2195\n"
     ]
    },
    {
     "name": "stdout",
     "output_type": "stream",
     "text": [
      "Epoch: 73/250, Loss: 0.8004, Val Precision: 0.3387, ACC: 0.1500, top_k: 0.2748, top_k=1: 0.2195\n"
     ]
    },
    {
     "name": "stdout",
     "output_type": "stream",
     "text": [
      "Epoch: 74/250, Loss: 0.7763, Val Precision: 0.3424, ACC: 0.1433, top_k: 0.2778, top_k=1: 0.2195\n"
     ]
    },
    {
     "name": "stdout",
     "output_type": "stream",
     "text": [
      "Epoch: 75/250, Loss: 0.7730, Val Precision: 0.3498, ACC: 0.1440, top_k: 0.2783, top_k=1: 0.2195\n"
     ]
    },
    {
     "name": "stdout",
     "output_type": "stream",
     "text": [
      "Epoch: 76/250, Loss: 0.7775, Val Precision: 0.3540, ACC: 0.1513, top_k: 0.2795, top_k=1: 0.2195\n"
     ]
    },
    {
     "name": "stdout",
     "output_type": "stream",
     "text": [
      "Epoch: 77/250, Loss: 0.7646, Val Precision: 0.3500, ACC: 0.1607, top_k: 0.2793, top_k=1: 0.2195\n"
     ]
    },
    {
     "name": "stdout",
     "output_type": "stream",
     "text": [
      "Epoch: 78/250, Loss: 0.7482, Val Precision: 0.3584, ACC: 0.1720, top_k: 0.2800, top_k=1: 0.2195\n"
     ]
    },
    {
     "name": "stdout",
     "output_type": "stream",
     "text": [
      "Epoch: 79/250, Loss: 0.7457, Val Precision: 0.3579, ACC: 0.1693, top_k: 0.2782, top_k=1: 0.2195\n"
     ]
    },
    {
     "name": "stdout",
     "output_type": "stream",
     "text": [
      "Epoch: 80/250, Loss: 0.7475, Val Precision: 0.3647, ACC: 0.1687, top_k: 0.2803, top_k=1: 0.2195\n"
     ]
    },
    {
     "name": "stdout",
     "output_type": "stream",
     "text": [
      "Epoch: 81/250, Loss: 0.7362, Val Precision: 0.3668, ACC: 0.1667, top_k: 0.2807, top_k=1: 0.2195\n"
     ]
    },
    {
     "name": "stdout",
     "output_type": "stream",
     "text": [
      "Epoch: 82/250, Loss: 0.7240, Val Precision: 0.3652, ACC: 0.1780, top_k: 0.2822, top_k=1: 0.2195\n"
     ]
    },
    {
     "name": "stdout",
     "output_type": "stream",
     "text": [
      "Epoch: 83/250, Loss: 0.7245, Val Precision: 0.3682, ACC: 0.1840, top_k: 0.2835, top_k=1: 0.2195\n"
     ]
    },
    {
     "name": "stdout",
     "output_type": "stream",
     "text": [
      "Epoch: 84/250, Loss: 0.7202, Val Precision: 0.3753, ACC: 0.1793, top_k: 0.2855, top_k=1: 0.2195\n"
     ]
    },
    {
     "name": "stdout",
     "output_type": "stream",
     "text": [
      "Epoch: 85/250, Loss: 0.7110, Val Precision: 0.3733, ACC: 0.1833, top_k: 0.2828, top_k=1: 0.2195\n"
     ]
    },
    {
     "name": "stdout",
     "output_type": "stream",
     "text": [
      "Epoch: 86/250, Loss: 0.7073, Val Precision: 0.3841, ACC: 0.1853, top_k: 0.2830, top_k=1: 0.2195\n"
     ]
    },
    {
     "name": "stdout",
     "output_type": "stream",
     "text": [
      "Epoch: 87/250, Loss: 0.7052, Val Precision: 0.3867, ACC: 0.1893, top_k: 0.2832, top_k=1: 0.2195\n"
     ]
    },
    {
     "name": "stdout",
     "output_type": "stream",
     "text": [
      "Epoch: 88/250, Loss: 0.6976, Val Precision: 0.3748, ACC: 0.1913, top_k: 0.2863, top_k=1: 0.2195\n"
     ]
    },
    {
     "name": "stdout",
     "output_type": "stream",
     "text": [
      "Epoch: 89/250, Loss: 0.6924, Val Precision: 0.3858, ACC: 0.1980, top_k: 0.2862, top_k=1: 0.2195\n"
     ]
    },
    {
     "name": "stdout",
     "output_type": "stream",
     "text": [
      "Epoch: 90/250, Loss: 0.6909, Val Precision: 0.3849, ACC: 0.1967, top_k: 0.2882, top_k=1: 0.2195\n"
     ]
    },
    {
     "name": "stdout",
     "output_type": "stream",
     "text": [
      "Epoch: 91/250, Loss: 0.6850, Val Precision: 0.3999, ACC: 0.1967, top_k: 0.2888, top_k=1: 0.2195\n"
     ]
    },
    {
     "name": "stdout",
     "output_type": "stream",
     "text": [
      "Epoch: 92/250, Loss: 0.6809, Val Precision: 0.3959, ACC: 0.1987, top_k: 0.2862, top_k=1: 0.2195\n"
     ]
    },
    {
     "name": "stdout",
     "output_type": "stream",
     "text": [
      "Epoch: 93/250, Loss: 0.6785, Val Precision: 0.3884, ACC: 0.1967, top_k: 0.2883, top_k=1: 0.2195\n"
     ]
    },
    {
     "name": "stdout",
     "output_type": "stream",
     "text": [
      "Epoch: 94/250, Loss: 0.6719, Val Precision: 0.4025, ACC: 0.1987, top_k: 0.2898, top_k=1: 0.2195\n"
     ]
    },
    {
     "name": "stdout",
     "output_type": "stream",
     "text": [
      "Epoch: 95/250, Loss: 0.6744, Val Precision: 0.4001, ACC: 0.2040, top_k: 0.2925, top_k=1: 0.2195\n"
     ]
    },
    {
     "name": "stdout",
     "output_type": "stream",
     "text": [
      "Epoch: 96/250, Loss: 0.6682, Val Precision: 0.4088, ACC: 0.2107, top_k: 0.2925, top_k=1: 0.2195\n"
     ]
    },
    {
     "name": "stdout",
     "output_type": "stream",
     "text": [
      "Epoch: 97/250, Loss: 0.6738, Val Precision: 0.4146, ACC: 0.2133, top_k: 0.2920, top_k=1: 0.2195\n"
     ]
    },
    {
     "name": "stdout",
     "output_type": "stream",
     "text": [
      "Epoch: 98/250, Loss: 0.6666, Val Precision: 0.4239, ACC: 0.2140, top_k: 0.2923, top_k=1: 0.2195\n"
     ]
    },
    {
     "name": "stdout",
     "output_type": "stream",
     "text": [
      "Epoch: 99/250, Loss: 0.6581, Val Precision: 0.4229, ACC: 0.2080, top_k: 0.2923, top_k=1: 0.2195\n"
     ]
    },
    {
     "name": "stdout",
     "output_type": "stream",
     "text": [
      "Epoch: 100/250, Loss: 0.6576, Val Precision: 0.4144, ACC: 0.2080, top_k: 0.2935, top_k=1: 0.2195\n"
     ]
    },
    {
     "name": "stdout",
     "output_type": "stream",
     "text": [
      "Epoch: 101/250, Loss: 0.6527, Val Precision: 0.4288, ACC: 0.2133, top_k: 0.2922, top_k=1: 0.2195\n"
     ]
    },
    {
     "name": "stdout",
     "output_type": "stream",
     "text": [
      "Epoch: 102/250, Loss: 0.6483, Val Precision: 0.4275, ACC: 0.2133, top_k: 0.2940, top_k=1: 0.2195\n"
     ]
    },
    {
     "name": "stdout",
     "output_type": "stream",
     "text": [
      "Epoch: 103/250, Loss: 0.6477, Val Precision: 0.4262, ACC: 0.2147, top_k: 0.2957, top_k=1: 0.2195\n"
     ]
    },
    {
     "name": "stdout",
     "output_type": "stream",
     "text": [
      "Epoch: 104/250, Loss: 0.6444, Val Precision: 0.4332, ACC: 0.2140, top_k: 0.2955, top_k=1: 0.2195\n"
     ]
    },
    {
     "name": "stdout",
     "output_type": "stream",
     "text": [
      "Epoch: 105/250, Loss: 0.6422, Val Precision: 0.4352, ACC: 0.2160, top_k: 0.2940, top_k=1: 0.2195\n"
     ]
    },
    {
     "name": "stdout",
     "output_type": "stream",
     "text": [
      "Epoch: 106/250, Loss: 0.6383, Val Precision: 0.4399, ACC: 0.2147, top_k: 0.2953, top_k=1: 0.2195\n"
     ]
    },
    {
     "name": "stdout",
     "output_type": "stream",
     "text": [
      "Epoch: 107/250, Loss: 0.6382, Val Precision: 0.4420, ACC: 0.2153, top_k: 0.2947, top_k=1: 0.2195\n"
     ]
    },
    {
     "name": "stdout",
     "output_type": "stream",
     "text": [
      "Epoch: 108/250, Loss: 0.6359, Val Precision: 0.4418, ACC: 0.2213, top_k: 0.2948, top_k=1: 0.2195\n"
     ]
    },
    {
     "name": "stdout",
     "output_type": "stream",
     "text": [
      "Epoch: 109/250, Loss: 0.6308, Val Precision: 0.4290, ACC: 0.2173, top_k: 0.2980, top_k=1: 0.2195\n"
     ]
    },
    {
     "name": "stdout",
     "output_type": "stream",
     "text": [
      "Epoch: 110/250, Loss: 0.6290, Val Precision: 0.4387, ACC: 0.2127, top_k: 0.2968, top_k=1: 0.2195\n"
     ]
    },
    {
     "name": "stdout",
     "output_type": "stream",
     "text": [
      "Epoch: 111/250, Loss: 0.6276, Val Precision: 0.4495, ACC: 0.2193, top_k: 0.2978, top_k=1: 0.2195\n"
     ]
    },
    {
     "name": "stdout",
     "output_type": "stream",
     "text": [
      "Epoch: 112/250, Loss: 0.6240, Val Precision: 0.4375, ACC: 0.2200, top_k: 0.2978, top_k=1: 0.2195\n"
     ]
    },
    {
     "name": "stdout",
     "output_type": "stream",
     "text": [
      "Epoch: 113/250, Loss: 0.6238, Val Precision: 0.4370, ACC: 0.2180, top_k: 0.2973, top_k=1: 0.2195\n"
     ]
    },
    {
     "name": "stdout",
     "output_type": "stream",
     "text": [
      "Epoch: 114/250, Loss: 0.6206, Val Precision: 0.4520, ACC: 0.2213, top_k: 0.2973, top_k=1: 0.2195\n"
     ]
    },
    {
     "name": "stdout",
     "output_type": "stream",
     "text": [
      "Epoch: 115/250, Loss: 0.6193, Val Precision: 0.4623, ACC: 0.2227, top_k: 0.2997, top_k=1: 0.2195\n"
     ]
    },
    {
     "name": "stdout",
     "output_type": "stream",
     "text": [
      "Epoch: 116/250, Loss: 0.6173, Val Precision: 0.4536, ACC: 0.2207, top_k: 0.2997, top_k=1: 0.2195\n"
     ]
    },
    {
     "name": "stdout",
     "output_type": "stream",
     "text": [
      "Epoch: 117/250, Loss: 0.6137, Val Precision: 0.4497, ACC: 0.2227, top_k: 0.3013, top_k=1: 0.2195\n"
     ]
    },
    {
     "name": "stdout",
     "output_type": "stream",
     "text": [
      "Epoch: 118/250, Loss: 0.6133, Val Precision: 0.4574, ACC: 0.2207, top_k: 0.2993, top_k=1: 0.2195\n"
     ]
    },
    {
     "name": "stdout",
     "output_type": "stream",
     "text": [
      "Epoch: 119/250, Loss: 0.6091, Val Precision: 0.4628, ACC: 0.2280, top_k: 0.3003, top_k=1: 0.2195\n"
     ]
    },
    {
     "name": "stdout",
     "output_type": "stream",
     "text": [
      "Epoch: 120/250, Loss: 0.6110, Val Precision: 0.4678, ACC: 0.2267, top_k: 0.3010, top_k=1: 0.2195\n"
     ]
    },
    {
     "name": "stdout",
     "output_type": "stream",
     "text": [
      "Epoch: 121/250, Loss: 0.6062, Val Precision: 0.4691, ACC: 0.2213, top_k: 0.3028, top_k=1: 0.2195\n"
     ]
    },
    {
     "name": "stdout",
     "output_type": "stream",
     "text": [
      "Epoch: 122/250, Loss: 0.6096, Val Precision: 0.4632, ACC: 0.2220, top_k: 0.3028, top_k=1: 0.2195\n"
     ]
    },
    {
     "name": "stdout",
     "output_type": "stream",
     "text": [
      "Epoch: 123/250, Loss: 0.6077, Val Precision: 0.4681, ACC: 0.2260, top_k: 0.2993, top_k=1: 0.2195\n"
     ]
    },
    {
     "name": "stdout",
     "output_type": "stream",
     "text": [
      "Epoch: 124/250, Loss: 0.6010, Val Precision: 0.4822, ACC: 0.2313, top_k: 0.3020, top_k=1: 0.2195\n"
     ]
    },
    {
     "name": "stdout",
     "output_type": "stream",
     "text": [
      "Epoch: 125/250, Loss: 0.6015, Val Precision: 0.4760, ACC: 0.2287, top_k: 0.3050, top_k=1: 0.2195\n"
     ]
    },
    {
     "name": "stdout",
     "output_type": "stream",
     "text": [
      "Epoch: 126/250, Loss: 0.5980, Val Precision: 0.4608, ACC: 0.2220, top_k: 0.3035, top_k=1: 0.2195\n"
     ]
    },
    {
     "name": "stdout",
     "output_type": "stream",
     "text": [
      "Epoch: 127/250, Loss: 0.5982, Val Precision: 0.4664, ACC: 0.2280, top_k: 0.3008, top_k=1: 0.2195\n"
     ]
    },
    {
     "name": "stdout",
     "output_type": "stream",
     "text": [
      "Epoch: 128/250, Loss: 0.5953, Val Precision: 0.4872, ACC: 0.2300, top_k: 0.3028, top_k=1: 0.2195\n"
     ]
    },
    {
     "name": "stdout",
     "output_type": "stream",
     "text": [
      "Epoch: 129/250, Loss: 0.5942, Val Precision: 0.4725, ACC: 0.2253, top_k: 0.3048, top_k=1: 0.2195\n"
     ]
    },
    {
     "name": "stdout",
     "output_type": "stream",
     "text": [
      "Epoch: 130/250, Loss: 0.5931, Val Precision: 0.4647, ACC: 0.2247, top_k: 0.3033, top_k=1: 0.2195\n"
     ]
    },
    {
     "name": "stdout",
     "output_type": "stream",
     "text": [
      "Epoch: 131/250, Loss: 0.5892, Val Precision: 0.4912, ACC: 0.2320, top_k: 0.3028, top_k=1: 0.2195\n"
     ]
    },
    {
     "name": "stdout",
     "output_type": "stream",
     "text": [
      "Epoch: 132/250, Loss: 0.5943, Val Precision: 0.4952, ACC: 0.2313, top_k: 0.3037, top_k=1: 0.2195\n"
     ]
    },
    {
     "name": "stdout",
     "output_type": "stream",
     "text": [
      "Epoch: 133/250, Loss: 0.5892, Val Precision: 0.4704, ACC: 0.2267, top_k: 0.3065, top_k=1: 0.2195\n"
     ]
    },
    {
     "name": "stdout",
     "output_type": "stream",
     "text": [
      "Epoch: 134/250, Loss: 0.5904, Val Precision: 0.4704, ACC: 0.2233, top_k: 0.3067, top_k=1: 0.2195\n"
     ]
    },
    {
     "name": "stdout",
     "output_type": "stream",
     "text": [
      "Epoch: 135/250, Loss: 0.5903, Val Precision: 0.4878, ACC: 0.2293, top_k: 0.3045, top_k=1: 0.2195\n"
     ]
    },
    {
     "name": "stdout",
     "output_type": "stream",
     "text": [
      "Epoch: 136/250, Loss: 0.5832, Val Precision: 0.4976, ACC: 0.2367, top_k: 0.3045, top_k=1: 0.2195\n"
     ]
    },
    {
     "name": "stdout",
     "output_type": "stream",
     "text": [
      "Epoch: 137/250, Loss: 0.5902, Val Precision: 0.4973, ACC: 0.2373, top_k: 0.3057, top_k=1: 0.2195\n"
     ]
    },
    {
     "name": "stdout",
     "output_type": "stream",
     "text": [
      "Epoch: 138/250, Loss: 0.5881, Val Precision: 0.4817, ACC: 0.2287, top_k: 0.3070, top_k=1: 0.2195\n"
     ]
    },
    {
     "name": "stdout",
     "output_type": "stream",
     "text": [
      "Epoch: 139/250, Loss: 0.5790, Val Precision: 0.4755, ACC: 0.2293, top_k: 0.3065, top_k=1: 0.2195\n"
     ]
    },
    {
     "name": "stdout",
     "output_type": "stream",
     "text": [
      "Epoch: 140/250, Loss: 0.5799, Val Precision: 0.4977, ACC: 0.2347, top_k: 0.3065, top_k=1: 0.2195\n"
     ]
    },
    {
     "name": "stdout",
     "output_type": "stream",
     "text": [
      "Epoch: 141/250, Loss: 0.5772, Val Precision: 0.4964, ACC: 0.2307, top_k: 0.3072, top_k=1: 0.2195\n"
     ]
    },
    {
     "name": "stdout",
     "output_type": "stream",
     "text": [
      "Epoch: 142/250, Loss: 0.5768, Val Precision: 0.4819, ACC: 0.2300, top_k: 0.3085, top_k=1: 0.2195\n"
     ]
    },
    {
     "name": "stdout",
     "output_type": "stream",
     "text": [
      "Epoch: 143/250, Loss: 0.5747, Val Precision: 0.4944, ACC: 0.2373, top_k: 0.3078, top_k=1: 0.2195\n"
     ]
    },
    {
     "name": "stdout",
     "output_type": "stream",
     "text": [
      "Epoch: 144/250, Loss: 0.5750, Val Precision: 0.5043, ACC: 0.2387, top_k: 0.3112, top_k=1: 0.2195\n"
     ]
    },
    {
     "name": "stdout",
     "output_type": "stream",
     "text": [
      "Epoch: 145/250, Loss: 0.5733, Val Precision: 0.4880, ACC: 0.2313, top_k: 0.3087, top_k=1: 0.2195\n"
     ]
    },
    {
     "name": "stdout",
     "output_type": "stream",
     "text": [
      "Epoch: 146/250, Loss: 0.5714, Val Precision: 0.4869, ACC: 0.2367, top_k: 0.3083, top_k=1: 0.2195\n"
     ]
    },
    {
     "name": "stdout",
     "output_type": "stream",
     "text": [
      "Epoch: 147/250, Loss: 0.5705, Val Precision: 0.4964, ACC: 0.2393, top_k: 0.3090, top_k=1: 0.2195\n"
     ]
    },
    {
     "name": "stdout",
     "output_type": "stream",
     "text": [
      "Epoch: 148/250, Loss: 0.5685, Val Precision: 0.4990, ACC: 0.2333, top_k: 0.3110, top_k=1: 0.2195\n"
     ]
    },
    {
     "name": "stdout",
     "output_type": "stream",
     "text": [
      "Epoch: 149/250, Loss: 0.5686, Val Precision: 0.4934, ACC: 0.2367, top_k: 0.3105, top_k=1: 0.2195\n"
     ]
    },
    {
     "name": "stdout",
     "output_type": "stream",
     "text": [
      "Epoch: 150/250, Loss: 0.5657, Val Precision: 0.4874, ACC: 0.2367, top_k: 0.3093, top_k=1: 0.2195\n"
     ]
    },
    {
     "name": "stdout",
     "output_type": "stream",
     "text": [
      "Epoch: 151/250, Loss: 0.5699, Val Precision: 0.4888, ACC: 0.2393, top_k: 0.3107, top_k=1: 0.2195\n"
     ]
    },
    {
     "name": "stdout",
     "output_type": "stream",
     "text": [
      "Epoch: 152/250, Loss: 0.5673, Val Precision: 0.5020, ACC: 0.2360, top_k: 0.3122, top_k=1: 0.2195\n"
     ]
    },
    {
     "name": "stdout",
     "output_type": "stream",
     "text": [
      "Epoch: 153/250, Loss: 0.5633, Val Precision: 0.5114, ACC: 0.2400, top_k: 0.3117, top_k=1: 0.2195\n"
     ]
    },
    {
     "name": "stdout",
     "output_type": "stream",
     "text": [
      "Epoch: 154/250, Loss: 0.5627, Val Precision: 0.4929, ACC: 0.2393, top_k: 0.3112, top_k=1: 0.2195\n"
     ]
    },
    {
     "name": "stdout",
     "output_type": "stream",
     "text": [
      "Epoch: 155/250, Loss: 0.5603, Val Precision: 0.4993, ACC: 0.2420, top_k: 0.3123, top_k=1: 0.2195\n"
     ]
    },
    {
     "name": "stdout",
     "output_type": "stream",
     "text": [
      "Epoch: 156/250, Loss: 0.5606, Val Precision: 0.5094, ACC: 0.2413, top_k: 0.3133, top_k=1: 0.2195\n"
     ]
    },
    {
     "name": "stdout",
     "output_type": "stream",
     "text": [
      "Epoch: 157/250, Loss: 0.5578, Val Precision: 0.4845, ACC: 0.2340, top_k: 0.3095, top_k=1: 0.2195\n"
     ]
    },
    {
     "name": "stdout",
     "output_type": "stream",
     "text": [
      "Epoch: 158/250, Loss: 0.5602, Val Precision: 0.4983, ACC: 0.2427, top_k: 0.3128, top_k=1: 0.2195\n"
     ]
    },
    {
     "name": "stdout",
     "output_type": "stream",
     "text": [
      "Epoch: 159/250, Loss: 0.5557, Val Precision: 0.5407, ACC: 0.2460, top_k: 0.3142, top_k=1: 0.2195\n"
     ]
    },
    {
     "name": "stdout",
     "output_type": "stream",
     "text": [
      "Epoch: 160/250, Loss: 0.5596, Val Precision: 0.5296, ACC: 0.2453, top_k: 0.3148, top_k=1: 0.2195\n"
     ]
    },
    {
     "name": "stdout",
     "output_type": "stream",
     "text": [
      "Epoch: 161/250, Loss: 0.5592, Val Precision: 0.5023, ACC: 0.2407, top_k: 0.3142, top_k=1: 0.2195\n"
     ]
    },
    {
     "name": "stdout",
     "output_type": "stream",
     "text": [
      "Epoch: 162/250, Loss: 0.5520, Val Precision: 0.5003, ACC: 0.2460, top_k: 0.3058, top_k=1: 0.2195\n"
     ]
    },
    {
     "name": "stdout",
     "output_type": "stream",
     "text": [
      "Epoch: 163/250, Loss: 0.5644, Val Precision: 0.5035, ACC: 0.2473, top_k: 0.3043, top_k=1: 0.2195\n"
     ]
    },
    {
     "name": "stdout",
     "output_type": "stream",
     "text": [
      "Epoch: 164/250, Loss: 0.5665, Val Precision: 0.5104, ACC: 0.2440, top_k: 0.3132, top_k=1: 0.2195\n"
     ]
    },
    {
     "name": "stdout",
     "output_type": "stream",
     "text": [
      "Epoch: 165/250, Loss: 0.5498, Val Precision: 0.5046, ACC: 0.2420, top_k: 0.3162, top_k=1: 0.2195\n"
     ]
    },
    {
     "name": "stdout",
     "output_type": "stream",
     "text": [
      "Epoch: 166/250, Loss: 0.5655, Val Precision: 0.5093, ACC: 0.2407, top_k: 0.3158, top_k=1: 0.2195\n"
     ]
    },
    {
     "name": "stdout",
     "output_type": "stream",
     "text": [
      "Epoch: 167/250, Loss: 0.5785, Val Precision: 0.5322, ACC: 0.2453, top_k: 0.3137, top_k=1: 0.2195\n"
     ]
    },
    {
     "name": "stdout",
     "output_type": "stream",
     "text": [
      "Epoch: 168/250, Loss: 0.5689, Val Precision: 0.5506, ACC: 0.2500, top_k: 0.3158, top_k=1: 0.2195\n"
     ]
    },
    {
     "name": "stdout",
     "output_type": "stream",
     "text": [
      "Epoch: 169/250, Loss: 0.5639, Val Precision: 0.5381, ACC: 0.2480, top_k: 0.3153, top_k=1: 0.2195\n"
     ]
    },
    {
     "name": "stdout",
     "output_type": "stream",
     "text": [
      "Epoch: 170/250, Loss: 0.5571, Val Precision: 0.4930, ACC: 0.2413, top_k: 0.3140, top_k=1: 0.2195\n"
     ]
    },
    {
     "name": "stdout",
     "output_type": "stream",
     "text": [
      "Epoch: 171/250, Loss: 0.5522, Val Precision: 0.4708, ACC: 0.2413, top_k: 0.3088, top_k=1: 0.2195\n"
     ]
    },
    {
     "name": "stdout",
     "output_type": "stream",
     "text": [
      "Epoch: 172/250, Loss: 0.5609, Val Precision: 0.4836, ACC: 0.2420, top_k: 0.3130, top_k=1: 0.2195\n"
     ]
    },
    {
     "name": "stdout",
     "output_type": "stream",
     "text": [
      "Epoch: 173/250, Loss: 0.5591, Val Precision: 0.5209, ACC: 0.2480, top_k: 0.3167, top_k=1: 0.2195\n"
     ]
    },
    {
     "name": "stdout",
     "output_type": "stream",
     "text": [
      "Epoch: 174/250, Loss: 0.5466, Val Precision: 0.5412, ACC: 0.2480, top_k: 0.3172, top_k=1: 0.2195\n"
     ]
    },
    {
     "name": "stdout",
     "output_type": "stream",
     "text": [
      "Epoch: 175/250, Loss: 0.5500, Val Precision: 0.5340, ACC: 0.2473, top_k: 0.3172, top_k=1: 0.2195\n"
     ]
    },
    {
     "name": "stdout",
     "output_type": "stream",
     "text": [
      "Epoch: 176/250, Loss: 0.5543, Val Precision: 0.5178, ACC: 0.2480, top_k: 0.3137, top_k=1: 0.2195\n"
     ]
    },
    {
     "name": "stdout",
     "output_type": "stream",
     "text": [
      "Epoch: 177/250, Loss: 0.5480, Val Precision: 0.5113, ACC: 0.2467, top_k: 0.3180, top_k=1: 0.2195\n"
     ]
    },
    {
     "name": "stdout",
     "output_type": "stream",
     "text": [
      "Epoch: 178/250, Loss: 0.5442, Val Precision: 0.5114, ACC: 0.2453, top_k: 0.3158, top_k=1: 0.2195\n"
     ]
    },
    {
     "name": "stdout",
     "output_type": "stream",
     "text": [
      "Epoch: 179/250, Loss: 0.5470, Val Precision: 0.5146, ACC: 0.2447, top_k: 0.3133, top_k=1: 0.2195\n"
     ]
    },
    {
     "name": "stdout",
     "output_type": "stream",
     "text": [
      "Epoch: 180/250, Loss: 0.5462, Val Precision: 0.5248, ACC: 0.2473, top_k: 0.3168, top_k=1: 0.2195\n"
     ]
    },
    {
     "name": "stdout",
     "output_type": "stream",
     "text": [
      "Epoch: 181/250, Loss: 0.5423, Val Precision: 0.5180, ACC: 0.2473, top_k: 0.3173, top_k=1: 0.2195\n"
     ]
    },
    {
     "name": "stdout",
     "output_type": "stream",
     "text": [
      "Epoch: 182/250, Loss: 0.5416, Val Precision: 0.5247, ACC: 0.2487, top_k: 0.3215, top_k=1: 0.2195\n"
     ]
    },
    {
     "name": "stdout",
     "output_type": "stream",
     "text": [
      "Epoch: 183/250, Loss: 0.5439, Val Precision: 0.5306, ACC: 0.2493, top_k: 0.3203, top_k=1: 0.2195\n"
     ]
    },
    {
     "name": "stdout",
     "output_type": "stream",
     "text": [
      "Epoch: 184/250, Loss: 0.5405, Val Precision: 0.5205, ACC: 0.2467, top_k: 0.3165, top_k=1: 0.2195\n"
     ]
    },
    {
     "name": "stdout",
     "output_type": "stream",
     "text": [
      "Epoch: 185/250, Loss: 0.5398, Val Precision: 0.5145, ACC: 0.2440, top_k: 0.3137, top_k=1: 0.2195\n"
     ]
    },
    {
     "name": "stdout",
     "output_type": "stream",
     "text": [
      "Epoch: 186/250, Loss: 0.5406, Val Precision: 0.5119, ACC: 0.2460, top_k: 0.3172, top_k=1: 0.2195\n"
     ]
    },
    {
     "name": "stdout",
     "output_type": "stream",
     "text": [
      "Epoch: 187/250, Loss: 0.5369, Val Precision: 0.5188, ACC: 0.2473, top_k: 0.3217, top_k=1: 0.2195\n"
     ]
    },
    {
     "name": "stdout",
     "output_type": "stream",
     "text": [
      "Epoch: 188/250, Loss: 0.5390, Val Precision: 0.5336, ACC: 0.2473, top_k: 0.3185, top_k=1: 0.2195\n"
     ]
    },
    {
     "name": "stdout",
     "output_type": "stream",
     "text": [
      "Epoch: 189/250, Loss: 0.5384, Val Precision: 0.5366, ACC: 0.2487, top_k: 0.3175, top_k=1: 0.2195\n"
     ]
    },
    {
     "name": "stdout",
     "output_type": "stream",
     "text": [
      "Epoch: 190/250, Loss: 0.5374, Val Precision: 0.5160, ACC: 0.2460, top_k: 0.3178, top_k=1: 0.2195\n"
     ]
    },
    {
     "name": "stdout",
     "output_type": "stream",
     "text": [
      "Epoch: 191/250, Loss: 0.5351, Val Precision: 0.5067, ACC: 0.2493, top_k: 0.3202, top_k=1: 0.2195\n"
     ]
    },
    {
     "name": "stdout",
     "output_type": "stream",
     "text": [
      "Epoch: 192/250, Loss: 0.5378, Val Precision: 0.5242, ACC: 0.2480, top_k: 0.3220, top_k=1: 0.2195\n"
     ]
    },
    {
     "name": "stdout",
     "output_type": "stream",
     "text": [
      "Epoch: 193/250, Loss: 0.5353, Val Precision: 0.5400, ACC: 0.2480, top_k: 0.3192, top_k=1: 0.2195\n"
     ]
    },
    {
     "name": "stdout",
     "output_type": "stream",
     "text": [
      "Epoch: 194/250, Loss: 0.5343, Val Precision: 0.5262, ACC: 0.2493, top_k: 0.3190, top_k=1: 0.2195\n"
     ]
    },
    {
     "name": "stdout",
     "output_type": "stream",
     "text": [
      "Epoch: 195/250, Loss: 0.5345, Val Precision: 0.5152, ACC: 0.2473, top_k: 0.3223, top_k=1: 0.2195\n"
     ]
    },
    {
     "name": "stdout",
     "output_type": "stream",
     "text": [
      "Epoch: 196/250, Loss: 0.5319, Val Precision: 0.5357, ACC: 0.2507, top_k: 0.3208, top_k=1: 0.2195\n"
     ]
    },
    {
     "name": "stdout",
     "output_type": "stream",
     "text": [
      "Epoch: 197/250, Loss: 0.5347, Val Precision: 0.5290, ACC: 0.2460, top_k: 0.3183, top_k=1: 0.2195\n"
     ]
    },
    {
     "name": "stdout",
     "output_type": "stream",
     "text": [
      "Epoch: 198/250, Loss: 0.5323, Val Precision: 0.5161, ACC: 0.2480, top_k: 0.3212, top_k=1: 0.2195\n"
     ]
    },
    {
     "name": "stdout",
     "output_type": "stream",
     "text": [
      "Epoch: 199/250, Loss: 0.5342, Val Precision: 0.5217, ACC: 0.2487, top_k: 0.3215, top_k=1: 0.2195\n"
     ]
    },
    {
     "name": "stdout",
     "output_type": "stream",
     "text": [
      "Epoch: 200/250, Loss: 0.5321, Val Precision: 0.5513, ACC: 0.2540, top_k: 0.3225, top_k=1: 0.2195\n"
     ]
    },
    {
     "name": "stdout",
     "output_type": "stream",
     "text": [
      "Epoch: 201/250, Loss: 0.5332, Val Precision: 0.5479, ACC: 0.2507, top_k: 0.3235, top_k=1: 0.2195\n"
     ]
    },
    {
     "name": "stdout",
     "output_type": "stream",
     "text": [
      "Epoch: 202/250, Loss: 0.5318, Val Precision: 0.5151, ACC: 0.2460, top_k: 0.3222, top_k=1: 0.2195\n"
     ]
    },
    {
     "name": "stdout",
     "output_type": "stream",
     "text": [
      "Epoch: 203/250, Loss: 0.5300, Val Precision: 0.5085, ACC: 0.2507, top_k: 0.3210, top_k=1: 0.2195\n"
     ]
    },
    {
     "name": "stdout",
     "output_type": "stream",
     "text": [
      "Epoch: 204/250, Loss: 0.5305, Val Precision: 0.5338, ACC: 0.2513, top_k: 0.3215, top_k=1: 0.2195\n"
     ]
    },
    {
     "name": "stdout",
     "output_type": "stream",
     "text": [
      "Epoch: 205/250, Loss: 0.5278, Val Precision: 0.5439, ACC: 0.2520, top_k: 0.3247, top_k=1: 0.2195\n"
     ]
    },
    {
     "name": "stdout",
     "output_type": "stream",
     "text": [
      "Epoch: 206/250, Loss: 0.5275, Val Precision: 0.5272, ACC: 0.2500, top_k: 0.3245, top_k=1: 0.2195\n"
     ]
    },
    {
     "name": "stdout",
     "output_type": "stream",
     "text": [
      "Epoch: 207/250, Loss: 0.5279, Val Precision: 0.5274, ACC: 0.2480, top_k: 0.3217, top_k=1: 0.2195\n"
     ]
    },
    {
     "name": "stdout",
     "output_type": "stream",
     "text": [
      "Epoch: 208/250, Loss: 0.5266, Val Precision: 0.5385, ACC: 0.2527, top_k: 0.3228, top_k=1: 0.2195\n"
     ]
    },
    {
     "name": "stdout",
     "output_type": "stream",
     "text": [
      "Epoch: 209/250, Loss: 0.5267, Val Precision: 0.5366, ACC: 0.2513, top_k: 0.3258, top_k=1: 0.2195\n"
     ]
    },
    {
     "name": "stdout",
     "output_type": "stream",
     "text": [
      "Epoch: 210/250, Loss: 0.5256, Val Precision: 0.5338, ACC: 0.2493, top_k: 0.3240, top_k=1: 0.2195\n"
     ]
    },
    {
     "name": "stdout",
     "output_type": "stream",
     "text": [
      "Epoch: 211/250, Loss: 0.5251, Val Precision: 0.5353, ACC: 0.2500, top_k: 0.3230, top_k=1: 0.2195\n"
     ]
    },
    {
     "name": "stdout",
     "output_type": "stream",
     "text": [
      "Epoch: 212/250, Loss: 0.5245, Val Precision: 0.5464, ACC: 0.2527, top_k: 0.3242, top_k=1: 0.2195\n"
     ]
    },
    {
     "name": "stdout",
     "output_type": "stream",
     "text": [
      "Epoch: 213/250, Loss: 0.5232, Val Precision: 0.5311, ACC: 0.2507, top_k: 0.3247, top_k=1: 0.2195\n"
     ]
    },
    {
     "name": "stdout",
     "output_type": "stream",
     "text": [
      "Epoch: 214/250, Loss: 0.5229, Val Precision: 0.5237, ACC: 0.2500, top_k: 0.3230, top_k=1: 0.2195\n"
     ]
    },
    {
     "name": "stdout",
     "output_type": "stream",
     "text": [
      "Epoch: 215/250, Loss: 0.5223, Val Precision: 0.5394, ACC: 0.2493, top_k: 0.3238, top_k=1: 0.2195\n"
     ]
    },
    {
     "name": "stdout",
     "output_type": "stream",
     "text": [
      "Epoch: 216/250, Loss: 0.5222, Val Precision: 0.5461, ACC: 0.2520, top_k: 0.3240, top_k=1: 0.2195\n"
     ]
    },
    {
     "name": "stdout",
     "output_type": "stream",
     "text": [
      "Epoch: 217/250, Loss: 0.5204, Val Precision: 0.5282, ACC: 0.2487, top_k: 0.3228, top_k=1: 0.2195\n"
     ]
    },
    {
     "name": "stdout",
     "output_type": "stream",
     "text": [
      "Epoch: 218/250, Loss: 0.5239, Val Precision: 0.5280, ACC: 0.2507, top_k: 0.3235, top_k=1: 0.2195\n"
     ]
    },
    {
     "name": "stdout",
     "output_type": "stream",
     "text": [
      "Epoch: 219/250, Loss: 0.5201, Val Precision: 0.5597, ACC: 0.2553, top_k: 0.3243, top_k=1: 0.2195\n"
     ]
    },
    {
     "name": "stdout",
     "output_type": "stream",
     "text": [
      "Epoch: 220/250, Loss: 0.5221, Val Precision: 0.5603, ACC: 0.2547, top_k: 0.3250, top_k=1: 0.2195\n"
     ]
    },
    {
     "name": "stdout",
     "output_type": "stream",
     "text": [
      "Epoch: 221/250, Loss: 0.5210, Val Precision: 0.5360, ACC: 0.2507, top_k: 0.3240, top_k=1: 0.2195\n"
     ]
    },
    {
     "name": "stdout",
     "output_type": "stream",
     "text": [
      "Epoch: 222/250, Loss: 0.5183, Val Precision: 0.5402, ACC: 0.2527, top_k: 0.3238, top_k=1: 0.2195\n"
     ]
    },
    {
     "name": "stdout",
     "output_type": "stream",
     "text": [
      "Epoch: 223/250, Loss: 0.5223, Val Precision: 0.5381, ACC: 0.2513, top_k: 0.3247, top_k=1: 0.2195\n"
     ]
    },
    {
     "name": "stdout",
     "output_type": "stream",
     "text": [
      "Epoch: 224/250, Loss: 0.5188, Val Precision: 0.5539, ACC: 0.2507, top_k: 0.3250, top_k=1: 0.2195\n"
     ]
    },
    {
     "name": "stdout",
     "output_type": "stream",
     "text": [
      "Epoch: 225/250, Loss: 0.5233, Val Precision: 0.5576, ACC: 0.2487, top_k: 0.3248, top_k=1: 0.2195\n"
     ]
    },
    {
     "name": "stdout",
     "output_type": "stream",
     "text": [
      "Epoch: 226/250, Loss: 0.5243, Val Precision: 0.5559, ACC: 0.2547, top_k: 0.3272, top_k=1: 0.2195\n"
     ]
    },
    {
     "name": "stdout",
     "output_type": "stream",
     "text": [
      "Epoch: 227/250, Loss: 0.5157, Val Precision: 0.5329, ACC: 0.2507, top_k: 0.3240, top_k=1: 0.2195\n"
     ]
    },
    {
     "name": "stdout",
     "output_type": "stream",
     "text": [
      "Epoch: 228/250, Loss: 0.5195, Val Precision: 0.5288, ACC: 0.2473, top_k: 0.3260, top_k=1: 0.2195\n"
     ]
    },
    {
     "name": "stdout",
     "output_type": "stream",
     "text": [
      "Epoch: 229/250, Loss: 0.5176, Val Precision: 0.5521, ACC: 0.2540, top_k: 0.3278, top_k=1: 0.2195\n"
     ]
    },
    {
     "name": "stdout",
     "output_type": "stream",
     "text": [
      "Epoch: 230/250, Loss: 0.5157, Val Precision: 0.5688, ACC: 0.2540, top_k: 0.3278, top_k=1: 0.2195\n"
     ]
    },
    {
     "name": "stdout",
     "output_type": "stream",
     "text": [
      "Epoch: 231/250, Loss: 0.5164, Val Precision: 0.5479, ACC: 0.2547, top_k: 0.3273, top_k=1: 0.2195\n"
     ]
    },
    {
     "name": "stdout",
     "output_type": "stream",
     "text": [
      "Epoch: 232/250, Loss: 0.5140, Val Precision: 0.5332, ACC: 0.2473, top_k: 0.3263, top_k=1: 0.2195\n"
     ]
    },
    {
     "name": "stdout",
     "output_type": "stream",
     "text": [
      "Epoch: 233/250, Loss: 0.5166, Val Precision: 0.5383, ACC: 0.2507, top_k: 0.3277, top_k=1: 0.2195\n"
     ]
    },
    {
     "name": "stdout",
     "output_type": "stream",
     "text": [
      "Epoch: 234/250, Loss: 0.5155, Val Precision: 0.5599, ACC: 0.2560, top_k: 0.3287, top_k=1: 0.2195\n"
     ]
    },
    {
     "name": "stdout",
     "output_type": "stream",
     "text": [
      "Epoch: 235/250, Loss: 0.5132, Val Precision: 0.5536, ACC: 0.2527, top_k: 0.3268, top_k=1: 0.2195\n"
     ]
    },
    {
     "name": "stdout",
     "output_type": "stream",
     "text": [
      "Epoch: 236/250, Loss: 0.5137, Val Precision: 0.5455, ACC: 0.2507, top_k: 0.3273, top_k=1: 0.2195\n"
     ]
    },
    {
     "name": "stdout",
     "output_type": "stream",
     "text": [
      "Epoch: 237/250, Loss: 0.5125, Val Precision: 0.5530, ACC: 0.2553, top_k: 0.3285, top_k=1: 0.2195\n"
     ]
    },
    {
     "name": "stdout",
     "output_type": "stream",
     "text": [
      "Epoch: 238/250, Loss: 0.5117, Val Precision: 0.5568, ACC: 0.2547, top_k: 0.3298, top_k=1: 0.2195\n"
     ]
    },
    {
     "name": "stdout",
     "output_type": "stream",
     "text": [
      "Epoch: 239/250, Loss: 0.5124, Val Precision: 0.5556, ACC: 0.2540, top_k: 0.3282, top_k=1: 0.2195\n"
     ]
    },
    {
     "name": "stdout",
     "output_type": "stream",
     "text": [
      "Epoch: 240/250, Loss: 0.5105, Val Precision: 0.5488, ACC: 0.2507, top_k: 0.3272, top_k=1: 0.2195\n"
     ]
    },
    {
     "name": "stdout",
     "output_type": "stream",
     "text": [
      "Epoch: 241/250, Loss: 0.5129, Val Precision: 0.5544, ACC: 0.2527, top_k: 0.3275, top_k=1: 0.2195\n"
     ]
    },
    {
     "name": "stdout",
     "output_type": "stream",
     "text": [
      "Epoch: 242/250, Loss: 0.5109, Val Precision: 0.5668, ACC: 0.2587, top_k: 0.3295, top_k=1: 0.2195\n"
     ]
    },
    {
     "name": "stdout",
     "output_type": "stream",
     "text": [
      "Epoch: 243/250, Loss: 0.5115, Val Precision: 0.5690, ACC: 0.2600, top_k: 0.3297, top_k=1: 0.2195\n"
     ]
    },
    {
     "name": "stdout",
     "output_type": "stream",
     "text": [
      "Epoch: 244/250, Loss: 0.5114, Val Precision: 0.5552, ACC: 0.2553, top_k: 0.3295, top_k=1: 0.2195\n"
     ]
    },
    {
     "name": "stdout",
     "output_type": "stream",
     "text": [
      "Epoch: 245/250, Loss: 0.5084, Val Precision: 0.5497, ACC: 0.2553, top_k: 0.3288, top_k=1: 0.2195\n"
     ]
    },
    {
     "name": "stdout",
     "output_type": "stream",
     "text": [
      "Epoch: 246/250, Loss: 0.5086, Val Precision: 0.5613, ACC: 0.2580, top_k: 0.3302, top_k=1: 0.2195\n"
     ]
    },
    {
     "name": "stdout",
     "output_type": "stream",
     "text": [
      "Epoch: 247/250, Loss: 0.5079, Val Precision: 0.5852, ACC: 0.2620, top_k: 0.3292, top_k=1: 0.2195\n"
     ]
    },
    {
     "name": "stdout",
     "output_type": "stream",
     "text": [
      "Epoch: 248/250, Loss: 0.5084, Val Precision: 0.5524, ACC: 0.2567, top_k: 0.3303, top_k=1: 0.2195\n"
     ]
    },
    {
     "name": "stdout",
     "output_type": "stream",
     "text": [
      "Epoch: 249/250, Loss: 0.5071, Val Precision: 0.5525, ACC: 0.2573, top_k: 0.3303, top_k=1: 0.2195\n"
     ]
    },
    {
     "name": "stdout",
     "output_type": "stream",
     "text": [
      "{\n",
      "    \"accuracy\": 0.266,\n",
      "    \"micro_precision\": 0.5550139275766016,\n",
      "    \"macro_precision\": 0.5195010591462185,\n",
      "    \"recall\": 0.23988768171019298,\n",
      "    \"f1_score\": 0.3249318773952024,\n",
      "    \"auc\": 0.670262700171406,\n",
      "    \"top_k_1\": 0.20753333333333335,\n",
      "    \"top_k_pred\": 0.31383333333333335\n",
      "}\n",
      "\t- Extracting and saving embeddings...\n"
     ]
    },
    {
     "name": "stdout",
     "output_type": "stream",
     "text": [
      "              precision    recall  f1-score   support\n",
      "\n",
      "     Class 0       0.62      0.37      0.46       513\n",
      "     Class 1       0.55      0.22      0.32       394\n",
      "     Class 2       0.53      0.27      0.36       337\n",
      "     Class 3       0.72      0.41      0.52       324\n",
      "     Class 4       0.43      0.21      0.28       279\n",
      "     Class 5       0.52      0.20      0.28       285\n",
      "     Class 6       0.52      0.22      0.31       250\n",
      "     Class 7       0.56      0.27      0.37       277\n",
      "     Class 8       0.32      0.07      0.12       245\n",
      "     Class 9       0.42      0.15      0.22       209\n",
      "\n",
      "   micro avg       0.56      0.26      0.35      3113\n",
      "   macro avg       0.52      0.24      0.32      3113\n",
      "weighted avg       0.54      0.26      0.34      3113\n",
      " samples avg       0.26      0.17      0.18      3113\n",
      "\n"
     ]
    },
    {
     "data": {
      "image/png": "[encoded data removed]",
      "text/plain": [
       "<Figure size 1500x800 with 2 Axes>"
      ]
     },
     "metadata": {},
     "output_type": "display_data"
    }
   ],
   "source": [
    "import sys, os\n",
    "\n",
    "sys.path.append('/lustre/home/almusawiaf/PhD_Projects/HGNN_Project2/GNN_Models/weighted_sum_precision')\n",
    "from GNN_functions_patients_only import *\n",
    "from GNN_SAGE import *\n",
    "from GNN_GCN import *\n",
    "\n",
    "\n",
    "if __name__ == \"__main__\":\n",
    "    num_Sample     = int(os.getenv('num_Sample', 15000))  # Default to 10000 if not set\n",
    "    num_Labels     = int(os.getenv('NUM_DISEASES', 203))  # Default to 100 if not set\n",
    "    num_top_Labels = int(os.getenv('NUM_TOP_DISEASES', 203))  # Selecting the top most frequent labels\n",
    "    disease_name   = os.getenv('DISEASE_FILE', f'GEDMPLB')  # Default to 'sample/10000' if not set\n",
    "    num_Meta_Path  = int(os.getenv('num_Meta_Path', 10))  # Default to 10\n",
    "    num_epochs     = int(os.getenv('num_epochs', 50))    \n",
    "    # ============================================================================\n",
    "\n",
    "    saving_path = f'/lustre/home/almusawiaf/PhD_Projects/HGNN_Project2/Data/{num_Labels}_Diagnoses/{disease_name}/{num_Sample}/HGNN_data'\n",
    "\n",
    "    GNN_model = SAGE_MLC\n",
    "    with_SNF = False\n",
    "    super_class = '' # '_sc'\n",
    "    \n",
    "    exp_name = f'{num_epochs}_epochs_SNF{super_class}'\n",
    "\n",
    "    losses, val_metrics = main(saving_path, \n",
    "                               GNN_Model=GNN_model, \n",
    "                               num_epochs = num_epochs,\n",
    "                               with_SNF = with_SNF,\n",
    "                               exp_name = exp_name,\n",
    "                               super_class = super_class, \n",
    "                               num_Meta_Path = num_Meta_Path,\n",
    "                               top_k = 5,\n",
    "                               num_D = num_top_Labels)\n",
    "\n",
    "    plot_combined_metrics_and_loss(losses, val_metrics)\n",
    "\n",
    "    if with_SNF:\n",
    "        save_results(losses, val_metrics, f'{saving_path}/performance_SAGE_{num_epochs}_eps_SNF')\n",
    "    else:\n",
    "        save_results(losses, val_metrics, f'{saving_path}/performance_SAGE_{num_epochs}_eps')\n"
   ]
  }
 ],
 "metadata": {
  "kernelspec": {
   "display_name": "Python 3 (ipykernel)",
   "language": "python",
   "name": "python3"
  },
  "language_info": {
   "codemirror_mode": {
    "name": "ipython",
    "version": 3
   },
   "file_extension": ".py",
   "mimetype": "text/x-python",
   "name": "python",
   "nbconvert_exporter": "python",
   "pygments_lexer": "ipython3",
   "version": "3.9.18"
  }
 },
 "nbformat": 4,
 "nbformat_minor": 4
}
