{
 "cells": [
  {
   "cell_type": "markdown",
   "metadata": {},
   "source": [
    "# Generating the data\n",
    "1. Generate the Heterogeneous graph\n",
    "2. Generate the feature set from the clinical notes.\n",
    "3. Generate the Labels\n",
    "4. Generate the k-metapath-based similarity matrices\n",
    "5. Convert the As to edge-based."
   ]
  },
  {
   "cell_type": "code",
   "execution_count": 1,
   "metadata": {},
   "outputs": [],
   "source": [
    "class heterogeneous_Graph:\n",
    "    def __init__(self, G):\n",
    "        self.HG = G\n",
    "        Nodes = list(self.HG.nodes())\n",
    "        self.Patients =    [v for v in Nodes if v[0]=='C']\n",
    "        self.Visits =      [v for v in Nodes if v[0]=='V']\n",
    "        self.Medications = [v for v in Nodes if v[0]=='M']\n",
    "        self.Diagnoses  =  [v for v in Nodes if v[0]=='D']\n",
    "        self.Procedures =  [v for v in Nodes if v[0]=='P']\n",
    "        self.Labs       =  [v for v in Nodes if v[0]=='L']\n",
    "        self.MicroBio   =  [v for v in Nodes if v[0]=='B']\n",
    "        self.Nodes = self.Patients  + self.Visits + self.Medications + self.Diagnoses + self.Procedures + self.Labs + self.MicroBio\n",
    "        \n"
   ]
  },
  {
   "cell_type": "code",
   "execution_count": 2,
   "metadata": {},
   "outputs": [
    {
     "name": "stdout",
     "output_type": "stream",
     "text": [
      "203 DMPLB2 PC 250 True\n"
     ]
    }
   ],
   "source": [
    "import os\n",
    "import torch\n",
    "import networkx as nx\n",
    "import random\n",
    "\n",
    "\n",
    "def save_list_as_pickle(L, given_path, file_name):\n",
    "    import pickle\n",
    "    print(f'saving to {given_path}/{file_name}.pkl')\n",
    "    with open(f'{given_path}/{file_name}.pkl', 'wb') as file:\n",
    "        pickle.dump(L, file)\n",
    "\n",
    "# OAK :-)\n",
    "MIMIC_Path        = os.getenv('MIMIC_Path',        '/home/almusawiaf/MyDocuments/PhD_Projects/Data/MIMIC_resources')\n",
    "disease_data_path = os.getenv('disease_data_path', '/home/almusawiaf/MyDocuments/PhD_Projects/HGNN_Project2/Data')\n",
    "\n",
    "# # Check for Athena :-(\n",
    "# MIMIC_Path        = os.getenv('MIMIC_Path', '/home/almusawiaf/MyDocuments/PhD_Projects/Data/MIMIC_resources')\n",
    "# disease_data_path = os.getenv('disease_data_path', '/home/almusawiaf/PhD_Projects/HGNN_Project2/Data')\n",
    "\n",
    "num_Diseases    = int(os.getenv('NUM_DISEASES', 203))  \n",
    "DISEASE_FILE    = os.getenv('DISEASE_FILE', f'DMPLB2')  \n",
    "similarity_type = os.getenv('similarity_type', 'PC')  # options are PC: PathCount, SPS: Symmetric PathSim\n",
    "\n",
    "num_Sample      = int(os.getenv('num_Sample', 250))  \n",
    "r_u_sampling    = os.getenv('r_u_sampling', 'True')  \n",
    "SNF_ing         = os.getenv('SNF_ing', 'False')  \n",
    "\n",
    "\n",
    "if r_u_sampling=='True':\n",
    "    sampling = True\n",
    "else:\n",
    "    sampling = False\n",
    "\n",
    "if SNF_ing=='True':\n",
    "    SNF_ing = True\n",
    "else:\n",
    "    SNF_ing = False\n",
    "\n",
    "print(num_Diseases, DISEASE_FILE, similarity_type, num_Sample, sampling)\n"
   ]
  },
  {
   "cell_type": "code",
   "execution_count": 3,
   "metadata": {},
   "outputs": [],
   "source": [
    "# =================================================================================\n",
    "saving_path = f'{disease_data_path}/{num_Diseases}_Diagnoses/{DISEASE_FILE}/{num_Sample}'\n",
    "\n",
    "for p in ['HGNN_data', 'clinical_items', 'GMLs', 'OHV', 'PSGs', 'SNFs']:\n",
    "    os.makedirs(f'{saving_path}/{p}', exist_ok=True)\n",
    "\n",
    "saving_path = f'{disease_data_path}/{num_Diseases}_Diagnoses/{DISEASE_FILE}/{num_Sample}/HGNN_data'\n",
    "os.makedirs(f'{saving_path}/As', exist_ok=True)\n",
    "os.makedirs(f'{saving_path}/edges', exist_ok=True)\n",
    "# =================================================================================\n",
    "\n",
    "complete_HG = nx.read_gml(f'{disease_data_path}/{num_Diseases}_Diagnoses/complete_HG.gml')\n"
   ]
  },
  {
   "cell_type": "markdown",
   "metadata": {},
   "source": [
    "### Generating complete HG from scratch"
   ]
  },
  {
   "cell_type": "code",
   "execution_count": 4,
   "metadata": {},
   "outputs": [],
   "source": [
    "from module1 import generating_HG as gHG\n",
    "# HG_inst = gHG.Generate_HG(MIMIC_Path)\n",
    "# nx.write_gml(HG_inst.HG, f'{disease_data_path}/{num_Diseases}_Diagnoses/complete_HG.gml')\n",
    "# gHG.G_statistics(HG_inst.HG)\n",
    "# # ======================To sample or not to sample, that is the question =========================\n",
    "# if not sampling:\n",
    "#     num_Sample = len(HG_inst.Patients)\n",
    "#     HG = HG_inst.HG\n",
    "# else:\n",
    "#     patients_to_remove = random.sample(HG_inst.Patients, len(HG_inst.Patients) - num_Sample)\n",
    "#     print(len(patients_to_remove), num_Sample, len(HG_inst.Patients))\n",
    "    \n",
    "#     # deleting the nodes\n",
    "#     HG = gHG.remove_patients_and_linked_visits(patients_to_remove, HG_inst.HG)\n",
    "# # ================================================================================="
   ]
  },
  {
   "cell_type": "markdown",
   "metadata": {},
   "source": [
    "## Whole graph or Sample graph"
   ]
  },
  {
   "cell_type": "code",
   "execution_count": 6,
   "metadata": {},
   "outputs": [
    {
     "name": "stdout",
     "output_type": "stream",
     "text": [
      "number of patients = 46437\n",
      "number of visits = 58929\n",
      "number of Medication = 592\n",
      "number of Diagnoses = 203\n",
      "number of Procedures = 89\n",
      "number of Labs = 480\n",
      "number of MicoBio = 64\n",
      "number of Edges = 5336561\n",
      "------------------------------------------\n",
      "\n",
      "46187 250 46437\n",
      "Number of PATIENTS to remove: 46187\n",
      "Number of nodes to remove: 104687\n"
     ]
    }
   ],
   "source": [
    "HG_obj = heterogeneous_Graph(complete_HG)\n",
    "\n",
    "gHG.G_statistics(HG_obj.HG)\n",
    "\n",
    "# ======================To sample or not to sample, that is the question =========================\n",
    "if not sampling:\n",
    "    num_Sample = len(HG_obj.Patients)\n",
    "    HG = HG_obj.HG\n",
    "else:\n",
    "    patients_to_remove = random.sample(HG_obj.Patients, len(HG_obj.Patients) - num_Sample)\n",
    "    print(len(patients_to_remove), num_Sample, len(HG_obj.Patients))\n",
    "    \n",
    "    # deleting the nodes\n",
    "    HG = gHG.remove_patients_and_linked_visits(patients_to_remove, HG_obj.HG)"
   ]
  },
  {
   "cell_type": "markdown",
   "metadata": {},
   "source": [
    "## Extracting the features"
   ]
  },
  {
   "cell_type": "code",
   "execution_count": 7,
   "metadata": {},
   "outputs": [
    {
     "name": "stdout",
     "output_type": "stream",
     "text": [
      "getting the feature set for all nodes\n",
      "getting the feature set for all nodes: visit_level\n",
      "getting the feature set for all nodes\n",
      "getting the feature set for all nodes: visit_level\n"
     ]
    }
   ],
   "source": [
    "from module1 import XY_preparation as XY\n",
    "# ============================ Extracting Patient-based X and Y =================================\n",
    "XY_inst = XY.XY_preparation(HG)\n",
    "X = XY_inst.X\n",
    "Y = XY_inst.Y\n",
    "# ============================ Extracting Visit-based X and Y =================================\n",
    "XY_inst = XY.XY_preparation(HG)\n",
    "XV = XY_inst.X_visit\n",
    "YV = XY_inst.Y_visit\n",
    "# ==================================== Saving X and Y  (patient-based) ============================\n",
    "torch.save(X, f'{saving_path}/X.pt')\n",
    "torch.save(Y, f'{saving_path}/Y.pt')\n",
    "# ==================================== Saving X and Y (visit-based) =================================\n",
    "torch.save(X, f'{saving_path}/XV.pt')\n",
    "torch.save(Y, f'{saving_path}/YV.pt')\n",
    "del X\n",
    "del Y\n",
    "del XV\n",
    "del YV\n"
   ]
  },
  {
   "cell_type": "markdown",
   "metadata": {},
   "source": [
    "## Meta-path Similarities"
   ]
  },
  {
   "cell_type": "code",
   "execution_count": 8,
   "metadata": {},
   "outputs": [
    {
     "name": "stdout",
     "output_type": "stream",
     "text": [
      "extracting As from HG\n",
      "\n",
      "[(2107, 2107), (2107, 2107), (2107, 2107), (2107, 2107), (2107, 2107), (2107, 2107)]\n",
      "=============================================================\n",
      "Multiplication phase...\n",
      "\n",
      "Patients:\n",
      "\tWorking on: Patient-Medication\n",
      "\tWorking on: Patient-Diagnosis\n",
      "\tWorking on: Patient-Procedure\n",
      "\tWorking on: Patient-Lab\n",
      "\tWorking on: Patient-MicroBiology\n",
      "Diagnoses:\n",
      "\tWorking on: Diagnosis-Medication\n",
      "\tWorking on: Diagnosis-Procedure\n",
      "\tWorking on: Diagnosis-Lab\n",
      "\tWorking on: Diagnosis-MicroBiology\n",
      "Procedures:\n",
      "\tWorking on: Procedure-Medication\n",
      "\tWorking on: Procedure-Lab\n",
      "\tWorking on: Procedure-MicroBiology\n",
      "\tWorking on: Medication-Lab\n",
      "\tWorking on: Medication-MicroBiology\n",
      "\tWorking on: Lab-MicroBiology\n",
      "Homogeneous similarity\n",
      "1. Patient-Patient\n",
      "\tWorking on: Patient-Visit-Medication-Visit-Patient\n",
      "\tWorking on: Patient-Visit-Diagnosis-Visit-Patient\n",
      "\tWorking on: Patient-Visit-Procedure-Visit-Patient\n",
      "\tWorking on: Patient-Visit-Lab-Visit-Patient\n",
      "\tWorking on: Patient-Visit-MicroBiology-Visit-Patient\n",
      "2. visit-visit\n",
      "\tWorking on: Visit-Medication-Visit\n",
      "\tWorking on: Visit-Diagnosis-Visit\n",
      "\tWorking on: Visit-Procedure-Visit\n",
      "\tWorking on: Visit-Lab-Visit\n",
      "\tWorking on: Visit-MicroBiology-Visit\n",
      "=============================================================\n",
      "Multiplication phase...\n",
      "\n",
      "Number of meta-paths = 31\n",
      "saving to /home/almusawiaf/MyDocuments/PhD_Projects/HGNN_Project2/Data/203_Diagnoses/DMPLB2/250/HGNN_data/As/selected_i.pkl\n",
      "selected i = [0, 1, 2, 3, 4, 5, 6, 7, 8, 9, 10, 11, 12, 13, 14, 15, 16, 17, 18, 19, 20, 21, 22, 23, 24, 25, 26, 27, 28, 29, 30]\n",
      "saving to /home/almusawiaf/MyDocuments/PhD_Projects/HGNN_Project2/Data/203_Diagnoses/DMPLB2/250/HGNN_data/Nodes.pkl\n"
     ]
    }
   ],
   "source": [
    "from module1 import meta_path_2 as MP\n",
    "# ======================= Computing the Meta Path based Similarities ======================\n",
    "MP_inst = MP.Meta_path(HG, similarity_type = 'PC', saving_path = saving_path)\n",
    "# ==================================== SAVING =============================================\n",
    "nx.write_gml(HG, f'{saving_path}/HG.gml')\n",
    "save_list_as_pickle(MP_inst.Nodes,   saving_path, 'Nodes')\n"
   ]
  },
  {
   "cell_type": "markdown",
   "metadata": {},
   "source": [
    "## Reduction"
   ]
  },
  {
   "cell_type": "code",
   "execution_count": 9,
   "metadata": {},
   "outputs": [
    {
     "name": "stdout",
     "output_type": "stream",
     "text": [
      "Matrix 0: 304 non-zero elements\n",
      "\tSaving all non-zero values... (304 non-zero elements)\n",
      "Matrix 1: 2666 non-zero elements\n",
      "\tSaving all non-zero values... (2666 non-zero elements)\n",
      "Matrix 2: 0 non-zero elements\n",
      "Matrix 2 has zero values. Not saving...\n",
      "Matrix 3: 975 non-zero elements\n",
      "\tSaving all non-zero values... (975 non-zero elements)\n",
      "Matrix 4: 28836 non-zero elements\n",
      "\tSaving all non-zero values... (28836 non-zero elements)\n",
      "Matrix 5: 218 non-zero elements\n",
      "\tSaving all non-zero values... (218 non-zero elements)\n",
      "Matrix 6: 0 non-zero elements\n",
      "Matrix 6 has zero values. Not saving...\n",
      "Matrix 7: 14695 non-zero elements\n",
      "\tSaving all non-zero values... (14695 non-zero elements)\n",
      "Matrix 8: 11662 non-zero elements\n",
      "\tSaving all non-zero values... (11662 non-zero elements)\n",
      "Matrix 9: 30187 non-zero elements\n",
      "\tSaving all non-zero values... (30187 non-zero elements)\n",
      "Matrix 10: 2197 non-zero elements\n",
      "\tSaving all non-zero values... (2197 non-zero elements)\n",
      "Matrix 11: 0 non-zero elements\n",
      "Matrix 11 has zero values. Not saving...\n",
      "Matrix 12: 27157 non-zero elements\n",
      "\tSaving all non-zero values... (27157 non-zero elements)\n",
      "Matrix 13: 20029 non-zero elements\n",
      "\tSaving all non-zero values... (20029 non-zero elements)\n",
      "Matrix 14: 149310 non-zero elements\n",
      "\tSaving all non-zero values... (149310 non-zero elements)\n",
      "Matrix 15: 3297 non-zero elements\n",
      "\tSaving all non-zero values... (3297 non-zero elements)\n",
      "Matrix 16: 0 non-zero elements\n",
      "Matrix 16 has zero values. Not saving...\n",
      "Matrix 17: 2383 non-zero elements\n",
      "\tSaving all non-zero values... (2383 non-zero elements)\n",
      "Matrix 18: 734 non-zero elements\n",
      "\tSaving all non-zero values... (734 non-zero elements)\n",
      "Matrix 19: 20223 non-zero elements\n",
      "\tSaving all non-zero values... (20223 non-zero elements)\n",
      "Matrix 20: 185 non-zero elements\n",
      "\tSaving all non-zero values... (185 non-zero elements)\n",
      "Matrix 21: 0 non-zero elements\n",
      "Matrix 21 has zero values. Not saving...\n",
      "Matrix 22: 2887 non-zero elements\n",
      "\tSaving all non-zero values... (2887 non-zero elements)\n",
      "Matrix 23: 41204 non-zero elements\n",
      "\tSaving all non-zero values... (41204 non-zero elements)\n",
      "Matrix 24: 961 non-zero elements\n",
      "\tSaving all non-zero values... (961 non-zero elements)\n",
      "Matrix 25: 0 non-zero elements\n",
      "Matrix 25 has zero values. Not saving...\n",
      "Matrix 26: 13047 non-zero elements\n",
      "\tSaving all non-zero values... (13047 non-zero elements)\n",
      "Matrix 27: 326 non-zero elements\n",
      "\tSaving all non-zero values... (326 non-zero elements)\n",
      "Matrix 28: 0 non-zero elements\n",
      "Matrix 28 has zero values. Not saving...\n",
      "Matrix 29: 0 non-zero elements\n",
      "Matrix 29 has zero values. Not saving...\n",
      "Matrix 30: 0 non-zero elements\n",
      "Matrix 30 has zero values. Not saving...\n",
      "done saving [unique edges]:  302712\n",
      "Working on 0th file...\n",
      "Working on 1th file...\n",
      "Working on 2th file...\n",
      "Working on 3th file...\n",
      "Working on 4th file...\n",
      "Working on 5th file...\n",
      "Working on 6th file...\n",
      "Working on 7th file...\n",
      "Working on 8th file...\n",
      "Working on 9th file...\n",
      "Working on 10th file...\n",
      "Working on 11th file...\n",
      "Working on 12th file...\n",
      "Working on 13th file...\n",
      "Working on 14th file...\n",
      "Working on 15th file...\n",
      "Working on 16th file...\n",
      "Working on 17th file...\n",
      "Working on 18th file...\n",
      "Working on 19th file...\n",
      "Working on 20th file...\n",
      "Working on 21th file...\n"
     ]
    }
   ],
   "source": [
    "from module1 import reduction as Red\n",
    "reduction_obj = Red.Reduction(saving_path)"
   ]
  }
 ],
 "metadata": {
  "kernelspec": {
   "display_name": "Python 3 (ipykernel)",
   "language": "python",
   "name": "python3"
  },
  "language_info": {
   "codemirror_mode": {
    "name": "ipython",
    "version": 3
   },
   "file_extension": ".py",
   "mimetype": "text/x-python",
   "name": "python",
   "nbconvert_exporter": "python",
   "pygments_lexer": "ipython3",
   "version": "3.11.9"
  }
 },
 "nbformat": 4,
 "nbformat_minor": 4
}
