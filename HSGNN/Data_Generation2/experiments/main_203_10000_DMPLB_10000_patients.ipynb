{
 "cells": [
  {
   "cell_type": "markdown",
   "metadata": {},
   "source": [
    "# Generating the data\n",
    "1. Generate the Heterogeneous graph\n",
    "2. Generate the feature set from the clinical notes.\n",
    "3. Generate the Labels\n",
    "4. Generate the k-metapath-based similarity matrices\n",
    "5. Convert the As to edge-based."
   ]
  },
  {
   "cell_type": "code",
   "execution_count": 1,
   "metadata": {
    "execution": {
     "iopub.execute_input": "2024-09-26T15:15:19.938273Z",
     "iopub.status.busy": "2024-09-26T15:15:19.937818Z",
     "iopub.status.idle": "2024-09-26T15:16:43.575274Z",
     "shell.execute_reply": "2024-09-26T15:16:43.574585Z"
    }
   },
   "outputs": [
    {
     "name": "stdout",
     "output_type": "stream",
     "text": [
      "203 DMPLB PC 10000 True\n"
     ]
    }
   ],
   "source": [
    "import os\n",
    "import torch\n",
    "import networkx as nx\n",
    "\n",
    "def save_list_as_pickle(L, given_path, file_name):\n",
    "    import pickle\n",
    "    print(f'saving to {given_path}/{file_name}.pkl')\n",
    "    with open(f'{given_path}/{file_name}.pkl', 'wb') as file:\n",
    "        pickle.dump(L, file)\n",
    "\n",
    "\n",
    "num_Diseases    = int(os.getenv('NUM_DISEASES', 203))  \n",
    "DISEASE_FILE    = os.getenv('DISEASE_FILE', f'DMPLB')  \n",
    "similarity_type = os.getenv('similarity_type', 'PC')  # options are PC: PathCount, SPS: Symmetric PathSim\n",
    "\n",
    "num_Sample      = int(os.getenv('num_Sample', 500))  \n",
    "r_u_sampling    = os.getenv('r_u_sampling', 'True')  \n",
    "\n",
    "if r_u_sampling=='True':\n",
    "    sampling = True\n",
    "else:\n",
    "    sampling = False\n",
    "\n",
    "disease_data_path = '/lustre/home/almusawiaf/PhD_Projects/HGNN_Project2/Data'\n",
    "\n",
    "print(num_Diseases, DISEASE_FILE, similarity_type, num_Sample, sampling)\n"
   ]
  },
  {
   "cell_type": "code",
   "execution_count": 2,
   "metadata": {
    "execution": {
     "iopub.execute_input": "2024-09-26T15:16:43.612403Z",
     "iopub.status.busy": "2024-09-26T15:16:43.611843Z",
     "iopub.status.idle": "2024-09-26T15:32:48.057906Z",
     "shell.execute_reply": "2024-09-26T15:32:48.056806Z"
    }
   },
   "outputs": [
    {
     "name": "stdout",
     "output_type": "stream",
     "text": [
      "Loading the dataframes...\n"
     ]
    },
    {
     "name": "stdout",
     "output_type": "stream",
     "text": [
      "\n",
      "We are SAMPLING\n",
      "\n",
      "Use the patients inside the new DataFrame....\n"
     ]
    },
    {
     "name": "stdout",
     "output_type": "stream",
     "text": [
      "Dropping NaN visits\n"
     ]
    },
    {
     "name": "stdout",
     "output_type": "stream",
     "text": [
      "General Information:\n",
      "---------------------------\n",
      "Number of Patients = 10000\n",
      "Number of Diagnosis = 203\n",
      "Number of procedures = 89\n",
      "Number of Medication = 332\n",
      "Number of Lab tests  = 663\n",
      "Number of MicroBio   = 80\n",
      "+++++++++++++++++++++++++++++++++++++++++++++++++++++++++++\n",
      "Splitting lab tests\n"
     ]
    },
    {
     "name": "stderr",
     "output_type": "stream",
     "text": [
      "/lustre/home/almusawiaf/PhD_Projects/HGNN_Project2/Data_Generation/module1/generating_HG.py:77: SettingWithCopyWarning: \n",
      "A value is trying to be set on a copy of a slice from a DataFrame.\n",
      "Try using .loc[row_indexer,col_indexer] = value instead\n",
      "\n",
      "See the caveats in the documentation: https://pandas.pydata.org/pandas-docs/stable/user_guide/indexing.html#returning-a-view-versus-a-copy\n",
      "  lab_df.loc[:, 'ITEMID_FLAG'] = lab_df['ITEMID'].astype(str) + '_' + lab_df['FLAG'].astype(str)\n"
     ]
    },
    {
     "name": "stdout",
     "output_type": "stream",
     "text": [
      "       HADM_ID     ITEMID_FLAG\n",
      "4912  194540.0    50868_normal\n",
      "4913  194540.0    50882_normal\n",
      "4914  194540.0    50902_normal\n",
      "4915  194540.0    50912_normal\n",
      "4916  194540.0    50920_normal\n",
      "4917  194540.0  50931_abnormal\n",
      "4918  194540.0    50971_normal\n",
      "4919  194540.0    50983_normal\n",
      "4920  194540.0    51006_normal\n",
      "4921  194540.0    51146_normal\n",
      "+++++++++++++++++++++++++++++++++++++++++++++++++++++++++++\n",
      "Extracting bipartite networks...\n",
      "\n",
      "Extracting and adding data of Visits\n",
      "SUBJECT_ID HADM_ID C V\n",
      "     ROW_ID  SUBJECT_ID  HADM_ID  SEQ_NUM ICD9_CODE\n",
      "115    1575         124   112906      1.0       441\n",
      "116    1576         124   112906      2.0       486\n",
      "117    1577         124   112906      3.0       496\n",
      "118    1578         124   112906      4.0       070\n",
      "120    1580         124   112906      6.0       414\n"
     ]
    },
    {
     "name": "stdout",
     "output_type": "stream",
     "text": [
      "\n",
      "Extracting and adding data of Diagnosis\n",
      "HADM_ID ICD9_CODE V D\n",
      "     ROW_ID  SUBJECT_ID  HADM_ID  SEQ_NUM ICD9_CODE\n",
      "115    1575         124   112906      1.0       441\n",
      "116    1576         124   112906      2.0       486\n",
      "117    1577         124   112906      3.0       496\n",
      "118    1578         124   112906      4.0       070\n",
      "120    1580         124   112906      6.0       414\n",
      "\n",
      "Extracting and adding data of Procedures\n",
      "HADM_ID ICD9_CODE V P\n",
      "    ROW_ID  SUBJECT_ID  HADM_ID  SEQ_NUM ICD9_CODE\n",
      "16     960       13579   186290        1        36\n",
      "17     961       13579   186290        2        36\n",
      "18     962       13579   186290        3        39\n",
      "19     963       13579   186290        4        37\n",
      "20     964       13579   186290        5        88\n"
     ]
    },
    {
     "name": "stdout",
     "output_type": "stream",
     "text": [
      "\n",
      "Extracting and adding data of Medications\n",
      "hadm_id drug V M\n",
      "   row_id  subject_id  hadm_id  icustay_id            startdate  \\\n",
      "0   32600       42458   159647         NaN  2146-07-21 00:00:00   \n",
      "1   32601       42458   159647         NaN  2146-07-21 00:00:00   \n",
      "2   32602       42458   159647         NaN  2146-07-21 00:00:00   \n",
      "3   32603       42458   159647         NaN  2146-07-21 00:00:00   \n",
      "4   32604       42458   159647         NaN  2146-07-21 00:00:00   \n",
      "\n",
      "               enddate drug_type                         drug  \\\n",
      "0  2146-07-22 00:00:00      MAIN  Pneumococcal Vac Polyvalent   \n",
      "1  2146-07-22 00:00:00      MAIN                    Bisacodyl   \n",
      "2  2146-07-22 00:00:00      MAIN                    Bisacodyl   \n",
      "3  2146-07-22 00:00:00      MAIN                        Senna   \n",
      "4  2146-07-21 00:00:00      MAIN     Docusate Sodium (Liquid)   \n",
      "\n",
      "                 drug_name_poe            drug_name_generic formulary_drug_cd  \\\n",
      "0  Pneumococcal Vac Polyvalent  PNEUMOcoccal Vac Polyvalent           PNEU25I   \n",
      "1                    Bisacodyl                    Bisacodyl             BISA5   \n",
      "2                    Bisacodyl           Bisacodyl (Rectal)           BISA10R   \n",
      "3                        Senna                        Senna           SENN187   \n",
      "4     Docusate Sodium (Liquid)     Docusate Sodium (Liquid)          DOCU100L   \n",
      "\n",
      "       gsn          ndc     prod_strength dose_val_rx dose_unit_rx  \\\n",
      "0  48548.0    6494300.0  25mcg/0.5mL Vial         0.5           mL   \n",
      "1   2947.0  536338101.0          5 mg Tab          10           mg   \n",
      "2   2944.0  574705050.0  10mg Suppository          10           mg   \n",
      "3  19964.0  904516561.0          1 Tablet           1          TAB   \n",
      "4   3017.0  121054410.0      100mg UD Cup         100           mg   \n",
      "\n",
      "  form_val_disp form_unit_disp route  \n",
      "0             1           VIAL    IM  \n",
      "1             2            TAB    PO  \n",
      "2             1           SUPP    PR  \n",
      "3             1            TAB    PO  \n",
      "4             1          UDCUP    PO  \n",
      "\n",
      "Extracting and adding data of Lab tests\n",
      "HADM_ID ITEMID_FLAG V L\n",
      "       HADM_ID   ITEMID_FLAG\n",
      "4912  194540.0  50868_normal\n",
      "4913  194540.0  50882_normal\n",
      "4914  194540.0  50902_normal\n",
      "4915  194540.0  50912_normal\n",
      "4916  194540.0  50920_normal\n"
     ]
    },
    {
     "name": "stdout",
     "output_type": "stream",
     "text": [
      "\n",
      "Extracting and adding data of MicroBiology tests\n",
      "HADM_ID SPEC_ITEMID V B\n",
      "     ROW_ID  SUBJECT_ID  HADM_ID            CHARTDATE            CHARTTIME  \\\n",
      "19      763         102   195700  2196-02-27 00:00:00  2196-02-27 12:30:00   \n",
      "138     312          50   132761  2112-06-23 00:00:00  2112-06-23 21:30:00   \n",
      "207      53          11   194540  2178-04-23 00:00:00  2178-04-23 11:10:00   \n",
      "251      97          23   152223  2153-09-04 00:00:00  2153-09-04 12:54:00   \n",
      "252      98          23   124321  2157-10-24 00:00:00  2157-10-24 12:54:00   \n",
      "\n",
      "     SPEC_ITEMID           SPEC_TYPE_DESC  ORG_ITEMID ORG_NAME  ISOLATE_NUM  \\\n",
      "19       70014.0  BLOOD CULTURE - NEONATE         NaN      NaN          NaN   \n",
      "138      70012.0            BLOOD CULTURE         NaN      NaN          NaN   \n",
      "207      70070.0                     SWAB         NaN      NaN          NaN   \n",
      "251      70064.0                    STOOL         NaN      NaN          NaN   \n",
      "252      70062.0                   SPUTUM         NaN      NaN          NaN   \n",
      "\n",
      "     AB_ITEMID AB_NAME DILUTION_TEXT DILUTION_COMPARISON  DILUTION_VALUE  \\\n",
      "19         NaN     NaN           NaN                 NaN             NaN   \n",
      "138        NaN     NaN           NaN                 NaN             NaN   \n",
      "207        NaN     NaN           NaN                 NaN             NaN   \n",
      "251        NaN     NaN           NaN                 NaN             NaN   \n",
      "252        NaN     NaN           NaN                 NaN             NaN   \n",
      "\n",
      "    INTERPRETATION  \n",
      "19             NaN  \n",
      "138            NaN  \n",
      "207            NaN  \n",
      "251            NaN  \n",
      "252            NaN  \n"
     ]
    },
    {
     "name": "stdout",
     "output_type": "stream",
     "text": [
      "number of patients = 9974\n",
      "number of visits = 24977\n",
      "number of Medication = 332\n",
      "number of Diagnoses = 203\n",
      "number of Procedures = 89\n",
      "number of Labs = 919\n",
      "number of MicoBio = 80\n",
      "number of Edges = 1161639\n",
      "------------------------------------------\n",
      "\n"
     ]
    },
    {
     "name": "stdout",
     "output_type": "stream",
     "text": [
      "+++++++++++++++++++++++++++++++++++++++++++++++++++++++++++\n",
      "number of patients = 9974\n",
      "number of visits = 24977\n",
      "number of Medication = 332\n",
      "number of Diagnoses = 203\n",
      "number of Procedures = 89\n",
      "number of Labs = 480\n",
      "number of MicoBio = 80\n",
      "number of Edges = 1156495\n",
      "------------------------------------------\n",
      "\n",
      "Removing isolated nodes\n",
      "number of patients = 9974\n",
      "number of visits = 24977\n",
      "number of Medication = 332\n",
      "number of Diagnoses = 203\n",
      "number of Procedures = 89\n",
      "number of Labs = 480\n",
      "number of MicoBio = 80\n",
      "number of Edges = 1156495\n",
      "------------------------------------------\n",
      "\n",
      "Number of PATIENTS to remove:  0\n"
     ]
    },
    {
     "name": "stdout",
     "output_type": "stream",
     "text": [
      "Number of nodes to remove:  0\n",
      "number of patients = 9974\n",
      "number of visits = 24977\n",
      "number of Medication = 332\n",
      "number of Diagnoses = 203\n",
      "number of Procedures = 89\n",
      "number of Labs = 480\n",
      "number of MicoBio = 80\n",
      "number of Edges = 1156495\n",
      "------------------------------------------\n",
      "\n",
      "+++++++++++++++++++++++++++++++++++++++++++++++++++++++++++\n"
     ]
    },
    {
     "name": "stdout",
     "output_type": "stream",
     "text": [
      "+++++++++++++++++++++++++++++++++++++++++++++++++++++++++++\n",
      "number of patients = 9974\n",
      "number of visits = 24977\n",
      "number of Medication = 332\n",
      "number of Diagnoses = 203\n",
      "number of Procedures = 89\n",
      "number of Labs = 480\n",
      "number of MicoBio = 80\n",
      "number of Edges = 1156495\n",
      "------------------------------------------\n",
      "\n",
      "getting the feature set for all nodes\n"
     ]
    },
    {
     "name": "stdout",
     "output_type": "stream",
     "text": [
      "getting the feature set for all nodes: visit_level\n"
     ]
    },
    {
     "name": "stdout",
     "output_type": "stream",
     "text": [
      "getting the feature set for all nodes\n"
     ]
    },
    {
     "name": "stdout",
     "output_type": "stream",
     "text": [
      "getting the feature set for all nodes: visit_level\n"
     ]
    },
    {
     "name": "stdout",
     "output_type": "stream",
     "text": [
      "extracting As from HG\n",
      "\n"
     ]
    },
    {
     "name": "stdout",
     "output_type": "stream",
     "text": [
      "[(36135, 36135), (36135, 36135), (36135, 36135), (36135, 36135), (36135, 36135), (36135, 36135)]\n",
      "=============================================================\n",
      "Multiplication phase...\n",
      "\n"
     ]
    },
    {
     "name": "stdout",
     "output_type": "stream",
     "text": [
      "multiplying (36135, 36135) * (36135, 36135) in parallel...\n"
     ]
    },
    {
     "name": "stdout",
     "output_type": "stream",
     "text": [
      "Done multiplication...\n"
     ]
    },
    {
     "name": "stdout",
     "output_type": "stream",
     "text": [
      "multiplying (36135, 36135) * (36135, 36135) in parallel...\n"
     ]
    },
    {
     "name": "stdout",
     "output_type": "stream",
     "text": [
      "Done multiplication...\n"
     ]
    },
    {
     "name": "stdout",
     "output_type": "stream",
     "text": [
      "multiplying (36135, 36135) * (36135, 36135) in parallel...\n"
     ]
    },
    {
     "name": "stdout",
     "output_type": "stream",
     "text": [
      "Done multiplication...\n"
     ]
    },
    {
     "name": "stdout",
     "output_type": "stream",
     "text": [
      "multiplying (36135, 36135) * (36135, 36135) in parallel...\n"
     ]
    },
    {
     "name": "stdout",
     "output_type": "stream",
     "text": [
      "Done multiplication...\n"
     ]
    },
    {
     "name": "stdout",
     "output_type": "stream",
     "text": [
      "multiplying (36135, 36135) * (36135, 36135) in parallel...\n"
     ]
    },
    {
     "name": "stdout",
     "output_type": "stream",
     "text": [
      "Done multiplication...\n"
     ]
    },
    {
     "name": "stdout",
     "output_type": "stream",
     "text": [
      "multiplying (36135, 36135) * (36135, 36135) in parallel...\n"
     ]
    },
    {
     "name": "stdout",
     "output_type": "stream",
     "text": [
      "Done multiplication...\n"
     ]
    },
    {
     "name": "stdout",
     "output_type": "stream",
     "text": [
      "multiplying (36135, 36135) * (36135, 36135) in parallel...\n"
     ]
    },
    {
     "name": "stdout",
     "output_type": "stream",
     "text": [
      "Done multiplication...\n"
     ]
    },
    {
     "name": "stdout",
     "output_type": "stream",
     "text": [
      "multiplying (36135, 36135) * (36135, 36135) in parallel...\n"
     ]
    },
    {
     "name": "stdout",
     "output_type": "stream",
     "text": [
      "Done multiplication...\n"
     ]
    },
    {
     "name": "stdout",
     "output_type": "stream",
     "text": [
      "multiplying (36135, 36135) * (36135, 36135) in parallel...\n"
     ]
    },
    {
     "name": "stdout",
     "output_type": "stream",
     "text": [
      "Done multiplication...\n"
     ]
    },
    {
     "name": "stdout",
     "output_type": "stream",
     "text": [
      "multiplying (36135, 36135) * (36135, 36135) in parallel...\n"
     ]
    },
    {
     "name": "stdout",
     "output_type": "stream",
     "text": [
      "Done multiplication...\n"
     ]
    },
    {
     "name": "stdout",
     "output_type": "stream",
     "text": [
      "multiplying (36135, 36135) * (36135, 36135) in parallel...\n"
     ]
    },
    {
     "name": "stdout",
     "output_type": "stream",
     "text": [
      "Done multiplication...\n"
     ]
    },
    {
     "name": "stdout",
     "output_type": "stream",
     "text": [
      "multiplying (36135, 36135) * (36135, 36135) in parallel...\n"
     ]
    },
    {
     "name": "stdout",
     "output_type": "stream",
     "text": [
      "Done multiplication...\n"
     ]
    },
    {
     "name": "stdout",
     "output_type": "stream",
     "text": [
      "multiplying (36135, 36135) * (36135, 36135) in parallel...\n"
     ]
    },
    {
     "name": "stdout",
     "output_type": "stream",
     "text": [
      "Done multiplication...\n"
     ]
    },
    {
     "name": "stdout",
     "output_type": "stream",
     "text": [
      "multiplying (36135, 36135) * (36135, 36135) in parallel...\n"
     ]
    },
    {
     "name": "stdout",
     "output_type": "stream",
     "text": [
      "Done multiplication...\n"
     ]
    },
    {
     "name": "stdout",
     "output_type": "stream",
     "text": [
      "multiplying (36135, 36135) * (36135, 36135) in parallel...\n"
     ]
    },
    {
     "name": "stdout",
     "output_type": "stream",
     "text": [
      "Done multiplication...\n",
      "multiplying (36135, 36135) * (36135, 36135) in parallel...\n"
     ]
    },
    {
     "name": "stdout",
     "output_type": "stream",
     "text": [
      "Done multiplication...\n",
      "multiplying (36135, 36135) * (36135, 36135) in parallel...\n"
     ]
    },
    {
     "name": "stdout",
     "output_type": "stream",
     "text": [
      "Done multiplication...\n",
      "multiplying (36135, 36135) * (36135, 36135) in parallel...\n"
     ]
    },
    {
     "name": "stdout",
     "output_type": "stream",
     "text": [
      "Done multiplication...\n",
      "multiplying (36135, 36135) * (36135, 36135) in parallel...\n",
      "Done multiplication...\n",
      "multiplying (36135, 36135) * (36135, 36135) in parallel...\n"
     ]
    },
    {
     "name": "stdout",
     "output_type": "stream",
     "text": [
      "Done multiplication...\n",
      "Patient-Patient completed!\n",
      "\n"
     ]
    },
    {
     "name": "stdout",
     "output_type": "stream",
     "text": [
      "multiplying (36135, 36135) * (36135, 36135) in parallel...\n",
      "Done multiplication...\n"
     ]
    },
    {
     "name": "stdout",
     "output_type": "stream",
     "text": [
      "multiplying (36135, 36135) * (36135, 36135) in parallel...\n"
     ]
    },
    {
     "name": "stdout",
     "output_type": "stream",
     "text": [
      "Done multiplication...\n"
     ]
    },
    {
     "name": "stdout",
     "output_type": "stream",
     "text": [
      "multiplying (36135, 36135) * (36135, 36135) in parallel...\n"
     ]
    },
    {
     "name": "stdout",
     "output_type": "stream",
     "text": [
      "Done multiplication...\n"
     ]
    },
    {
     "name": "stdout",
     "output_type": "stream",
     "text": [
      "multiplying (36135, 36135) * (36135, 36135) in parallel...\n"
     ]
    },
    {
     "name": "stdout",
     "output_type": "stream",
     "text": [
      "Done multiplication...\n"
     ]
    },
    {
     "name": "stdout",
     "output_type": "stream",
     "text": [
      "multiplying (36135, 36135) * (36135, 36135) in parallel...\n"
     ]
    },
    {
     "name": "stdout",
     "output_type": "stream",
     "text": [
      "Done multiplication...\n",
      "visit-visit completed!\n",
      "\n",
      "multiplying (36135, 36135) * (36135, 36135) in parallel...\n",
      "Done multiplication...\n",
      "multiplying (36135, 36135) * (36135, 36135) in parallel...\n",
      "Done multiplication...\n",
      "multiplying (36135, 36135) * (36135, 36135) in parallel...\n",
      "Done multiplication...\n",
      "multiplying (36135, 36135) * (36135, 36135) in parallel...\n",
      "Done multiplication...\n",
      "Diagnoses-Diagnoses completed!\n",
      "\n",
      "multiplying (36135, 36135) * (36135, 36135) in parallel...\n",
      "Done multiplication...\n",
      "multiplying (36135, 36135) * (36135, 36135) in parallel...\n",
      "Done multiplication...\n",
      "multiplying (36135, 36135) * (36135, 36135) in parallel...\n",
      "Done multiplication...\n",
      "multiplying (36135, 36135) * (36135, 36135) in parallel...\n",
      "Done multiplication...\n",
      "Med-Med completed!\n",
      "\n",
      "multiplying (36135, 36135) * (36135, 36135) in parallel...\n",
      "Done multiplication...\n",
      "multiplying (36135, 36135) * (36135, 36135) in parallel...\n",
      "Done multiplication...\n",
      "multiplying (36135, 36135) * (36135, 36135) in parallel...\n",
      "Done multiplication...\n",
      "multiplying (36135, 36135) * (36135, 36135) in parallel...\n"
     ]
    },
    {
     "name": "stdout",
     "output_type": "stream",
     "text": [
      "Done multiplication...\n",
      "Proced-Proced completed!\n",
      "\n",
      "multiplying (36135, 36135) * (36135, 36135) in parallel...\n",
      "Done multiplication...\n",
      "multiplying (36135, 36135) * (36135, 36135) in parallel...\n",
      "Done multiplication...\n",
      "multiplying (36135, 36135) * (36135, 36135) in parallel...\n",
      "Done multiplication...\n",
      "multiplying (36135, 36135) * (36135, 36135) in parallel...\n",
      "Done multiplication...\n",
      "Labs-Labs completed!\n",
      "\n",
      "multiplying (36135, 36135) * (36135, 36135) in parallel...\n",
      "Done multiplication...\n",
      "multiplying (36135, 36135) * (36135, 36135) in parallel...\n",
      "Done multiplication...\n",
      "multiplying (36135, 36135) * (36135, 36135) in parallel...\n",
      "Done multiplication...\n",
      "multiplying (36135, 36135) * (36135, 36135) in parallel...\n",
      "Done multiplication...\n",
      "Micro-Bio - Micro-Bio completed!\n",
      "\n",
      "=============================================================\n",
      "Multiplication phase...\n",
      "\n",
      "Number of meta-paths = 43\n",
      "Matrix 0: 359 non-zero elements\n",
      "\tSaving all non-zero values... (359 non-zero elements)\n"
     ]
    },
    {
     "name": "stdout",
     "output_type": "stream",
     "text": [
      "Matrix 1: 49264480 non-zero elements\n"
     ]
    },
    {
     "name": "stdout",
     "output_type": "stream",
     "text": [
      "\tSaving one million non-zero values... (after reduction: 1087473 non-zero elements)\n"
     ]
    },
    {
     "name": "stdout",
     "output_type": "stream",
     "text": [
      "Matrix 2: 40691508 non-zero elements\n"
     ]
    },
    {
     "name": "stdout",
     "output_type": "stream",
     "text": [
      "\tSaving one million non-zero values... (after reduction: 1488834 non-zero elements)\n"
     ]
    },
    {
     "name": "stdout",
     "output_type": "stream",
     "text": [
      "Matrix 3: 0 non-zero elements\n",
      "matrix 3 has zero values. Not saving...\n"
     ]
    },
    {
     "name": "stdout",
     "output_type": "stream",
     "text": [
      "Matrix 4: 41985211 non-zero elements\n"
     ]
    },
    {
     "name": "stdout",
     "output_type": "stream",
     "text": [
      "\tSaving one million non-zero values... (after reduction: 1084246 non-zero elements)\n"
     ]
    },
    {
     "name": "stdout",
     "output_type": "stream",
     "text": [
      "Matrix 5: 38796 non-zero elements\n",
      "\tSaving all non-zero values... (38796 non-zero elements)\n"
     ]
    },
    {
     "name": "stdout",
     "output_type": "stream",
     "text": [
      "Matrix 6: 78711317 non-zero elements\n"
     ]
    },
    {
     "name": "stdout",
     "output_type": "stream",
     "text": [
      "\tSaving one million non-zero values... (after reduction: 2077611 non-zero elements)\n"
     ]
    },
    {
     "name": "stdout",
     "output_type": "stream",
     "text": [
      "Matrix 7: 54732814 non-zero elements\n"
     ]
    },
    {
     "name": "stdout",
     "output_type": "stream",
     "text": [
      "\tSaving one million non-zero values... (after reduction: 1365819 non-zero elements)\n"
     ]
    },
    {
     "name": "stdout",
     "output_type": "stream",
     "text": [
      "Matrix 8: 151572819 non-zero elements\n"
     ]
    },
    {
     "name": "stdout",
     "output_type": "stream",
     "text": [
      "\tSaving one million non-zero values... (after reduction: 1073819 non-zero elements)\n"
     ]
    },
    {
     "name": "stdout",
     "output_type": "stream",
     "text": [
      "Matrix 9: 65341179 non-zero elements\n"
     ]
    },
    {
     "name": "stdout",
     "output_type": "stream",
     "text": [
      "\tSaving one million non-zero values... (after reduction: 1253477 non-zero elements)\n"
     ]
    },
    {
     "name": "stdout",
     "output_type": "stream",
     "text": [
      "Matrix 10: 9600 non-zero elements\n",
      "\tSaving all non-zero values... (9600 non-zero elements)\n",
      "Matrix 11: 41209 non-zero elements\n",
      "\tSaving all non-zero values... (41209 non-zero elements)\n",
      "Matrix 12: 0 non-zero elements\n",
      "matrix 12 has zero values. Not saving...\n",
      "Matrix 13: 41209 non-zero elements\n",
      "\tSaving all non-zero values... (41209 non-zero elements)\n",
      "Matrix 14: 85948 non-zero elements\n",
      "\tSaving all non-zero values... (85948 non-zero elements)\n",
      "Matrix 15: 106430 non-zero elements\n",
      "\tSaving all non-zero values... (106430 non-zero elements)\n"
     ]
    },
    {
     "name": "stdout",
     "output_type": "stream",
     "text": [
      "Matrix 16: 0 non-zero elements\n",
      "matrix 16 has zero values. Not saving...\n",
      "Matrix 17: 104764 non-zero elements\n",
      "\tSaving all non-zero values... (104764 non-zero elements)\n",
      "Matrix 18: 7903 non-zero elements\n",
      "\tSaving all non-zero values... (7903 non-zero elements)\n",
      "Matrix 19: 784 non-zero elements\n",
      "\tSaving all non-zero values... (784 non-zero elements)\n",
      "Matrix 20: 0 non-zero elements\n",
      "matrix 20 has zero values. Not saving...\n",
      "Matrix 21: 7917 non-zero elements\n",
      "\tSaving all non-zero values... (7917 non-zero elements)\n"
     ]
    },
    {
     "name": "stdout",
     "output_type": "stream",
     "text": [
      "Matrix 22: 25072 non-zero elements\n",
      "\tSaving all non-zero values... (25072 non-zero elements)\n"
     ]
    },
    {
     "name": "stdout",
     "output_type": "stream",
     "text": [
      "Matrix 23: 227416 non-zero elements\n",
      "\tSaving all non-zero values... (227416 non-zero elements)\n"
     ]
    },
    {
     "name": "stdout",
     "output_type": "stream",
     "text": [
      "Matrix 24: 1836 non-zero elements\n",
      "\tSaving all non-zero values... (1836 non-zero elements)\n"
     ]
    },
    {
     "name": "stdout",
     "output_type": "stream",
     "text": [
      "Matrix 25: 71164 non-zero elements\n",
      "\tSaving all non-zero values... (71164 non-zero elements)\n"
     ]
    },
    {
     "name": "stdout",
     "output_type": "stream",
     "text": [
      "Matrix 26: 1921320 non-zero elements\n"
     ]
    },
    {
     "name": "stdout",
     "output_type": "stream",
     "text": [
      "\tSaving one million non-zero values... (after reduction: 1921320 non-zero elements)\n"
     ]
    },
    {
     "name": "stdout",
     "output_type": "stream",
     "text": [
      "Matrix 27: 66182 non-zero elements\n",
      "\tSaving all non-zero values... (66182 non-zero elements)\n"
     ]
    },
    {
     "name": "stdout",
     "output_type": "stream",
     "text": [
      "Matrix 28: 853 non-zero elements\n",
      "\tSaving all non-zero values... (853 non-zero elements)\n",
      "Matrix 29: 99156 non-zero elements\n",
      "\tSaving all non-zero values... (99156 non-zero elements)\n",
      "Matrix 30: 32641 non-zero elements\n",
      "\tSaving all non-zero values... (32641 non-zero elements)\n",
      "Matrix 31: 0 non-zero elements\n",
      "matrix 31 has zero values. Not saving...\n",
      "Matrix 32: 28609 non-zero elements\n",
      "\tSaving all non-zero values... (28609 non-zero elements)\n",
      "Matrix 33: 8624 non-zero elements\n",
      "\tSaving all non-zero values... (8624 non-zero elements)\n"
     ]
    },
    {
     "name": "stdout",
     "output_type": "stream",
     "text": [
      "Matrix 34: 11612 non-zero elements\n",
      "\tSaving all non-zero values... (11612 non-zero elements)\n",
      "Matrix 35: 0 non-zero elements\n",
      "matrix 35 has zero values. Not saving...\n",
      "Matrix 36: 8838 non-zero elements\n",
      "\tSaving all non-zero values... (8838 non-zero elements)\n",
      "Matrix 37: 2901 non-zero elements\n",
      "\tSaving all non-zero values... (2901 non-zero elements)\n",
      "Matrix 38: 0 non-zero elements\n",
      "matrix 38 has zero values. Not saving...\n",
      "Matrix 39: 2948 non-zero elements\n",
      "\tSaving all non-zero values... (2948 non-zero elements)\n",
      "Matrix 40: 0 non-zero elements\n",
      "matrix 40 has zero values. Not saving...\n",
      "Matrix 41: 3667 non-zero elements\n",
      "\tSaving all non-zero values... (3667 non-zero elements)\n",
      "Matrix 42: 0 non-zero elements\n",
      "matrix 42 has zero values. Not saving...\n",
      "selected i = [0, 1, 2, 4, 5, 6, 7, 8, 9, 10, 11, 13, 14, 15, 17, 18, 19, 21, 22, 23, 24, 25, 26, 27, 28, 29, 30, 32, 33, 34, 36, 37, 39, 41]\n"
     ]
    },
    {
     "name": "stdout",
     "output_type": "stream",
     "text": [
      "done saving [unique edges]:  5366401\n",
      "Working on 0th file...\n"
     ]
    },
    {
     "name": "stdout",
     "output_type": "stream",
     "text": [
      "\tDone saving edge_weight0...\n",
      "Working on 1th file...\n"
     ]
    },
    {
     "name": "stdout",
     "output_type": "stream",
     "text": [
      "\tDone saving edge_weight1...\n",
      "Working on 2th file...\n"
     ]
    },
    {
     "name": "stdout",
     "output_type": "stream",
     "text": [
      "\tDone saving edge_weight2...\n",
      "Working on 3th file...\n"
     ]
    },
    {
     "name": "stdout",
     "output_type": "stream",
     "text": [
      "\tDone saving edge_weight4...\n",
      "Working on 4th file...\n"
     ]
    },
    {
     "name": "stdout",
     "output_type": "stream",
     "text": [
      "\tDone saving edge_weight5...\n",
      "Working on 5th file...\n"
     ]
    },
    {
     "name": "stdout",
     "output_type": "stream",
     "text": [
      "\tDone saving edge_weight6...\n",
      "Working on 6th file...\n"
     ]
    },
    {
     "name": "stdout",
     "output_type": "stream",
     "text": [
      "\tDone saving edge_weight7...\n",
      "Working on 7th file...\n"
     ]
    },
    {
     "name": "stdout",
     "output_type": "stream",
     "text": [
      "\tDone saving edge_weight8...\n",
      "Working on 8th file...\n"
     ]
    },
    {
     "name": "stdout",
     "output_type": "stream",
     "text": [
      "\tDone saving edge_weight9...\n",
      "Working on 9th file...\n"
     ]
    },
    {
     "name": "stdout",
     "output_type": "stream",
     "text": [
      "\tDone saving edge_weight10...\n",
      "Working on 10th file...\n"
     ]
    },
    {
     "name": "stdout",
     "output_type": "stream",
     "text": [
      "\tDone saving edge_weight11...\n",
      "Working on 11th file...\n"
     ]
    },
    {
     "name": "stdout",
     "output_type": "stream",
     "text": [
      "\tDone saving edge_weight13...\n",
      "Working on 12th file...\n"
     ]
    },
    {
     "name": "stdout",
     "output_type": "stream",
     "text": [
      "\tDone saving edge_weight14...\n",
      "Working on 13th file...\n"
     ]
    },
    {
     "name": "stdout",
     "output_type": "stream",
     "text": [
      "\tDone saving edge_weight15...\n",
      "Working on 14th file...\n"
     ]
    },
    {
     "name": "stdout",
     "output_type": "stream",
     "text": [
      "\tDone saving edge_weight17...\n",
      "Working on 15th file...\n"
     ]
    },
    {
     "name": "stdout",
     "output_type": "stream",
     "text": [
      "\tDone saving edge_weight18...\n",
      "Working on 16th file...\n"
     ]
    },
    {
     "name": "stdout",
     "output_type": "stream",
     "text": [
      "\tDone saving edge_weight19...\n",
      "Working on 17th file...\n"
     ]
    },
    {
     "name": "stdout",
     "output_type": "stream",
     "text": [
      "\tDone saving edge_weight21...\n",
      "Working on 18th file...\n"
     ]
    },
    {
     "name": "stdout",
     "output_type": "stream",
     "text": [
      "\tDone saving edge_weight22...\n",
      "Working on 19th file...\n"
     ]
    },
    {
     "name": "stdout",
     "output_type": "stream",
     "text": [
      "\tDone saving edge_weight23...\n",
      "Working on 20th file...\n"
     ]
    },
    {
     "name": "stdout",
     "output_type": "stream",
     "text": [
      "\tDone saving edge_weight24...\n",
      "Working on 21th file...\n"
     ]
    },
    {
     "name": "stdout",
     "output_type": "stream",
     "text": [
      "\tDone saving edge_weight25...\n",
      "Working on 22th file...\n"
     ]
    },
    {
     "name": "stdout",
     "output_type": "stream",
     "text": [
      "\tDone saving edge_weight26...\n",
      "Working on 23th file...\n"
     ]
    },
    {
     "name": "stdout",
     "output_type": "stream",
     "text": [
      "\tDone saving edge_weight27...\n",
      "Working on 24th file...\n"
     ]
    },
    {
     "name": "stdout",
     "output_type": "stream",
     "text": [
      "\tDone saving edge_weight28...\n",
      "Working on 25th file...\n"
     ]
    },
    {
     "name": "stdout",
     "output_type": "stream",
     "text": [
      "\tDone saving edge_weight29...\n",
      "Working on 26th file...\n"
     ]
    },
    {
     "name": "stdout",
     "output_type": "stream",
     "text": [
      "\tDone saving edge_weight30...\n",
      "Working on 27th file...\n"
     ]
    },
    {
     "name": "stdout",
     "output_type": "stream",
     "text": [
      "\tDone saving edge_weight32...\n",
      "Working on 28th file...\n"
     ]
    },
    {
     "name": "stdout",
     "output_type": "stream",
     "text": [
      "\tDone saving edge_weight33...\n",
      "Working on 29th file...\n"
     ]
    },
    {
     "name": "stdout",
     "output_type": "stream",
     "text": [
      "\tDone saving edge_weight34...\n",
      "Working on 30th file...\n"
     ]
    },
    {
     "name": "stdout",
     "output_type": "stream",
     "text": [
      "\tDone saving edge_weight36...\n",
      "Working on 31th file...\n"
     ]
    },
    {
     "name": "stdout",
     "output_type": "stream",
     "text": [
      "\tDone saving edge_weight37...\n",
      "Working on 32th file...\n"
     ]
    },
    {
     "name": "stdout",
     "output_type": "stream",
     "text": [
      "\tDone saving edge_weight39...\n",
      "Working on 33th file...\n"
     ]
    },
    {
     "name": "stdout",
     "output_type": "stream",
     "text": [
      "\tDone saving edge_weight41...\n"
     ]
    },
    {
     "name": "stdout",
     "output_type": "stream",
     "text": [
      "saving to /lustre/home/almusawiaf/PhD_Projects/HGNN_Project2/Data/203_Diagnoses/DMPLB/10000/HGNN_data/Nodes.pkl\n"
     ]
    }
   ],
   "source": [
    "from module1 import generating_HG as G_class\n",
    "from module1 import XY_preparation as XY\n",
    "from module1 import meta_path as MP\n",
    "# =================================================================================\n",
    "saving_path = f'{disease_data_path}/{num_Diseases}_Diagnoses/{DISEASE_FILE}/{num_Sample}'\n",
    "\n",
    "for p in ['HGNN_data', 'clinical_items', 'GMLs', 'OHV', 'PSGs', 'SNFs']:\n",
    "    os.makedirs(f'{saving_path}/{p}', exist_ok=True)\n",
    "\n",
    "saving_path = f'{disease_data_path}/{num_Diseases}_Diagnoses/{DISEASE_FILE}/{num_Sample}/HGNN_data'\n",
    "# =================================================================================\n",
    "HG_instance = G_class.Generate_HG(sampling = sampling, num_Patients = num_Sample)\n",
    "HG = HG_instance.HG\n",
    "\n",
    "G_class.G_statistics(HG)\n",
    "# =================================================================================\n",
    "if not sampling:\n",
    "    num_Sample = len(HG_instance.Patients)\n",
    "# ============================ Extracting Patient-based X and Y =================================\n",
    "XY_inst = XY.XY_preparation(HG)\n",
    "X = XY_inst.X\n",
    "Y = XY_inst.Y\n",
    "# ============================ Extracting Visit-based X and Y =================================\n",
    "XY_inst = XY.XY_preparation(HG)\n",
    "XV = XY_inst.X_visit\n",
    "YV = XY_inst.Y_visit\n",
    "# ======================= Computing the Meta Path based Similarities ======================\n",
    "MP_inst = MP.Meta_path(HG, similarity_type = 'PC', saving_path = saving_path)\n",
    "# ==================================== SAVING =============================================\n",
    "nx.write_gml(HG, f'{saving_path}/HG.gml')\n",
    "save_list_as_pickle(MP_inst.Nodes,   saving_path, 'Nodes')\n",
    "# ==================================== Saving X and Y  (patient-based) ============================\n",
    "torch.save(X, f'{saving_path}/X.pt')\n",
    "torch.save(Y, f'{saving_path}/Y.pt')\n",
    "# ==================================== Saving X and Y (visit-based) =================================\n",
    "torch.save(X, f'{saving_path}/XV.pt')\n",
    "torch.save(Y, f'{saving_path}/YV.pt')\n"
   ]
  }
 ],
 "metadata": {
  "kernelspec": {
   "display_name": "Python 3 (ipykernel)",
   "language": "python",
   "name": "python3"
  },
  "language_info": {
   "codemirror_mode": {
    "name": "ipython",
    "version": 3
   },
   "file_extension": ".py",
   "mimetype": "text/x-python",
   "name": "python",
   "nbconvert_exporter": "python",
   "pygments_lexer": "ipython3",
   "version": "3.9.18"
  }
 },
 "nbformat": 4,
 "nbformat_minor": 4
}
