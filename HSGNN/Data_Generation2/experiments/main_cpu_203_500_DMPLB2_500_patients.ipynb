{
 "cells": [
  {
   "cell_type": "markdown",
   "metadata": {},
   "source": [
    "# Generating the data\n",
    "1. Generate the Heterogeneous graph\n",
    "2. Generate the feature set from the clinical notes.\n",
    "3. Generate the Labels\n",
    "4. Generate the k-metapath-based similarity matrices\n",
    "5. Convert the As to edge-based."
   ]
  },
  {
   "cell_type": "code",
   "execution_count": 1,
   "metadata": {
    "execution": {
     "iopub.execute_input": "2024-10-02T18:03:02.028544Z",
     "iopub.status.busy": "2024-10-02T18:03:02.028235Z",
     "iopub.status.idle": "2024-10-02T18:03:02.039655Z",
     "shell.execute_reply": "2024-10-02T18:03:02.038791Z"
    }
   },
   "outputs": [],
   "source": [
    "class heterogeneous_Graph:\n",
    "    def __init__(self, G):\n",
    "        self.HG = G\n",
    "        Nodes = list(self.HG.nodes())\n",
    "        self.Patients =    [v for v in Nodes if v[0]=='C']\n",
    "        self.Visits =      [v for v in Nodes if v[0]=='V']\n",
    "        self.Medications = [v for v in Nodes if v[0]=='M']\n",
    "        self.Diagnoses  =  [v for v in Nodes if v[0]=='D']\n",
    "        self.Procedures =  [v for v in Nodes if v[0]=='P']\n",
    "        self.Labs       =  [v for v in Nodes if v[0]=='L']\n",
    "        self.MicroBio   =  [v for v in Nodes if v[0]=='B']\n",
    "        self.Nodes = self.Patients  + self.Visits + self.Medications + self.Diagnoses + self.Procedures + self.Labs + self.MicroBio\n",
    "        \n"
   ]
  },
  {
   "cell_type": "code",
   "execution_count": 2,
   "metadata": {
    "execution": {
     "iopub.execute_input": "2024-10-02T18:03:02.043669Z",
     "iopub.status.busy": "2024-10-02T18:03:02.043356Z",
     "iopub.status.idle": "2024-10-02T18:03:03.558578Z",
     "shell.execute_reply": "2024-10-02T18:03:03.557790Z"
    }
   },
   "outputs": [
    {
     "name": "stdout",
     "output_type": "stream",
     "text": [
      "203 DMPLB2 PC 500 True\n"
     ]
    }
   ],
   "source": [
    "import os\n",
    "import torch\n",
    "import networkx as nx\n",
    "import random\n",
    "\n",
    "\n",
    "def save_list_as_pickle(L, given_path, file_name):\n",
    "    import pickle\n",
    "    print(f'saving to {given_path}/{file_name}.pkl')\n",
    "    with open(f'{given_path}/{file_name}.pkl', 'wb') as file:\n",
    "        pickle.dump(L, file)\n",
    "\n",
    "# OAK :-)\n",
    "MIMIC_Path        = os.getenv('MIMIC_Path',        '/home/almusawiaf/MyDocuments/PhD_Projects/Data/MIMIC_resources')\n",
    "disease_data_path = os.getenv('disease_data_path', '/home/almusawiaf/MyDocuments/PhD_Projects/HGNN_Project2/Data')\n",
    "\n",
    "# # Check for Athena :-(\n",
    "# MIMIC_Path        = os.getenv('MIMIC_Path', '/home/almusawiaf/MyDocuments/PhD_Projects/Data/MIMIC_resources')\n",
    "# disease_data_path = os.getenv('disease_data_path', '/home/almusawiaf/PhD_Projects/HGNN_Project2/Data')\n",
    "\n",
    "num_Diseases    = int(os.getenv('NUM_DISEASES', 203))  \n",
    "DISEASE_FILE    = os.getenv('DISEASE_FILE', f'DMPLB2')  \n",
    "similarity_type = os.getenv('similarity_type', 'PC')  # options are PC: PathCount, SPS: Symmetric PathSim\n",
    "\n",
    "num_Sample      = int(os.getenv('num_Sample', 250))  \n",
    "r_u_sampling    = os.getenv('r_u_sampling', 'True')  \n",
    "SNF_ing         = os.getenv('SNF_ing', 'False')  \n",
    "\n",
    "\n",
    "if r_u_sampling=='True':\n",
    "    sampling = True\n",
    "else:\n",
    "    sampling = False\n",
    "\n",
    "if SNF_ing=='True':\n",
    "    SNF_ing = True\n",
    "else:\n",
    "    SNF_ing = False\n",
    "\n",
    "print(num_Diseases, DISEASE_FILE, similarity_type, num_Sample, sampling)\n"
   ]
  },
  {
   "cell_type": "code",
   "execution_count": 3,
   "metadata": {
    "execution": {
     "iopub.execute_input": "2024-10-02T18:03:03.630444Z",
     "iopub.status.busy": "2024-10-02T18:03:03.630089Z",
     "iopub.status.idle": "2024-10-02T18:06:29.101185Z",
     "shell.execute_reply": "2024-10-02T18:06:29.099886Z"
    }
   },
   "outputs": [],
   "source": [
    "# =================================================================================\n",
    "saving_path = f'{disease_data_path}/{num_Diseases}_Diagnoses/{DISEASE_FILE}/{num_Sample}'\n",
    "\n",
    "for p in ['HGNN_data', 'clinical_items', 'GMLs', 'OHV', 'PSGs', 'SNFs']:\n",
    "    os.makedirs(f'{saving_path}/{p}', exist_ok=True)\n",
    "\n",
    "saving_path = f'{disease_data_path}/{num_Diseases}_Diagnoses/{DISEASE_FILE}/{num_Sample}/HGNN_data'\n",
    "os.makedirs(f'{saving_path}/As', exist_ok=True)\n",
    "# =================================================================================\n",
    "\n",
    "complete_HG = nx.read_gml(f'{disease_data_path}/{num_Diseases}_Diagnoses/complete_HG.gml')\n"
   ]
  },
  {
   "cell_type": "markdown",
   "metadata": {},
   "source": [
    "### Generating complete HG from scratch"
   ]
  },
  {
   "cell_type": "code",
   "execution_count": 4,
   "metadata": {
    "execution": {
     "iopub.execute_input": "2024-10-02T18:06:29.106588Z",
     "iopub.status.busy": "2024-10-02T18:06:29.106253Z",
     "iopub.status.idle": "2024-10-02T18:06:29.535517Z",
     "shell.execute_reply": "2024-10-02T18:06:29.534867Z"
    }
   },
   "outputs": [],
   "source": [
    "from module1 import generating_HG as gHG\n",
    "# HG_inst = gHG.Generate_HG(MIMIC_Path)\n",
    "# nx.write_gml(HG_inst.HG, f'{disease_data_path}/{num_Diseases}_Diagnoses/complete_HG.gml')\n",
    "# gHG.G_statistics(HG_inst.HG)\n",
    "# # ======================To sample or not to sample, that is the question =========================\n",
    "# if not sampling:\n",
    "#     num_Sample = len(HG_inst.Patients)\n",
    "#     HG = HG_inst.HG\n",
    "# else:\n",
    "#     patients_to_remove = random.sample(HG_inst.Patients, len(HG_inst.Patients) - num_Sample)\n",
    "#     print(len(patients_to_remove), num_Sample, len(HG_inst.Patients))\n",
    "    \n",
    "#     # deleting the nodes\n",
    "#     HG = gHG.remove_patients_and_linked_visits(patients_to_remove, HG_inst.HG)\n",
    "# # ================================================================================="
   ]
  },
  {
   "cell_type": "markdown",
   "metadata": {},
   "source": [
    "## Whole graph or Sample graph"
   ]
  },
  {
   "cell_type": "code",
   "execution_count": 5,
   "metadata": {
    "execution": {
     "iopub.execute_input": "2024-10-02T18:06:29.540405Z",
     "iopub.status.busy": "2024-10-02T18:06:29.538953Z",
     "iopub.status.idle": "2024-10-02T18:06:32.793954Z",
     "shell.execute_reply": "2024-10-02T18:06:32.792802Z"
    }
   },
   "outputs": [
    {
     "name": "stdout",
     "output_type": "stream",
     "text": [
      "number of patients = 46437\n",
      "number of visits = 58929\n",
      "number of Medication = 592\n",
      "number of Diagnoses = 203\n",
      "number of Procedures = 89\n",
      "number of Labs = 480\n",
      "number of MicoBio = 64\n",
      "number of Edges = 5336561\n",
      "------------------------------------------\n",
      "\n",
      "45937 500 46437\n",
      "Number of PATIENTS to remove: 45937\n",
      "Number of nodes to remove: 104147\n"
     ]
    }
   ],
   "source": [
    "HG_obj = heterogeneous_Graph(complete_HG)\n",
    "\n",
    "gHG.G_statistics(HG_obj.HG)\n",
    "\n",
    "# ======================To sample or not to sample, that is the question =========================\n",
    "if not sampling:\n",
    "    num_Sample = len(HG_obj.Patients)\n",
    "    HG = HG_obj.HG\n",
    "else:\n",
    "    patients_to_remove = random.sample(HG_obj.Patients, len(HG_obj.Patients) - num_Sample)\n",
    "    print(len(patients_to_remove), num_Sample, len(HG_obj.Patients))\n",
    "    \n",
    "    # deleting the nodes\n",
    "    HG = gHG.remove_patients_and_linked_visits(patients_to_remove, HG_obj.HG)"
   ]
  },
  {
   "cell_type": "markdown",
   "metadata": {},
   "source": [
    "## Extracting the features"
   ]
  },
  {
   "cell_type": "code",
   "execution_count": 6,
   "metadata": {
    "execution": {
     "iopub.execute_input": "2024-10-02T18:06:32.798833Z",
     "iopub.status.busy": "2024-10-02T18:06:32.798518Z",
     "iopub.status.idle": "2024-10-02T18:06:34.129612Z",
     "shell.execute_reply": "2024-10-02T18:06:34.128413Z"
    }
   },
   "outputs": [
    {
     "name": "stdout",
     "output_type": "stream",
     "text": [
      "getting the feature set for all nodes\n",
      "getting the feature set for all nodes: visit_level\n"
     ]
    },
    {
     "name": "stdout",
     "output_type": "stream",
     "text": [
      "getting the feature set for all nodes\n"
     ]
    },
    {
     "name": "stdout",
     "output_type": "stream",
     "text": [
      "getting the feature set for all nodes: visit_level\n"
     ]
    }
   ],
   "source": [
    "from module1 import XY_preparation as XY\n",
    "# ============================ Extracting Patient-based X and Y =================================\n",
    "XY_inst = XY.XY_preparation(HG)\n",
    "X = XY_inst.X\n",
    "Y = XY_inst.Y\n",
    "# ============================ Extracting Visit-based X and Y =================================\n",
    "XY_inst = XY.XY_preparation(HG)\n",
    "XV = XY_inst.X_visit\n",
    "YV = XY_inst.Y_visit\n",
    "# ==================================== Saving X and Y  (patient-based) ============================\n",
    "torch.save(X, f'{saving_path}/X.pt')\n",
    "torch.save(Y, f'{saving_path}/Y.pt')\n",
    "# ==================================== Saving X and Y (visit-based) =================================\n",
    "torch.save(X, f'{saving_path}/XV.pt')\n",
    "torch.save(Y, f'{saving_path}/YV.pt')\n",
    "del X\n",
    "del Y\n",
    "del XV\n",
    "del YV\n"
   ]
  },
  {
   "cell_type": "markdown",
   "metadata": {},
   "source": [
    "## Meta-path Similarities"
   ]
  },
  {
   "cell_type": "code",
   "execution_count": 7,
   "metadata": {
    "execution": {
     "iopub.execute_input": "2024-10-02T18:06:34.134500Z",
     "iopub.status.busy": "2024-10-02T18:06:34.134174Z",
     "iopub.status.idle": "2024-10-02T18:06:55.824586Z",
     "shell.execute_reply": "2024-10-02T18:06:55.823499Z"
    }
   },
   "outputs": [
    {
     "name": "stdout",
     "output_type": "stream",
     "text": [
      "extracting As from HG\n",
      "\n"
     ]
    },
    {
     "name": "stdout",
     "output_type": "stream",
     "text": [
      "[(2647, 2647), (2647, 2647), (2647, 2647), (2647, 2647), (2647, 2647), (2647, 2647)]\n",
      "=============================================================\n",
      "Multiplication phase...\n",
      "\n",
      "Patients:\n",
      "\tWorking on: Patient-Medication\n"
     ]
    },
    {
     "name": "stdout",
     "output_type": "stream",
     "text": [
      "\tWorking on: Patient-Diagnosis\n"
     ]
    },
    {
     "name": "stdout",
     "output_type": "stream",
     "text": [
      "\tWorking on: Patient-Procedure\n"
     ]
    },
    {
     "name": "stdout",
     "output_type": "stream",
     "text": [
      "\tWorking on: Patient-Lab\n"
     ]
    },
    {
     "name": "stdout",
     "output_type": "stream",
     "text": [
      "\tWorking on: Patient-MicroBiology\n"
     ]
    },
    {
     "name": "stdout",
     "output_type": "stream",
     "text": [
      "Diagnoses:\n",
      "\tWorking on: Diagnosis-Medication\n"
     ]
    },
    {
     "name": "stdout",
     "output_type": "stream",
     "text": [
      "\tWorking on: Diagnosis-Procedure\n"
     ]
    },
    {
     "name": "stdout",
     "output_type": "stream",
     "text": [
      "\tWorking on: Diagnosis-Lab\n"
     ]
    },
    {
     "name": "stdout",
     "output_type": "stream",
     "text": [
      "\tWorking on: Diagnosis-MicroBiology\n"
     ]
    },
    {
     "name": "stdout",
     "output_type": "stream",
     "text": [
      "Procedures:\n",
      "\tWorking on: Procedure-Medication\n"
     ]
    },
    {
     "name": "stdout",
     "output_type": "stream",
     "text": [
      "\tWorking on: Procedure-Lab\n"
     ]
    },
    {
     "name": "stdout",
     "output_type": "stream",
     "text": [
      "\tWorking on: Procedure-MicroBiology\n"
     ]
    },
    {
     "name": "stdout",
     "output_type": "stream",
     "text": [
      "\tWorking on: Medication-Lab\n"
     ]
    },
    {
     "name": "stdout",
     "output_type": "stream",
     "text": [
      "\tWorking on: Medication-MicroBiology\n"
     ]
    },
    {
     "name": "stdout",
     "output_type": "stream",
     "text": [
      "\tWorking on: Lab-MicroBiology\n"
     ]
    },
    {
     "name": "stdout",
     "output_type": "stream",
     "text": [
      "Homogeneous similarity\n",
      "1. Patient-Patient\n",
      "\tWorking on: Patient-Visit-Medication-Visit-Patient\n"
     ]
    },
    {
     "name": "stdout",
     "output_type": "stream",
     "text": [
      "\tWorking on: Patient-Visit-Diagnosis-Visit-Patient\n"
     ]
    },
    {
     "name": "stdout",
     "output_type": "stream",
     "text": [
      "\tWorking on: Patient-Visit-Procedure-Visit-Patient\n"
     ]
    },
    {
     "name": "stdout",
     "output_type": "stream",
     "text": [
      "\tWorking on: Patient-Visit-Lab-Visit-Patient\n"
     ]
    },
    {
     "name": "stdout",
     "output_type": "stream",
     "text": [
      "\tWorking on: Patient-Visit-MicroBiology-Visit-Patient\n"
     ]
    },
    {
     "name": "stdout",
     "output_type": "stream",
     "text": [
      "2. visit-visit\n",
      "\tWorking on: Visit-Medication-Visit\n"
     ]
    },
    {
     "name": "stdout",
     "output_type": "stream",
     "text": [
      "\tWorking on: Visit-Diagnosis-Visit\n"
     ]
    },
    {
     "name": "stdout",
     "output_type": "stream",
     "text": [
      "\tWorking on: Visit-Procedure-Visit\n"
     ]
    },
    {
     "name": "stdout",
     "output_type": "stream",
     "text": [
      "\tWorking on: Visit-Lab-Visit\n"
     ]
    },
    {
     "name": "stdout",
     "output_type": "stream",
     "text": [
      "\tWorking on: Visit-MicroBiology-Visit\n"
     ]
    },
    {
     "name": "stdout",
     "output_type": "stream",
     "text": [
      "=============================================================\n",
      "Multiplication phase...\n",
      "\n",
      "Number of meta-paths = 31\n"
     ]
    },
    {
     "name": "stdout",
     "output_type": "stream",
     "text": [
      "saving to /home/almusawiaf/MyDocuments/PhD_Projects/HGNN_Project2/Data/203_Diagnoses/DMPLB2/500/HGNN_data/As/selected_i.pkl\n",
      "selected i = [0, 1, 2, 3, 4, 5, 6, 7, 8, 9, 10, 11, 12, 13, 14, 15, 16, 17, 18, 19, 20, 21, 22, 23, 24, 25, 26, 27, 28, 29, 30]\n",
      "saving to /home/almusawiaf/MyDocuments/PhD_Projects/HGNN_Project2/Data/203_Diagnoses/DMPLB2/500/HGNN_data/Nodes.pkl\n"
     ]
    }
   ],
   "source": [
    "from module1 import meta_path as MP\n",
    "# ======================= Computing the Meta Path based Similarities ======================\n",
    "MP_inst = MP.Meta_path(HG, similarity_type = 'PC', saving_path = saving_path)\n",
    "# ==================================== SAVING =============================================\n",
    "nx.write_gml(HG, f'{saving_path}/HG.gml')\n",
    "save_list_as_pickle(MP_inst.Nodes,   saving_path, 'Nodes')\n"
   ]
  },
  {
   "cell_type": "markdown",
   "metadata": {},
   "source": [
    "## Reduction"
   ]
  },
  {
   "cell_type": "code",
   "execution_count": 8,
   "metadata": {
    "execution": {
     "iopub.execute_input": "2024-10-02T18:06:55.829340Z",
     "iopub.status.busy": "2024-10-02T18:06:55.828968Z",
     "iopub.status.idle": "2024-10-02T18:07:10.810813Z",
     "shell.execute_reply": "2024-10-02T18:07:10.809655Z"
    }
   },
   "outputs": [
    {
     "name": "stdout",
     "output_type": "stream",
     "text": [
      "Matrix 0: 594 non-zero elements\n",
      "\tSaving all non-zero values... (594 non-zero elements)\n",
      "Matrix 1: 5432 non-zero elements\n",
      "\tSaving all non-zero values... (5432 non-zero elements)\n",
      "Matrix 2: 55 non-zero elements\n",
      "\tSaving all non-zero values... (55 non-zero elements)\n",
      "Matrix 3: 1881 non-zero elements\n",
      "\tSaving all non-zero values... (1881 non-zero elements)\n",
      "Matrix 4: 51802 non-zero elements\n",
      "\tSaving all non-zero values... (51802 non-zero elements)\n",
      "Matrix 5: 404 non-zero elements\n",
      "\tSaving all non-zero values... (404 non-zero elements)\n",
      "Matrix 6: 1 non-zero elements\n",
      "\tSaving all non-zero values... (1 non-zero elements)\n",
      "Matrix 7: 65479 non-zero elements\n",
      "\tSaving all non-zero values... (65479 non-zero elements)\n",
      "Matrix 8: 50307 non-zero elements\n",
      "\tSaving all non-zero values... (50307 non-zero elements)\n",
      "Matrix 9: 122433 non-zero elements\n",
      "\tSaving all non-zero values... (122433 non-zero elements)\n",
      "Matrix 10: 8655 non-zero elements\n",
      "\tSaving all non-zero values... (8655 non-zero elements)\n",
      "Matrix 11: 702 non-zero elements\n",
      "\tSaving all non-zero values... (702 non-zero elements)\n",
      "Matrix 12: 98441 non-zero elements\n",
      "\tSaving all non-zero values... (98441 non-zero elements)\n",
      "Matrix 13: 72008 non-zero elements\n",
      "\tSaving all non-zero values... (72008 non-zero elements)\n",
      "Matrix 14: 317074 non-zero elements\n",
      "\tSaving all non-zero values... (317074 non-zero elements)\n",
      "Matrix 15: 11088 non-zero elements\n",
      "\tSaving all non-zero values... (11088 non-zero elements)\n",
      "Matrix 16: 55 non-zero elements\n",
      "\tSaving all non-zero values... (55 non-zero elements)\n",
      "Matrix 17: 5000 non-zero elements\n",
      "\tSaving all non-zero values... (5000 non-zero elements)\n",
      "Matrix 18: 1619 non-zero elements\n",
      "\tSaving all non-zero values... (1619 non-zero elements)\n",
      "Matrix 19: 41486 non-zero elements\n",
      "\tSaving all non-zero values... (41486 non-zero elements)\n",
      "Matrix 20: 365 non-zero elements\n",
      "\tSaving all non-zero values... (365 non-zero elements)\n",
      "Matrix 21: 405 non-zero elements\n",
      "\tSaving all non-zero values... (405 non-zero elements)\n",
      "Matrix 22: 4448 non-zero elements\n",
      "\tSaving all non-zero values... (4448 non-zero elements)\n",
      "Matrix 23: 51123 non-zero elements\n",
      "\tSaving all non-zero values... (51123 non-zero elements)\n",
      "Matrix 24: 1436 non-zero elements\n",
      "\tSaving all non-zero values... (1436 non-zero elements)\n",
      "Matrix 25: 55 non-zero elements\n",
      "\tSaving all non-zero values... (55 non-zero elements)\n",
      "Matrix 26: 16526 non-zero elements\n",
      "\tSaving all non-zero values... (16526 non-zero elements)\n",
      "Matrix 27: 507 non-zero elements\n",
      "\tSaving all non-zero values... (507 non-zero elements)\n",
      "Matrix 28: 4796 non-zero elements\n",
      "\tSaving all non-zero values... (4796 non-zero elements)\n",
      "Matrix 29: 27 non-zero elements\n",
      "\tSaving all non-zero values... (27 non-zero elements)\n",
      "Matrix 30: 0 non-zero elements\n",
      "Matrix 30 has zero values. Not saving...\n"
     ]
    },
    {
     "name": "stdout",
     "output_type": "stream",
     "text": [
      "done saving [unique edges]:  642667\n",
      "Working on 0th file...\n"
     ]
    },
    {
     "name": "stdout",
     "output_type": "stream",
     "text": [
      "Working on 1th file...\n"
     ]
    },
    {
     "name": "stdout",
     "output_type": "stream",
     "text": [
      "Working on 2th file...\n"
     ]
    },
    {
     "name": "stdout",
     "output_type": "stream",
     "text": [
      "Working on 3th file...\n"
     ]
    },
    {
     "name": "stdout",
     "output_type": "stream",
     "text": [
      "Working on 4th file...\n"
     ]
    },
    {
     "name": "stdout",
     "output_type": "stream",
     "text": [
      "Working on 5th file...\n"
     ]
    },
    {
     "name": "stdout",
     "output_type": "stream",
     "text": [
      "Working on 6th file...\n"
     ]
    },
    {
     "name": "stdout",
     "output_type": "stream",
     "text": [
      "Working on 7th file...\n"
     ]
    },
    {
     "name": "stdout",
     "output_type": "stream",
     "text": [
      "Working on 8th file...\n"
     ]
    },
    {
     "name": "stdout",
     "output_type": "stream",
     "text": [
      "Working on 9th file...\n"
     ]
    },
    {
     "name": "stdout",
     "output_type": "stream",
     "text": [
      "Working on 10th file...\n"
     ]
    },
    {
     "name": "stdout",
     "output_type": "stream",
     "text": [
      "Working on 11th file...\n"
     ]
    },
    {
     "name": "stdout",
     "output_type": "stream",
     "text": [
      "Working on 12th file...\n"
     ]
    },
    {
     "name": "stdout",
     "output_type": "stream",
     "text": [
      "Working on 13th file...\n"
     ]
    },
    {
     "name": "stdout",
     "output_type": "stream",
     "text": [
      "Working on 14th file...\n"
     ]
    },
    {
     "name": "stdout",
     "output_type": "stream",
     "text": [
      "Working on 15th file...\n"
     ]
    },
    {
     "name": "stdout",
     "output_type": "stream",
     "text": [
      "Working on 16th file...\n"
     ]
    },
    {
     "name": "stdout",
     "output_type": "stream",
     "text": [
      "Working on 17th file...\n"
     ]
    },
    {
     "name": "stdout",
     "output_type": "stream",
     "text": [
      "Working on 18th file...\n"
     ]
    },
    {
     "name": "stdout",
     "output_type": "stream",
     "text": [
      "Working on 19th file...\n"
     ]
    },
    {
     "name": "stdout",
     "output_type": "stream",
     "text": [
      "Working on 20th file...\n"
     ]
    },
    {
     "name": "stdout",
     "output_type": "stream",
     "text": [
      "Working on 21th file...\n"
     ]
    },
    {
     "name": "stdout",
     "output_type": "stream",
     "text": [
      "Working on 22th file...\n"
     ]
    },
    {
     "name": "stdout",
     "output_type": "stream",
     "text": [
      "Working on 23th file...\n"
     ]
    },
    {
     "name": "stdout",
     "output_type": "stream",
     "text": [
      "Working on 24th file...\n"
     ]
    },
    {
     "name": "stdout",
     "output_type": "stream",
     "text": [
      "Working on 25th file...\n"
     ]
    },
    {
     "name": "stdout",
     "output_type": "stream",
     "text": [
      "Working on 26th file...\n"
     ]
    },
    {
     "name": "stdout",
     "output_type": "stream",
     "text": [
      "Working on 27th file...\n"
     ]
    },
    {
     "name": "stdout",
     "output_type": "stream",
     "text": [
      "Working on 28th file...\n"
     ]
    },
    {
     "name": "stdout",
     "output_type": "stream",
     "text": [
      "Working on 29th file...\n"
     ]
    }
   ],
   "source": [
    "from module1 import reduction as Red\n",
    "reduction_obj = Red.Reduction(saving_path)"
   ]
  }
 ],
 "metadata": {
  "kernelspec": {
   "display_name": "Python 3 (ipykernel)",
   "language": "python",
   "name": "python3"
  },
  "language_info": {
   "codemirror_mode": {
    "name": "ipython",
    "version": 3
   },
   "file_extension": ".py",
   "mimetype": "text/x-python",
   "name": "python",
   "nbconvert_exporter": "python",
   "pygments_lexer": "ipython3",
   "version": "3.11.9"
  }
 },
 "nbformat": 4,
 "nbformat_minor": 4
}
